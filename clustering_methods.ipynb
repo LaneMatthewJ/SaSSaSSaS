{
 "cells": [
  {
   "cell_type": "code",
   "execution_count": 6,
   "metadata": {},
   "outputs": [],
   "source": [
    "import load_ship_data\n",
    "import numpy as np\n",
    "import matplotlib.pyplot as plt\n",
    "import time\n",
    "from sklearn.tree import DecisionTreeClassifier\n",
    "from sklearn.ensemble import RandomForestClassifier\n",
    "from sklearn.cluster import KMeans\n",
    "from sklearn.cluster import MiniBatchKMeans\n",
    "import mpp_classifiers as mpp\n",
    "from sklearn.decomposition import PCA\n",
    "from sklearn.model_selection import StratifiedKFold\n",
    "from sklearn.utils import shuffle\n",
    "import load_flat_ncolor_data as loader\n",
    "from sklearn.metrics import confusion_matrix"
   ]
  },
  {
   "cell_type": "code",
   "execution_count": 7,
   "metadata": {},
   "outputs": [
    {
     "name": "stdout",
     "output_type": "stream",
     "text": [
      "Training Set Data Length:  2800   Label Length:  2800\n",
      "TestingSet Set Data Length:  600  Label Length:  600\n",
      "Validation Set Data Length:  600  Label Length:  600\n"
     ]
    },
    {
     "data": {
      "text/plain": [
       "5"
      ]
     },
     "execution_count": 7,
     "metadata": {},
     "output_type": "execute_result"
    }
   ],
   "source": [
    "# set seed\n",
    "np.random.seed(522)\n",
    "# load data\n",
    "path = './data/shipsnet.json'\n",
    "train, test, val = load_ship_data.load_data_train_test_split(path)\n",
    "\n",
    "train, labels_tr = train\n",
    "test, labels_te = test\n",
    "val, labels_val = val\n",
    "\n",
    "# completely flatten\n",
    "train_flat = train.reshape(train.shape[0], 19200)\n",
    "test_flat = test.reshape(test.shape[0], 19200)\n",
    "val_flat = val.reshape(val.shape[0], 19200)\n",
    "\n",
    "# flatten pixels only (for color reduction)\n",
    "train_rgb = train.reshape(train.shape[0], 3, 6400)\n",
    "test_rgb = test.reshape(test.shape[0], 3, 6400)\n",
    "val_rgb = val.reshape(val.shape[0], 3, 6400)\n",
    "# move channels to last axis\n",
    "train_rgb = np.swapaxes(train_rgb, 1, 2)\n",
    "test_rgb = np.swapaxes(test_rgb, 1, 2)\n",
    "val_rgb = np.swapaxes(test_rgb, 1, 2)\n",
    "\n",
    "# combine train and val for use in sklearn's KFold function\n",
    "samples = np.concatenate((train_flat, val_flat), axis=0)\n",
    "labels = np.concatenate((labels_tr, labels_val), axis=None)\n",
    "\n",
    "skf = StratifiedKFold(n_splits=5)\n",
    "skf.get_n_splits(samples, labels)"
   ]
  },
  {
   "cell_type": "markdown",
   "metadata": {},
   "source": [
    "# 2-Color Pictures with Kmeans Color Reduction\n",
    "\n",
    "Only run the below if you want to replace the samples with 2-color samples. The accuracies are nearly identical, suggesting that more than 2 colors is almost entirely noise for the purposes of this classification, though how much this affects accuracy is somewhat dependent on the classifier."
   ]
  },
  {
   "cell_type": "code",
   "execution_count": null,
   "metadata": {},
   "outputs": [],
   "source": [
    "# alternate with 2 colors\n",
    "np.random.seed(522)\n",
    "train, test, labels_tr, labels_te = loader.load_data_and_convert(path, 2)\n",
    "\n",
    "samples = train.reshape(train.shape[0], 19200)\n",
    "labels = test.reshape(test.shape[0], 19200)\n",
    "\n",
    "skf = StratifiedKFold(n_splits=5)\n",
    "skf.get_n_splits(samples, labels)"
   ]
  },
  {
   "cell_type": "markdown",
   "metadata": {},
   "source": [
    "# K-means\n",
    "\n",
    "K-means predictions are absolutely horrendous. This is not particulary surprising, as k-means is attempting to cluster like pixels together across all of the images and 3 color channels. That's a fine idea, but is not capable of taking rotation of images into account.\n",
    "\n",
    "However, k-means can also be used as a form of dimensionality reduction by segmenting images into clusters before applying a different algorithm. This application can do something like clearly split ocean from a ship."
   ]
  },
  {
   "cell_type": "code",
   "execution_count": 31,
   "metadata": {},
   "outputs": [
    {
     "name": "stdout",
     "output_type": "stream",
     "text": [
      "6.99 seconds\n",
      "[0.5353, 0.6926, 0.3922]\n"
     ]
    }
   ],
   "source": [
    "accuracies = np.zeros((5, 3))\n",
    "times = []\n",
    "for i, (train_idx, test_idx) in enumerate(skf.split(samples, labels)):\n",
    "    start_time = time.time()\n",
    "    kmeans = KMeans(n_clusters=2, n_init=10, random_state=522)\n",
    "    train_n, test_n = samples[train_idx], samples[test_idx]\n",
    "    labels_tr_n, labels_te_n = labels[train_idx], labels[test_idx]\n",
    "    kmeans.fit(train_n)\n",
    "    results = kmeans.predict(test_n)\n",
    "    acc = np.mean(results == labels_te_n)\n",
    "    acc0_idx = np.where(results == 0)\n",
    "    acc1_idx = np.where(results == 1)\n",
    "    acc0 = np.mean(results[acc0_idx] == labels_te_n[acc0_idx])\n",
    "    acc1 = np.mean(results[acc1_idx] == labels_te_n[acc1_idx])\n",
    "    accs = [acc, acc0, acc1]\n",
    "    if acc < 0.5: accs = [1 - x for x in accs]\n",
    "    accuracies[i, :] = np.array(accs)\n",
    "    times.append(time.time() - start_time)\n",
    "\n",
    "print(f'{round(np.mean(np.array(times)), 2)} seconds')\n",
    "print([round(x, 4) for x in np.mean(accuracies, axis=0)])\n",
    "results = kmeans.predict(test_flat)\n",
    "np.save('./data/kmeans_test_results.npy', results)"
   ]
  },
  {
   "cell_type": "code",
   "execution_count": 39,
   "metadata": {},
   "outputs": [
    {
     "name": "stdout",
     "output_type": "stream",
     "text": [
      "1.08 seconds\n",
      "[0.5362, 0.592, 0.4932]\n"
     ]
    }
   ],
   "source": [
    "pca = PCA(n_components = 2, svd_solver = 'full')\n",
    "pca.fit(samples)\n",
    "\n",
    "accuracies = np.zeros((5, 3))\n",
    "times = []\n",
    "for i, (train_idx, test_idx) in enumerate(skf.split(samples, labels)):\n",
    "    start_time = time.time()\n",
    "    kmeans = KMeans(n_clusters=2, n_init=100, random_state=522)\n",
    "    train_n, test_n = pca.transform(samples[train_idx]), pca.transform(samples[test_idx])\n",
    "    labels_tr_n, labels_te_n = labels[train_idx], labels[test_idx]\n",
    "    kmeans.fit(train_n)\n",
    "    results = kmeans.predict(test_n)\n",
    "    acc = np.mean(results == labels_te_n)\n",
    "    acc0_idx = np.where(results == 0)\n",
    "    acc1_idx = np.where(results == 1)\n",
    "    acc0 = np.mean(results[acc0_idx] == labels_te_n[acc0_idx])\n",
    "    acc1 = np.mean(results[acc1_idx] == labels_te_n[acc1_idx])\n",
    "    accs = [acc, acc0, acc1]\n",
    "    if acc < 0.5: accs = [1 - x for x in accs]\n",
    "    accuracies[i, :] = np.array(accs)\n",
    "    times.append(time.time() - start_time)\n",
    "\n",
    "end_time = time.time() - start_time\n",
    "print(f'{round(np.mean(np.array(times)), 2)} seconds')\n",
    "print([round(x, 4) for x in np.mean(accuracies, axis=0)])"
   ]
  },
  {
   "cell_type": "code",
   "execution_count": 40,
   "metadata": {},
   "outputs": [
    {
     "name": "stdout",
     "output_type": "stream",
     "text": [
      "2.28 seconds\n",
      "[0.5353, 0.6933, 0.3916]\n"
     ]
    }
   ],
   "source": [
    "pca = PCA(n_components = 245, svd_solver = 'full')\n",
    "pca.fit(samples)\n",
    "\n",
    "accuracies = np.zeros((5, 3))\n",
    "times = []\n",
    "for i, (train_idx, test_idx) in enumerate(skf.split(samples, labels)):\n",
    "    start_time = time.time()\n",
    "    kmeans = KMeans(n_clusters=2, n_init=100, random_state=522)\n",
    "    train_n, test_n = pca.transform(samples[train_idx]), pca.transform(samples[test_idx])\n",
    "    labels_tr_n, labels_te_n = labels[train_idx], labels[test_idx]\n",
    "    kmeans.fit(train_n)\n",
    "    results = kmeans.predict(test_n)\n",
    "    acc = np.mean(results == labels_te_n)\n",
    "    acc0_idx = np.where(results == 0)\n",
    "    acc1_idx = np.where(results == 1)\n",
    "    acc0 = np.mean(results[acc0_idx] == labels_te_n[acc0_idx])\n",
    "    acc1 = np.mean(results[acc1_idx] == labels_te_n[acc1_idx])\n",
    "    accs = [acc, acc0, acc1]\n",
    "    if acc < 0.5: accs = [1 - x for x in accs]\n",
    "    accuracies[i, :] = np.array(accs)\n",
    "    times.append(time.time() - start_time)\n",
    "\n",
    "end_time = time.time() - start_time\n",
    "print(f'{round(np.mean(np.array(times)), 2)} seconds')\n",
    "print([round(x, 4) for x in np.mean(accuracies, axis=0)])"
   ]
  },
  {
   "cell_type": "markdown",
   "metadata": {},
   "source": [
    "# WTA"
   ]
  },
  {
   "cell_type": "code",
   "execution_count": 34,
   "metadata": {},
   "outputs": [
    {
     "name": "stdout",
     "output_type": "stream",
     "text": [
      "8.06 seconds\n",
      "[0.5265, 0.3674, 0.6677]\n"
     ]
    }
   ],
   "source": [
    "accuracies = np.zeros((5, 3))\n",
    "times = []\n",
    "for i, (train_idx, test_idx) in enumerate(skf.split(samples, labels)):\n",
    "    start_time = time.time()\n",
    "    kmeans = MiniBatchKMeans(n_clusters=2, n_init=100, random_state=522)\n",
    "    train_n, test_n = samples[train_idx], samples[test_idx]\n",
    "    labels_tr_n, labels_te_n = labels[train_idx], labels[test_idx]\n",
    "    kmeans.fit(train_n)\n",
    "    results = kmeans.predict(test_n)\n",
    "    acc = np.mean(results == labels_te_n)\n",
    "    acc0_idx = np.where(results == 0)\n",
    "    acc1_idx = np.where(results == 1)\n",
    "    acc0 = np.mean(results[acc0_idx] == labels_te_n[acc0_idx])\n",
    "    acc1 = np.mean(results[acc1_idx] == labels_te_n[acc1_idx])\n",
    "    accs = [acc, acc0, acc1]\n",
    "    if acc < 0.5: accs = [1 - x for x in accs]\n",
    "    accuracies[i, :] = np.array(accs)\n",
    "    times.append(time.time() - start_time)\n",
    "\n",
    "print(f'{round(np.mean(np.array(times)), 2)} seconds')\n",
    "print([round(x, 4) for x in np.mean(accuracies, axis=0)])"
   ]
  },
  {
   "cell_type": "code",
   "execution_count": 35,
   "metadata": {},
   "outputs": [
    {
     "name": "stdout",
     "output_type": "stream",
     "text": [
      "0.46 seconds\n",
      "[0.5262, 0.3791, 0.6864]\n"
     ]
    }
   ],
   "source": [
    "pca = PCA(n_components = 2, svd_solver = 'full')\n",
    "pca.fit(samples)\n",
    "\n",
    "accuracies = np.zeros((5, 3))\n",
    "times = []\n",
    "for i, (train_idx, test_idx) in enumerate(skf.split(samples, labels)):\n",
    "    start_time = time.time()\n",
    "    MiniBatchkmeans = KMeans(n_clusters=2, n_init=100, random_state=522)\n",
    "    train_n, test_n = pca.transform(samples[train_idx]), pca.transform(samples[test_idx])\n",
    "    labels_tr_n, labels_te_n = labels[train_idx], labels[test_idx]\n",
    "    kmeans.fit(train_n)\n",
    "    results = kmeans.predict(test_n)\n",
    "    acc = np.mean(results == labels_te_n)\n",
    "    acc0_idx = np.where(results == 0)\n",
    "    acc1_idx = np.where(results == 1)\n",
    "    acc0 = np.mean(results[acc0_idx] == labels_te_n[acc0_idx])\n",
    "    acc1 = np.mean(results[acc1_idx] == labels_te_n[acc1_idx])\n",
    "    accs = [acc, acc0, acc1]\n",
    "    if acc < 0.5: accs = [1 - x for x in accs]\n",
    "    accuracies[i, :] = np.array(accs)\n",
    "    times.append(time.time() - start_time)\n",
    "\n",
    "end_time = time.time() - start_time\n",
    "print(f'{round(np.mean(np.array(times)), 2)} seconds')\n",
    "print([round(x, 4) for x in np.mean(accuracies, axis=0)])"
   ]
  },
  {
   "cell_type": "code",
   "execution_count": 36,
   "metadata": {},
   "outputs": [
    {
     "name": "stdout",
     "output_type": "stream",
     "text": [
      "0.94 seconds\n",
      "[0.5238, 0.3789, 0.6868]\n"
     ]
    }
   ],
   "source": [
    "pca = PCA(n_components = 245, svd_solver = 'full')\n",
    "pca.fit(samples)\n",
    "\n",
    "accuracies = np.zeros((5, 3))\n",
    "times = []\n",
    "for i, (train_idx, test_idx) in enumerate(skf.split(samples, labels)):\n",
    "    start_time = time.time()\n",
    "    MiniBatchkmeans = KMeans(n_clusters=2, n_init=100, random_state=522)\n",
    "    train_n, test_n = pca.transform(samples[train_idx]), pca.transform(samples[test_idx])\n",
    "    labels_tr_n, labels_te_n = labels[train_idx], labels[test_idx]\n",
    "    kmeans.fit(train_n)\n",
    "    results = kmeans.predict(test_n)\n",
    "    acc = np.mean(results == labels_te_n)\n",
    "    acc0_idx = np.where(results == 0)\n",
    "    acc1_idx = np.where(results == 1)\n",
    "    acc0 = np.mean(results[acc0_idx] == labels_te_n[acc0_idx])\n",
    "    acc1 = np.mean(results[acc1_idx] == labels_te_n[acc1_idx])\n",
    "    accs = [acc, acc0, acc1]\n",
    "    if acc < 0.5: accs = [1 - x for x in accs]\n",
    "    accuracies[i, :] = np.array(accs)\n",
    "    times.append(time.time() - start_time)\n",
    "\n",
    "end_time = time.time() - start_time\n",
    "print(f'{round(np.mean(np.array(times)), 2)} seconds')\n",
    "print([round(x, 4) for x in np.mean(accuracies, axis=0)])"
   ]
  },
  {
   "cell_type": "markdown",
   "metadata": {},
   "source": [
    "## n-color K-means"
   ]
  },
  {
   "cell_type": "code",
   "execution_count": 4,
   "metadata": {},
   "outputs": [],
   "source": [
    "def images_to_n_colors(images, n_colors, n_subpixels=1000, sample_number=None):\n",
    "    kmeans = KMeans(n_clusters=n_colors, random_state=522)\n",
    "    all_centers, all_labels = [], []\n",
    "    num_imgs = images.shape[0]\n",
    "    for i in range(num_imgs):\n",
    "        if sample_number is not None:\n",
    "            if i < sample_number: continue\n",
    "        img = images[i, :] / 255\n",
    "        img_sample = shuffle(img, random_state=522)[:n_subpixels]\n",
    "        kmeans.fit(img_sample)\n",
    "        labels = kmeans.predict(img)\n",
    "        if sample_number is not None:\n",
    "            return(kmeans, labels)\n",
    "        else:\n",
    "            all_centers.append(kmeans.cluster_centers_)\n",
    "            all_labels.append(labels)\n",
    "    return(all_centers, all_labels)\n",
    "        \n",
    "def recreate_image(clusters, labels, n_colors, flat=False):\n",
    "    img = np.zeros((80, 80, 3))\n",
    "    label_idx = 0\n",
    "    for i in range(80):\n",
    "        for j in range(80):\n",
    "            img[i][j] = clusters[labels[label_idx]]\n",
    "            #img[i][j] = labels[label_idx] / n_colors   # grayscale\n",
    "            label_idx += 1\n",
    "    if flat == True:\n",
    "        return img.reshape(19200)\n",
    "    else:\n",
    "        return img"
   ]
  },
  {
   "cell_type": "code",
   "execution_count": 5,
   "metadata": {},
   "outputs": [
    {
     "data": {
      "image/png": "[encoded data removed]",
      "text/plain": [
       "<Figure size 432x288 with 4 Axes>"
      ]
     },
     "metadata": {},
     "output_type": "display_data"
    },
    {
     "name": "stdout",
     "output_type": "stream",
     "text": [
      "1\n"
     ]
    }
   ],
   "source": [
    "fig, axes = plt.subplots(1, 4)\n",
    "n_colors = [2, 3, 10]\n",
    "sample_number = 5\n",
    "n_subpixels = 1000\n",
    "for i, ax in enumerate(axes):\n",
    "    if i == 0:\n",
    "        ax.imshow(test_rgb[sample_number].reshape(80, 80, 3) / 255)\n",
    "        ax.set_title('original img')\n",
    "    else:\n",
    "        kmeans, labels = images_to_n_colors(test_rgb, n_colors[i-1], n_subpixels, sample_number)\n",
    "        ax.imshow(recreate_image(kmeans.cluster_centers_, labels, n_colors[i-1]))\n",
    "        ax.set_title(f'n_colors = {str(n_colors[i-1])}')\n",
    "    ax.set_xticks([])\n",
    "    ax.set_yticks([])\n",
    "        \n",
    "plt.tight_layout()\n",
    "plt.show()\n",
    "print(labels_te[sample_number])"
   ]
  },
  {
   "cell_type": "markdown",
   "metadata": {},
   "source": [
    "# PCA Visualization\n",
    "\n",
    "Below is the code for a scree plot to see what makes sense for a good number of PCs."
   ]
  },
  {
   "cell_type": "code",
   "execution_count": 11,
   "metadata": {},
   "outputs": [
    {
     "data": {
      "text/plain": [
       "PCA(n_components=1000, svd_solver='full')"
      ]
     },
     "execution_count": 11,
     "metadata": {},
     "output_type": "execute_result"
    }
   ],
   "source": [
    "pca = PCA(n_components = 1000, svd_solver = 'full')\n",
    "pca.fit(samples)"
   ]
  },
  {
   "cell_type": "code",
   "execution_count": 27,
   "metadata": {},
   "outputs": [],
   "source": [
    "cum_pcs = np.zeros(1000)\n",
    "total = 0\n",
    "for i in range(1000):\n",
    "    total += pca.explained_variance_ratio_[i]\n",
    "    cum_pcs[i] = total"
   ]
  },
  {
   "cell_type": "code",
   "execution_count": 57,
   "metadata": {},
   "outputs": [
    {
     "data": {
      "image/png": "[encoded data removed]",
      "text/plain": [
       "<Figure size 1080x432 with 2 Axes>"
      ]
     },
     "metadata": {
      "needs_background": "light"
     },
     "output_type": "display_data"
    }
   ],
   "source": [
    "pcs = 10\n",
    "x = np.arange(0, pcs)\n",
    "x_labels = np.arange(1, pcs + 1)\n",
    "\n",
    "fig, (ax1, ax2) = plt.subplots(1, 2, figsize=(15, 6))\n",
    "\n",
    "ax1.plot(pca.explained_variance_ratio_[:pcs])\n",
    "ax1.set_xticks(x)\n",
    "ax1.set_xticklabels(x_labels)\n",
    "ax1.set_yticks(np.arange(0, .6, 0.1))\n",
    "ax1.set_xlabel('# of PCs', fontsize=12)\n",
    "ax1.set_ylabel('Explained Variance Ratio', fontsize=12)\n",
    "\n",
    "pcs = 1000\n",
    "x = np.arange(0, pcs)\n",
    "x_labels = np.arange(1, pcs + 1)\n",
    "\n",
    "ax2.plot(cum_pcs[:pcs])\n",
    "#ax2.set_xticks(x)\n",
    "#ax2.set_xticklabels(x_labels)\n",
    "ax1.set_xlabel('# of PCs', fontsize=12)\n",
    "ax2.set_yticks(np.arange(.4, 1.1, 0.1))\n",
    "ax2.set_ylabel('Cumulative Explained Variance Ratio', fontsize=12)\n",
    "\n",
    "fig.suptitle('PCA Visualization', fontsize=20)\n",
    "plt.tight_layout()\n",
    "plt.show()"
   ]
  }
 ],
 "metadata": {
  "kernelspec": {
   "display_name": "Python 3",
   "language": "python",
   "name": "python3"
  },
  "language_info": {
   "codemirror_mode": {
    "name": "ipython",
    "version": 3
   },
   "file_extension": ".py",
   "mimetype": "text/x-python",
   "name": "python",
   "nbconvert_exporter": "python",
   "pygments_lexer": "ipython3",
   "version": "3.7.8"
  }
 },
 "nbformat": 4,
 "nbformat_minor": 4
}
