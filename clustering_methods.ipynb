{
 "cells": [
  {
   "cell_type": "code",
   "execution_count": 45,
   "metadata": {},
   "outputs": [],
   "source": [
    "import load_ship_data\n",
    "import numpy as np\n",
    "import matplotlib.pyplot as plt\n",
    "import time\n",
    "from sklearn.tree import DecisionTreeClassifier\n",
    "from sklearn.ensemble import RandomForestClassifier\n",
    "from sklearn.cluster import KMeans\n",
    "from sklearn.cluster import MiniBatchKMeans\n",
    "import mpp_classifiers as mpp\n",
    "from sklearn.decomposition import PCA\n",
    "from sklearn.model_selection import StratifiedKFold\n",
    "from sklearn.utils import shuffle\n",
    "import load_flat_ncolor_data as loader"
   ]
  },
  {
   "cell_type": "code",
   "execution_count": 2,
   "metadata": {},
   "outputs": [
    {
     "name": "stdout",
     "output_type": "stream",
     "text": [
      "Training Set Data Length:  2800   Label Length:  2800\n",
      "TestingSet Set Data Length:  600  Label Length:  600\n",
      "Validation Set Data Length:  600  Label Length:  600\n"
     ]
    }
   ],
   "source": [
    "# set seed\n",
    "np.random.seed(522)\n",
    "# load data\n",
    "path = './data/shipsnet.json'\n",
    "train, test, val = load_ship_data.load_data_train_test_split(path)"
   ]
  },
  {
   "cell_type": "code",
   "execution_count": 47,
   "metadata": {},
   "outputs": [
    {
     "name": "stdout",
     "output_type": "stream",
     "text": [
      "Training Set Data Length:  2800   Label Length:  2800\n",
      "TestingSet Set Data Length:  600  Label Length:  600\n",
      "Validation Set Data Length:  600  Label Length:  600\n",
      "[102  99  99 103 104 100 104 105 103 108]\n"
     ]
    }
   ],
   "source": [
    "# alternate\n",
    "np.random.seed(522)\n",
    "train, test, labels_tr, labels_te = loader.load_data_and_convert(path, 2)"
   ]
  },
  {
   "cell_type": "code",
   "execution_count": 48,
   "metadata": {},
   "outputs": [],
   "source": [
    "train_flat = train.reshape(train.shape[0], 19200)\n",
    "test_flat = test.reshape(test.shape[0], 19200)"
   ]
  },
  {
   "cell_type": "code",
   "execution_count": 51,
   "metadata": {},
   "outputs": [],
   "source": [
    "samples = train_flat\n",
    "labels = labels_tr"
   ]
  },
  {
   "cell_type": "code",
   "execution_count": 3,
   "metadata": {},
   "outputs": [],
   "source": [
    "train, labels_tr = train\n",
    "test, labels_te = test\n",
    "val, labels_val = val\n",
    "\n",
    "# completely flatten\n",
    "train_flat = train.reshape(train.shape[0], 19200)\n",
    "test_flat = test.reshape(test.shape[0], 19200)\n",
    "val_flat = val.reshape(val.shape[0], 19200)\n",
    "\n",
    "# flatten pixels only (for color reduction)\n",
    "train_rgb = train.reshape(train.shape[0], 3, 6400)\n",
    "test_rgb = test.reshape(test.shape[0], 3, 6400)\n",
    "val_rgb = val.reshape(val.shape[0], 3, 6400)\n",
    "# move channels to last axis\n",
    "train_rgb = np.swapaxes(train_rgb, 1, 2)\n",
    "test_rgb = np.swapaxes(test_rgb, 1, 2)\n",
    "val_rgb = np.swapaxes(test_rgb, 1, 2)"
   ]
  },
  {
   "cell_type": "code",
   "execution_count": 52,
   "metadata": {},
   "outputs": [
    {
     "data": {
      "text/plain": [
       "5"
      ]
     },
     "execution_count": 52,
     "metadata": {},
     "output_type": "execute_result"
    }
   ],
   "source": [
    "# combine train and val for use in sklearn's KFold function\n",
    "#samples = np.concatenate((train_flat, val_flat), axis=0)\n",
    "#labels = np.concatenate((labels_tr, labels_val), axis=None)\n",
    "\n",
    "skf = StratifiedKFold(n_splits=5)\n",
    "skf.get_n_splits(samples, labels)"
   ]
  },
  {
   "cell_type": "markdown",
   "metadata": {},
   "source": [
    "# K-means\n",
    "\n",
    "K-means predictions are absolutely horrendous. This is not particulary surprising, as k-means is attempting to cluster like pixels together across all of the images and 3 color channels. That's a fine idea, but is not capable of taking rotation of images into account.\n",
    "\n",
    "However, k-means can also be used as a form of dimensionality reduction by segmenting images into clusters before applying a different algorithm. This application can do something like clearly split ocean from a ship."
   ]
  },
  {
   "cell_type": "code",
   "execution_count": 5,
   "metadata": {},
   "outputs": [
    {
     "name": "stdout",
     "output_type": "stream",
     "text": [
      "62.6 seconds\n",
      "[[0.52058824 0.77878788 0.27714286]\n",
      " [0.53088235 0.79204893 0.28895184]\n",
      " [0.53529412 0.29608939 0.80124224]\n",
      " [0.54117647 0.29829545 0.80182927]\n",
      " [0.55       0.79479769 0.29640719]]\n"
     ]
    }
   ],
   "source": [
    "accuracies = np.zeros((5, 3))\n",
    "times = []\n",
    "for i, (train_idx, test_idx) in enumerate(skf.split(samples, labels)):\n",
    "    start_time = time.time()\n",
    "    kmeans = KMeans(n_clusters=2, n_init=100, random_state=522)\n",
    "    train_n, test_n = samples[train_idx], samples[test_idx]\n",
    "    labels_tr_n, labels_te_n = labels[train_idx], labels[test_idx]\n",
    "    kmeans.fit(train_n)\n",
    "    results = kmeans.predict(test_n)\n",
    "    acc = np.mean(results == labels_te_n)\n",
    "    acc0_idx = np.where(results == 0)\n",
    "    acc1_idx = np.where(results == 1)\n",
    "    acc0 = np.mean(results[acc0_idx] == labels_te_n[acc0_idx])\n",
    "    acc1 = np.mean(results[acc1_idx] == labels_te_n[acc1_idx])\n",
    "    accs = [acc, acc0, acc1]\n",
    "    if acc < 0.5: accs = [1 - x for x in accs]\n",
    "    accuracies[i, :] = np.array(accs)\n",
    "    times.append(time.time() - start_time)\n",
    "\n",
    "print(f'{round(np.mean(np.array(times)), 2)} seconds')\n",
    "print(accuracies)"
   ]
  },
  {
   "cell_type": "code",
   "execution_count": 19,
   "metadata": {},
   "outputs": [
    {
     "name": "stdout",
     "output_type": "stream",
     "text": [
      "1.03 seconds\n",
      "[[0.51911765 0.7781155  0.27635328]\n",
      " [0.52794118 0.28611898 0.78899083]\n",
      " [0.53529412 0.29608939 0.80124224]\n",
      " [0.         0.         0.        ]\n",
      " [0.         0.         0.        ]]\n"
     ]
    }
   ],
   "source": [
    "pca = PCA(n_components = 2, svd_solver = 'full')\n",
    "pca.fit(samples)\n",
    "\n",
    "accuracies = np.zeros((5, 3))\n",
    "times = []\n",
    "for i, (train_idx, test_idx) in enumerate(skf.split(samples, labels)):\n",
    "    if i == 3: break\n",
    "    start_time = time.time()\n",
    "    kmeans = KMeans(n_clusters=2, n_init=100, random_state=522)\n",
    "    train_n, test_n = pca.transform(samples[train_idx]), pca.transform(samples[test_idx])\n",
    "    labels_tr_n, labels_te_n = labels[train_idx], labels[test_idx]\n",
    "    kmeans.fit(train_n)\n",
    "    results = kmeans.predict(test_n)\n",
    "    acc = np.mean(results == labels_te_n)\n",
    "    acc0_idx = np.where(results == 0)\n",
    "    acc1_idx = np.where(results == 1)\n",
    "    acc0 = np.mean(results[acc0_idx] == labels_te_n[acc0_idx])\n",
    "    acc1 = np.mean(results[acc1_idx] == labels_te_n[acc1_idx])\n",
    "    accs = [acc, acc0, acc1]\n",
    "    if acc < 0.5: accs = [1 - x for x in accs]\n",
    "    accuracies[i, :] = np.array(accs)\n",
    "    times.append(time.time() - start_time)\n",
    "\n",
    "end_time = time.time() - start_time\n",
    "print(f'{round(end_time, 2)} seconds')\n",
    "print(accuracies)"
   ]
  },
  {
   "cell_type": "code",
   "execution_count": 57,
   "metadata": {},
   "outputs": [
    {
     "name": "stdout",
     "output_type": "stream",
     "text": [
      "27.03 seconds\n",
      "[[0.95       0.95419847 0.93589744]\n",
      " [0.96176471 0.96538462 0.95      ]\n",
      " [0.95441176 0.96324952 0.92638037]\n",
      " [0.94705882 0.94052045 0.97183099]\n",
      " [0.95441176 0.9596929  0.93710692]]\n"
     ]
    }
   ],
   "source": [
    "pca = PCA(n_components = 0.90, svd_solver = 'full')\n",
    "pca.fit(samples)\n",
    "accuracies = np.zeros((5, 3))\n",
    "times = []\n",
    "\n",
    "for i, (train_idx, test_idx) in enumerate(skf.split(samples, labels)):\n",
    "    #if i != 1: continue\n",
    "    start_time = time.time()\n",
    "    kmeans = RandomForestClassifier(warm_start=True, n_estimators=140, random_state=522)\n",
    "    train_n, test_n = pca.transform(samples[train_idx]), pca.transform(samples[test_idx])\n",
    "    train_n, test_n = samples[train_idx], samples[test_idx]\n",
    "    labels_tr_n, labels_te_n = labels[train_idx], labels[test_idx]\n",
    "    kmeans.fit(train_n, labels_tr_n)\n",
    "    results = kmeans.predict(test_n)\n",
    "    acc = np.mean(results == labels_te_n)\n",
    "    acc0_idx = np.where(results == 0)\n",
    "    acc1_idx = np.where(results == 1)\n",
    "    acc0 = np.mean(results[acc0_idx] == labels_te_n[acc0_idx])\n",
    "    acc1 = np.mean(results[acc1_idx] == labels_te_n[acc1_idx])\n",
    "    accs = [acc, acc0, acc1]\n",
    "    #if acc < 0.5: accs = [1 - x for x in accs]\n",
    "    accuracies[i, :] = np.array(accs)\n",
    "    times.append(time.time() - start_time)\n",
    "    #break\n",
    "\n",
    "print(f'{round(np.mean(np.array(times)), 2)} seconds')\n",
    "print(accuracies)"
   ]
  },
  {
   "cell_type": "code",
   "execution_count": null,
   "metadata": {},
   "outputs": [],
   "source": [
    "#results = kmeans.predict(pca.transform(test_flat))\n",
    "results = kmeans.predict(test_flat)\n",
    "np.save('./data/kmeans_pca_2.npy', results)"
   ]
  },
  {
   "cell_type": "markdown",
   "metadata": {},
   "source": [
    "# WTA"
   ]
  },
  {
   "cell_type": "code",
   "execution_count": 7,
   "metadata": {},
   "outputs": [
    {
     "name": "stdout",
     "output_type": "stream",
     "text": [
      "8.38 seconds\n",
      "[[0.50294118 0.22368421 0.7287234 ]\n",
      " [0.5        0.71573604 0.2027972 ]\n",
      " [0.52352941 0.2962963  0.80794702]\n",
      " [0.54117647 0.29829545 0.80182927]\n",
      " [0.56470588 0.303125   0.79722222]]\n"
     ]
    }
   ],
   "source": [
    "accuracies = np.zeros((5, 3))\n",
    "times = []\n",
    "for i, (train_idx, test_idx) in enumerate(skf.split(samples, labels)):\n",
    "    start_time = time.time()\n",
    "    kmeans = MiniBatchKMeans(n_clusters=2, n_init=100, random_state=522)\n",
    "    train_n, test_n = samples[train_idx], samples[test_idx]\n",
    "    labels_tr_n, labels_te_n = labels[train_idx], labels[test_idx]\n",
    "    kmeans.fit(train_n)\n",
    "    results = kmeans.predict(test_n)\n",
    "    acc = np.mean(results == labels_te_n)\n",
    "    acc0_idx = np.where(results == 0)\n",
    "    acc1_idx = np.where(results == 1)\n",
    "    acc0 = np.mean(results[acc0_idx] == labels_te_n[acc0_idx])\n",
    "    acc1 = np.mean(results[acc1_idx] == labels_te_n[acc1_idx])\n",
    "    accs = [acc, acc0, acc1]\n",
    "    if acc < 0.5: accs = [1 - x for x in accs]\n",
    "    accuracies[i, :] = np.array(accs)\n",
    "    times.append(time.time() - start_time)\n",
    "\n",
    "print(f'{round(np.mean(np.array(times)), 2)} seconds')\n",
    "print(accuracies)"
   ]
  },
  {
   "cell_type": "code",
   "execution_count": 8,
   "metadata": {},
   "outputs": [
    {
     "name": "stdout",
     "output_type": "stream",
     "text": [
      "0.48 seconds\n",
      "[[0.50147059 0.22295082 0.728     ]\n",
      " [0.51029412 0.28608924 0.79598662]\n",
      " [0.51911765 0.29396325 0.80602007]\n",
      " [0.53823529 0.29661017 0.8006135 ]\n",
      " [0.56176471 0.79608939 0.30124224]]\n"
     ]
    }
   ],
   "source": [
    "pca = PCA(n_components = 2, svd_solver = 'full')\n",
    "pca.fit(samples)\n",
    "\n",
    "accuracies = np.zeros((5, 3))\n",
    "times = []\n",
    "for i, (train_idx, test_idx) in enumerate(skf.split(samples, labels)):\n",
    "    start_time = time.time()\n",
    "    MiniBatchkmeans = KMeans(n_clusters=2, n_init=100, random_state=522)\n",
    "    train_n, test_n = pca.transform(samples[train_idx]), pca.transform(samples[test_idx])\n",
    "    labels_tr_n, labels_te_n = labels[train_idx], labels[test_idx]\n",
    "    kmeans.fit(train_n)\n",
    "    results = kmeans.predict(test_n)\n",
    "    acc = np.mean(results == labels_te_n)\n",
    "    acc0_idx = np.where(results == 0)\n",
    "    acc1_idx = np.where(results == 1)\n",
    "    acc0 = np.mean(results[acc0_idx] == labels_te_n[acc0_idx])\n",
    "    acc1 = np.mean(results[acc1_idx] == labels_te_n[acc1_idx])\n",
    "    accs = [acc, acc0, acc1]\n",
    "    if acc < 0.5: accs = [1 - x for x in accs]\n",
    "    accuracies[i, :] = np.array(accs)\n",
    "    times.append(time.time() - start_time)\n",
    "\n",
    "end_time = time.time() - start_time\n",
    "print(f'{round(end_time, 2)} seconds')\n",
    "print(accuracies)"
   ]
  },
  {
   "cell_type": "markdown",
   "metadata": {},
   "source": [
    "## n-color K-means"
   ]
  },
  {
   "cell_type": "code",
   "execution_count": null,
   "metadata": {},
   "outputs": [],
   "source": [
    "def images_to_n_colors(images, n_colors, n_subpixels=1000, sample_number=None):\n",
    "    kmeans = KMeans(n_clusters=n_colors, random_state=522)\n",
    "    all_centers, all_labels = [], []\n",
    "    num_imgs = images.shape[0]\n",
    "    for i in range(num_imgs):\n",
    "        if sample_number is not None:\n",
    "            if i < sample_number: continue\n",
    "        img = images[i, :] / 255\n",
    "        img_sample = shuffle(img, random_state=522)[:n_subpixels]\n",
    "        kmeans.fit(img_sample)\n",
    "        labels = kmeans.predict(img)\n",
    "        if sample_number is not None:\n",
    "            return(kmeans, labels)\n",
    "        else:\n",
    "            all_centers.append(kmeans.cluster_centers_)\n",
    "            all_labels.append(labels)\n",
    "    return(all_centers, all_labels)\n",
    "        \n",
    "def recreate_image(clusters, labels, n_colors, flat=False):\n",
    "    img = np.zeros((80, 80, 3))\n",
    "    label_idx = 0\n",
    "    for i in range(80):\n",
    "        for j in range(80):\n",
    "            img[i][j] = clusters[labels[label_idx]]\n",
    "            #img[i][j] = labels[label_idx] / n_colors\n",
    "            label_idx += 1\n",
    "    if flat == True:\n",
    "        return img.reshape(19200)\n",
    "    else:\n",
    "        return img"
   ]
  },
  {
   "cell_type": "code",
   "execution_count": 54,
   "metadata": {},
   "outputs": [
    {
     "data": {
      "image/png": "[encoded data removed]",
      "text/plain": [
       "<Figure size 432x288 with 4 Axes>"
      ]
     },
     "metadata": {},
     "output_type": "display_data"
    },
    {
     "name": "stdout",
     "output_type": "stream",
     "text": [
      "1\n"
     ]
    }
   ],
   "source": [
    "#fig, axes = plt.subplots(2, 2)\n",
    "#axes = [ax for sublist in axes for ax in sublist]\n",
    "fig, axes = plt.subplots(1, 4)\n",
    "#fig, axes = plt.subplots()\n",
    "#axes = [axes]\n",
    "n_colors = [2, 3, 10]\n",
    "#n_colors = [2]\n",
    "sample_number = 6\n",
    "n_subpixels = 1000\n",
    "for i, ax in enumerate(axes):\n",
    "    if i == 0:\n",
    "        #ax.imshow(train_rgb[sample_number].reshape(80, 80, 3) / 255)\n",
    "        ax.imshow(test_rgb[sample_number].reshape(80, 80, 3) / 255)\n",
    "        ax.set_title('original img')\n",
    "    else:\n",
    "        kmeans, labels = images_to_n_colors(test_rgb, n_colors[i-1], n_subpixels, sample_number)\n",
    "        ax.imshow(recreate_image(kmeans.cluster_centers_, labels, n_colors[i-1]))\n",
    "        ax.set_title(f'n_colors = {str(n_colors[i-1])}')\n",
    "    ax.set_xticks([])\n",
    "    ax.set_yticks([])\n",
    "        \n",
    "plt.tight_layout()\n",
    "plt.show()\n",
    "#print(labels_tr[sample_number])\n",
    "print(labels_te[sample_number])"
   ]
  },
  {
   "cell_type": "code",
   "execution_count": 6,
   "metadata": {},
   "outputs": [],
   "source": [
    "all_centers, all_labels = images_to_n_colors(train_rgb, 2)\n",
    "\n",
    "train_flat2 = np.zeros((2800, 19200))\n",
    "for i in range(2800):\n",
    "    train_flat2[i, :] = recreate_image(all_centers[i], all_labels[i], n_colors=2, flat=True)"
   ]
  },
  {
   "cell_type": "code",
   "execution_count": 7,
   "metadata": {},
   "outputs": [],
   "source": [
    "all_centers, all_labels = images_to_n_colors(test_rgb, 2)\n",
    "\n",
    "test_flat2 = np.zeros((600, 19200))\n",
    "for i in range(600):\n",
    "    test_flat2[i, :] = recreate_image(all_centers[i], all_labels[i], n_colors=2, flat=True)"
   ]
  },
  {
   "cell_type": "code",
   "execution_count": 8,
   "metadata": {},
   "outputs": [
    {
     "data": {
      "text/plain": [
       "0.9033333333333333"
      ]
     },
     "execution_count": 8,
     "metadata": {},
     "output_type": "execute_result"
    }
   ],
   "source": [
    "tree = DecisionTreeClassifier()\n",
    "tree.fit(train_flat2, labels_tr)\n",
    "np.mean(tree.predict(test_flat2) == labels_te)"
   ]
  },
  {
   "cell_type": "code",
   "execution_count": 320,
   "metadata": {},
   "outputs": [
    {
     "name": "stdout",
     "output_type": "stream",
     "text": [
      "[0.96043956 0.80689655]\n",
      "0.9233333333333333\n"
     ]
    }
   ],
   "source": [
    "pca = PCA(n_components=50)\n",
    "pca.fit(train_flat2)\n",
    "pca_train = pca.transform(train_flat2)\n",
    "pca_test = pca.transform(test_flat2)\n",
    "\n",
    "p = [0.74464286, 0.25535714]\n",
    "y_model = mpp.mpp(pca_train, labels_tr, pca_test, 2, p)\n",
    "\n",
    "acc_classwise, acc_overall = mpp.accuracy_score(labels_te, y_model)\n",
    "print(acc_classwise)\n",
    "print(acc_overall)"
   ]
  },
  {
   "cell_type": "code",
   "execution_count": 22,
   "metadata": {},
   "outputs": [
    {
     "ename": "NameError",
     "evalue": "name 'train_flat2' is not defined",
     "output_type": "error",
     "traceback": [
      "\u001b[0;31m---------------------------------------------------------------------------\u001b[0m",
      "\u001b[0;31mNameError\u001b[0m                                 Traceback (most recent call last)",
      "\u001b[0;32m<ipython-input-22-0a5e513e2e08>\u001b[0m in \u001b[0;36m<module>\u001b[0;34m\u001b[0m\n\u001b[1;32m      7\u001b[0m \u001b[0;34m\u001b[0m\u001b[0m\n\u001b[1;32m      8\u001b[0m \u001b[0mtree\u001b[0m \u001b[0;34m=\u001b[0m \u001b[0mDecisionTreeClassifier\u001b[0m\u001b[0;34m(\u001b[0m\u001b[0;34m)\u001b[0m\u001b[0;34m\u001b[0m\u001b[0;34m\u001b[0m\u001b[0m\n\u001b[0;32m----> 9\u001b[0;31m \u001b[0mtree\u001b[0m\u001b[0;34m.\u001b[0m\u001b[0mfit\u001b[0m\u001b[0;34m(\u001b[0m\u001b[0mtrain_flat2\u001b[0m\u001b[0;34m,\u001b[0m \u001b[0mlabels_tr\u001b[0m\u001b[0;34m)\u001b[0m\u001b[0;34m\u001b[0m\u001b[0;34m\u001b[0m\u001b[0m\n\u001b[0m\u001b[1;32m     10\u001b[0m \u001b[0mnp\u001b[0m\u001b[0;34m.\u001b[0m\u001b[0mmean\u001b[0m\u001b[0;34m(\u001b[0m\u001b[0mtree\u001b[0m\u001b[0;34m.\u001b[0m\u001b[0mpredict\u001b[0m\u001b[0;34m(\u001b[0m\u001b[0mtest_flat2\u001b[0m\u001b[0;34m)\u001b[0m \u001b[0;34m==\u001b[0m \u001b[0mlabels_te\u001b[0m\u001b[0;34m)\u001b[0m\u001b[0;34m\u001b[0m\u001b[0;34m\u001b[0m\u001b[0m\n",
      "\u001b[0;31mNameError\u001b[0m: name 'train_flat2' is not defined"
     ]
    }
   ],
   "source": [
    "#n_colors = 2\n",
    "#all_centers, all_labels = images_to_n_colors(train_rgb, n_colors)\n",
    "#train_flat_n = np.zeros((2800, 19200))\n",
    "for i in range(2800):\n",
    "    break\n",
    "    train_flat_n[i, :] = recreate_image(all_centers[i], all_labels[i], n_colors=n_colors, flat=True)\n",
    "    \n",
    "tree = DecisionTreeClassifier()\n",
    "tree.fit(train_flat2, labels_tr)\n",
    "np.mean(tree.predict(test_flat2) == labels_te)"
   ]
  },
  {
   "cell_type": "code",
   "execution_count": 21,
   "metadata": {},
   "outputs": [
    {
     "ename": "NameError",
     "evalue": "name 'tree' is not defined",
     "output_type": "error",
     "traceback": [
      "\u001b[0;31m---------------------------------------------------------------------------\u001b[0m",
      "\u001b[0;31mNameError\u001b[0m                                 Traceback (most recent call last)",
      "\u001b[0;32m<ipython-input-21-2a9fcce35925>\u001b[0m in \u001b[0;36m<module>\u001b[0;34m\u001b[0m\n\u001b[0;32m----> 1\u001b[0;31m \u001b[0mpredict\u001b[0m \u001b[0;34m=\u001b[0m \u001b[0mtree\u001b[0m\u001b[0;34m.\u001b[0m\u001b[0mpredict\u001b[0m\u001b[0;34m(\u001b[0m\u001b[0mtest_flat2\u001b[0m\u001b[0;34m)\u001b[0m\u001b[0;34m\u001b[0m\u001b[0;34m\u001b[0m\u001b[0m\n\u001b[0m\u001b[1;32m      2\u001b[0m \u001b[0midx0\u001b[0m \u001b[0;34m=\u001b[0m \u001b[0mnp\u001b[0m\u001b[0;34m.\u001b[0m\u001b[0mwhere\u001b[0m\u001b[0;34m(\u001b[0m\u001b[0mpredict\u001b[0m \u001b[0;34m!=\u001b[0m \u001b[0mlabels_te\u001b[0m\u001b[0;34m)\u001b[0m\u001b[0;34m\u001b[0m\u001b[0;34m\u001b[0m\u001b[0m\n\u001b[1;32m      3\u001b[0m \u001b[0midx0\u001b[0m\u001b[0;34m\u001b[0m\u001b[0;34m\u001b[0m\u001b[0m\n",
      "\u001b[0;31mNameError\u001b[0m: name 'tree' is not defined"
     ]
    }
   ],
   "source": [
    "predict = tree.predict(test_flat2)\n",
    "idx0 = np.where(predict != labels_te)\n",
    "idx0"
   ]
  },
  {
   "cell_type": "markdown",
   "metadata": {},
   "source": [
    "accuracies of test set with n colors:\n",
    "\n",
    "2: 0.76\n",
    "\n",
    "3: 0.76\n",
    "\n",
    "10: 0.76\n",
    "\n",
    "100: 0.76"
   ]
  }
 ],
 "metadata": {
  "kernelspec": {
   "display_name": "Python 3",
   "language": "python",
   "name": "python3"
  },
  "language_info": {
   "codemirror_mode": {
    "name": "ipython",
    "version": 3
   },
   "file_extension": ".py",
   "mimetype": "text/x-python",
   "name": "python",
   "nbconvert_exporter": "python",
   "pygments_lexer": "ipython3",
   "version": "3.7.8"
  }
 },
 "nbformat": 4,
 "nbformat_minor": 4
}
