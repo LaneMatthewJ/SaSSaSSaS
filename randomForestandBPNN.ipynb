{
 "cells": [
  {
   "cell_type": "code",
   "execution_count": 12,
   "metadata": {},
   "outputs": [],
   "source": [
    "import numpy as np \n",
    "from PIL import Image, ImageDraw\n",
    "from matplotlib import pyplot as plt\n",
    "from matplotlib import gridspec\n",
    "import load_ship_data\n",
    "from sklearn.decomposition import PCA\n",
    "from sklearn.neural_network import MLPClassifier  \n",
    "\n",
    "from sklearn.model_selection import KFold"
   ]
  },
  {
   "cell_type": "code",
   "execution_count": 2,
   "metadata": {},
   "outputs": [],
   "source": [
    "np.random.seed(522)"
   ]
  },
  {
   "cell_type": "code",
   "execution_count": 3,
   "metadata": {},
   "outputs": [
    {
     "name": "stdout",
     "output_type": "stream",
     "text": [
      "Training Set Data Length:  2800   Label Length:  2800\n",
      "TestingSet Set Data Length:  600  Label Length:  600\n",
      "Validation Set Data Length:  600  Label Length:  600\n"
     ]
    },
    {
     "data": {
      "text/plain": [
       "array([102,  99,  99, 103, 104, 100, 104, 105, 103, 108], dtype=uint8)"
      ]
     },
     "execution_count": 3,
     "metadata": {},
     "output_type": "execute_result"
    }
   ],
   "source": [
    "# Load the data! \n",
    "filePath = './data/shipsnet.json'\n",
    "trainingSet, testingSet, validationSet = load_ship_data.load_data_train_test_split(filePath)\n",
    "train, labels_tr = trainingSet\n",
    "train_flat = train.reshape(train.shape[0], 19200)\n",
    "train_flat[0][:10]"
   ]
  },
  {
   "cell_type": "code",
   "execution_count": 4,
   "metadata": {},
   "outputs": [],
   "source": [
    "Xtrain=trainingSet[0]\n",
    "ytrain=trainingSet[1]\n",
    "Xtest=testingSet[0]\n",
    "ytest=testingSet[1]\n",
    "Xvalid=validationSet[0]\n",
    "yvalid=validationSet[1]\n",
    "Xtrain=Xtrain.reshape(Xtrain.shape[0],Xtrain.shape[1]*Xtrain.shape[2]*Xtrain.shape[3])\n",
    "Xtest=Xtest.reshape(Xtest.shape[0],Xtest.shape[1]*Xtest.shape[2]*Xtest.shape[3])\n",
    "Xvalid=Xvalid.reshape(Xvalid.shape[0],Xvalid.shape[1]*Xvalid.shape[2]*Xvalid.shape[3])"
   ]
  },
  {
   "cell_type": "markdown",
   "metadata": {},
   "source": [
    "### Random Forest Implementation / Experimentation"
   ]
  },
  {
   "cell_type": "code",
   "execution_count": 5,
   "metadata": {},
   "outputs": [],
   "source": [
    "from sklearn.ensemble import RandomForestClassifier\n",
    "import time\n",
    "\n"
   ]
  },
  {
   "cell_type": "code",
   "execution_count": 6,
   "metadata": {},
   "outputs": [],
   "source": [
    "def calculatePredictedVsActual(predicted, actual): \n",
    "    correctlyPredictedShips = 0\n",
    "    correctlyPredictedNotShips = 0\n",
    "    \n",
    "    for i in np.arange(len(predicted)): \n",
    "        if (predicted[i] == 0 and actual[i] == 0): \n",
    "            correctlyPredictedNotShips = correctlyPredictedNotShips + 1\n",
    "        elif (predicted[i] == 1 and actual[i] == 1): \n",
    "            correctlyPredictedShips = correctlyPredictedShips + 1\n",
    "            \n",
    "    totalShore = len(actual[ actual == 0 ])\n",
    "    totalShips = len(actual[ actual == 1 ])\n",
    "\n",
    "    return (correctlyPredictedNotShips / totalShore, correctlyPredictedShips / totalShips) \n",
    "    \n",
    "def runRandomForestClassifier(xTrain, yTrain, xTest, yTest): \n",
    "    clf = RandomForestClassifier(warm_start=True, verbose=1)\n",
    "    startingTime = time.time()           # start time\n",
    "    y_model = clf.fit(xTrain, yTrain)\n",
    "    endingTime = time.time()           # ending time\n",
    "    totalTime = endingTime - startingTime\n",
    "\n",
    "    \n",
    "    return (y_model.score(xTest, yTest), totalTime, clf.predict(xTest))\n",
    "\n",
    "\n",
    "def doKFoldCrossValidationRandomForest(X, y, xTest, yTest):\n",
    "    k=10\n",
    "    kf=KFold(n_splits=k,random_state=None)\n",
    "    acc_scores=[]\n",
    "    for train_index,test_index in kf.split(X):\n",
    "        X_train,X_test=X[train_index,:],X[test_index,:]\n",
    "        y_train,y_test=y[train_index],y[test_index]\n",
    "        (accuracy, time, values) = runRandomForestClassifier(X_train, y_train, X_test, y_test)\n",
    "        acc_scores.append(accuracy)\n",
    "    avg_acc=sum(acc_scores)*1.0/k\n",
    "    print('Accuracy from each fold =  {}'.format(acc_scores))\n",
    "    print('Average Accuracy = {}'.format(avg_acc))\n",
    "\n",
    "    return avg_acc\n"
   ]
  },
  {
   "cell_type": "code",
   "execution_count": 9,
   "metadata": {},
   "outputs": [
    {
     "name": "stderr",
     "output_type": "stream",
     "text": [
      "[Parallel(n_jobs=1)]: Using backend SequentialBackend with 1 concurrent workers.\n",
      "[Parallel(n_jobs=1)]: Done 100 out of 100 | elapsed:   23.2s finished\n",
      "[Parallel(n_jobs=1)]: Using backend SequentialBackend with 1 concurrent workers.\n",
      "[Parallel(n_jobs=1)]: Done 100 out of 100 | elapsed:    0.0s finished\n",
      "[Parallel(n_jobs=1)]: Using backend SequentialBackend with 1 concurrent workers.\n",
      "[Parallel(n_jobs=1)]: Done 100 out of 100 | elapsed:    0.0s finished\n",
      "[Parallel(n_jobs=1)]: Using backend SequentialBackend with 1 concurrent workers.\n",
      "[Parallel(n_jobs=1)]: Done 100 out of 100 | elapsed:   21.5s finished\n",
      "[Parallel(n_jobs=1)]: Using backend SequentialBackend with 1 concurrent workers.\n",
      "[Parallel(n_jobs=1)]: Done 100 out of 100 | elapsed:    0.0s finished\n",
      "[Parallel(n_jobs=1)]: Using backend SequentialBackend with 1 concurrent workers.\n",
      "[Parallel(n_jobs=1)]: Done 100 out of 100 | elapsed:    0.0s finished\n",
      "[Parallel(n_jobs=1)]: Using backend SequentialBackend with 1 concurrent workers.\n",
      "[Parallel(n_jobs=1)]: Done 100 out of 100 | elapsed:   18.7s finished\n",
      "[Parallel(n_jobs=1)]: Using backend SequentialBackend with 1 concurrent workers.\n",
      "[Parallel(n_jobs=1)]: Done 100 out of 100 | elapsed:    0.0s finished\n",
      "[Parallel(n_jobs=1)]: Using backend SequentialBackend with 1 concurrent workers.\n",
      "[Parallel(n_jobs=1)]: Done 100 out of 100 | elapsed:    0.0s finished\n",
      "[Parallel(n_jobs=1)]: Using backend SequentialBackend with 1 concurrent workers.\n",
      "[Parallel(n_jobs=1)]: Done 100 out of 100 | elapsed:   24.7s finished\n",
      "[Parallel(n_jobs=1)]: Using backend SequentialBackend with 1 concurrent workers.\n",
      "[Parallel(n_jobs=1)]: Done 100 out of 100 | elapsed:    0.1s finished\n",
      "[Parallel(n_jobs=1)]: Using backend SequentialBackend with 1 concurrent workers.\n",
      "[Parallel(n_jobs=1)]: Done 100 out of 100 | elapsed:    0.0s finished\n",
      "[Parallel(n_jobs=1)]: Using backend SequentialBackend with 1 concurrent workers.\n",
      "[Parallel(n_jobs=1)]: Done 100 out of 100 | elapsed:   21.2s finished\n",
      "[Parallel(n_jobs=1)]: Using backend SequentialBackend with 1 concurrent workers.\n",
      "[Parallel(n_jobs=1)]: Done 100 out of 100 | elapsed:    0.0s finished\n",
      "[Parallel(n_jobs=1)]: Using backend SequentialBackend with 1 concurrent workers.\n",
      "[Parallel(n_jobs=1)]: Done 100 out of 100 | elapsed:    0.0s finished\n",
      "[Parallel(n_jobs=1)]: Using backend SequentialBackend with 1 concurrent workers.\n",
      "[Parallel(n_jobs=1)]: Done 100 out of 100 | elapsed:   20.4s finished\n",
      "[Parallel(n_jobs=1)]: Using backend SequentialBackend with 1 concurrent workers.\n",
      "[Parallel(n_jobs=1)]: Done 100 out of 100 | elapsed:    0.0s finished\n",
      "[Parallel(n_jobs=1)]: Using backend SequentialBackend with 1 concurrent workers.\n",
      "[Parallel(n_jobs=1)]: Done 100 out of 100 | elapsed:    0.0s finished\n",
      "[Parallel(n_jobs=1)]: Using backend SequentialBackend with 1 concurrent workers.\n",
      "[Parallel(n_jobs=1)]: Done 100 out of 100 | elapsed:   20.2s finished\n",
      "[Parallel(n_jobs=1)]: Using backend SequentialBackend with 1 concurrent workers.\n",
      "[Parallel(n_jobs=1)]: Done 100 out of 100 | elapsed:    0.0s finished\n",
      "[Parallel(n_jobs=1)]: Using backend SequentialBackend with 1 concurrent workers.\n",
      "[Parallel(n_jobs=1)]: Done 100 out of 100 | elapsed:    0.0s finished\n",
      "[Parallel(n_jobs=1)]: Using backend SequentialBackend with 1 concurrent workers.\n",
      "[Parallel(n_jobs=1)]: Done 100 out of 100 | elapsed:   18.5s finished\n",
      "[Parallel(n_jobs=1)]: Using backend SequentialBackend with 1 concurrent workers.\n",
      "[Parallel(n_jobs=1)]: Done 100 out of 100 | elapsed:    0.0s finished\n",
      "[Parallel(n_jobs=1)]: Using backend SequentialBackend with 1 concurrent workers.\n",
      "[Parallel(n_jobs=1)]: Done 100 out of 100 | elapsed:    0.0s finished\n",
      "[Parallel(n_jobs=1)]: Using backend SequentialBackend with 1 concurrent workers.\n",
      "[Parallel(n_jobs=1)]: Done 100 out of 100 | elapsed:   18.5s finished\n",
      "[Parallel(n_jobs=1)]: Using backend SequentialBackend with 1 concurrent workers.\n",
      "[Parallel(n_jobs=1)]: Done 100 out of 100 | elapsed:    0.0s finished\n",
      "[Parallel(n_jobs=1)]: Using backend SequentialBackend with 1 concurrent workers.\n",
      "[Parallel(n_jobs=1)]: Done 100 out of 100 | elapsed:    0.0s finished\n",
      "[Parallel(n_jobs=1)]: Using backend SequentialBackend with 1 concurrent workers.\n",
      "[Parallel(n_jobs=1)]: Done 100 out of 100 | elapsed:   18.7s finished\n",
      "[Parallel(n_jobs=1)]: Using backend SequentialBackend with 1 concurrent workers.\n",
      "[Parallel(n_jobs=1)]: Done 100 out of 100 | elapsed:    0.0s finished\n",
      "[Parallel(n_jobs=1)]: Using backend SequentialBackend with 1 concurrent workers.\n",
      "[Parallel(n_jobs=1)]: Done 100 out of 100 | elapsed:    0.0s finished\n",
      "[Parallel(n_jobs=1)]: Using backend SequentialBackend with 1 concurrent workers.\n"
     ]
    },
    {
     "name": "stdout",
     "output_type": "stream",
     "text": [
      "Accuracy from each fold =  [0.9535714285714286, 0.9357142857142857, 0.9642857142857143, 0.9535714285714286, 0.9642857142857143, 0.9464285714285714, 0.9535714285714286, 0.95, 0.9607142857142857, 0.9392857142857143]\n",
      "Average Accuracy = 0.9521428571428572\n"
     ]
    },
    {
     "name": "stderr",
     "output_type": "stream",
     "text": [
      "[Parallel(n_jobs=1)]: Done 100 out of 100 | elapsed:   16.5s finished\n",
      "[Parallel(n_jobs=1)]: Using backend SequentialBackend with 1 concurrent workers.\n",
      "[Parallel(n_jobs=1)]: Done 100 out of 100 | elapsed:    0.0s finished\n",
      "[Parallel(n_jobs=1)]: Using backend SequentialBackend with 1 concurrent workers.\n",
      "[Parallel(n_jobs=1)]: Done 100 out of 100 | elapsed:    0.0s finished\n"
     ]
    }
   ],
   "source": [
    "(basicRandomForestAccuracy, basicRandomForestRunTime, predicted) = runRandomForestClassifier(Xtrain, ytrain, Xtest, ytest)\n",
    "kfoldAccRandomForest = doKFoldCrossValidationRandomForest(Xtrain, ytrain, Xtest, ytest)"
   ]
  },
  {
   "cell_type": "code",
   "execution_count": 10,
   "metadata": {},
   "outputs": [
    {
     "name": "stdout",
     "output_type": "stream",
     "text": [
      "\n",
      "basicRandomForestAccuracy 0.96\n",
      "kfoldAccRandomForest 0.9521428571428572\n",
      "class0Acc 0.98, \n",
      "class1Acc 0.9\n",
      "\n"
     ]
    }
   ],
   "source": [
    "(class0Acc, class1Acc) = calculatePredictedVsActual(predicted, ytest)\n",
    "print(f\"\"\"\n",
    "basicRandomForestAccuracy {basicRandomForestAccuracy}\n",
    "kfoldAccRandomForest {kfoldAccRandomForest}\n",
    "class0Acc {class0Acc}, \n",
    "class1Acc {class1Acc}\n",
    "\"\"\")\n"
   ]
  },
  {
   "cell_type": "markdown",
   "metadata": {},
   "source": [
    "### PCA + Random Forest Implementation / Experimentation"
   ]
  },
  {
   "cell_type": "code",
   "execution_count": 11,
   "metadata": {},
   "outputs": [],
   "source": [
    "def plotPCA(Xtrain, Xtest, ytrain, ytest):\n",
    "    numComponentsList = [5, 10, 40, 50,75, 100, 250, 500, 700, 850, 1000, 2000, None]\n",
    "\n",
    "    accuracyList = np.zeros(len(numComponentsList))\n",
    "    runTimeList = np.zeros(len(numComponentsList))\n",
    "    explainedList = np.zeros(len(numComponentsList))\n",
    "    \n",
    "    for i in np.arange(len(numComponentsList)): \n",
    "        pca = PCA(n_components=numComponentsList[i])\n",
    "        pca.fit(Xtrain)\n",
    "        pca_Xtrain= pca.transform(Xtrain)\n",
    "        pca_Xtest = pca.transform(Xtest)\n",
    "        explained=np.sum(pca.explained_variance_ratio_)\n",
    "        print(explained)\n",
    "        (pcaRandomForestAccuracy, pcaRandomForestRunTime, pcaPredicted) = runRandomForestClassifier(pca_Xtrain, ytrain, pca_Xtest, ytest)\n",
    "        (class0, class1) = calculatePredictedVsActual(pcaPredicted, ytest)\n",
    "        accuracyList[i] =pcaRandomForestAccuracy\n",
    "        runTimeList[i] = pcaRandomForestRunTime\n",
    "        explainedList[i] = explained\n",
    "        print(f\"\"\" \n",
    "            PCA Components {numComponentsList[i]}\n",
    "            pcaRandomForestAccuracy {pcaRandomForestAccuracy}\n",
    "            pcaRandomForestRunTime {pcaRandomForestRunTime}\n",
    "            explained {explained}\n",
    "            class0 {class0}, \n",
    "            class1 {class1}\n",
    "        \n",
    "        \"\"\")\n",
    "    fig, ax1= plt.subplots()\n",
    "\n",
    "    color = 'tab:red'\n",
    "    ax1.set_xlabel('Principal Components')\n",
    "    ax1.set_ylabel('Accuracy', color=color)\n",
    "    ax1.plot(numComponentsList, accuracyList, color)\n",
    "    ax1.tick_params(axis='y', labelcolor=color)\n",
    "    \n",
    "    color = 'tab:blue'\n",
    "    ax2 = ax1.twinx()\n",
    "    ax2.set_ylabel('Time', color=color)\n",
    "    ax2.plot(numComponentsList, runTimeList, color=color)\n",
    "    ax2.tick_params(axis='y', labelcolor=color)\n",
    "    plt.title(\"PCA With Respect to Random Forest\")\n",
    "    return (accuracyList, runTimeList, explainedList)"
   ]
  },
  {
   "cell_type": "code",
   "execution_count": 115,
   "metadata": {
    "scrolled": false
   },
   "outputs": [
    {
     "name": "stdout",
     "output_type": "stream",
     "text": [
      "0.6157238553120535\n"
     ]
    },
    {
     "name": "stderr",
     "output_type": "stream",
     "text": [
      "[Parallel(n_jobs=1)]: Using backend SequentialBackend with 1 concurrent workers.\n",
      "[Parallel(n_jobs=1)]: Done 100 out of 100 | elapsed:    0.9s finished\n",
      "[Parallel(n_jobs=1)]: Using backend SequentialBackend with 1 concurrent workers.\n",
      "[Parallel(n_jobs=1)]: Done 100 out of 100 | elapsed:    0.0s finished\n",
      "[Parallel(n_jobs=1)]: Using backend SequentialBackend with 1 concurrent workers.\n",
      "[Parallel(n_jobs=1)]: Done 100 out of 100 | elapsed:    0.0s finished\n"
     ]
    },
    {
     "name": "stdout",
     "output_type": "stream",
     "text": [
      " \n",
      "            PCA Components 5\n",
      "            pcaRandomForestAccuracy 0.9116666666666666\n",
      "            pcaRandomForestRunTime 0.9605951309204102\n",
      "            explained 0.6157238553120535\n",
      "            class0 0.96, \n",
      "            class1 0.7666666666666667\n",
      "        \n",
      "        \n",
      "0.6997472370889533\n"
     ]
    },
    {
     "name": "stderr",
     "output_type": "stream",
     "text": [
      "[Parallel(n_jobs=1)]: Using backend SequentialBackend with 1 concurrent workers.\n",
      "[Parallel(n_jobs=1)]: Done 100 out of 100 | elapsed:    1.0s finished\n",
      "[Parallel(n_jobs=1)]: Using backend SequentialBackend with 1 concurrent workers.\n",
      "[Parallel(n_jobs=1)]: Done 100 out of 100 | elapsed:    0.0s finished\n",
      "[Parallel(n_jobs=1)]: Using backend SequentialBackend with 1 concurrent workers.\n",
      "[Parallel(n_jobs=1)]: Done 100 out of 100 | elapsed:    0.0s finished\n"
     ]
    },
    {
     "name": "stdout",
     "output_type": "stream",
     "text": [
      " \n",
      "            PCA Components 10\n",
      "            pcaRandomForestAccuracy 0.95\n",
      "            pcaRandomForestRunTime 1.063364028930664\n",
      "            explained 0.6997472370889533\n",
      "            class0 0.9822222222222222, \n",
      "            class1 0.8533333333333334\n",
      "        \n",
      "        \n",
      "0.8319549858282743\n"
     ]
    },
    {
     "name": "stderr",
     "output_type": "stream",
     "text": [
      "[Parallel(n_jobs=1)]: Using backend SequentialBackend with 1 concurrent workers.\n",
      "[Parallel(n_jobs=1)]: Done 100 out of 100 | elapsed:    2.0s finished\n",
      "[Parallel(n_jobs=1)]: Using backend SequentialBackend with 1 concurrent workers.\n",
      "[Parallel(n_jobs=1)]: Done 100 out of 100 | elapsed:    0.0s finished\n",
      "[Parallel(n_jobs=1)]: Using backend SequentialBackend with 1 concurrent workers.\n",
      "[Parallel(n_jobs=1)]: Done 100 out of 100 | elapsed:    0.1s finished\n"
     ]
    },
    {
     "name": "stdout",
     "output_type": "stream",
     "text": [
      " \n",
      "            PCA Components 40\n",
      "            pcaRandomForestAccuracy 0.965\n",
      "            pcaRandomForestRunTime 2.074150800704956\n",
      "            explained 0.8319549858282743\n",
      "            class0 0.9977777777777778, \n",
      "            class1 0.8666666666666667\n",
      "        \n",
      "        \n",
      "0.849901026343648\n"
     ]
    },
    {
     "name": "stderr",
     "output_type": "stream",
     "text": [
      "[Parallel(n_jobs=1)]: Using backend SequentialBackend with 1 concurrent workers.\n",
      "[Parallel(n_jobs=1)]: Done 100 out of 100 | elapsed:    1.7s finished\n",
      "[Parallel(n_jobs=1)]: Using backend SequentialBackend with 1 concurrent workers.\n",
      "[Parallel(n_jobs=1)]: Done 100 out of 100 | elapsed:    0.0s finished\n",
      "[Parallel(n_jobs=1)]: Using backend SequentialBackend with 1 concurrent workers.\n",
      "[Parallel(n_jobs=1)]: Done 100 out of 100 | elapsed:    0.0s finished\n"
     ]
    },
    {
     "name": "stdout",
     "output_type": "stream",
     "text": [
      " \n",
      "            PCA Components 50\n",
      "            pcaRandomForestAccuracy 0.96\n",
      "            pcaRandomForestRunTime 1.7937610149383545\n",
      "            explained 0.849901026343648\n",
      "            class0 0.9955555555555555, \n",
      "            class1 0.8533333333333334\n",
      "        \n",
      "        \n",
      "0.880609851040148\n"
     ]
    },
    {
     "name": "stderr",
     "output_type": "stream",
     "text": [
      "[Parallel(n_jobs=1)]: Using backend SequentialBackend with 1 concurrent workers.\n",
      "[Parallel(n_jobs=1)]: Done 100 out of 100 | elapsed:    1.6s finished\n",
      "[Parallel(n_jobs=1)]: Using backend SequentialBackend with 1 concurrent workers.\n",
      "[Parallel(n_jobs=1)]: Done 100 out of 100 | elapsed:    0.0s finished\n",
      "[Parallel(n_jobs=1)]: Using backend SequentialBackend with 1 concurrent workers.\n",
      "[Parallel(n_jobs=1)]: Done 100 out of 100 | elapsed:    0.0s finished\n"
     ]
    },
    {
     "name": "stdout",
     "output_type": "stream",
     "text": [
      " \n",
      "            PCA Components 75\n",
      "            pcaRandomForestAccuracy 0.965\n",
      "            pcaRandomForestRunTime 1.6277213096618652\n",
      "            explained 0.880609851040148\n",
      "            class0 0.9977777777777778, \n",
      "            class1 0.8666666666666667\n",
      "        \n",
      "        \n",
      "0.9003295274163259\n"
     ]
    },
    {
     "name": "stderr",
     "output_type": "stream",
     "text": [
      "[Parallel(n_jobs=1)]: Using backend SequentialBackend with 1 concurrent workers.\n",
      "[Parallel(n_jobs=1)]: Done 100 out of 100 | elapsed:    2.2s finished\n",
      "[Parallel(n_jobs=1)]: Using backend SequentialBackend with 1 concurrent workers.\n",
      "[Parallel(n_jobs=1)]: Done 100 out of 100 | elapsed:    0.0s finished\n",
      "[Parallel(n_jobs=1)]: Using backend SequentialBackend with 1 concurrent workers.\n",
      "[Parallel(n_jobs=1)]: Done 100 out of 100 | elapsed:    0.0s finished\n"
     ]
    },
    {
     "name": "stdout",
     "output_type": "stream",
     "text": [
      " \n",
      "            PCA Components 100\n",
      "            pcaRandomForestAccuracy 0.9516666666666667\n",
      "            pcaRandomForestRunTime 2.3237059116363525\n",
      "            explained 0.9003295274163259\n",
      "            class0 0.9955555555555555, \n",
      "            class1 0.82\n",
      "        \n",
      "        \n",
      "0.9535107579466414\n"
     ]
    },
    {
     "name": "stderr",
     "output_type": "stream",
     "text": [
      "[Parallel(n_jobs=1)]: Using backend SequentialBackend with 1 concurrent workers.\n",
      "[Parallel(n_jobs=1)]: Done 100 out of 100 | elapsed:    2.8s finished\n",
      "[Parallel(n_jobs=1)]: Using backend SequentialBackend with 1 concurrent workers.\n",
      "[Parallel(n_jobs=1)]: Done 100 out of 100 | elapsed:    0.0s finished\n",
      "[Parallel(n_jobs=1)]: Using backend SequentialBackend with 1 concurrent workers.\n",
      "[Parallel(n_jobs=1)]: Done 100 out of 100 | elapsed:    0.0s finished\n"
     ]
    },
    {
     "name": "stdout",
     "output_type": "stream",
     "text": [
      " \n",
      "            PCA Components 250\n",
      "            pcaRandomForestAccuracy 0.9433333333333334\n",
      "            pcaRandomForestRunTime 2.9054291248321533\n",
      "            explained 0.9535107579466414\n",
      "            class0 1.0, \n",
      "            class1 0.7733333333333333\n",
      "        \n",
      "        \n",
      "0.980248322258303\n"
     ]
    },
    {
     "name": "stderr",
     "output_type": "stream",
     "text": [
      "[Parallel(n_jobs=1)]: Using backend SequentialBackend with 1 concurrent workers.\n",
      "[Parallel(n_jobs=1)]: Done 100 out of 100 | elapsed:    4.3s finished\n",
      "[Parallel(n_jobs=1)]: Using backend SequentialBackend with 1 concurrent workers.\n",
      "[Parallel(n_jobs=1)]: Done 100 out of 100 | elapsed:    0.0s finished\n",
      "[Parallel(n_jobs=1)]: Using backend SequentialBackend with 1 concurrent workers.\n",
      "[Parallel(n_jobs=1)]: Done 100 out of 100 | elapsed:    0.0s finished\n"
     ]
    },
    {
     "name": "stdout",
     "output_type": "stream",
     "text": [
      " \n",
      "            PCA Components 500\n",
      "            pcaRandomForestAccuracy 0.9183333333333333\n",
      "            pcaRandomForestRunTime 4.390632390975952\n",
      "            explained 0.980248322258303\n",
      "            class0 1.0, \n",
      "            class1 0.6733333333333333\n",
      "        \n",
      "        \n",
      "0.9882372750298958\n"
     ]
    },
    {
     "name": "stderr",
     "output_type": "stream",
     "text": [
      "[Parallel(n_jobs=1)]: Using backend SequentialBackend with 1 concurrent workers.\n",
      "[Parallel(n_jobs=1)]: Done 100 out of 100 | elapsed:    5.8s finished\n",
      "[Parallel(n_jobs=1)]: Using backend SequentialBackend with 1 concurrent workers.\n",
      "[Parallel(n_jobs=1)]: Done 100 out of 100 | elapsed:    0.0s finished\n",
      "[Parallel(n_jobs=1)]: Using backend SequentialBackend with 1 concurrent workers.\n",
      "[Parallel(n_jobs=1)]: Done 100 out of 100 | elapsed:    0.1s finished\n"
     ]
    },
    {
     "name": "stdout",
     "output_type": "stream",
     "text": [
      " \n",
      "            PCA Components 700\n",
      "            pcaRandomForestAccuracy 0.9\n",
      "            pcaRandomForestRunTime 5.901299953460693\n",
      "            explained 0.9882372750298958\n",
      "            class0 1.0, \n",
      "            class1 0.6\n",
      "        \n",
      "        \n",
      "0.991564817446791\n"
     ]
    },
    {
     "name": "stderr",
     "output_type": "stream",
     "text": [
      "[Parallel(n_jobs=1)]: Using backend SequentialBackend with 1 concurrent workers.\n",
      "[Parallel(n_jobs=1)]: Done 100 out of 100 | elapsed:    6.0s finished\n",
      "[Parallel(n_jobs=1)]: Using backend SequentialBackend with 1 concurrent workers.\n",
      "[Parallel(n_jobs=1)]: Done 100 out of 100 | elapsed:    0.0s finished\n",
      "[Parallel(n_jobs=1)]: Using backend SequentialBackend with 1 concurrent workers.\n",
      "[Parallel(n_jobs=1)]: Done 100 out of 100 | elapsed:    0.0s finished\n"
     ]
    },
    {
     "name": "stdout",
     "output_type": "stream",
     "text": [
      " \n",
      "            PCA Components 850\n",
      "            pcaRandomForestAccuracy 0.8933333333333333\n",
      "            pcaRandomForestRunTime 6.02516770362854\n",
      "            explained 0.991564817446791\n",
      "            class0 1.0, \n",
      "            class1 0.5733333333333334\n",
      "        \n",
      "        \n",
      "0.9937807978734744\n"
     ]
    },
    {
     "name": "stderr",
     "output_type": "stream",
     "text": [
      "[Parallel(n_jobs=1)]: Using backend SequentialBackend with 1 concurrent workers.\n",
      "[Parallel(n_jobs=1)]: Done 100 out of 100 | elapsed:    6.1s finished\n",
      "[Parallel(n_jobs=1)]: Using backend SequentialBackend with 1 concurrent workers.\n",
      "[Parallel(n_jobs=1)]: Done 100 out of 100 | elapsed:    0.0s finished\n",
      "[Parallel(n_jobs=1)]: Using backend SequentialBackend with 1 concurrent workers.\n",
      "[Parallel(n_jobs=1)]: Done 100 out of 100 | elapsed:    0.0s finished\n"
     ]
    },
    {
     "name": "stdout",
     "output_type": "stream",
     "text": [
      " \n",
      "            PCA Components 1000\n",
      "            pcaRandomForestAccuracy 0.8833333333333333\n",
      "            pcaRandomForestRunTime 6.218578815460205\n",
      "            explained 0.9937807978734744\n",
      "            class0 1.0, \n",
      "            class1 0.5333333333333333\n",
      "        \n",
      "        \n",
      "0.9991700833210535\n"
     ]
    },
    {
     "name": "stderr",
     "output_type": "stream",
     "text": [
      "[Parallel(n_jobs=1)]: Using backend SequentialBackend with 1 concurrent workers.\n",
      "[Parallel(n_jobs=1)]: Done 100 out of 100 | elapsed:   12.7s finished\n",
      "[Parallel(n_jobs=1)]: Using backend SequentialBackend with 1 concurrent workers.\n",
      "[Parallel(n_jobs=1)]: Done 100 out of 100 | elapsed:    0.0s finished\n",
      "[Parallel(n_jobs=1)]: Using backend SequentialBackend with 1 concurrent workers.\n",
      "[Parallel(n_jobs=1)]: Done 100 out of 100 | elapsed:    0.0s finished\n"
     ]
    },
    {
     "name": "stdout",
     "output_type": "stream",
     "text": [
      " \n",
      "            PCA Components 2000\n",
      "            pcaRandomForestAccuracy 0.7633333333333333\n",
      "            pcaRandomForestRunTime 12.754895210266113\n",
      "            explained 0.9991700833210535\n",
      "            class0 0.9177777777777778, \n",
      "            class1 0.3\n",
      "        \n",
      "        \n",
      "1.0000000000000002\n"
     ]
    },
    {
     "name": "stderr",
     "output_type": "stream",
     "text": [
      "[Parallel(n_jobs=1)]: Using backend SequentialBackend with 1 concurrent workers.\n",
      "[Parallel(n_jobs=1)]: Done 100 out of 100 | elapsed:   15.3s finished\n",
      "[Parallel(n_jobs=1)]: Using backend SequentialBackend with 1 concurrent workers.\n",
      "[Parallel(n_jobs=1)]: Done 100 out of 100 | elapsed:    0.0s finished\n",
      "[Parallel(n_jobs=1)]: Using backend SequentialBackend with 1 concurrent workers.\n",
      "[Parallel(n_jobs=1)]: Done 100 out of 100 | elapsed:    0.0s finished\n"
     ]
    },
    {
     "name": "stdout",
     "output_type": "stream",
     "text": [
      " \n",
      "            PCA Components None\n",
      "            pcaRandomForestAccuracy 0.7116666666666667\n",
      "            pcaRandomForestRunTime 15.396730899810791\n",
      "            explained 1.0000000000000002\n",
      "            class0 0.8177777777777778, \n",
      "            class1 0.3933333333333333\n",
      "        \n",
      "        \n"
     ]
    },
    {
     "data": {
      "image/png": "[encoded data removed]",
      "text/plain": [
       "<Figure size 432x288 with 2 Axes>"
      ]
     },
     "metadata": {
      "needs_background": "light"
     },
     "output_type": "display_data"
    }
   ],
   "source": [
    "allVals = plotPCA(Xtrain, Xtest, ytrain, ytest)\n"
   ]
  },
  {
   "cell_type": "markdown",
   "metadata": {},
   "source": [
    "kfolds! "
   ]
  },
  {
   "cell_type": "code",
   "execution_count": null,
   "metadata": {},
   "outputs": [],
   "source": [
    "def doKFoldCrossValidation(xTrain, yTrain, xValid, yValid, xTest, yTest, model):\n",
    "    pca2 = PCA(n_components=50)\n",
    "    Xtrain=np.concatenate((xTrain,xValid))\n",
    "    ytrain=np.concatenate((yTrain,yValid))\n",
    "    pca2.fit(Xtrain)\n",
    "    pca2_Xtrain=pca2.transform(Xtrain)\n",
    "    pca2_Xtest=pca2.transform(Xtest)\n",
    "    explained=np.sum(pca2.explained_variance_ratio_)\n",
    "    print(explained)\n",
    "    X=pca2_Xtrain\n",
    "    y=ytrain\n",
    "    print(X.shape)\n",
    "    print(y.shape)\n",
    "    k=10\n",
    "    kf=KFold(n_splits=k,random_state=None)\n",
    "    acc_scores=[]\n",
    "    for train_index,test_index in kf.split(X):\n",
    "        X_train,X_test=X[train_index,:],X[test_index,:]\n",
    "        y_train,y_test=y[train_index],y[test_index]\n",
    "        (accuracy, time, values) = model(X_train, y_train, X_test, y_test)\n",
    "        acc_scores.append(accuracy)\n",
    "    avg_acc=sum(acc_scores)*1.0/k\n",
    "    print('Accuracy from each fold =  {}'.format(acc_scores))\n",
    "    print('Average Accuracy = {}'.format(avg_acc))\n",
    "    \n",
    "def doKFoldCrossValidationBPNN(X, y, xTest, yTest, model, bpnnModel):\n",
    "    k=10\n",
    "    kf=KFold(n_splits=k,random_state=None)\n",
    "    acc_scores=[]\n",
    "    for train_index,test_index in kf.split(X):\n",
    "        X_train,X_test=X[train_index,:],X[test_index,:]\n",
    "        y_train,y_test=y[train_index],y[test_index]\n",
    "        (accuracy, time, values) = model(bpnnModel, X_train, y_train, X_test, y_test)\n",
    "        acc_scores.append(accuracy)\n",
    "    avg_acc=sum(acc_scores)*1.0/k\n",
    "    print('Accuracy from each fold =  {}'.format(acc_scores))\n",
    "    print('Average Accuracy = {}'.format(avg_acc))\n",
    "\n",
    "    return avg_acc\n"
   ]
  },
  {
   "cell_type": "code",
   "execution_count": 41,
   "metadata": {},
   "outputs": [
    {
     "name": "stdout",
     "output_type": "stream",
     "text": [
      "0.8469330708334136\n",
      "(3400, 50)\n",
      "(3400,)\n"
     ]
    },
    {
     "name": "stderr",
     "output_type": "stream",
     "text": [
      "[Parallel(n_jobs=1)]: Using backend SequentialBackend with 1 concurrent workers.\n",
      "[Parallel(n_jobs=1)]: Done 100 out of 100 | elapsed:    1.7s finished\n",
      "[Parallel(n_jobs=1)]: Using backend SequentialBackend with 1 concurrent workers.\n",
      "[Parallel(n_jobs=1)]: Done 100 out of 100 | elapsed:    0.0s finished\n",
      "[Parallel(n_jobs=1)]: Using backend SequentialBackend with 1 concurrent workers.\n",
      "[Parallel(n_jobs=1)]: Done 100 out of 100 | elapsed:    0.0s finished\n",
      "[Parallel(n_jobs=1)]: Using backend SequentialBackend with 1 concurrent workers.\n",
      "[Parallel(n_jobs=1)]: Done 100 out of 100 | elapsed:    1.6s finished\n",
      "[Parallel(n_jobs=1)]: Using backend SequentialBackend with 1 concurrent workers.\n",
      "[Parallel(n_jobs=1)]: Done 100 out of 100 | elapsed:    0.0s finished\n",
      "[Parallel(n_jobs=1)]: Using backend SequentialBackend with 1 concurrent workers.\n",
      "[Parallel(n_jobs=1)]: Done 100 out of 100 | elapsed:    0.0s finished\n",
      "[Parallel(n_jobs=1)]: Using backend SequentialBackend with 1 concurrent workers.\n",
      "[Parallel(n_jobs=1)]: Done 100 out of 100 | elapsed:    1.6s finished\n",
      "[Parallel(n_jobs=1)]: Using backend SequentialBackend with 1 concurrent workers.\n",
      "[Parallel(n_jobs=1)]: Done 100 out of 100 | elapsed:    0.0s finished\n",
      "[Parallel(n_jobs=1)]: Using backend SequentialBackend with 1 concurrent workers.\n",
      "[Parallel(n_jobs=1)]: Done 100 out of 100 | elapsed:    0.0s finished\n",
      "[Parallel(n_jobs=1)]: Using backend SequentialBackend with 1 concurrent workers.\n",
      "[Parallel(n_jobs=1)]: Done 100 out of 100 | elapsed:    1.9s finished\n",
      "[Parallel(n_jobs=1)]: Using backend SequentialBackend with 1 concurrent workers.\n",
      "[Parallel(n_jobs=1)]: Done 100 out of 100 | elapsed:    0.0s finished\n",
      "[Parallel(n_jobs=1)]: Using backend SequentialBackend with 1 concurrent workers.\n",
      "[Parallel(n_jobs=1)]: Done 100 out of 100 | elapsed:    0.0s finished\n",
      "[Parallel(n_jobs=1)]: Using backend SequentialBackend with 1 concurrent workers.\n",
      "[Parallel(n_jobs=1)]: Done 100 out of 100 | elapsed:    1.6s finished\n",
      "[Parallel(n_jobs=1)]: Using backend SequentialBackend with 1 concurrent workers.\n",
      "[Parallel(n_jobs=1)]: Done 100 out of 100 | elapsed:    0.0s finished\n",
      "[Parallel(n_jobs=1)]: Using backend SequentialBackend with 1 concurrent workers.\n",
      "[Parallel(n_jobs=1)]: Done 100 out of 100 | elapsed:    0.0s finished\n",
      "[Parallel(n_jobs=1)]: Using backend SequentialBackend with 1 concurrent workers.\n",
      "[Parallel(n_jobs=1)]: Done 100 out of 100 | elapsed:    1.6s finished\n",
      "[Parallel(n_jobs=1)]: Using backend SequentialBackend with 1 concurrent workers.\n",
      "[Parallel(n_jobs=1)]: Done 100 out of 100 | elapsed:    0.0s finished\n",
      "[Parallel(n_jobs=1)]: Using backend SequentialBackend with 1 concurrent workers.\n",
      "[Parallel(n_jobs=1)]: Done 100 out of 100 | elapsed:    0.0s finished\n",
      "[Parallel(n_jobs=1)]: Using backend SequentialBackend with 1 concurrent workers.\n",
      "[Parallel(n_jobs=1)]: Done 100 out of 100 | elapsed:    1.6s finished\n",
      "[Parallel(n_jobs=1)]: Using backend SequentialBackend with 1 concurrent workers.\n",
      "[Parallel(n_jobs=1)]: Done 100 out of 100 | elapsed:    0.0s finished\n",
      "[Parallel(n_jobs=1)]: Using backend SequentialBackend with 1 concurrent workers.\n",
      "[Parallel(n_jobs=1)]: Done 100 out of 100 | elapsed:    0.0s finished\n",
      "[Parallel(n_jobs=1)]: Using backend SequentialBackend with 1 concurrent workers.\n",
      "[Parallel(n_jobs=1)]: Done 100 out of 100 | elapsed:    1.7s finished\n",
      "[Parallel(n_jobs=1)]: Using backend SequentialBackend with 1 concurrent workers.\n",
      "[Parallel(n_jobs=1)]: Done 100 out of 100 | elapsed:    0.0s finished\n",
      "[Parallel(n_jobs=1)]: Using backend SequentialBackend with 1 concurrent workers.\n",
      "[Parallel(n_jobs=1)]: Done 100 out of 100 | elapsed:    0.0s finished\n",
      "[Parallel(n_jobs=1)]: Using backend SequentialBackend with 1 concurrent workers.\n",
      "[Parallel(n_jobs=1)]: Done 100 out of 100 | elapsed:    1.6s finished\n",
      "[Parallel(n_jobs=1)]: Using backend SequentialBackend with 1 concurrent workers.\n",
      "[Parallel(n_jobs=1)]: Done 100 out of 100 | elapsed:    0.0s finished\n",
      "[Parallel(n_jobs=1)]: Using backend SequentialBackend with 1 concurrent workers.\n",
      "[Parallel(n_jobs=1)]: Done 100 out of 100 | elapsed:    0.0s finished\n",
      "[Parallel(n_jobs=1)]: Using backend SequentialBackend with 1 concurrent workers.\n"
     ]
    },
    {
     "name": "stdout",
     "output_type": "stream",
     "text": [
      "Accuracy from each fold =  [0.9764705882352941, 0.9676470588235294, 0.9647058823529412, 0.9764705882352941, 0.961764705882353, 0.9588235294117647, 0.961764705882353, 0.9558823529411765, 0.9529411764705882, 0.9529411764705882]\n",
      "Average Accuracy = 0.9629411764705882\n"
     ]
    },
    {
     "name": "stderr",
     "output_type": "stream",
     "text": [
      "[Parallel(n_jobs=1)]: Done 100 out of 100 | elapsed:    1.6s finished\n",
      "[Parallel(n_jobs=1)]: Using backend SequentialBackend with 1 concurrent workers.\n",
      "[Parallel(n_jobs=1)]: Done 100 out of 100 | elapsed:    0.0s finished\n",
      "[Parallel(n_jobs=1)]: Using backend SequentialBackend with 1 concurrent workers.\n",
      "[Parallel(n_jobs=1)]: Done 100 out of 100 | elapsed:    0.0s finished\n"
     ]
    }
   ],
   "source": [
    "doKFoldCrossValidation(Xtrain, ytrain, Xvalid, yvalid, Xtest, ytest, runRandomForestClassifier)"
   ]
  },
  {
   "cell_type": "markdown",
   "metadata": {},
   "source": [
    "### BPNN Implementation / Experimentation"
   ]
  },
  {
   "cell_type": "code",
   "execution_count": null,
   "metadata": {},
   "outputs": [],
   "source": [
    "bpnnClassifier_sgd = MLPClassifier(solver='sgd')\n",
    "bpnnClassifier_lbfgs = MLPClassifier(solver='lbfgs')\n",
    "bpnnWith1000Hidden_sgd = MLPClassifier(solver='sgd', hidden_layer_sizes=(1000,))\n",
    "bpnnWith1000Hidden_lbfgs = MLPClassifier(solver='lbfgs',  hidden_layer_sizes=(1000,))\n",
    "bpnnWith1000x1000Hidden_sgd = MLPClassifier(solver='sgd', hidden_layer_sizes=(1000,1000))\n",
    "bpnnWith1000x1000Hidden_lbfgs = MLPClassifier(solver='lbfgs',  hidden_layer_sizes=(1000,1000))\n"
   ]
  },
  {
   "cell_type": "code",
   "execution_count": null,
   "metadata": {},
   "outputs": [],
   "source": [
    "def runBPNNandTime(classifier, xTrain, yTrain, xTest, yTest): \n",
    "    startingTime = time.time()           # start time\n",
    "    y_model = classifier.fit(xTrain, yTrain)\n",
    "    endingTime = time.time()           # ending time\n",
    "    totalTime = endingTime - startingTime\n",
    "    \n",
    "    return (y_model.score(xTest, yTest), totalTime, y_model.predict(xTest))\n",
    "    \n"
   ]
  },
  {
   "cell_type": "code",
   "execution_count": null,
   "metadata": {},
   "outputs": [],
   "source": [
    "xTrain = np.concatenate((Xtrain,Xvalid))\n",
    "yTrain = np.concatenate((ytrain, yvalid))\n",
    "\n",
    "(bpnnClassifier_sgd_accuracy, bpnnClassifier_sgd_time, bpnnClassifier_sgd_predicted) = runBPNNandTime(bpnnClassifier_sgd, xTrain, yTrain, Xtest, ytest)\n",
    "(bpnnClassifier_lbfgs_accuracy, bpnnClassifier_lbfgs_time, bpnnClassifier_lbfgs_predicted) = runBPNNandTime(bpnnClassifier_lbfgs, xTrain, yTrain, Xtest, ytest)\n",
    "\n",
    "(bpnnWith1000Hidden_sgd_accuracy, bpnnWith1000Hidden_sgd_time, bpnnWith1000Hidden_sgd_predicted) = runBPNNandTime(bpnnWith1000Hidden_sgd, xTrain, yTrain, Xtest, ytest)\n",
    "(bpnnWith1000Hidden_lbfgs_accuracy, bpnnWith1000Hidden_lbfgs_time, bpnnWith1000Hidden_lbfgs_predicted) = runBPNNandTime(bpnnWith1000Hidden_lbfgs, xTrain, yTrain, Xtest, ytest)\n",
    "\n",
    "(bpnnWith1000x1000Hidden_sgd_accuracy, bpnnWith1000x1000Hidden_sgd_time, bpnnWith1000x1000Hidden_sgd_predicted) = runBPNNandTime(bpnnWith1000x1000Hidden_sgd, xTrain, yTrain, Xtest, ytest)\n",
    "(bpnnWith1000x1000Hidden_lbfgs_lbfgs_accuracy, bpnnWith1000x1000Hidden_lbfgs_time, bpnnWith1000x1000Hidden_lbfgs_predicted) = runBPNNandTime(bpnnWith1000x1000Hidden_lbfgs, xTrain, yTrain, Xtest, ytest)\n",
    "\n",
    "\n",
    "\n",
    "\n"
   ]
  },
  {
   "cell_type": "code",
   "execution_count": 98,
   "metadata": {},
   "outputs": [],
   "source": [
    "np.save('bpnnPredicted', bpnnWith1000Hidden_lbfgs_predicted)"
   ]
  },
  {
   "cell_type": "code",
   "execution_count": 118,
   "metadata": {},
   "outputs": [
    {
     "name": "stdout",
     "output_type": "stream",
     "text": [
      "\n",
      "bpnnClassifier_sgd_accuracy: 0.75    \n",
      "bpnnClassifier_sgd_time: 34.72964096069336\n",
      "bpnnClassifier_sgd_predicted (1.0, 0.0)\n",
      "\n",
      "bpnnWith1000Hidden_sgd_accuracy: 0.75\n",
      "bpnnWith1000Hidden_sgd_time: 1517.6399581432343\n",
      "bpnnWith1000Hidden__sgd_predicted (1.0, 0.0)\n",
      "\n",
      "\n",
      "bpnnWith1000x1000Hidden_sgd_accuracy: 0.75\n",
      "bpnnWith1000x1000Hidden_sgd_time: 318.50302481651306\n",
      "bpnnWith1000x1000Hidden_sgd_predicted: (1.0, 0.0)\n",
      "\n",
      "\n",
      "\n",
      "bpnnClassifier_lbfgs_accuracy: 0.9516666666666667\n",
      "bpnnClassifier_lbfgs_time: 698.9334049224854\n",
      "bpnnClassifier_lbfgs_predicted (0.9644444444444444, 0.9133333333333333)\n",
      "\n",
      "bpnnWith1000Hidden_lbfgs_accuracy: 0.95\n",
      "bpnnWith1000Hidden_lbfgs_time: 4586.67370223999\n",
      "bpnnWith1000Hidden_lbfgs_predicted (0.9666666666666667, 0.9)\n",
      "\n",
      "\n",
      "bpnnWith1000x1000Hidden_lbfgs_lbfgs_accuracy: 0.75\n",
      "bpnnWith1000x1000Hidden_lbfgs_time: 613.7555248737335\n",
      "bpnnWith1000x1000Hidden_lbfgs_predicted (1.0, 0.0)\n",
      "\n",
      "\n"
     ]
    }
   ],
   "source": [
    "print(f\"\"\"\n",
    "bpnnClassifier_sgd_accuracy: {bpnnClassifier_sgd_accuracy}    \n",
    "bpnnClassifier_sgd_time: {bpnnClassifier_sgd_time}\n",
    "bpnnClassifier_sgd_predicted {calculatePredictedVsActual(bpnnClassifier_sgd_predicted, ytest)}\n",
    "\n",
    "bpnnWith1000Hidden_sgd_accuracy: {bpnnWith1000Hidden_sgd_accuracy}\n",
    "bpnnWith1000Hidden_sgd_time: {bpnnWith1000Hidden_sgd_time}\n",
    "bpnnWith1000Hidden__sgd_predicted {calculatePredictedVsActual(bpnnWith1000Hidden_sgd_predicted, ytest)}\n",
    "\n",
    "\n",
    "bpnnWith1000x1000Hidden_sgd_accuracy: {bpnnWith1000x1000Hidden_sgd_accuracy}\n",
    "bpnnWith1000x1000Hidden_sgd_time: {bpnnWith1000x1000Hidden_sgd_time}\n",
    "bpnnWith1000x1000Hidden_sgd_predicted: {calculatePredictedVsActual(bpnnWith1000x1000Hidden_sgd_predicted, ytest)}\n",
    "\n",
    "\n",
    "\n",
    "bpnnClassifier_lbfgs_accuracy: {bpnnClassifier_lbfgs_accuracy}\n",
    "bpnnClassifier_lbfgs_time: {bpnnClassifier_lbfgs_time}\n",
    "bpnnClassifier_lbfgs_predicted {calculatePredictedVsActual(bpnnClassifier_lbfgs_predicted, ytest)}\n",
    "\n",
    "bpnnWith1000Hidden_lbfgs_accuracy: {bpnnWith1000Hidden_lbfgs_accuracy}\n",
    "bpnnWith1000Hidden_lbfgs_time: {bpnnWith1000Hidden_lbfgs_time}\n",
    "bpnnWith1000Hidden_lbfgs_predicted {calculatePredictedVsActual(bpnnWith1000Hidden_lbfgs_predicted, ytest)}\n",
    "\n",
    "\n",
    "bpnnWith1000x1000Hidden_lbfgs_lbfgs_accuracy: {bpnnWith1000x1000Hidden_lbfgs_lbfgs_accuracy}\n",
    "bpnnWith1000x1000Hidden_lbfgs_time: {bpnnWith1000x1000Hidden_lbfgs_time}\n",
    "bpnnWith1000x1000Hidden_lbfgs_predicted {calculatePredictedVsActual(bpnnWith1000x1000Hidden_lbfgs_predicted, ytest)}\n",
    "\n",
    "\"\"\")"
   ]
  },
  {
   "cell_type": "markdown",
   "metadata": {},
   "source": [
    "### PCA + BPNN Implementation / Experimentation"
   ]
  },
  {
   "cell_type": "code",
   "execution_count": 161,
   "metadata": {},
   "outputs": [],
   "source": [
    "def plotPCABpnn(Xtrain, Xtest, ytrain, ytest, model):\n",
    "    numComponentsList = [ 50, 100, 250, 500, 850 ]\n",
    "\n",
    "    accuracyList = np.zeros(len(numComponentsList))\n",
    "    runTimeList = np.zeros(len(numComponentsList))\n",
    "    explainedList = np.zeros(len(numComponentsList))\n",
    "    kfoldsList = np.zeros(len(numComponentsList))\n",
    "    \n",
    "    for i in np.arange(len(numComponentsList)): \n",
    "        pca = PCA(n_components=numComponentsList[i])\n",
    "        pca.fit(Xtrain)\n",
    "        pca_Xtrain= pca.transform(Xtrain)\n",
    "        pca_Xtest = pca.transform(Xtest)\n",
    "        explained=np.sum(pca.explained_variance_ratio_)\n",
    "        print(explained)\n",
    "        (pcaBPNNAccuracy, pcaBPNNRuntime, pcaPredicted) = runBPNNandTime(model, pca_Xtrain, ytrain, pca_Xtest, ytest)\n",
    "        kfoldAcc = doKFoldCrossValidationBPNN(pca_Xtrain, ytrain, pca_Xtest, ytest, runBPNNandTime, model)\n",
    "        (class0, class1) = calculatePredictedVsActual(pcaPredicted, ytest)\n",
    "\n",
    "\n",
    "        accuracyList[i] = pcaBPNNAccuracy\n",
    "        runTimeList[i] = pcaBPNNRuntime\n",
    "        explainedList[i] = explained\n",
    "        kfoldsList[i] = kfoldAcc\n",
    "        print(f\"\"\" \n",
    "            PCA Components {numComponentsList[i]}\n",
    "            pcaBPNNAcc {pcaBPNNAccuracy}\n",
    "            pcaBPNNRuntime {pcaBPNNRuntime}\n",
    "            kfoldAcc       {kfoldAcc}\n",
    "            explained      {explained}\n",
    "            class0         {class0}\n",
    "            class1         {class1}\n",
    "\n",
    "        \"\"\")\n",
    "    fig, ax1= plt.subplots()\n",
    "\n",
    "    color = 'tab:red'\n",
    "    ax1.set_xlabel('Principal Components')\n",
    "    ax1.set_ylabel('Accuracy', color=color)\n",
    "    ax1.plot(numComponentsList, accuracyList, color, label='Accuracy')\n",
    "    ax1.plot(numComponentsList, kfoldsList, color='green', label='kFolds Accuracy')\n",
    "    ax1.tick_params(axis='y', labelcolor=color)\n",
    "    \n",
    "    color = 'tab:blue'\n",
    "    ax2 = ax1.twinx()\n",
    "    ax2.set_ylabel('Time', color=color)\n",
    "    ax2.plot(numComponentsList, runTimeList, color=color, label='Run Time')\n",
    "    ax2.tick_params(axis='y', labelcolor=color)\n",
    "    \n",
    "    plt.show()\n",
    "    \n",
    "    \n",
    "    return (accuracyList, runTimeList, explainedList, kfoldsList)"
   ]
  },
  {
   "cell_type": "code",
   "execution_count": 162,
   "metadata": {},
   "outputs": [
    {
     "name": "stdout",
     "output_type": "stream",
     "text": [
      "0.8469219012972105\n",
      "Accuracy from each fold =  [0.9676470588235294, 0.9529411764705882, 0.9029411764705882, 0.9529411764705882, 0.8558823529411764, 0.961764705882353, 0.9058823529411765, 0.888235294117647, 0.9176470588235294, 0.65]\n",
      "Average Accuracy = 0.8955882352941178\n",
      " \n",
      "            PCA Components 50\n",
      "            pcaBPNNAcc 0.955\n",
      "            pcaBPNNRuntime 1.4789278507232666\n",
      "            kfoldAcc       0.8955882352941178\n",
      "            explained      0.8469219012972105\n",
      "            class0         0.9555555555555556\n",
      "            class1         0.9533333333333334\n",
      "\n",
      "        \n",
      "0.8973585970605596\n",
      "Accuracy from each fold =  [0.9176470588235294, 0.9147058823529411, 0.9205882352941176, 0.8205882352941176, 0.9529411764705882, 0.9411764705882353, 0.9676470588235294, 0.9352941176470588, 0.95, 0.9294117647058824]\n",
      "Average Accuracy = 0.925\n",
      " \n",
      "            PCA Components 100\n",
      "            pcaBPNNAcc 0.955\n",
      "            pcaBPNNRuntime 2.3555498123168945\n",
      "            kfoldAcc       0.925\n",
      "            explained      0.8973585970605596\n",
      "            class0         0.9511111111111111\n",
      "            class1         0.9666666666666667\n",
      "\n",
      "        \n",
      "0.9507443916847789\n",
      "Accuracy from each fold =  [0.95, 0.9441176470588235, 0.95, 0.9411764705882353, 0.9676470588235294, 0.9529411764705882, 0.9470588235294117, 0.9411764705882353, 0.9529411764705882, 0.9323529411764706]\n",
      "Average Accuracy = 0.9479411764705882\n",
      " \n",
      "            PCA Components 250\n",
      "            pcaBPNNAcc 0.955\n",
      "            pcaBPNNRuntime 0.7542212009429932\n",
      "            kfoldAcc       0.9479411764705882\n",
      "            explained      0.9507443916847789\n",
      "            class0         0.9666666666666667\n",
      "            class1         0.92\n",
      "\n",
      "        \n",
      "0.9782077137256208\n",
      "Accuracy from each fold =  [0.9441176470588235, 0.9235294117647059, 0.9588235294117647, 0.961764705882353, 0.9470588235294117, 0.9235294117647059, 0.9529411764705882, 0.9352941176470588, 0.9382352941176471, 0.9235294117647059]\n",
      "Average Accuracy = 0.9408823529411766\n",
      " \n",
      "            PCA Components 500\n",
      "            pcaBPNNAcc 0.9466666666666667\n",
      "            pcaBPNNRuntime 11.11338496208191\n",
      "            kfoldAcc       0.9408823529411766\n",
      "            explained      0.9782077137256208\n",
      "            class0         0.9444444444444444\n",
      "            class1         0.9533333333333334\n",
      "\n",
      "        \n",
      "0.9901914916307442\n",
      "Accuracy from each fold =  [0.9647058823529412, 0.9411764705882353, 0.9558823529411765, 0.95, 0.9676470588235294, 0.9441176470588235, 0.961764705882353, 0.8970588235294118, 0.9470588235294117, 0.9235294117647059]\n",
      "Average Accuracy = 0.9452941176470588\n",
      " \n",
      "            PCA Components 850\n",
      "            pcaBPNNAcc 0.9166666666666666\n",
      "            pcaBPNNRuntime 4.539435863494873\n",
      "            kfoldAcc       0.9452941176470588\n",
      "            explained      0.9901914916307442\n",
      "            class0         0.9088888888888889\n",
      "            class1         0.94\n",
      "\n",
      "        \n"
     ]
    },
    {
     "data": {
      "image/png": "[encoded data removed]",
      "text/plain": [
       "<Figure size 432x288 with 2 Axes>"
      ]
     },
     "metadata": {
      "needs_background": "light"
     },
     "output_type": "display_data"
    }
   ],
   "source": [
    "pcaValuesSGD = plotPCABpnn(xTrain, Xtest, yTrain, ytest, bpnnClassifier_sgd)\n"
   ]
  },
  {
   "cell_type": "code",
   "execution_count": 163,
   "metadata": {},
   "outputs": [
    {
     "name": "stdout",
     "output_type": "stream",
     "text": [
      "0.8469251463794587\n"
     ]
    },
    {
     "name": "stderr",
     "output_type": "stream",
     "text": [
      "/Users/matthewlane/opt/anaconda3/envs/testEnv/lib/python3.8/site-packages/sklearn/neural_network/_multilayer_perceptron.py:471: ConvergenceWarning: lbfgs failed to converge (status=2):\n",
      "ABNORMAL_TERMINATION_IN_LNSRCH.\n",
      "\n",
      "Increase the number of iterations (max_iter) or scale the data as shown in:\n",
      "    https://scikit-learn.org/stable/modules/preprocessing.html\n",
      "  self.n_iter_ = _check_optimize_result(\"lbfgs\", opt_res, self.max_iter)\n"
     ]
    },
    {
     "name": "stdout",
     "output_type": "stream",
     "text": [
      "Accuracy from each fold =  [0.9558823529411765, 0.9558823529411765, 0.9676470588235294, 0.9794117647058823, 0.6735294117647059, 0.9705882352941176, 0.9558823529411765, 0.9588235294117647, 0.9588235294117647, 0.9588235294117647]\n",
      "Average Accuracy = 0.9335294117647059\n",
      " \n",
      "            PCA Components 50\n",
      "            pcaBPNNAcc 0.9616666666666667\n",
      "            pcaBPNNRuntime 1.6081688404083252\n",
      "            kfoldAcc       0.9335294117647059\n",
      "            explained      0.8469251463794587\n",
      "            class0         0.9666666666666667\n",
      "            class1         0.9466666666666667\n",
      "\n",
      "        \n",
      "0.8973791623486245\n",
      "Accuracy from each fold =  [0.9529411764705882, 0.9647058823529412, 0.9441176470588235, 0.9705882352941176, 0.961764705882353, 0.9647058823529412, 0.9676470588235294, 0.9558823529411765, 0.9647058823529412, 0.9558823529411765]\n",
      "Average Accuracy = 0.9602941176470587\n",
      " \n",
      "            PCA Components 100\n",
      "            pcaBPNNAcc 0.9566666666666667\n",
      "            pcaBPNNRuntime 4.442293882369995\n",
      "            kfoldAcc       0.9602941176470587\n",
      "            explained      0.8973791623486245\n",
      "            class0         0.9622222222222222\n",
      "            class1         0.94\n",
      "\n",
      "        \n",
      "0.9507389311409289\n",
      "Accuracy from each fold =  [0.9470588235294117, 0.961764705882353, 0.9382352941176471, 0.9764705882352941, 0.9735294117647059, 0.95, 0.9441176470588235, 0.9588235294117647, 0.9558823529411765, 0.95]\n",
      "Average Accuracy = 0.9555882352941175\n",
      " \n",
      "            PCA Components 250\n",
      "            pcaBPNNAcc 0.9666666666666667\n",
      "            pcaBPNNRuntime 3.3852858543395996\n",
      "            kfoldAcc       0.9555882352941175\n",
      "            explained      0.9507389311409289\n",
      "            class0         0.9755555555555555\n",
      "            class1         0.94\n",
      "\n",
      "        \n",
      "0.9782074500515762\n"
     ]
    },
    {
     "name": "stderr",
     "output_type": "stream",
     "text": [
      "/Users/matthewlane/opt/anaconda3/envs/testEnv/lib/python3.8/site-packages/sklearn/neural_network/_multilayer_perceptron.py:471: ConvergenceWarning: lbfgs failed to converge (status=2):\n",
      "ABNORMAL_TERMINATION_IN_LNSRCH.\n",
      "\n",
      "Increase the number of iterations (max_iter) or scale the data as shown in:\n",
      "    https://scikit-learn.org/stable/modules/preprocessing.html\n",
      "  self.n_iter_ = _check_optimize_result(\"lbfgs\", opt_res, self.max_iter)\n",
      "/Users/matthewlane/opt/anaconda3/envs/testEnv/lib/python3.8/site-packages/sklearn/neural_network/_multilayer_perceptron.py:471: ConvergenceWarning: lbfgs failed to converge (status=2):\n",
      "ABNORMAL_TERMINATION_IN_LNSRCH.\n",
      "\n",
      "Increase the number of iterations (max_iter) or scale the data as shown in:\n",
      "    https://scikit-learn.org/stable/modules/preprocessing.html\n",
      "  self.n_iter_ = _check_optimize_result(\"lbfgs\", opt_res, self.max_iter)\n",
      "/Users/matthewlane/opt/anaconda3/envs/testEnv/lib/python3.8/site-packages/sklearn/neural_network/_multilayer_perceptron.py:471: ConvergenceWarning: lbfgs failed to converge (status=2):\n",
      "ABNORMAL_TERMINATION_IN_LNSRCH.\n",
      "\n",
      "Increase the number of iterations (max_iter) or scale the data as shown in:\n",
      "    https://scikit-learn.org/stable/modules/preprocessing.html\n",
      "  self.n_iter_ = _check_optimize_result(\"lbfgs\", opt_res, self.max_iter)\n"
     ]
    },
    {
     "name": "stdout",
     "output_type": "stream",
     "text": [
      "Accuracy from each fold =  [0.95, 0.9676470588235294, 0.9588235294117647, 0.9647058823529412, 0.9676470588235294, 0.9205882352941176, 0.9705882352941176, 0.9676470588235294, 0.9529411764705882, 0.9588235294117647]\n",
      "Average Accuracy = 0.9579411764705883\n",
      " \n",
      "            PCA Components 500\n",
      "            pcaBPNNAcc 0.95\n",
      "            pcaBPNNRuntime 3.7528529167175293\n",
      "            kfoldAcc       0.9579411764705883\n",
      "            explained      0.9782074500515762\n",
      "            class0         0.9577777777777777\n",
      "            class1         0.9266666666666666\n",
      "\n",
      "        \n",
      "0.9901910972798614\n",
      "Accuracy from each fold =  [0.9705882352941176, 0.9470588235294117, 0.9647058823529412, 0.9558823529411765, 0.961764705882353, 0.9676470588235294, 0.9411764705882353, 0.9558823529411765, 0.9705882352941176, 0.961764705882353]\n",
      "Average Accuracy = 0.9597058823529411\n",
      " \n",
      "            PCA Components 850\n",
      "            pcaBPNNAcc 0.9583333333333334\n",
      "            pcaBPNNRuntime 4.110856771469116\n",
      "            kfoldAcc       0.9597058823529411\n",
      "            explained      0.9901910972798614\n",
      "            class0         0.9688888888888889\n",
      "            class1         0.9266666666666666\n",
      "\n",
      "        \n"
     ]
    },
    {
     "data": {
      "image/png": "[encoded data removed]",
      "text/plain": [
       "<Figure size 432x288 with 2 Axes>"
      ]
     },
     "metadata": {
      "needs_background": "light"
     },
     "output_type": "display_data"
    }
   ],
   "source": [
    "pcaValuesLBFGS = plotPCABpnn(xTrain,Xtest, yTrain, ytest, bpnnClassifier_lbfgs)\n"
   ]
  },
  {
   "cell_type": "code",
   "execution_count": 164,
   "metadata": {},
   "outputs": [
    {
     "name": "stdout",
     "output_type": "stream",
     "text": [
      "0.846927620377851\n",
      "Accuracy from each fold =  [0.9058823529411765, 0.8794117647058823, 0.888235294117647, 0.95, 0.8529411764705882, 0.5235294117647059, 0.7411764705882353, 0.8470588235294118, 0.7470588235294118, 0.7411764705882353]\n",
      "Average Accuracy = 0.8076470588235292\n",
      " \n",
      "            PCA Components 50\n",
      "            pcaBPNNAcc 0.9616666666666667\n",
      "            pcaBPNNRuntime 4.2309889793396\n",
      "            kfoldAcc       0.8076470588235292\n",
      "            explained      0.846927620377851\n",
      "            class0         0.9755555555555555\n",
      "            class1         0.92\n",
      "\n",
      "        \n",
      "0.8973774936478844\n",
      "Accuracy from each fold =  [0.9176470588235294, 0.8117647058823529, 0.8911764705882353, 0.9676470588235294, 0.9735294117647059, 0.8705882352941177, 0.8029411764705883, 0.9588235294117647, 0.8676470588235294, 0.9147058823529411]\n",
      "Average Accuracy = 0.8976470588235292\n",
      " \n",
      "            PCA Components 100\n",
      "            pcaBPNNAcc 0.9316666666666666\n",
      "            pcaBPNNRuntime 2.773685932159424\n",
      "            kfoldAcc       0.8976470588235292\n",
      "            explained      0.8973774936478844\n",
      "            class0         0.9777777777777777\n",
      "            class1         0.7933333333333333\n",
      "\n",
      "        \n",
      "0.95075455933606\n",
      "Accuracy from each fold =  [0.8794117647058823, 0.8558823529411764, 0.7647058823529411, 0.9647058823529412, 0.7794117647058824, 0.8088235294117647, 0.9705882352941176, 0.9705882352941176, 0.95, 0.9411764705882353]\n",
      "Average Accuracy = 0.8885294117647058\n",
      " \n",
      "            PCA Components 250\n",
      "            pcaBPNNAcc 0.9533333333333334\n",
      "            pcaBPNNRuntime 12.42763090133667\n",
      "            kfoldAcc       0.8885294117647058\n",
      "            explained      0.95075455933606\n",
      "            class0         0.96\n",
      "            class1         0.9333333333333333\n",
      "\n",
      "        \n",
      "0.9782085881483374\n",
      "Accuracy from each fold =  [0.9558823529411765, 0.9205882352941176, 0.9705882352941176, 0.9588235294117647, 0.9647058823529412, 0.9529411764705882, 0.95, 0.9441176470588235, 0.9676470588235294, 0.9558823529411765]\n",
      "Average Accuracy = 0.9541176470588235\n",
      " \n",
      "            PCA Components 500\n",
      "            pcaBPNNAcc 0.9483333333333334\n",
      "            pcaBPNNRuntime 8.235082149505615\n",
      "            kfoldAcc       0.9541176470588235\n",
      "            explained      0.9782085881483374\n",
      "            class0         0.9688888888888889\n",
      "            class1         0.8866666666666667\n",
      "\n",
      "        \n",
      "0.9901886967620355\n",
      "Accuracy from each fold =  [0.9411764705882353, 0.9088235294117647, 0.9529411764705882, 0.9558823529411765, 0.8, 0.9647058823529412, 0.9735294117647059, 0.9441176470588235, 0.7029411764705882, 0.9470588235294117]\n",
      "Average Accuracy = 0.9091176470588236\n",
      " \n",
      "            PCA Components 850\n",
      "            pcaBPNNAcc 0.9316666666666666\n",
      "            pcaBPNNRuntime 17.365880012512207\n",
      "            kfoldAcc       0.9091176470588236\n",
      "            explained      0.9901886967620355\n",
      "            class0         0.96\n",
      "            class1         0.8466666666666667\n",
      "\n",
      "        \n"
     ]
    },
    {
     "data": {
      "image/png": "[encoded data removed]",
      "text/plain": [
       "<Figure size 432x288 with 2 Axes>"
      ]
     },
     "metadata": {
      "needs_background": "light"
     },
     "output_type": "display_data"
    }
   ],
   "source": [
    "pcaValues_SGD_1000=plotPCABpnn(xTrain,Xtest, yTrain, ytest, bpnnWith1000Hidden_sgd)\n"
   ]
  },
  {
   "cell_type": "code",
   "execution_count": null,
   "metadata": {},
   "outputs": [
    {
     "name": "stdout",
     "output_type": "stream",
     "text": [
      "0.8469129600074904\n",
      "Accuracy from each fold =  [0.961764705882353, 0.9735294117647059, 0.961764705882353, 0.9647058823529412, 0.9676470588235294, 0.9529411764705882, 0.9588235294117647, 0.9705882352941176, 0.961764705882353, 0.9705882352941176]\n",
      "Average Accuracy = 0.9644117647058824\n",
      " \n",
      "            PCA Components 50\n",
      "            pcaBPNNAcc 0.9683333333333334\n",
      "            pcaBPNNRuntime 11.947009086608887\n",
      "            kfoldAcc       0.9644117647058824\n",
      "            explained      0.8469129600074904\n",
      "            class0         0.9755555555555555\n",
      "            class1         0.9466666666666667\n",
      "\n",
      "        \n",
      "0.8974011828403449\n",
      "Accuracy from each fold =  [0.9764705882352941, 0.9764705882352941, 0.9558823529411765, 0.9705882352941176, 0.9823529411764705, 0.9441176470588235, 0.9647058823529412, 0.8147058823529412, 0.9647058823529412, 0.9764705882352941]\n",
      "Average Accuracy = 0.9526470588235293\n",
      " \n",
      "            PCA Components 100\n",
      "            pcaBPNNAcc 0.975\n",
      "            pcaBPNNRuntime 12.625032901763916\n",
      "            kfoldAcc       0.9526470588235293\n",
      "            explained      0.8974011828403449\n",
      "            class0         0.9866666666666667\n",
      "            class1         0.94\n",
      "\n",
      "        \n",
      "0.950744438985642\n",
      "Accuracy from each fold =  [0.9529411764705882, 0.788235294117647, 0.9588235294117647, 0.9705882352941176, 0.9676470588235294, 0.9676470588235294, 0.9676470588235294, 0.95, 0.9705882352941176, 0.961764705882353]\n",
      "Average Accuracy = 0.9455882352941176\n",
      " \n",
      "            PCA Components 250\n",
      "            pcaBPNNAcc 0.965\n",
      "            pcaBPNNRuntime 18.731844902038574\n",
      "            kfoldAcc       0.9455882352941176\n",
      "            explained      0.950744438985642\n",
      "            class0         0.9711111111111111\n",
      "            class1         0.9466666666666667\n",
      "\n",
      "        \n",
      "0.9782119963949706\n"
     ]
    },
    {
     "name": "stderr",
     "output_type": "stream",
     "text": [
      "/Users/matthewlane/opt/anaconda3/envs/testEnv/lib/python3.8/site-packages/sklearn/neural_network/_multilayer_perceptron.py:471: ConvergenceWarning: lbfgs failed to converge (status=2):\n",
      "ABNORMAL_TERMINATION_IN_LNSRCH.\n",
      "\n",
      "Increase the number of iterations (max_iter) or scale the data as shown in:\n",
      "    https://scikit-learn.org/stable/modules/preprocessing.html\n",
      "  self.n_iter_ = _check_optimize_result(\"lbfgs\", opt_res, self.max_iter)\n"
     ]
    },
    {
     "name": "stdout",
     "output_type": "stream",
     "text": [
      "Accuracy from each fold =  [0.9470588235294117, 0.9588235294117647, 0.9588235294117647, 0.961764705882353, 0.95, 0.9470588235294117, 0.9647058823529412, 0.9529411764705882, 0.9588235294117647, 0.9588235294117647]\n",
      "Average Accuracy = 0.9558823529411764\n",
      " \n",
      "            PCA Components 500\n",
      "            pcaBPNNAcc 0.9633333333333334\n",
      "            pcaBPNNRuntime 26.75769805908203\n",
      "            kfoldAcc       0.9558823529411764\n",
      "            explained      0.9782119963949706\n",
      "            class0         0.9688888888888889\n",
      "            class1         0.9466666666666667\n",
      "\n",
      "        \n",
      "0.9901867551476058\n"
     ]
    },
    {
     "name": "stderr",
     "output_type": "stream",
     "text": [
      "/Users/matthewlane/opt/anaconda3/envs/testEnv/lib/python3.8/site-packages/sklearn/neural_network/_multilayer_perceptron.py:471: ConvergenceWarning: lbfgs failed to converge (status=2):\n",
      "ABNORMAL_TERMINATION_IN_LNSRCH.\n",
      "\n",
      "Increase the number of iterations (max_iter) or scale the data as shown in:\n",
      "    https://scikit-learn.org/stable/modules/preprocessing.html\n",
      "  self.n_iter_ = _check_optimize_result(\"lbfgs\", opt_res, self.max_iter)\n"
     ]
    }
   ],
   "source": [
    "pcaValues_LBFGS_1000 = plotPCABpnn(xTrain,Xtest, yTrain, ytest, bpnnWith1000Hidden_lbfgs)\n"
   ]
  },
  {
   "cell_type": "markdown",
   "metadata": {},
   "source": [
    "### Segmentation Experimentation"
   ]
  },
  {
   "cell_type": "code",
   "execution_count": null,
   "metadata": {},
   "outputs": [],
   "source": [
    "from skimage.segmentation import felzenszwalb\n",
    "from skimage.segmentation import mark_boundaries\n",
    "\n",
    "felzen = felzenszwalb(trainingSet[0][101].transpose(), scale=1000, sigma=1)\n",
    "plt.imshow(mark_boundaries(trainingSet[0][101].transpose(), felzen))\n",
    "np.unique(felzen, return_counts=True)\n",
    "\n",
    "from skimage.segmentation import slic\n",
    "slickBoy = slic((trainingSet[0][101].transpose()), n_segments=100, compactness=10)\n",
    "plt.imshow(mark_boundaries(trainingSet[0][101].transpose(), slickBoy))\n",
    "\n",
    "def segmentFeatures(segmentPixels): \n",
    "    features = []\n",
    "    numberPixels, numBands = segmentPixels.shape\n",
    "    \n",
    "    for b in np.arange(numBands): \n",
    "        stats = scipy.stats.describe(segmentPixels[:,b])\n",
    "    \n",
    "    return features\n",
    "\n",
    "segmentIDs = np.unique(slickBoy)\n",
    "objects = []\n",
    "objectIDs = []\n",
    "for i in segmentIDs: \n",
    "    pixels = trainingSet[0][101].transpose()[slickBoy == i] \n",
    "    print('pixels for id', i, pixels.shape)\n",
    "    objectFeatures = segmentFeatures(pixels)\n",
    "    objects.append(objectFeatures)\n",
    "    objectIDs.append(i)"
   ]
  }
 ],
 "metadata": {
  "kernelspec": {
   "display_name": "Python 3",
   "language": "python",
   "name": "python3"
  },
  "language_info": {
   "codemirror_mode": {
    "name": "ipython",
    "version": 3
   },
   "file_extension": ".py",
   "mimetype": "text/x-python",
   "name": "python",
   "nbconvert_exporter": "python",
   "pygments_lexer": "ipython3",
   "version": "3.8.3"
  }
 },
 "nbformat": 4,
 "nbformat_minor": 4
}
