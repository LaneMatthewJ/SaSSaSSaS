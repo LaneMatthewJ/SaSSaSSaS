{
 "cells": [
  {
   "cell_type": "code",
   "execution_count": 150,
   "metadata": {},
   "outputs": [],
   "source": [
    "import numpy as np \n",
    "from PIL import Image, ImageDraw\n",
    "from matplotlib import pyplot as plt\n",
    "from matplotlib import gridspec\n",
    "import load_ship_data"
   ]
  },
  {
   "cell_type": "code",
   "execution_count": 151,
   "metadata": {},
   "outputs": [],
   "source": [
    "np.random.seed(522)"
   ]
  },
  {
   "cell_type": "code",
   "execution_count": 152,
   "metadata": {},
   "outputs": [
    {
     "name": "stdout",
     "output_type": "stream",
     "text": [
      "Training Set Data Length:  2800   Label Length:  2800\n",
      "TestingSet Set Data Length:  600  Label Length:  600\n",
      "Validation Set Data Length:  600  Label Length:  600\n"
     ]
    },
    {
     "data": {
      "text/plain": [
       "array([102,  99,  99, 103, 104, 100, 104, 105, 103, 108], dtype=uint8)"
      ]
     },
     "execution_count": 152,
     "metadata": {},
     "output_type": "execute_result"
    }
   ],
   "source": [
    "# Load the data! \n",
    "filePath = './data/shipsnet.json'\n",
    "trainingSet, testingSet, validationSet = load_ship_data.load_data_train_test_split(filePath)\n",
    "train, labels_tr = trainingSet\n",
    "train_flat = train.reshape(train.shape[0], 19200)\n",
    "train_flat[0][:10]"
   ]
  },
  {
   "cell_type": "code",
   "execution_count": 153,
   "metadata": {},
   "outputs": [],
   "source": [
    "Xtrain=trainingSet[0]\n",
    "ytrain=trainingSet[1]\n",
    "Xtest=testingSet[0]\n",
    "ytest=testingSet[1]\n",
    "Xvalid=validationSet[0]\n",
    "yvalid=validationSet[1]\n",
    "Xtrain=Xtrain.reshape(Xtrain.shape[0],Xtrain.shape[1]*Xtrain.shape[2]*Xtrain.shape[3])\n",
    "Xtest=Xtest.reshape(Xtest.shape[0],Xtest.shape[1]*Xtest.shape[2]*Xtest.shape[3])\n",
    "Xvalid=Xvalid.reshape(Xvalid.shape[0],Xvalid.shape[1]*Xvalid.shape[2]*Xvalid.shape[3])"
   ]
  },
  {
   "cell_type": "markdown",
   "metadata": {},
   "source": [
    "### Random Forest Implementation / Experimentation"
   ]
  },
  {
   "cell_type": "code",
   "execution_count": 154,
   "metadata": {},
   "outputs": [],
   "source": [
    "from sklearn.ensemble import RandomForestClassifier\n",
    "import time\n",
    "\n"
   ]
  },
  {
   "cell_type": "code",
   "execution_count": 155,
   "metadata": {},
   "outputs": [],
   "source": [
    "def calculatePredictedVsActual(predicted, actual): \n",
    "    correctlyPredictedShips = 0\n",
    "    correctlyPredictedNotShips = 0\n",
    "    \n",
    "    for i in np.arange(len(predicted)): \n",
    "        if (predicted[i] == 0 and actual[i] == 0): \n",
    "            correctlyPredictedNotShips = correctlyPredictedNotShips + 1\n",
    "        elif (predicted[i] == 1 and actual[i] == 1): \n",
    "            correctlyPredictedShips = correctlyPredictedShips + 1\n",
    "            \n",
    "    totalShore = len(actual[ actual == 0 ])\n",
    "    totalShips = len(actual[ actual == 1 ])\n",
    "\n",
    "    return (correctlyPredictedNotShips / totalShore, correctlyPredictedShips / totalShips) \n",
    "    \n",
    "def runRandomForestClassifier(xTrain, yTrain, xTest, yTest): \n",
    "    clf = RandomForestClassifier(warm_start=True, verbose=1)\n",
    "    startingTime = time.time()           # start time\n",
    "    y_model = clf.fit(xTrain, yTrain)\n",
    "    endingTime = time.time()           # ending time\n",
    "    totalTime = endingTime - startingTime\n",
    "\n",
    "    \n",
    "    return (y_model.score(xTest, yTest), totalTime, clf.predict(xTest))\n",
    "\n",
    "\n",
    "def doKFoldCrossValidationRandomForest(X, y, xTest, yTest):\n",
    "    k=10\n",
    "    kf=KFold(n_splits=k,random_state=None)\n",
    "    acc_scores=[]\n",
    "    for train_index,test_index in kf.split(X):\n",
    "        X_train,X_test=X[train_index,:],X[test_index,:]\n",
    "        y_train,y_test=y[train_index],y[test_index]\n",
    "        (accuracy, time, values) = runRandomForestClassifier(X_train, y_train, X_test, y_test)\n",
    "        acc_scores.append(accuracy)\n",
    "    avg_acc=sum(acc_scores)*1.0/k\n",
    "    print('Accuracy from each fold =  {}'.format(acc_scores))\n",
    "    print('Average Accuracy = {}'.format(avg_acc))\n",
    "\n",
    "    return avg_acc\n"
   ]
  },
  {
   "cell_type": "code",
   "execution_count": 156,
   "metadata": {},
   "outputs": [
    {
     "name": "stderr",
     "output_type": "stream",
     "text": [
      "[Parallel(n_jobs=1)]: Using backend SequentialBackend with 1 concurrent workers.\n",
      "[Parallel(n_jobs=1)]: Done 100 out of 100 | elapsed:   21.2s finished\n",
      "[Parallel(n_jobs=1)]: Using backend SequentialBackend with 1 concurrent workers.\n",
      "[Parallel(n_jobs=1)]: Done 100 out of 100 | elapsed:    0.0s finished\n",
      "[Parallel(n_jobs=1)]: Using backend SequentialBackend with 1 concurrent workers.\n",
      "[Parallel(n_jobs=1)]: Done 100 out of 100 | elapsed:    0.0s finished\n",
      "[Parallel(n_jobs=1)]: Using backend SequentialBackend with 1 concurrent workers.\n",
      "[Parallel(n_jobs=1)]: Done 100 out of 100 | elapsed:   19.2s finished\n",
      "[Parallel(n_jobs=1)]: Using backend SequentialBackend with 1 concurrent workers.\n",
      "[Parallel(n_jobs=1)]: Done 100 out of 100 | elapsed:    0.0s finished\n",
      "[Parallel(n_jobs=1)]: Using backend SequentialBackend with 1 concurrent workers.\n",
      "[Parallel(n_jobs=1)]: Done 100 out of 100 | elapsed:    0.0s finished\n",
      "[Parallel(n_jobs=1)]: Using backend SequentialBackend with 1 concurrent workers.\n",
      "[Parallel(n_jobs=1)]: Done 100 out of 100 | elapsed:   20.4s finished\n",
      "[Parallel(n_jobs=1)]: Using backend SequentialBackend with 1 concurrent workers.\n",
      "[Parallel(n_jobs=1)]: Done 100 out of 100 | elapsed:    0.0s finished\n",
      "[Parallel(n_jobs=1)]: Using backend SequentialBackend with 1 concurrent workers.\n",
      "[Parallel(n_jobs=1)]: Done 100 out of 100 | elapsed:    0.0s finished\n",
      "[Parallel(n_jobs=1)]: Using backend SequentialBackend with 1 concurrent workers.\n",
      "[Parallel(n_jobs=1)]: Done 100 out of 100 | elapsed:   19.9s finished\n",
      "[Parallel(n_jobs=1)]: Using backend SequentialBackend with 1 concurrent workers.\n",
      "[Parallel(n_jobs=1)]: Done 100 out of 100 | elapsed:    0.0s finished\n",
      "[Parallel(n_jobs=1)]: Using backend SequentialBackend with 1 concurrent workers.\n",
      "[Parallel(n_jobs=1)]: Done 100 out of 100 | elapsed:    0.0s finished\n",
      "[Parallel(n_jobs=1)]: Using backend SequentialBackend with 1 concurrent workers.\n",
      "[Parallel(n_jobs=1)]: Done 100 out of 100 | elapsed:   20.4s finished\n",
      "[Parallel(n_jobs=1)]: Using backend SequentialBackend with 1 concurrent workers.\n",
      "[Parallel(n_jobs=1)]: Done 100 out of 100 | elapsed:    0.0s finished\n",
      "[Parallel(n_jobs=1)]: Using backend SequentialBackend with 1 concurrent workers.\n",
      "[Parallel(n_jobs=1)]: Done 100 out of 100 | elapsed:    0.1s finished\n",
      "[Parallel(n_jobs=1)]: Using backend SequentialBackend with 1 concurrent workers.\n",
      "[Parallel(n_jobs=1)]: Done 100 out of 100 | elapsed:   20.4s finished\n",
      "[Parallel(n_jobs=1)]: Using backend SequentialBackend with 1 concurrent workers.\n",
      "[Parallel(n_jobs=1)]: Done 100 out of 100 | elapsed:    0.0s finished\n",
      "[Parallel(n_jobs=1)]: Using backend SequentialBackend with 1 concurrent workers.\n",
      "[Parallel(n_jobs=1)]: Done 100 out of 100 | elapsed:    0.0s finished\n",
      "[Parallel(n_jobs=1)]: Using backend SequentialBackend with 1 concurrent workers.\n",
      "[Parallel(n_jobs=1)]: Done 100 out of 100 | elapsed:   19.8s finished\n",
      "[Parallel(n_jobs=1)]: Using backend SequentialBackend with 1 concurrent workers.\n",
      "[Parallel(n_jobs=1)]: Done 100 out of 100 | elapsed:    0.0s finished\n",
      "[Parallel(n_jobs=1)]: Using backend SequentialBackend with 1 concurrent workers.\n",
      "[Parallel(n_jobs=1)]: Done 100 out of 100 | elapsed:    0.0s finished\n",
      "[Parallel(n_jobs=1)]: Using backend SequentialBackend with 1 concurrent workers.\n",
      "[Parallel(n_jobs=1)]: Done 100 out of 100 | elapsed:   19.4s finished\n",
      "[Parallel(n_jobs=1)]: Using backend SequentialBackend with 1 concurrent workers.\n",
      "[Parallel(n_jobs=1)]: Done 100 out of 100 | elapsed:    0.0s finished\n",
      "[Parallel(n_jobs=1)]: Using backend SequentialBackend with 1 concurrent workers.\n",
      "[Parallel(n_jobs=1)]: Done 100 out of 100 | elapsed:    0.0s finished\n",
      "[Parallel(n_jobs=1)]: Using backend SequentialBackend with 1 concurrent workers.\n",
      "[Parallel(n_jobs=1)]: Done 100 out of 100 | elapsed:   22.0s finished\n",
      "[Parallel(n_jobs=1)]: Using backend SequentialBackend with 1 concurrent workers.\n",
      "[Parallel(n_jobs=1)]: Done 100 out of 100 | elapsed:    0.0s finished\n",
      "[Parallel(n_jobs=1)]: Using backend SequentialBackend with 1 concurrent workers.\n",
      "[Parallel(n_jobs=1)]: Done 100 out of 100 | elapsed:    0.0s finished\n",
      "[Parallel(n_jobs=1)]: Using backend SequentialBackend with 1 concurrent workers.\n",
      "[Parallel(n_jobs=1)]: Done 100 out of 100 | elapsed:   22.4s finished\n",
      "[Parallel(n_jobs=1)]: Using backend SequentialBackend with 1 concurrent workers.\n",
      "[Parallel(n_jobs=1)]: Done 100 out of 100 | elapsed:    0.0s finished\n",
      "[Parallel(n_jobs=1)]: Using backend SequentialBackend with 1 concurrent workers.\n",
      "[Parallel(n_jobs=1)]: Done 100 out of 100 | elapsed:    0.0s finished\n",
      "[Parallel(n_jobs=1)]: Using backend SequentialBackend with 1 concurrent workers.\n"
     ]
    },
    {
     "name": "stdout",
     "output_type": "stream",
     "text": [
      "Accuracy from each fold =  [0.9392857142857143, 0.9428571428571428, 0.9642857142857143, 0.9642857142857143, 0.95, 0.9357142857142857, 0.95, 0.9464285714285714, 0.9607142857142857, 0.9178571428571428]\n",
      "Average Accuracy = 0.9471428571428572\n"
     ]
    },
    {
     "name": "stderr",
     "output_type": "stream",
     "text": [
      "[Parallel(n_jobs=1)]: Done 100 out of 100 | elapsed:   23.6s finished\n",
      "[Parallel(n_jobs=1)]: Using backend SequentialBackend with 1 concurrent workers.\n",
      "[Parallel(n_jobs=1)]: Done 100 out of 100 | elapsed:    0.0s finished\n",
      "[Parallel(n_jobs=1)]: Using backend SequentialBackend with 1 concurrent workers.\n",
      "[Parallel(n_jobs=1)]: Done 100 out of 100 | elapsed:    0.0s finished\n"
     ]
    }
   ],
   "source": [
    "(basicRandomForestAccuracy, basicRandomForestRunTime, predicted) = runRandomForestClassifier(Xtrain, ytrain, Xtest, ytest)\n",
    "kfoldAccRandomForest = doKFoldCrossValidationRandomForest(Xtrain, ytrain, Xtest, ytest)"
   ]
  },
  {
   "cell_type": "code",
   "execution_count": 157,
   "metadata": {},
   "outputs": [
    {
     "name": "stdout",
     "output_type": "stream",
     "text": [
      "\n",
      "basicRandomForestAccuracy 0.96\n",
      "kfoldAccRandomForest 0.9471428571428572\n",
      "class0Acc 0.98, \n",
      "class1Acc 0.9\n",
      "\n"
     ]
    }
   ],
   "source": [
    "(class0Acc, class1Acc) = calculatePredictedVsActual(predicted, ytest)\n",
    "print(f\"\"\"\n",
    "basicRandomForestAccuracy {basicRandomForestAccuracy}\n",
    "kfoldAccRandomForest {kfoldAccRandomForest}\n",
    "class0Acc {class0Acc}, \n",
    "class1Acc {class1Acc}\n",
    "\"\"\")\n"
   ]
  },
  {
   "cell_type": "markdown",
   "metadata": {},
   "source": [
    "### PCA + Random Forest Implementation / Experimentation"
   ]
  },
  {
   "cell_type": "code",
   "execution_count": 158,
   "metadata": {},
   "outputs": [],
   "source": [
    "from sklearn.decomposition import PCA\n",
    "from sklearn.model_selection import KFold"
   ]
  },
  {
   "cell_type": "code",
   "execution_count": 114,
   "metadata": {},
   "outputs": [],
   "source": [
    "def plotPCA(Xtrain, Xtest, ytrain, ytest):\n",
    "    numComponentsList = [5, 10, 40, 50,75, 100, 250, 500, 700, 850, 1000, 2000, None]\n",
    "\n",
    "    accuracyList = np.zeros(len(numComponentsList))\n",
    "    runTimeList = np.zeros(len(numComponentsList))\n",
    "    explainedList = np.zeros(len(numComponentsList))\n",
    "    \n",
    "    for i in np.arange(len(numComponentsList)): \n",
    "        pca = PCA(n_components=numComponentsList[i])\n",
    "        pca.fit(Xtrain)\n",
    "        pca_Xtrain= pca.transform(Xtrain)\n",
    "        pca_Xtest = pca.transform(Xtest)\n",
    "        explained=np.sum(pca.explained_variance_ratio_)\n",
    "        print(explained)\n",
    "        (pcaRandomForestAccuracy, pcaRandomForestRunTime, pcaPredicted) = runRandomForestClassifier(pca_Xtrain, ytrain, pca_Xtest, ytest)\n",
    "        (class0, class1) = calculatePredictedVsActual(pcaPredicted, ytest)\n",
    "        accuracyList[i] =pcaRandomForestAccuracy\n",
    "        runTimeList[i] = pcaRandomForestRunTime\n",
    "        explainedList[i] = explained\n",
    "        print(f\"\"\" \n",
    "            PCA Components {numComponentsList[i]}\n",
    "            pcaRandomForestAccuracy {pcaRandomForestAccuracy}\n",
    "            pcaRandomForestRunTime {pcaRandomForestRunTime}\n",
    "            explained {explained}\n",
    "            class0 {class0}, \n",
    "            class1 {class1}\n",
    "        \n",
    "        \"\"\")\n",
    "    fig, ax1= plt.subplots()\n",
    "\n",
    "    color = 'tab:red'\n",
    "    ax1.set_xlabel('Principal Components')\n",
    "    ax1.set_ylabel('Accuracy', color=color)\n",
    "    ax1.plot(numComponentsList, accuracyList, color)\n",
    "    ax1.tick_params(axis='y', labelcolor=color)\n",
    "    \n",
    "    color = 'tab:blue'\n",
    "    ax2 = ax1.twinx()\n",
    "    ax2.set_ylabel('Time', color=color)\n",
    "    ax2.plot(numComponentsList, runTimeList, color=color)\n",
    "    ax2.tick_params(axis='y', labelcolor=color)\n",
    "    plt.title(\"PCA With Respect to Random Forest\")\n",
    "    return (accuracyList, runTimeList, explainedList)"
   ]
  },
  {
   "cell_type": "code",
   "execution_count": 115,
   "metadata": {
    "scrolled": false
   },
   "outputs": [
    {
     "name": "stdout",
     "output_type": "stream",
     "text": [
      "0.6157238553120535\n"
     ]
    },
    {
     "name": "stderr",
     "output_type": "stream",
     "text": [
      "[Parallel(n_jobs=1)]: Using backend SequentialBackend with 1 concurrent workers.\n",
      "[Parallel(n_jobs=1)]: Done 100 out of 100 | elapsed:    0.9s finished\n",
      "[Parallel(n_jobs=1)]: Using backend SequentialBackend with 1 concurrent workers.\n",
      "[Parallel(n_jobs=1)]: Done 100 out of 100 | elapsed:    0.0s finished\n",
      "[Parallel(n_jobs=1)]: Using backend SequentialBackend with 1 concurrent workers.\n",
      "[Parallel(n_jobs=1)]: Done 100 out of 100 | elapsed:    0.0s finished\n"
     ]
    },
    {
     "name": "stdout",
     "output_type": "stream",
     "text": [
      " \n",
      "            PCA Components 5\n",
      "            pcaRandomForestAccuracy 0.9116666666666666\n",
      "            pcaRandomForestRunTime 0.9605951309204102\n",
      "            explained 0.6157238553120535\n",
      "            class0 0.96, \n",
      "            class1 0.7666666666666667\n",
      "        \n",
      "        \n",
      "0.6997472370889533\n"
     ]
    },
    {
     "name": "stderr",
     "output_type": "stream",
     "text": [
      "[Parallel(n_jobs=1)]: Using backend SequentialBackend with 1 concurrent workers.\n",
      "[Parallel(n_jobs=1)]: Done 100 out of 100 | elapsed:    1.0s finished\n",
      "[Parallel(n_jobs=1)]: Using backend SequentialBackend with 1 concurrent workers.\n",
      "[Parallel(n_jobs=1)]: Done 100 out of 100 | elapsed:    0.0s finished\n",
      "[Parallel(n_jobs=1)]: Using backend SequentialBackend with 1 concurrent workers.\n",
      "[Parallel(n_jobs=1)]: Done 100 out of 100 | elapsed:    0.0s finished\n"
     ]
    },
    {
     "name": "stdout",
     "output_type": "stream",
     "text": [
      " \n",
      "            PCA Components 10\n",
      "            pcaRandomForestAccuracy 0.95\n",
      "            pcaRandomForestRunTime 1.063364028930664\n",
      "            explained 0.6997472370889533\n",
      "            class0 0.9822222222222222, \n",
      "            class1 0.8533333333333334\n",
      "        \n",
      "        \n",
      "0.8319549858282743\n"
     ]
    },
    {
     "name": "stderr",
     "output_type": "stream",
     "text": [
      "[Parallel(n_jobs=1)]: Using backend SequentialBackend with 1 concurrent workers.\n",
      "[Parallel(n_jobs=1)]: Done 100 out of 100 | elapsed:    2.0s finished\n",
      "[Parallel(n_jobs=1)]: Using backend SequentialBackend with 1 concurrent workers.\n",
      "[Parallel(n_jobs=1)]: Done 100 out of 100 | elapsed:    0.0s finished\n",
      "[Parallel(n_jobs=1)]: Using backend SequentialBackend with 1 concurrent workers.\n",
      "[Parallel(n_jobs=1)]: Done 100 out of 100 | elapsed:    0.1s finished\n"
     ]
    },
    {
     "name": "stdout",
     "output_type": "stream",
     "text": [
      " \n",
      "            PCA Components 40\n",
      "            pcaRandomForestAccuracy 0.965\n",
      "            pcaRandomForestRunTime 2.074150800704956\n",
      "            explained 0.8319549858282743\n",
      "            class0 0.9977777777777778, \n",
      "            class1 0.8666666666666667\n",
      "        \n",
      "        \n",
      "0.849901026343648\n"
     ]
    },
    {
     "name": "stderr",
     "output_type": "stream",
     "text": [
      "[Parallel(n_jobs=1)]: Using backend SequentialBackend with 1 concurrent workers.\n",
      "[Parallel(n_jobs=1)]: Done 100 out of 100 | elapsed:    1.7s finished\n",
      "[Parallel(n_jobs=1)]: Using backend SequentialBackend with 1 concurrent workers.\n",
      "[Parallel(n_jobs=1)]: Done 100 out of 100 | elapsed:    0.0s finished\n",
      "[Parallel(n_jobs=1)]: Using backend SequentialBackend with 1 concurrent workers.\n",
      "[Parallel(n_jobs=1)]: Done 100 out of 100 | elapsed:    0.0s finished\n"
     ]
    },
    {
     "name": "stdout",
     "output_type": "stream",
     "text": [
      " \n",
      "            PCA Components 50\n",
      "            pcaRandomForestAccuracy 0.96\n",
      "            pcaRandomForestRunTime 1.7937610149383545\n",
      "            explained 0.849901026343648\n",
      "            class0 0.9955555555555555, \n",
      "            class1 0.8533333333333334\n",
      "        \n",
      "        \n",
      "0.880609851040148\n"
     ]
    },
    {
     "name": "stderr",
     "output_type": "stream",
     "text": [
      "[Parallel(n_jobs=1)]: Using backend SequentialBackend with 1 concurrent workers.\n",
      "[Parallel(n_jobs=1)]: Done 100 out of 100 | elapsed:    1.6s finished\n",
      "[Parallel(n_jobs=1)]: Using backend SequentialBackend with 1 concurrent workers.\n",
      "[Parallel(n_jobs=1)]: Done 100 out of 100 | elapsed:    0.0s finished\n",
      "[Parallel(n_jobs=1)]: Using backend SequentialBackend with 1 concurrent workers.\n",
      "[Parallel(n_jobs=1)]: Done 100 out of 100 | elapsed:    0.0s finished\n"
     ]
    },
    {
     "name": "stdout",
     "output_type": "stream",
     "text": [
      " \n",
      "            PCA Components 75\n",
      "            pcaRandomForestAccuracy 0.965\n",
      "            pcaRandomForestRunTime 1.6277213096618652\n",
      "            explained 0.880609851040148\n",
      "            class0 0.9977777777777778, \n",
      "            class1 0.8666666666666667\n",
      "        \n",
      "        \n",
      "0.9003295274163259\n"
     ]
    },
    {
     "name": "stderr",
     "output_type": "stream",
     "text": [
      "[Parallel(n_jobs=1)]: Using backend SequentialBackend with 1 concurrent workers.\n",
      "[Parallel(n_jobs=1)]: Done 100 out of 100 | elapsed:    2.2s finished\n",
      "[Parallel(n_jobs=1)]: Using backend SequentialBackend with 1 concurrent workers.\n",
      "[Parallel(n_jobs=1)]: Done 100 out of 100 | elapsed:    0.0s finished\n",
      "[Parallel(n_jobs=1)]: Using backend SequentialBackend with 1 concurrent workers.\n",
      "[Parallel(n_jobs=1)]: Done 100 out of 100 | elapsed:    0.0s finished\n"
     ]
    },
    {
     "name": "stdout",
     "output_type": "stream",
     "text": [
      " \n",
      "            PCA Components 100\n",
      "            pcaRandomForestAccuracy 0.9516666666666667\n",
      "            pcaRandomForestRunTime 2.3237059116363525\n",
      "            explained 0.9003295274163259\n",
      "            class0 0.9955555555555555, \n",
      "            class1 0.82\n",
      "        \n",
      "        \n",
      "0.9535107579466414\n"
     ]
    },
    {
     "name": "stderr",
     "output_type": "stream",
     "text": [
      "[Parallel(n_jobs=1)]: Using backend SequentialBackend with 1 concurrent workers.\n",
      "[Parallel(n_jobs=1)]: Done 100 out of 100 | elapsed:    2.8s finished\n",
      "[Parallel(n_jobs=1)]: Using backend SequentialBackend with 1 concurrent workers.\n",
      "[Parallel(n_jobs=1)]: Done 100 out of 100 | elapsed:    0.0s finished\n",
      "[Parallel(n_jobs=1)]: Using backend SequentialBackend with 1 concurrent workers.\n",
      "[Parallel(n_jobs=1)]: Done 100 out of 100 | elapsed:    0.0s finished\n"
     ]
    },
    {
     "name": "stdout",
     "output_type": "stream",
     "text": [
      " \n",
      "            PCA Components 250\n",
      "            pcaRandomForestAccuracy 0.9433333333333334\n",
      "            pcaRandomForestRunTime 2.9054291248321533\n",
      "            explained 0.9535107579466414\n",
      "            class0 1.0, \n",
      "            class1 0.7733333333333333\n",
      "        \n",
      "        \n",
      "0.980248322258303\n"
     ]
    },
    {
     "name": "stderr",
     "output_type": "stream",
     "text": [
      "[Parallel(n_jobs=1)]: Using backend SequentialBackend with 1 concurrent workers.\n",
      "[Parallel(n_jobs=1)]: Done 100 out of 100 | elapsed:    4.3s finished\n",
      "[Parallel(n_jobs=1)]: Using backend SequentialBackend with 1 concurrent workers.\n",
      "[Parallel(n_jobs=1)]: Done 100 out of 100 | elapsed:    0.0s finished\n",
      "[Parallel(n_jobs=1)]: Using backend SequentialBackend with 1 concurrent workers.\n",
      "[Parallel(n_jobs=1)]: Done 100 out of 100 | elapsed:    0.0s finished\n"
     ]
    },
    {
     "name": "stdout",
     "output_type": "stream",
     "text": [
      " \n",
      "            PCA Components 500\n",
      "            pcaRandomForestAccuracy 0.9183333333333333\n",
      "            pcaRandomForestRunTime 4.390632390975952\n",
      "            explained 0.980248322258303\n",
      "            class0 1.0, \n",
      "            class1 0.6733333333333333\n",
      "        \n",
      "        \n",
      "0.9882372750298958\n"
     ]
    },
    {
     "name": "stderr",
     "output_type": "stream",
     "text": [
      "[Parallel(n_jobs=1)]: Using backend SequentialBackend with 1 concurrent workers.\n",
      "[Parallel(n_jobs=1)]: Done 100 out of 100 | elapsed:    5.8s finished\n",
      "[Parallel(n_jobs=1)]: Using backend SequentialBackend with 1 concurrent workers.\n",
      "[Parallel(n_jobs=1)]: Done 100 out of 100 | elapsed:    0.0s finished\n",
      "[Parallel(n_jobs=1)]: Using backend SequentialBackend with 1 concurrent workers.\n",
      "[Parallel(n_jobs=1)]: Done 100 out of 100 | elapsed:    0.1s finished\n"
     ]
    },
    {
     "name": "stdout",
     "output_type": "stream",
     "text": [
      " \n",
      "            PCA Components 700\n",
      "            pcaRandomForestAccuracy 0.9\n",
      "            pcaRandomForestRunTime 5.901299953460693\n",
      "            explained 0.9882372750298958\n",
      "            class0 1.0, \n",
      "            class1 0.6\n",
      "        \n",
      "        \n",
      "0.991564817446791\n"
     ]
    },
    {
     "name": "stderr",
     "output_type": "stream",
     "text": [
      "[Parallel(n_jobs=1)]: Using backend SequentialBackend with 1 concurrent workers.\n",
      "[Parallel(n_jobs=1)]: Done 100 out of 100 | elapsed:    6.0s finished\n",
      "[Parallel(n_jobs=1)]: Using backend SequentialBackend with 1 concurrent workers.\n",
      "[Parallel(n_jobs=1)]: Done 100 out of 100 | elapsed:    0.0s finished\n",
      "[Parallel(n_jobs=1)]: Using backend SequentialBackend with 1 concurrent workers.\n",
      "[Parallel(n_jobs=1)]: Done 100 out of 100 | elapsed:    0.0s finished\n"
     ]
    },
    {
     "name": "stdout",
     "output_type": "stream",
     "text": [
      " \n",
      "            PCA Components 850\n",
      "            pcaRandomForestAccuracy 0.8933333333333333\n",
      "            pcaRandomForestRunTime 6.02516770362854\n",
      "            explained 0.991564817446791\n",
      "            class0 1.0, \n",
      "            class1 0.5733333333333334\n",
      "        \n",
      "        \n",
      "0.9937807978734744\n"
     ]
    },
    {
     "name": "stderr",
     "output_type": "stream",
     "text": [
      "[Parallel(n_jobs=1)]: Using backend SequentialBackend with 1 concurrent workers.\n",
      "[Parallel(n_jobs=1)]: Done 100 out of 100 | elapsed:    6.1s finished\n",
      "[Parallel(n_jobs=1)]: Using backend SequentialBackend with 1 concurrent workers.\n",
      "[Parallel(n_jobs=1)]: Done 100 out of 100 | elapsed:    0.0s finished\n",
      "[Parallel(n_jobs=1)]: Using backend SequentialBackend with 1 concurrent workers.\n",
      "[Parallel(n_jobs=1)]: Done 100 out of 100 | elapsed:    0.0s finished\n"
     ]
    },
    {
     "name": "stdout",
     "output_type": "stream",
     "text": [
      " \n",
      "            PCA Components 1000\n",
      "            pcaRandomForestAccuracy 0.8833333333333333\n",
      "            pcaRandomForestRunTime 6.218578815460205\n",
      "            explained 0.9937807978734744\n",
      "            class0 1.0, \n",
      "            class1 0.5333333333333333\n",
      "        \n",
      "        \n",
      "0.9991700833210535\n"
     ]
    },
    {
     "name": "stderr",
     "output_type": "stream",
     "text": [
      "[Parallel(n_jobs=1)]: Using backend SequentialBackend with 1 concurrent workers.\n",
      "[Parallel(n_jobs=1)]: Done 100 out of 100 | elapsed:   12.7s finished\n",
      "[Parallel(n_jobs=1)]: Using backend SequentialBackend with 1 concurrent workers.\n",
      "[Parallel(n_jobs=1)]: Done 100 out of 100 | elapsed:    0.0s finished\n",
      "[Parallel(n_jobs=1)]: Using backend SequentialBackend with 1 concurrent workers.\n",
      "[Parallel(n_jobs=1)]: Done 100 out of 100 | elapsed:    0.0s finished\n"
     ]
    },
    {
     "name": "stdout",
     "output_type": "stream",
     "text": [
      " \n",
      "            PCA Components 2000\n",
      "            pcaRandomForestAccuracy 0.7633333333333333\n",
      "            pcaRandomForestRunTime 12.754895210266113\n",
      "            explained 0.9991700833210535\n",
      "            class0 0.9177777777777778, \n",
      "            class1 0.3\n",
      "        \n",
      "        \n",
      "1.0000000000000002\n"
     ]
    },
    {
     "name": "stderr",
     "output_type": "stream",
     "text": [
      "[Parallel(n_jobs=1)]: Using backend SequentialBackend with 1 concurrent workers.\n",
      "[Parallel(n_jobs=1)]: Done 100 out of 100 | elapsed:   15.3s finished\n",
      "[Parallel(n_jobs=1)]: Using backend SequentialBackend with 1 concurrent workers.\n",
      "[Parallel(n_jobs=1)]: Done 100 out of 100 | elapsed:    0.0s finished\n",
      "[Parallel(n_jobs=1)]: Using backend SequentialBackend with 1 concurrent workers.\n",
      "[Parallel(n_jobs=1)]: Done 100 out of 100 | elapsed:    0.0s finished\n"
     ]
    },
    {
     "name": "stdout",
     "output_type": "stream",
     "text": [
      " \n",
      "            PCA Components None\n",
      "            pcaRandomForestAccuracy 0.7116666666666667\n",
      "            pcaRandomForestRunTime 15.396730899810791\n",
      "            explained 1.0000000000000002\n",
      "            class0 0.8177777777777778, \n",
      "            class1 0.3933333333333333\n",
      "        \n",
      "        \n"
     ]
    },
    {
     "data": {
      "image/png": "[encoded data removed]",
      "text/plain": [
       "<Figure size 432x288 with 2 Axes>"
      ]
     },
     "metadata": {
      "needs_background": "light"
     },
     "output_type": "display_data"
    }
   ],
   "source": [
    "allVals = plotPCA(Xtrain, Xtest, ytrain, ytest)\n"
   ]
  },
  {
   "cell_type": "markdown",
   "metadata": {},
   "source": [
    "kfolds! "
   ]
  },
  {
   "cell_type": "code",
   "execution_count": 86,
   "metadata": {},
   "outputs": [],
   "source": [
    "def doKFoldCrossValidation(xTrain, yTrain, xValid, yValid, xTest, yTest, model):\n",
    "    pca2 = PCA(n_components=50)\n",
    "    Xtrain=np.concatenate((xTrain,xValid))\n",
    "    ytrain=np.concatenate((yTrain,yValid))\n",
    "    pca2.fit(Xtrain)\n",
    "    pca2_Xtrain=pca2.transform(Xtrain)\n",
    "    pca2_Xtest=pca2.transform(Xtest)\n",
    "    explained=np.sum(pca2.explained_variance_ratio_)\n",
    "    print(explained)\n",
    "    X=pca2_Xtrain\n",
    "    y=ytrain\n",
    "    print(X.shape)\n",
    "    print(y.shape)\n",
    "    k=10\n",
    "    kf=KFold(n_splits=k,random_state=None)\n",
    "    acc_scores=[]\n",
    "    for train_index,test_index in kf.split(X):\n",
    "        X_train,X_test=X[train_index,:],X[test_index,:]\n",
    "        y_train,y_test=y[train_index],y[test_index]\n",
    "        (accuracy, time, values) = model(X_train, y_train, X_test, y_test)\n",
    "        acc_scores.append(accuracy)\n",
    "    avg_acc=sum(acc_scores)*1.0/k\n",
    "    print('Accuracy from each fold =  {}'.format(acc_scores))\n",
    "    print('Average Accuracy = {}'.format(avg_acc))\n",
    "    \n",
    "def doKFoldCrossValidationBPNN(X, y, xTest, yTest, model, bpnnModel):\n",
    "    k=10\n",
    "    kf=KFold(n_splits=k,random_state=None)\n",
    "    acc_scores=[]\n",
    "    for train_index,test_index in kf.split(X):\n",
    "        X_train,X_test=X[train_index,:],X[test_index,:]\n",
    "        y_train,y_test=y[train_index],y[test_index]\n",
    "        (accuracy, time, values) = model(bpnnModel, X_train, y_train, X_test, y_test)\n",
    "        acc_scores.append(accuracy)\n",
    "    avg_acc=sum(acc_scores)*1.0/k\n",
    "    print('Accuracy from each fold =  {}'.format(acc_scores))\n",
    "    print('Average Accuracy = {}'.format(avg_acc))\n",
    "\n",
    "    return avg_acc\n"
   ]
  },
  {
   "cell_type": "code",
   "execution_count": 41,
   "metadata": {},
   "outputs": [
    {
     "name": "stdout",
     "output_type": "stream",
     "text": [
      "0.8469330708334136\n",
      "(3400, 50)\n",
      "(3400,)\n"
     ]
    },
    {
     "name": "stderr",
     "output_type": "stream",
     "text": [
      "[Parallel(n_jobs=1)]: Using backend SequentialBackend with 1 concurrent workers.\n",
      "[Parallel(n_jobs=1)]: Done 100 out of 100 | elapsed:    1.7s finished\n",
      "[Parallel(n_jobs=1)]: Using backend SequentialBackend with 1 concurrent workers.\n",
      "[Parallel(n_jobs=1)]: Done 100 out of 100 | elapsed:    0.0s finished\n",
      "[Parallel(n_jobs=1)]: Using backend SequentialBackend with 1 concurrent workers.\n",
      "[Parallel(n_jobs=1)]: Done 100 out of 100 | elapsed:    0.0s finished\n",
      "[Parallel(n_jobs=1)]: Using backend SequentialBackend with 1 concurrent workers.\n",
      "[Parallel(n_jobs=1)]: Done 100 out of 100 | elapsed:    1.6s finished\n",
      "[Parallel(n_jobs=1)]: Using backend SequentialBackend with 1 concurrent workers.\n",
      "[Parallel(n_jobs=1)]: Done 100 out of 100 | elapsed:    0.0s finished\n",
      "[Parallel(n_jobs=1)]: Using backend SequentialBackend with 1 concurrent workers.\n",
      "[Parallel(n_jobs=1)]: Done 100 out of 100 | elapsed:    0.0s finished\n",
      "[Parallel(n_jobs=1)]: Using backend SequentialBackend with 1 concurrent workers.\n",
      "[Parallel(n_jobs=1)]: Done 100 out of 100 | elapsed:    1.6s finished\n",
      "[Parallel(n_jobs=1)]: Using backend SequentialBackend with 1 concurrent workers.\n",
      "[Parallel(n_jobs=1)]: Done 100 out of 100 | elapsed:    0.0s finished\n",
      "[Parallel(n_jobs=1)]: Using backend SequentialBackend with 1 concurrent workers.\n",
      "[Parallel(n_jobs=1)]: Done 100 out of 100 | elapsed:    0.0s finished\n",
      "[Parallel(n_jobs=1)]: Using backend SequentialBackend with 1 concurrent workers.\n",
      "[Parallel(n_jobs=1)]: Done 100 out of 100 | elapsed:    1.9s finished\n",
      "[Parallel(n_jobs=1)]: Using backend SequentialBackend with 1 concurrent workers.\n",
      "[Parallel(n_jobs=1)]: Done 100 out of 100 | elapsed:    0.0s finished\n",
      "[Parallel(n_jobs=1)]: Using backend SequentialBackend with 1 concurrent workers.\n",
      "[Parallel(n_jobs=1)]: Done 100 out of 100 | elapsed:    0.0s finished\n",
      "[Parallel(n_jobs=1)]: Using backend SequentialBackend with 1 concurrent workers.\n",
      "[Parallel(n_jobs=1)]: Done 100 out of 100 | elapsed:    1.6s finished\n",
      "[Parallel(n_jobs=1)]: Using backend SequentialBackend with 1 concurrent workers.\n",
      "[Parallel(n_jobs=1)]: Done 100 out of 100 | elapsed:    0.0s finished\n",
      "[Parallel(n_jobs=1)]: Using backend SequentialBackend with 1 concurrent workers.\n",
      "[Parallel(n_jobs=1)]: Done 100 out of 100 | elapsed:    0.0s finished\n",
      "[Parallel(n_jobs=1)]: Using backend SequentialBackend with 1 concurrent workers.\n",
      "[Parallel(n_jobs=1)]: Done 100 out of 100 | elapsed:    1.6s finished\n",
      "[Parallel(n_jobs=1)]: Using backend SequentialBackend with 1 concurrent workers.\n",
      "[Parallel(n_jobs=1)]: Done 100 out of 100 | elapsed:    0.0s finished\n",
      "[Parallel(n_jobs=1)]: Using backend SequentialBackend with 1 concurrent workers.\n",
      "[Parallel(n_jobs=1)]: Done 100 out of 100 | elapsed:    0.0s finished\n",
      "[Parallel(n_jobs=1)]: Using backend SequentialBackend with 1 concurrent workers.\n",
      "[Parallel(n_jobs=1)]: Done 100 out of 100 | elapsed:    1.6s finished\n",
      "[Parallel(n_jobs=1)]: Using backend SequentialBackend with 1 concurrent workers.\n",
      "[Parallel(n_jobs=1)]: Done 100 out of 100 | elapsed:    0.0s finished\n",
      "[Parallel(n_jobs=1)]: Using backend SequentialBackend with 1 concurrent workers.\n",
      "[Parallel(n_jobs=1)]: Done 100 out of 100 | elapsed:    0.0s finished\n",
      "[Parallel(n_jobs=1)]: Using backend SequentialBackend with 1 concurrent workers.\n",
      "[Parallel(n_jobs=1)]: Done 100 out of 100 | elapsed:    1.7s finished\n",
      "[Parallel(n_jobs=1)]: Using backend SequentialBackend with 1 concurrent workers.\n",
      "[Parallel(n_jobs=1)]: Done 100 out of 100 | elapsed:    0.0s finished\n",
      "[Parallel(n_jobs=1)]: Using backend SequentialBackend with 1 concurrent workers.\n",
      "[Parallel(n_jobs=1)]: Done 100 out of 100 | elapsed:    0.0s finished\n",
      "[Parallel(n_jobs=1)]: Using backend SequentialBackend with 1 concurrent workers.\n",
      "[Parallel(n_jobs=1)]: Done 100 out of 100 | elapsed:    1.6s finished\n",
      "[Parallel(n_jobs=1)]: Using backend SequentialBackend with 1 concurrent workers.\n",
      "[Parallel(n_jobs=1)]: Done 100 out of 100 | elapsed:    0.0s finished\n",
      "[Parallel(n_jobs=1)]: Using backend SequentialBackend with 1 concurrent workers.\n",
      "[Parallel(n_jobs=1)]: Done 100 out of 100 | elapsed:    0.0s finished\n",
      "[Parallel(n_jobs=1)]: Using backend SequentialBackend with 1 concurrent workers.\n"
     ]
    },
    {
     "name": "stdout",
     "output_type": "stream",
     "text": [
      "Accuracy from each fold =  [0.9764705882352941, 0.9676470588235294, 0.9647058823529412, 0.9764705882352941, 0.961764705882353, 0.9588235294117647, 0.961764705882353, 0.9558823529411765, 0.9529411764705882, 0.9529411764705882]\n",
      "Average Accuracy = 0.9629411764705882\n"
     ]
    },
    {
     "name": "stderr",
     "output_type": "stream",
     "text": [
      "[Parallel(n_jobs=1)]: Done 100 out of 100 | elapsed:    1.6s finished\n",
      "[Parallel(n_jobs=1)]: Using backend SequentialBackend with 1 concurrent workers.\n",
      "[Parallel(n_jobs=1)]: Done 100 out of 100 | elapsed:    0.0s finished\n",
      "[Parallel(n_jobs=1)]: Using backend SequentialBackend with 1 concurrent workers.\n",
      "[Parallel(n_jobs=1)]: Done 100 out of 100 | elapsed:    0.0s finished\n"
     ]
    }
   ],
   "source": [
    "doKFoldCrossValidation(Xtrain, ytrain, Xvalid, yvalid, Xtest, ytest, runRandomForestClassifier)"
   ]
  },
  {
   "cell_type": "markdown",
   "metadata": {},
   "source": [
    "### BPNN Implementation / Experimentation"
   ]
  },
  {
   "cell_type": "code",
   "execution_count": 42,
   "metadata": {},
   "outputs": [],
   "source": [
    "from sklearn.neural_network import MLPClassifier  \n"
   ]
  },
  {
   "cell_type": "code",
   "execution_count": 43,
   "metadata": {},
   "outputs": [],
   "source": [
    "bpnnClassifier_sgd = MLPClassifier(solver='sgd')\n",
    "bpnnClassifier_lbfgs = MLPClassifier(solver='lbfgs')\n",
    "bpnnWith1000Hidden_sgd = MLPClassifier(solver='sgd', hidden_layer_sizes=(1000,))\n",
    "bpnnWith1000Hidden_lbfgs = MLPClassifier(solver='lbfgs',  hidden_layer_sizes=(1000,))\n",
    "bpnnWith1000x1000Hidden_sgd = MLPClassifier(solver='sgd', hidden_layer_sizes=(1000,1000))\n",
    "bpnnWith1000x1000Hidden_lbfgs = MLPClassifier(solver='lbfgs',  hidden_layer_sizes=(1000,1000))\n"
   ]
  },
  {
   "cell_type": "code",
   "execution_count": 44,
   "metadata": {},
   "outputs": [],
   "source": [
    "def runBPNNandTime(classifier, xTrain, yTrain, xTest, yTest): \n",
    "    startingTime = time.time()           # start time\n",
    "    y_model = classifier.fit(xTrain, yTrain)\n",
    "    endingTime = time.time()           # ending time\n",
    "    totalTime = endingTime - startingTime\n",
    "    \n",
    "    return (y_model.score(xTest, yTest), totalTime, y_model.predict(xTest))\n",
    "    \n"
   ]
  },
  {
   "cell_type": "code",
   "execution_count": 45,
   "metadata": {},
   "outputs": [
    {
     "name": "stderr",
     "output_type": "stream",
     "text": [
      "/Users/matthewlane/opt/anaconda3/envs/testEnv/lib/python3.8/site-packages/sklearn/utils/extmath.py:153: RuntimeWarning: overflow encountered in matmul\n",
      "  ret = a @ b\n",
      "/Users/matthewlane/opt/anaconda3/envs/testEnv/lib/python3.8/site-packages/sklearn/neural_network/_multilayer_perceptron.py:471: ConvergenceWarning: lbfgs failed to converge (status=2):\n",
      "ABNORMAL_TERMINATION_IN_LNSRCH.\n",
      "\n",
      "Increase the number of iterations (max_iter) or scale the data as shown in:\n",
      "    https://scikit-learn.org/stable/modules/preprocessing.html\n",
      "  self.n_iter_ = _check_optimize_result(\"lbfgs\", opt_res, self.max_iter)\n"
     ]
    }
   ],
   "source": [
    "xTrain = np.concatenate((Xtrain,Xvalid))\n",
    "yTrain = np.concatenate((ytrain, yvalid))\n",
    "\n",
    "(bpnnClassifier_sgd_accuracy, bpnnClassifier_sgd_time, bpnnClassifier_sgd_predicted) = runBPNNandTime(bpnnClassifier_sgd, xTrain, yTrain, Xtest, ytest)\n",
    "(bpnnClassifier_lbfgs_accuracy, bpnnClassifier_lbfgs_time, bpnnClassifier_lbfgs_predicted) = runBPNNandTime(bpnnClassifier_lbfgs, xTrain, yTrain, Xtest, ytest)\n",
    "\n",
    "(bpnnWith1000Hidden_sgd_accuracy, bpnnWith1000Hidden_sgd_time, bpnnWith1000Hidden_sgd_predicted) = runBPNNandTime(bpnnWith1000Hidden_sgd, xTrain, yTrain, Xtest, ytest)\n",
    "(bpnnWith1000Hidden_lbfgs_accuracy, bpnnWith1000Hidden_lbfgs_time, bpnnWith1000Hidden_lbfgs_predicted) = runBPNNandTime(bpnnWith1000Hidden_lbfgs, xTrain, yTrain, Xtest, ytest)\n",
    "\n",
    "(bpnnWith1000x1000Hidden_sgd_accuracy, bpnnWith1000x1000Hidden_sgd_time, bpnnWith1000x1000Hidden_sgd_predicted) = runBPNNandTime(bpnnWith1000x1000Hidden_sgd, xTrain, yTrain, Xtest, ytest)\n",
    "(bpnnWith1000x1000Hidden_lbfgs_lbfgs_accuracy, bpnnWith1000x1000Hidden_lbfgs_time, bpnnWith1000x1000Hidden_lbfgs_predicted) = runBPNNandTime(bpnnWith1000x1000Hidden_lbfgs, xTrain, yTrain, Xtest, ytest)\n",
    "\n",
    "\n",
    "\n",
    "\n"
   ]
  },
  {
   "cell_type": "code",
   "execution_count": 98,
   "metadata": {},
   "outputs": [],
   "source": [
    "np.save('bpnnPredicted', bpnnWith1000Hidden_lbfgs_predicted)"
   ]
  },
  {
   "cell_type": "code",
   "execution_count": 118,
   "metadata": {},
   "outputs": [
    {
     "name": "stdout",
     "output_type": "stream",
     "text": [
      "\n",
      "bpnnClassifier_sgd_accuracy: 0.75    \n",
      "bpnnClassifier_sgd_time: 34.72964096069336\n",
      "bpnnClassifier_sgd_predicted (1.0, 0.0)\n",
      "\n",
      "bpnnWith1000Hidden_sgd_accuracy: 0.75\n",
      "bpnnWith1000Hidden_sgd_time: 1517.6399581432343\n",
      "bpnnWith1000Hidden__sgd_predicted (1.0, 0.0)\n",
      "\n",
      "\n",
      "bpnnWith1000x1000Hidden_sgd_accuracy: 0.75\n",
      "bpnnWith1000x1000Hidden_sgd_time: 318.50302481651306\n",
      "bpnnWith1000x1000Hidden_sgd_predicted: (1.0, 0.0)\n",
      "\n",
      "\n",
      "\n",
      "bpnnClassifier_lbfgs_accuracy: 0.9516666666666667\n",
      "bpnnClassifier_lbfgs_time: 698.9334049224854\n",
      "bpnnClassifier_lbfgs_predicted (0.9644444444444444, 0.9133333333333333)\n",
      "\n",
      "bpnnWith1000Hidden_lbfgs_accuracy: 0.95\n",
      "bpnnWith1000Hidden_lbfgs_time: 4586.67370223999\n",
      "bpnnWith1000Hidden_lbfgs_predicted (0.9666666666666667, 0.9)\n",
      "\n",
      "\n",
      "bpnnWith1000x1000Hidden_lbfgs_lbfgs_accuracy: 0.75\n",
      "bpnnWith1000x1000Hidden_lbfgs_time: 613.7555248737335\n",
      "bpnnWith1000x1000Hidden_lbfgs_predicted (1.0, 0.0)\n",
      "\n",
      "\n"
     ]
    }
   ],
   "source": [
    "print(f\"\"\"\n",
    "bpnnClassifier_sgd_accuracy: {bpnnClassifier_sgd_accuracy}    \n",
    "bpnnClassifier_sgd_time: {bpnnClassifier_sgd_time}\n",
    "bpnnClassifier_sgd_predicted {calculatePredictedVsActual(bpnnClassifier_sgd_predicted, ytest)}\n",
    "\n",
    "bpnnWith1000Hidden_sgd_accuracy: {bpnnWith1000Hidden_sgd_accuracy}\n",
    "bpnnWith1000Hidden_sgd_time: {bpnnWith1000Hidden_sgd_time}\n",
    "bpnnWith1000Hidden__sgd_predicted {calculatePredictedVsActual(bpnnWith1000Hidden_sgd_predicted, ytest)}\n",
    "\n",
    "\n",
    "bpnnWith1000x1000Hidden_sgd_accuracy: {bpnnWith1000x1000Hidden_sgd_accuracy}\n",
    "bpnnWith1000x1000Hidden_sgd_time: {bpnnWith1000x1000Hidden_sgd_time}\n",
    "bpnnWith1000x1000Hidden_sgd_predicted: {calculatePredictedVsActual(bpnnWith1000x1000Hidden_sgd_predicted, ytest)}\n",
    "\n",
    "\n",
    "\n",
    "bpnnClassifier_lbfgs_accuracy: {bpnnClassifier_lbfgs_accuracy}\n",
    "bpnnClassifier_lbfgs_time: {bpnnClassifier_lbfgs_time}\n",
    "bpnnClassifier_lbfgs_predicted {calculatePredictedVsActual(bpnnClassifier_lbfgs_predicted, ytest)}\n",
    "\n",
    "bpnnWith1000Hidden_lbfgs_accuracy: {bpnnWith1000Hidden_lbfgs_accuracy}\n",
    "bpnnWith1000Hidden_lbfgs_time: {bpnnWith1000Hidden_lbfgs_time}\n",
    "bpnnWith1000Hidden_lbfgs_predicted {calculatePredictedVsActual(bpnnWith1000Hidden_lbfgs_predicted, ytest)}\n",
    "\n",
    "\n",
    "bpnnWith1000x1000Hidden_lbfgs_lbfgs_accuracy: {bpnnWith1000x1000Hidden_lbfgs_lbfgs_accuracy}\n",
    "bpnnWith1000x1000Hidden_lbfgs_time: {bpnnWith1000x1000Hidden_lbfgs_time}\n",
    "bpnnWith1000x1000Hidden_lbfgs_predicted {calculatePredictedVsActual(bpnnWith1000x1000Hidden_lbfgs_predicted, ytest)}\n",
    "\n",
    "\"\"\")"
   ]
  },
  {
   "cell_type": "markdown",
   "metadata": {},
   "source": [
    "### PCA + BPNN Implementation / Experimentation"
   ]
  },
  {
   "cell_type": "code",
   "execution_count": 94,
   "metadata": {},
   "outputs": [],
   "source": [
    "def plotPCABpnn(Xtrain, Xtest, ytrain, ytest, model):\n",
    "    numComponentsList = [5, 10, 40, 50,75, 100, 250, 500, 850, 1000,  2000 ]\n",
    "\n",
    "    accuracyList = np.zeros(len(numComponentsList))\n",
    "    runTimeList = np.zeros(len(numComponentsList))\n",
    "    explainedList = np.zeros(len(numComponentsList))\n",
    "    kfoldsList = np.zeros(len(numComponentsList))\n",
    "    \n",
    "    for i in np.arange(len(numComponentsList)): \n",
    "        pca = PCA(n_components=numComponentsList[i])\n",
    "        pca.fit(Xtrain)\n",
    "        pca_Xtrain= pca.transform(Xtrain)\n",
    "        pca_Xtest = pca.transform(Xtest)\n",
    "        explained=np.sum(pca.explained_variance_ratio_)\n",
    "        print(explained)\n",
    "        (pcaBPNNAccuracy, pcaBPNNRuntime, pcaPredicted) = runBPNNandTime(model, pca_Xtrain, ytrain, pca_Xtest, ytest)\n",
    "        kfoldAcc = doKFoldCrossValidationBPNN(pca_Xtrain, ytrain, pca_Xtest, ytest, runBPNNandTime, model)\n",
    "\n",
    "\n",
    "        accuracyList[i] = pcaBPNNAccuracy\n",
    "        runTimeList[i] = pcaBPNNRuntime\n",
    "        explainedList[i] = explained\n",
    "        kfoldsList[i] = kfoldAcc\n",
    "        print(f\"\"\" \n",
    "            PCA Components {numComponentsList[i]}\n",
    "            pcaRandomForestAccuracy {pcaBPNNAccuracy}\n",
    "            pcaRandomForestRunTime {pcaBPNNRuntime}\n",
    "            kfoldAcc       {kfoldAcc}\n",
    "            explained      {explained}\n",
    "        \n",
    "        \"\"\")\n",
    "    fig, ax1= plt.subplots()\n",
    "\n",
    "    color = 'tab:red'\n",
    "    ax1.set_xlabel('Principal Components')\n",
    "    ax1.set_ylabel('Accuracy', color=color)\n",
    "    ax1.plot(numComponentsList, accuracyList, color, label='Accuracy')\n",
    "    ax1.plot(numComponentsList, kfoldsList, color='green', label='kFolds Accuracy')\n",
    "    ax1.tick_params(axis='y', labelcolor=color)\n",
    "    \n",
    "    color = 'tab:blue'\n",
    "    ax2 = ax1.twinx()\n",
    "    ax2.set_ylabel('Time', color=color)\n",
    "    ax2.plot(numComponentsList, runTimeList, color=color, label='Run Time')\n",
    "    ax2.tick_params(axis='y', labelcolor=color)\n",
    "    \n",
    "    plt.show()\n",
    "    \n",
    "    \n",
    "    return (accuracyList, runTimeList, explainedList, kfoldsList)"
   ]
  },
  {
   "cell_type": "code",
   "execution_count": 95,
   "metadata": {},
   "outputs": [
    {
     "name": "stdout",
     "output_type": "stream",
     "text": [
      "0.6123770720379262\n",
      "Accuracy from each fold =  [0.5470588235294118, 0.8088235294117647, 0.8117647058823529, 0.7735294117647059, 0.75, 0.7558823529411764, 0.7617647058823529, 0.7529411764705882, 0.7147058823529412, 0.7823529411764706]\n",
      "Average Accuracy = 0.7458823529411764\n",
      " \n",
      "            PCA Components 5\n",
      "            pcaRandomForestAccuracy 0.7516666666666667\n",
      "            pcaRandomForestRunTime 0.6422772407531738\n",
      "            kfoldAcc       0.7458823529411764\n",
      "            explained      0.6123770720379262\n",
      "        \n",
      "        \n",
      "0.6962138577806515\n",
      "Accuracy from each fold =  [0.7852941176470588, 0.8205882352941176, 0.8352941176470589, 0.85, 0.8088235294117647, 0.8029411764705883, 0.75, 0.7911764705882353, 0.5617647058823529, 0.7941176470588235]\n",
      "Average Accuracy = 0.78\n",
      " \n",
      "            PCA Components 10\n",
      "            pcaRandomForestAccuracy 0.8516666666666667\n",
      "            pcaRandomForestRunTime 0.45040392875671387\n",
      "            kfoldAcc       0.78\n",
      "            explained      0.6962138577806515\n",
      "        \n",
      "        \n",
      "0.8288144453346848\n",
      "Accuracy from each fold =  [0.9205882352941176, 0.9058823529411765, 0.9, 0.8970588235294118, 0.8647058823529412, 0.8323529411764706, 0.888235294117647, 0.9588235294117647, 0.8264705882352941, 0.8970588235294118]\n",
      "Average Accuracy = 0.8891176470588235\n",
      " \n",
      "            PCA Components 40\n",
      "            pcaRandomForestAccuracy 0.9033333333333333\n",
      "            pcaRandomForestRunTime 1.282663106918335\n",
      "            kfoldAcc       0.8891176470588235\n",
      "            explained      0.8288144453346848\n",
      "        \n",
      "        \n",
      "0.8469259269956442\n",
      "Accuracy from each fold =  [0.9676470588235294, 0.8911764705882353, 0.9441176470588235, 0.9088235294117647, 0.961764705882353, 0.9294117647058824, 0.9147058823529411, 0.9441176470588235, 0.7911764705882353, 0.9205882352941176]\n",
      "Average Accuracy = 0.9173529411764706\n",
      " \n",
      "            PCA Components 50\n",
      "            pcaRandomForestAccuracy 0.945\n",
      "            pcaRandomForestRunTime 1.3053338527679443\n",
      "            kfoldAcc       0.9173529411764706\n",
      "            explained      0.8469259269956442\n",
      "        \n",
      "        \n",
      "0.8777116150208004\n",
      "Accuracy from each fold =  [0.9411764705882353, 0.9529411764705882, 0.9705882352941176, 0.9735294117647059, 0.9705882352941176, 0.8647058823529412, 0.9588235294117647, 0.9411764705882353, 0.9647058823529412, 0.8852941176470588]\n",
      "Average Accuracy = 0.9423529411764706\n",
      " \n",
      "            PCA Components 75\n",
      "            pcaRandomForestAccuracy 0.9466666666666667\n",
      "            pcaRandomForestRunTime 2.1390998363494873\n",
      "            kfoldAcc       0.9423529411764706\n",
      "            explained      0.8777116150208004\n",
      "        \n",
      "        \n",
      "0.8973786424947977\n",
      "Accuracy from each fold =  [0.961764705882353, 0.8382352941176471, 0.95, 0.8794117647058823, 0.9411764705882353, 0.85, 0.9647058823529412, 0.8411764705882353, 0.8794117647058823, 0.95]\n",
      "Average Accuracy = 0.9055882352941176\n",
      " \n",
      "            PCA Components 100\n",
      "            pcaRandomForestAccuracy 0.9533333333333334\n",
      "            pcaRandomForestRunTime 1.3832838535308838\n",
      "            kfoldAcc       0.9055882352941176\n",
      "            explained      0.8973786424947977\n",
      "        \n",
      "        \n",
      "0.9507431814084933\n",
      "Accuracy from each fold =  [0.961764705882353, 0.9352941176470588, 0.9647058823529412, 0.9470588235294117, 0.9647058823529412, 0.9294117647058824, 0.9470588235294117, 0.9470588235294117, 0.9705882352941176, 0.9264705882352942]\n",
      "Average Accuracy = 0.9494117647058824\n",
      " \n",
      "            PCA Components 250\n",
      "            pcaRandomForestAccuracy 0.925\n",
      "            pcaRandomForestRunTime 0.8314721584320068\n",
      "            kfoldAcc       0.9494117647058824\n",
      "            explained      0.9507431814084933\n",
      "        \n",
      "        \n",
      "0.9782060663495542\n",
      "Accuracy from each fold =  [0.9558823529411765, 0.9411764705882353, 0.8764705882352941, 0.9470588235294117, 0.9382352941176471, 0.9529411764705882, 0.9558823529411765, 0.9470588235294117, 0.9470588235294117, 0.9411764705882353]\n",
      "Average Accuracy = 0.940294117647059\n",
      " \n",
      "            PCA Components 500\n",
      "            pcaRandomForestAccuracy 0.9516666666666667\n",
      "            pcaRandomForestRunTime 6.021695852279663\n",
      "            kfoldAcc       0.940294117647059\n",
      "            explained      0.9782060663495542\n",
      "        \n",
      "        \n",
      "0.990185975997625\n",
      "Accuracy from each fold =  [0.9470588235294117, 0.9411764705882353, 0.9588235294117647, 0.9352941176470588, 0.9676470588235294, 0.9294117647058824, 0.9529411764705882, 0.9382352941176471, 0.95, 0.9441176470588235]\n",
      "Average Accuracy = 0.9464705882352942\n",
      " \n",
      "            PCA Components 850\n",
      "            pcaRandomForestAccuracy 0.9533333333333334\n",
      "            pcaRandomForestRunTime 4.881181240081787\n",
      "            kfoldAcc       0.9464705882352942\n",
      "            explained      0.990185975997625\n",
      "        \n",
      "        \n",
      "0.9925690821774533\n",
      "Accuracy from each fold =  [0.95, 0.9382352941176471, 0.9323529411764706, 0.9352941176470588, 0.9705882352941176, 0.9441176470588235, 0.7411764705882353, 0.9264705882352942, 0.9588235294117647, 0.9235294117647059]\n",
      "Average Accuracy = 0.9220588235294118\n",
      " \n",
      "            PCA Components 1000\n",
      "            pcaRandomForestAccuracy 0.96\n",
      "            pcaRandomForestRunTime 6.854534149169922\n",
      "            kfoldAcc       0.9220588235294118\n",
      "            explained      0.9925690821774533\n",
      "        \n",
      "        \n",
      "0.9985680662303016\n",
      "Accuracy from each fold =  [0.95, 0.9529411764705882, 0.9382352941176471, 0.9529411764705882, 0.9529411764705882, 0.961764705882353, 0.8911764705882353, 0.9470588235294117, 0.9735294117647059, 0.9441176470588235]\n",
      "Average Accuracy = 0.9464705882352942\n",
      " \n",
      "            PCA Components 2000\n",
      "            pcaRandomForestAccuracy 0.9433333333333334\n",
      "            pcaRandomForestRunTime 28.475275993347168\n",
      "            kfoldAcc       0.9464705882352942\n",
      "            explained      0.9985680662303016\n",
      "        \n",
      "        \n"
     ]
    },
    {
     "data": {
      "image/png": "[encoded data removed]",
      "text/plain": [
       "<Figure size 432x288 with 2 Axes>"
      ]
     },
     "metadata": {
      "needs_background": "light"
     },
     "output_type": "display_data"
    }
   ],
   "source": [
    "pcaValuesSGD = plotPCABpnn(xTrain, Xtest, yTrain, ytest, bpnnClassifier_sgd)\n"
   ]
  },
  {
   "cell_type": "code",
   "execution_count": 99,
   "metadata": {},
   "outputs": [
    {
     "name": "stdout",
     "output_type": "stream",
     "text": [
      "0.6123770719655677\n"
     ]
    },
    {
     "name": "stderr",
     "output_type": "stream",
     "text": [
      "/Users/matthewlane/opt/anaconda3/envs/testEnv/lib/python3.8/site-packages/sklearn/neural_network/_multilayer_perceptron.py:471: ConvergenceWarning: lbfgs failed to converge (status=2):\n",
      "ABNORMAL_TERMINATION_IN_LNSRCH.\n",
      "\n",
      "Increase the number of iterations (max_iter) or scale the data as shown in:\n",
      "    https://scikit-learn.org/stable/modules/preprocessing.html\n",
      "  self.n_iter_ = _check_optimize_result(\"lbfgs\", opt_res, self.max_iter)\n",
      "/Users/matthewlane/opt/anaconda3/envs/testEnv/lib/python3.8/site-packages/sklearn/neural_network/_multilayer_perceptron.py:471: ConvergenceWarning: lbfgs failed to converge (status=1):\n",
      "STOP: TOTAL NO. of ITERATIONS REACHED LIMIT.\n",
      "\n",
      "Increase the number of iterations (max_iter) or scale the data as shown in:\n",
      "    https://scikit-learn.org/stable/modules/preprocessing.html\n",
      "  self.n_iter_ = _check_optimize_result(\"lbfgs\", opt_res, self.max_iter)\n",
      "/Users/matthewlane/opt/anaconda3/envs/testEnv/lib/python3.8/site-packages/sklearn/neural_network/_multilayer_perceptron.py:471: ConvergenceWarning: lbfgs failed to converge (status=1):\n",
      "STOP: TOTAL NO. of ITERATIONS REACHED LIMIT.\n",
      "\n",
      "Increase the number of iterations (max_iter) or scale the data as shown in:\n",
      "    https://scikit-learn.org/stable/modules/preprocessing.html\n",
      "  self.n_iter_ = _check_optimize_result(\"lbfgs\", opt_res, self.max_iter)\n",
      "/Users/matthewlane/opt/anaconda3/envs/testEnv/lib/python3.8/site-packages/sklearn/neural_network/_multilayer_perceptron.py:471: ConvergenceWarning: lbfgs failed to converge (status=1):\n",
      "STOP: TOTAL NO. of ITERATIONS REACHED LIMIT.\n",
      "\n",
      "Increase the number of iterations (max_iter) or scale the data as shown in:\n",
      "    https://scikit-learn.org/stable/modules/preprocessing.html\n",
      "  self.n_iter_ = _check_optimize_result(\"lbfgs\", opt_res, self.max_iter)\n",
      "/Users/matthewlane/opt/anaconda3/envs/testEnv/lib/python3.8/site-packages/sklearn/neural_network/_multilayer_perceptron.py:471: ConvergenceWarning: lbfgs failed to converge (status=1):\n",
      "STOP: TOTAL NO. of ITERATIONS REACHED LIMIT.\n",
      "\n",
      "Increase the number of iterations (max_iter) or scale the data as shown in:\n",
      "    https://scikit-learn.org/stable/modules/preprocessing.html\n",
      "  self.n_iter_ = _check_optimize_result(\"lbfgs\", opt_res, self.max_iter)\n",
      "/Users/matthewlane/opt/anaconda3/envs/testEnv/lib/python3.8/site-packages/sklearn/neural_network/_multilayer_perceptron.py:471: ConvergenceWarning: lbfgs failed to converge (status=2):\n",
      "ABNORMAL_TERMINATION_IN_LNSRCH.\n",
      "\n",
      "Increase the number of iterations (max_iter) or scale the data as shown in:\n",
      "    https://scikit-learn.org/stable/modules/preprocessing.html\n",
      "  self.n_iter_ = _check_optimize_result(\"lbfgs\", opt_res, self.max_iter)\n",
      "/Users/matthewlane/opt/anaconda3/envs/testEnv/lib/python3.8/site-packages/sklearn/neural_network/_multilayer_perceptron.py:471: ConvergenceWarning: lbfgs failed to converge (status=1):\n",
      "STOP: TOTAL NO. of ITERATIONS REACHED LIMIT.\n",
      "\n",
      "Increase the number of iterations (max_iter) or scale the data as shown in:\n",
      "    https://scikit-learn.org/stable/modules/preprocessing.html\n",
      "  self.n_iter_ = _check_optimize_result(\"lbfgs\", opt_res, self.max_iter)\n",
      "/Users/matthewlane/opt/anaconda3/envs/testEnv/lib/python3.8/site-packages/sklearn/neural_network/_multilayer_perceptron.py:471: ConvergenceWarning: lbfgs failed to converge (status=1):\n",
      "STOP: TOTAL NO. of ITERATIONS REACHED LIMIT.\n",
      "\n",
      "Increase the number of iterations (max_iter) or scale the data as shown in:\n",
      "    https://scikit-learn.org/stable/modules/preprocessing.html\n",
      "  self.n_iter_ = _check_optimize_result(\"lbfgs\", opt_res, self.max_iter)\n",
      "/Users/matthewlane/opt/anaconda3/envs/testEnv/lib/python3.8/site-packages/sklearn/neural_network/_multilayer_perceptron.py:471: ConvergenceWarning: lbfgs failed to converge (status=1):\n",
      "STOP: TOTAL NO. of ITERATIONS REACHED LIMIT.\n",
      "\n",
      "Increase the number of iterations (max_iter) or scale the data as shown in:\n",
      "    https://scikit-learn.org/stable/modules/preprocessing.html\n",
      "  self.n_iter_ = _check_optimize_result(\"lbfgs\", opt_res, self.max_iter)\n"
     ]
    },
    {
     "name": "stdout",
     "output_type": "stream",
     "text": [
      "Accuracy from each fold =  [0.8147058823529412, 0.8647058823529412, 0.8764705882352941, 0.8911764705882353, 0.8411764705882353, 0.8117647058823529, 0.8558823529411764, 0.8676470588235294, 0.8382352941176471, 0.8205882352941176]\n",
      "Average Accuracy = 0.8482352941176469\n",
      " \n",
      "            PCA Components 5\n",
      "            pcaRandomForestAccuracy 0.795\n",
      "            pcaRandomForestRunTime 1.357267141342163\n",
      "            kfoldAcc       0.8482352941176469\n",
      "            explained      0.6123770719655677\n",
      "        \n",
      "        \n",
      "0.6962141583191142\n"
     ]
    },
    {
     "name": "stderr",
     "output_type": "stream",
     "text": [
      "/Users/matthewlane/opt/anaconda3/envs/testEnv/lib/python3.8/site-packages/sklearn/neural_network/_multilayer_perceptron.py:471: ConvergenceWarning: lbfgs failed to converge (status=1):\n",
      "STOP: TOTAL NO. of ITERATIONS REACHED LIMIT.\n",
      "\n",
      "Increase the number of iterations (max_iter) or scale the data as shown in:\n",
      "    https://scikit-learn.org/stable/modules/preprocessing.html\n",
      "  self.n_iter_ = _check_optimize_result(\"lbfgs\", opt_res, self.max_iter)\n",
      "/Users/matthewlane/opt/anaconda3/envs/testEnv/lib/python3.8/site-packages/sklearn/neural_network/_multilayer_perceptron.py:471: ConvergenceWarning: lbfgs failed to converge (status=1):\n",
      "STOP: TOTAL NO. of ITERATIONS REACHED LIMIT.\n",
      "\n",
      "Increase the number of iterations (max_iter) or scale the data as shown in:\n",
      "    https://scikit-learn.org/stable/modules/preprocessing.html\n",
      "  self.n_iter_ = _check_optimize_result(\"lbfgs\", opt_res, self.max_iter)\n",
      "/Users/matthewlane/opt/anaconda3/envs/testEnv/lib/python3.8/site-packages/sklearn/neural_network/_multilayer_perceptron.py:471: ConvergenceWarning: lbfgs failed to converge (status=2):\n",
      "ABNORMAL_TERMINATION_IN_LNSRCH.\n",
      "\n",
      "Increase the number of iterations (max_iter) or scale the data as shown in:\n",
      "    https://scikit-learn.org/stable/modules/preprocessing.html\n",
      "  self.n_iter_ = _check_optimize_result(\"lbfgs\", opt_res, self.max_iter)\n",
      "/Users/matthewlane/opt/anaconda3/envs/testEnv/lib/python3.8/site-packages/sklearn/neural_network/_multilayer_perceptron.py:471: ConvergenceWarning: lbfgs failed to converge (status=2):\n",
      "ABNORMAL_TERMINATION_IN_LNSRCH.\n",
      "\n",
      "Increase the number of iterations (max_iter) or scale the data as shown in:\n",
      "    https://scikit-learn.org/stable/modules/preprocessing.html\n",
      "  self.n_iter_ = _check_optimize_result(\"lbfgs\", opt_res, self.max_iter)\n",
      "/Users/matthewlane/opt/anaconda3/envs/testEnv/lib/python3.8/site-packages/sklearn/neural_network/_multilayer_perceptron.py:471: ConvergenceWarning: lbfgs failed to converge (status=1):\n",
      "STOP: TOTAL NO. of ITERATIONS REACHED LIMIT.\n",
      "\n",
      "Increase the number of iterations (max_iter) or scale the data as shown in:\n",
      "    https://scikit-learn.org/stable/modules/preprocessing.html\n",
      "  self.n_iter_ = _check_optimize_result(\"lbfgs\", opt_res, self.max_iter)\n",
      "/Users/matthewlane/opt/anaconda3/envs/testEnv/lib/python3.8/site-packages/sklearn/neural_network/_multilayer_perceptron.py:471: ConvergenceWarning: lbfgs failed to converge (status=1):\n",
      "STOP: TOTAL NO. of ITERATIONS REACHED LIMIT.\n",
      "\n",
      "Increase the number of iterations (max_iter) or scale the data as shown in:\n",
      "    https://scikit-learn.org/stable/modules/preprocessing.html\n",
      "  self.n_iter_ = _check_optimize_result(\"lbfgs\", opt_res, self.max_iter)\n",
      "/Users/matthewlane/opt/anaconda3/envs/testEnv/lib/python3.8/site-packages/sklearn/neural_network/_multilayer_perceptron.py:471: ConvergenceWarning: lbfgs failed to converge (status=1):\n",
      "STOP: TOTAL NO. of ITERATIONS REACHED LIMIT.\n",
      "\n",
      "Increase the number of iterations (max_iter) or scale the data as shown in:\n",
      "    https://scikit-learn.org/stable/modules/preprocessing.html\n",
      "  self.n_iter_ = _check_optimize_result(\"lbfgs\", opt_res, self.max_iter)\n",
      "/Users/matthewlane/opt/anaconda3/envs/testEnv/lib/python3.8/site-packages/sklearn/neural_network/_multilayer_perceptron.py:471: ConvergenceWarning: lbfgs failed to converge (status=1):\n",
      "STOP: TOTAL NO. of ITERATIONS REACHED LIMIT.\n",
      "\n",
      "Increase the number of iterations (max_iter) or scale the data as shown in:\n",
      "    https://scikit-learn.org/stable/modules/preprocessing.html\n",
      "  self.n_iter_ = _check_optimize_result(\"lbfgs\", opt_res, self.max_iter)\n",
      "/Users/matthewlane/opt/anaconda3/envs/testEnv/lib/python3.8/site-packages/sklearn/neural_network/_multilayer_perceptron.py:471: ConvergenceWarning: lbfgs failed to converge (status=2):\n",
      "ABNORMAL_TERMINATION_IN_LNSRCH.\n",
      "\n",
      "Increase the number of iterations (max_iter) or scale the data as shown in:\n",
      "    https://scikit-learn.org/stable/modules/preprocessing.html\n",
      "  self.n_iter_ = _check_optimize_result(\"lbfgs\", opt_res, self.max_iter)\n",
      "/Users/matthewlane/opt/anaconda3/envs/testEnv/lib/python3.8/site-packages/sklearn/neural_network/_multilayer_perceptron.py:471: ConvergenceWarning: lbfgs failed to converge (status=1):\n",
      "STOP: TOTAL NO. of ITERATIONS REACHED LIMIT.\n",
      "\n",
      "Increase the number of iterations (max_iter) or scale the data as shown in:\n",
      "    https://scikit-learn.org/stable/modules/preprocessing.html\n",
      "  self.n_iter_ = _check_optimize_result(\"lbfgs\", opt_res, self.max_iter)\n"
     ]
    },
    {
     "name": "stdout",
     "output_type": "stream",
     "text": [
      "Accuracy from each fold =  [0.9058823529411765, 0.8205882352941176, 0.8470588235294118, 0.9441176470588235, 0.8088235294117647, 0.9352941176470588, 0.95, 0.9264705882352942, 0.6852941176470588, 0.9147058823529411]\n",
      "Average Accuracy = 0.8738235294117647\n",
      " \n",
      "            PCA Components 10\n",
      "            pcaRandomForestAccuracy 0.9216666666666666\n",
      "            pcaRandomForestRunTime 2.5542759895324707\n",
      "            kfoldAcc       0.8738235294117647\n",
      "            explained      0.6962141583191142\n",
      "        \n",
      "        \n",
      "0.8288717091312239\n"
     ]
    },
    {
     "name": "stderr",
     "output_type": "stream",
     "text": [
      "/Users/matthewlane/opt/anaconda3/envs/testEnv/lib/python3.8/site-packages/sklearn/neural_network/_multilayer_perceptron.py:471: ConvergenceWarning: lbfgs failed to converge (status=2):\n",
      "ABNORMAL_TERMINATION_IN_LNSRCH.\n",
      "\n",
      "Increase the number of iterations (max_iter) or scale the data as shown in:\n",
      "    https://scikit-learn.org/stable/modules/preprocessing.html\n",
      "  self.n_iter_ = _check_optimize_result(\"lbfgs\", opt_res, self.max_iter)\n"
     ]
    },
    {
     "name": "stdout",
     "output_type": "stream",
     "text": [
      "Accuracy from each fold =  [0.95, 0.9735294117647059, 0.9529411764705882, 0.9735294117647059, 0.9529411764705882, 0.9470588235294117, 0.95, 0.9647058823529412, 0.961764705882353, 0.7294117647058823]\n",
      "Average Accuracy = 0.9355882352941176\n",
      " \n",
      "            PCA Components 40\n",
      "            pcaRandomForestAccuracy 0.9483333333333334\n",
      "            pcaRandomForestRunTime 1.9216020107269287\n",
      "            kfoldAcc       0.9355882352941176\n",
      "            explained      0.8288717091312239\n",
      "        \n",
      "        \n",
      "0.8469261408453048\n"
     ]
    },
    {
     "name": "stderr",
     "output_type": "stream",
     "text": [
      "/Users/matthewlane/opt/anaconda3/envs/testEnv/lib/python3.8/site-packages/sklearn/neural_network/_multilayer_perceptron.py:471: ConvergenceWarning: lbfgs failed to converge (status=2):\n",
      "ABNORMAL_TERMINATION_IN_LNSRCH.\n",
      "\n",
      "Increase the number of iterations (max_iter) or scale the data as shown in:\n",
      "    https://scikit-learn.org/stable/modules/preprocessing.html\n",
      "  self.n_iter_ = _check_optimize_result(\"lbfgs\", opt_res, self.max_iter)\n",
      "/Users/matthewlane/opt/anaconda3/envs/testEnv/lib/python3.8/site-packages/sklearn/neural_network/_multilayer_perceptron.py:471: ConvergenceWarning: lbfgs failed to converge (status=2):\n",
      "ABNORMAL_TERMINATION_IN_LNSRCH.\n",
      "\n",
      "Increase the number of iterations (max_iter) or scale the data as shown in:\n",
      "    https://scikit-learn.org/stable/modules/preprocessing.html\n",
      "  self.n_iter_ = _check_optimize_result(\"lbfgs\", opt_res, self.max_iter)\n"
     ]
    },
    {
     "name": "stdout",
     "output_type": "stream",
     "text": [
      "Accuracy from each fold =  [0.95, 0.9558823529411765, 0.9529411764705882, 0.9411764705882353, 0.9470588235294117, 0.9529411764705882, 0.9558823529411765, 0.9676470588235294, 0.9647058823529412, 0.9529411764705882]\n",
      "Average Accuracy = 0.9541176470588235\n",
      " \n",
      "            PCA Components 50\n",
      "            pcaRandomForestAccuracy 0.9533333333333334\n",
      "            pcaRandomForestRunTime 1.42130708694458\n",
      "            kfoldAcc       0.9541176470588235\n",
      "            explained      0.8469261408453048\n",
      "        \n",
      "        \n",
      "0.8777188826847161\n"
     ]
    },
    {
     "name": "stderr",
     "output_type": "stream",
     "text": [
      "/Users/matthewlane/opt/anaconda3/envs/testEnv/lib/python3.8/site-packages/sklearn/neural_network/_multilayer_perceptron.py:471: ConvergenceWarning: lbfgs failed to converge (status=2):\n",
      "ABNORMAL_TERMINATION_IN_LNSRCH.\n",
      "\n",
      "Increase the number of iterations (max_iter) or scale the data as shown in:\n",
      "    https://scikit-learn.org/stable/modules/preprocessing.html\n",
      "  self.n_iter_ = _check_optimize_result(\"lbfgs\", opt_res, self.max_iter)\n"
     ]
    },
    {
     "name": "stdout",
     "output_type": "stream",
     "text": [
      "Accuracy from each fold =  [0.961764705882353, 0.9647058823529412, 0.9647058823529412, 0.9647058823529412, 0.8441176470588235, 0.9470588235294117, 0.9588235294117647, 0.9470588235294117, 0.9676470588235294, 0.9529411764705882]\n",
      "Average Accuracy = 0.9473529411764707\n",
      " \n",
      "            PCA Components 75\n",
      "            pcaRandomForestAccuracy 0.965\n",
      "            pcaRandomForestRunTime 2.004201889038086\n",
      "            kfoldAcc       0.9473529411764707\n",
      "            explained      0.8777188826847161\n",
      "        \n",
      "        \n",
      "0.8973785107689703\n"
     ]
    },
    {
     "name": "stderr",
     "output_type": "stream",
     "text": [
      "/Users/matthewlane/opt/anaconda3/envs/testEnv/lib/python3.8/site-packages/sklearn/neural_network/_multilayer_perceptron.py:471: ConvergenceWarning: lbfgs failed to converge (status=2):\n",
      "ABNORMAL_TERMINATION_IN_LNSRCH.\n",
      "\n",
      "Increase the number of iterations (max_iter) or scale the data as shown in:\n",
      "    https://scikit-learn.org/stable/modules/preprocessing.html\n",
      "  self.n_iter_ = _check_optimize_result(\"lbfgs\", opt_res, self.max_iter)\n",
      "/Users/matthewlane/opt/anaconda3/envs/testEnv/lib/python3.8/site-packages/sklearn/neural_network/_multilayer_perceptron.py:471: ConvergenceWarning: lbfgs failed to converge (status=2):\n",
      "ABNORMAL_TERMINATION_IN_LNSRCH.\n",
      "\n",
      "Increase the number of iterations (max_iter) or scale the data as shown in:\n",
      "    https://scikit-learn.org/stable/modules/preprocessing.html\n",
      "  self.n_iter_ = _check_optimize_result(\"lbfgs\", opt_res, self.max_iter)\n"
     ]
    },
    {
     "name": "stdout",
     "output_type": "stream",
     "text": [
      "Accuracy from each fold =  [0.7470588235294118, 0.9441176470588235, 0.9588235294117647, 0.9705882352941176, 0.6529411764705882, 0.95, 0.9647058823529412, 0.9588235294117647, 0.9588235294117647, 0.9764705882352941]\n",
      "Average Accuracy = 0.908235294117647\n",
      " \n",
      "            PCA Components 100\n",
      "            pcaRandomForestAccuracy 0.9616666666666667\n",
      "            pcaRandomForestRunTime 3.0850863456726074\n",
      "            kfoldAcc       0.908235294117647\n",
      "            explained      0.8973785107689703\n",
      "        \n",
      "        \n",
      "0.9507540086948295\n"
     ]
    },
    {
     "name": "stderr",
     "output_type": "stream",
     "text": [
      "/Users/matthewlane/opt/anaconda3/envs/testEnv/lib/python3.8/site-packages/sklearn/neural_network/_multilayer_perceptron.py:471: ConvergenceWarning: lbfgs failed to converge (status=2):\n",
      "ABNORMAL_TERMINATION_IN_LNSRCH.\n",
      "\n",
      "Increase the number of iterations (max_iter) or scale the data as shown in:\n",
      "    https://scikit-learn.org/stable/modules/preprocessing.html\n",
      "  self.n_iter_ = _check_optimize_result(\"lbfgs\", opt_res, self.max_iter)\n",
      "/Users/matthewlane/opt/anaconda3/envs/testEnv/lib/python3.8/site-packages/sklearn/neural_network/_multilayer_perceptron.py:471: ConvergenceWarning: lbfgs failed to converge (status=2):\n",
      "ABNORMAL_TERMINATION_IN_LNSRCH.\n",
      "\n",
      "Increase the number of iterations (max_iter) or scale the data as shown in:\n",
      "    https://scikit-learn.org/stable/modules/preprocessing.html\n",
      "  self.n_iter_ = _check_optimize_result(\"lbfgs\", opt_res, self.max_iter)\n",
      "/Users/matthewlane/opt/anaconda3/envs/testEnv/lib/python3.8/site-packages/sklearn/neural_network/_multilayer_perceptron.py:471: ConvergenceWarning: lbfgs failed to converge (status=2):\n",
      "ABNORMAL_TERMINATION_IN_LNSRCH.\n",
      "\n",
      "Increase the number of iterations (max_iter) or scale the data as shown in:\n",
      "    https://scikit-learn.org/stable/modules/preprocessing.html\n",
      "  self.n_iter_ = _check_optimize_result(\"lbfgs\", opt_res, self.max_iter)\n",
      "/Users/matthewlane/opt/anaconda3/envs/testEnv/lib/python3.8/site-packages/sklearn/neural_network/_multilayer_perceptron.py:471: ConvergenceWarning: lbfgs failed to converge (status=2):\n",
      "ABNORMAL_TERMINATION_IN_LNSRCH.\n",
      "\n",
      "Increase the number of iterations (max_iter) or scale the data as shown in:\n",
      "    https://scikit-learn.org/stable/modules/preprocessing.html\n",
      "  self.n_iter_ = _check_optimize_result(\"lbfgs\", opt_res, self.max_iter)\n"
     ]
    },
    {
     "name": "stdout",
     "output_type": "stream",
     "text": [
      "Accuracy from each fold =  [0.9588235294117647, 0.9558823529411765, 0.9529411764705882, 0.961764705882353, 0.961764705882353, 0.9470588235294117, 0.9588235294117647, 0.9441176470588235, 0.9529411764705882, 0.9529411764705882]\n",
      "Average Accuracy = 0.9547058823529412\n",
      " \n",
      "            PCA Components 250\n",
      "            pcaRandomForestAccuracy 0.7233333333333334\n",
      "            pcaRandomForestRunTime 0.7850320339202881\n",
      "            kfoldAcc       0.9547058823529412\n",
      "            explained      0.9507540086948295\n",
      "        \n",
      "        \n",
      "0.9782160837542779\n",
      "Accuracy from each fold =  [0.961764705882353, 0.961764705882353, 0.9676470588235294, 0.9529411764705882, 0.9382352941176471, 0.9558823529411765, 0.9558823529411765, 0.9588235294117647, 0.95, 0.9647058823529412]\n",
      "Average Accuracy = 0.956764705882353\n",
      " \n",
      "            PCA Components 500\n",
      "            pcaRandomForestAccuracy 0.96\n",
      "            pcaRandomForestRunTime 3.333822011947632\n",
      "            kfoldAcc       0.956764705882353\n",
      "            explained      0.9782160837542779\n",
      "        \n",
      "        \n",
      "0.9901868277769442\n"
     ]
    },
    {
     "name": "stderr",
     "output_type": "stream",
     "text": [
      "/Users/matthewlane/opt/anaconda3/envs/testEnv/lib/python3.8/site-packages/sklearn/neural_network/_multilayer_perceptron.py:471: ConvergenceWarning: lbfgs failed to converge (status=2):\n",
      "ABNORMAL_TERMINATION_IN_LNSRCH.\n",
      "\n",
      "Increase the number of iterations (max_iter) or scale the data as shown in:\n",
      "    https://scikit-learn.org/stable/modules/preprocessing.html\n",
      "  self.n_iter_ = _check_optimize_result(\"lbfgs\", opt_res, self.max_iter)\n"
     ]
    },
    {
     "name": "stdout",
     "output_type": "stream",
     "text": [
      "Accuracy from each fold =  [0.9529411764705882, 0.9470588235294117, 0.95, 0.9470588235294117, 0.961764705882353, 0.95, 0.9558823529411765, 0.9470588235294117, 0.9529411764705882, 0.9529411764705882]\n",
      "Average Accuracy = 0.951764705882353\n",
      " \n",
      "            PCA Components 850\n",
      "            pcaRandomForestAccuracy 0.9616666666666667\n",
      "            pcaRandomForestRunTime 4.470503807067871\n",
      "            kfoldAcc       0.951764705882353\n",
      "            explained      0.9901868277769442\n",
      "        \n",
      "        \n",
      "0.9925689266435085\n"
     ]
    },
    {
     "name": "stderr",
     "output_type": "stream",
     "text": [
      "/Users/matthewlane/opt/anaconda3/envs/testEnv/lib/python3.8/site-packages/sklearn/neural_network/_multilayer_perceptron.py:471: ConvergenceWarning: lbfgs failed to converge (status=2):\n",
      "ABNORMAL_TERMINATION_IN_LNSRCH.\n",
      "\n",
      "Increase the number of iterations (max_iter) or scale the data as shown in:\n",
      "    https://scikit-learn.org/stable/modules/preprocessing.html\n",
      "  self.n_iter_ = _check_optimize_result(\"lbfgs\", opt_res, self.max_iter)\n",
      "/Users/matthewlane/opt/anaconda3/envs/testEnv/lib/python3.8/site-packages/sklearn/neural_network/_multilayer_perceptron.py:471: ConvergenceWarning: lbfgs failed to converge (status=2):\n",
      "ABNORMAL_TERMINATION_IN_LNSRCH.\n",
      "\n",
      "Increase the number of iterations (max_iter) or scale the data as shown in:\n",
      "    https://scikit-learn.org/stable/modules/preprocessing.html\n",
      "  self.n_iter_ = _check_optimize_result(\"lbfgs\", opt_res, self.max_iter)\n",
      "/Users/matthewlane/opt/anaconda3/envs/testEnv/lib/python3.8/site-packages/sklearn/neural_network/_multilayer_perceptron.py:471: ConvergenceWarning: lbfgs failed to converge (status=2):\n",
      "ABNORMAL_TERMINATION_IN_LNSRCH.\n",
      "\n",
      "Increase the number of iterations (max_iter) or scale the data as shown in:\n",
      "    https://scikit-learn.org/stable/modules/preprocessing.html\n",
      "  self.n_iter_ = _check_optimize_result(\"lbfgs\", opt_res, self.max_iter)\n"
     ]
    },
    {
     "name": "stdout",
     "output_type": "stream",
     "text": [
      "Accuracy from each fold =  [0.9588235294117647, 0.9588235294117647, 0.9558823529411765, 0.95, 0.9558823529411765, 0.9470588235294117, 0.9558823529411765, 0.9558823529411765, 0.9647058823529412, 0.9323529411764706]\n",
      "Average Accuracy = 0.9535294117647058\n",
      " \n",
      "            PCA Components 1000\n",
      "            pcaRandomForestAccuracy 0.955\n",
      "            pcaRandomForestRunTime 5.289336204528809\n",
      "            kfoldAcc       0.9535294117647058\n",
      "            explained      0.9925689266435085\n",
      "        \n",
      "        \n",
      "0.998568181314712\n",
      "Accuracy from each fold =  [0.9529411764705882, 0.9588235294117647, 0.9529411764705882, 0.9529411764705882, 0.961764705882353, 0.9558823529411765, 0.9529411764705882, 0.9470588235294117, 0.95, 0.9529411764705882]\n",
      "Average Accuracy = 0.9538235294117647\n",
      " \n",
      "            PCA Components 2000\n",
      "            pcaRandomForestAccuracy 0.9583333333333334\n",
      "            pcaRandomForestRunTime 6.994767904281616\n",
      "            kfoldAcc       0.9538235294117647\n",
      "            explained      0.998568181314712\n",
      "        \n",
      "        \n"
     ]
    },
    {
     "data": {
      "image/png": "[encoded data removed]",
      "text/plain": [
       "<Figure size 432x288 with 2 Axes>"
      ]
     },
     "metadata": {
      "needs_background": "light"
     },
     "output_type": "display_data"
    }
   ],
   "source": [
    "pcaValuesLBFGS = plotPCABpnn(xTrain,Xtest, yTrain, ytest, bpnnClassifier_lbfgs)\n"
   ]
  },
  {
   "cell_type": "code",
   "execution_count": 100,
   "metadata": {},
   "outputs": [
    {
     "name": "stdout",
     "output_type": "stream",
     "text": [
      "0.6123770720196021\n",
      "Accuracy from each fold =  [0.788235294117647, 0.7647058823529411, 0.7588235294117647, 0.8264705882352941, 0.8176470588235294, 0.7647058823529411, 0.8205882352941176, 0.8382352941176471, 0.6235294117647059, 0.7529411764705882]\n",
      "Average Accuracy = 0.7755882352941176\n",
      " \n",
      "            PCA Components 5\n",
      "            pcaRandomForestAccuracy 0.795\n",
      "            pcaRandomForestRunTime 1.0897552967071533\n",
      "            kfoldAcc       0.7755882352941176\n",
      "            explained      0.6123770720196021\n",
      "        \n",
      "        \n",
      "0.6962140668732506\n",
      "Accuracy from each fold =  [0.7705882352941177, 0.7852941176470588, 0.7470588235294118, 0.7823529411764706, 0.7617647058823529, 0.8794117647058823, 0.7294117647058823, 0.8323529411764706, 0.8264705882352941, 0.8117647058823529]\n",
      "Average Accuracy = 0.7926470588235294\n",
      " \n",
      "            PCA Components 10\n",
      "            pcaRandomForestAccuracy 0.815\n",
      "            pcaRandomForestRunTime 1.0618081092834473\n",
      "            kfoldAcc       0.7926470588235294\n",
      "            explained      0.6962140668732506\n",
      "        \n",
      "        \n",
      "0.8288691122678535\n",
      "Accuracy from each fold =  [0.8558823529411764, 0.8794117647058823, 0.9, 0.9147058823529411, 0.6705882352941176, 0.8764705882352941, 0.861764705882353, 0.8647058823529412, 0.8411764705882353, 0.888235294117647]\n",
      "Average Accuracy = 0.8552941176470588\n",
      " \n",
      "            PCA Components 40\n",
      "            pcaRandomForestAccuracy 0.91\n",
      "            pcaRandomForestRunTime 1.1880719661712646\n",
      "            kfoldAcc       0.8552941176470588\n",
      "            explained      0.8288691122678535\n",
      "        \n",
      "        \n",
      "0.8469070131645673\n",
      "Accuracy from each fold =  [0.9205882352941176, 0.8411764705882353, 0.8588235294117647, 0.8529411764705882, 0.9705882352941176, 0.8705882352941177, 0.9470588235294117, 0.9323529411764706, 0.9088235294117647, 0.6235294117647059]\n",
      "Average Accuracy = 0.8726470588235294\n",
      " \n",
      "            PCA Components 50\n",
      "            pcaRandomForestAccuracy 0.9366666666666666\n",
      "            pcaRandomForestRunTime 1.7299082279205322\n",
      "            kfoldAcc       0.8726470588235294\n",
      "            explained      0.8469070131645673\n",
      "        \n",
      "        \n",
      "0.8777348531703324\n",
      "Accuracy from each fold =  [0.8529411764705882, 0.8735294117647059, 0.8911764705882353, 0.9264705882352942, 0.8823529411764706, 0.9705882352941176, 0.9764705882352941, 0.8941176470588236, 0.8705882352941177, 0.8911764705882353]\n",
      "Average Accuracy = 0.9029411764705882\n",
      " \n",
      "            PCA Components 75\n",
      "            pcaRandomForestAccuracy 0.7666666666666667\n",
      "            pcaRandomForestRunTime 1.8013060092926025\n",
      "            kfoldAcc       0.9029411764705882\n",
      "            explained      0.8777348531703324\n",
      "        \n",
      "        \n",
      "0.8973829083232272\n",
      "Accuracy from each fold =  [0.7264705882352941, 0.8911764705882353, 0.8264705882352941, 0.961764705882353, 0.8588235294117647, 0.9676470588235294, 0.6735294117647059, 0.9588235294117647, 0.9647058823529412, 0.8852941176470588]\n",
      "Average Accuracy = 0.8714705882352941\n",
      " \n",
      "            PCA Components 100\n",
      "            pcaRandomForestAccuracy 0.9616666666666667\n",
      "            pcaRandomForestRunTime 7.397869110107422\n",
      "            kfoldAcc       0.8714705882352941\n",
      "            explained      0.8973829083232272\n",
      "        \n",
      "        \n",
      "0.95076790750394\n",
      "Accuracy from each fold =  [0.8470588235294118, 0.9352941176470588, 0.9676470588235294, 0.9735294117647059, 0.888235294117647, 0.9764705882352941, 0.9117647058823529, 0.95, 0.8852941176470588, 0.9382352941176471]\n",
      "Average Accuracy = 0.9273529411764706\n",
      " \n",
      "            PCA Components 250\n",
      "            pcaRandomForestAccuracy 0.9733333333333334\n",
      "            pcaRandomForestRunTime 8.270850896835327\n",
      "            kfoldAcc       0.9273529411764706\n",
      "            explained      0.95076790750394\n",
      "        \n",
      "        \n",
      "0.9782098925068456\n",
      "Accuracy from each fold =  [0.9264705882352942, 0.95, 0.9558823529411765, 0.85, 0.9529411764705882, 0.9, 0.7411764705882353, 0.9735294117647059, 0.9029411764705882, 0.8588235294117647]\n",
      "Average Accuracy = 0.9011764705882355\n",
      " \n",
      "            PCA Components 500\n",
      "            pcaRandomForestAccuracy 0.9683333333333334\n",
      "            pcaRandomForestRunTime 5.844248056411743\n",
      "            kfoldAcc       0.9011764705882355\n",
      "            explained      0.9782098925068456\n",
      "        \n",
      "        \n",
      "0.9901851513541108\n",
      "Accuracy from each fold =  [0.8088235294117647, 0.961764705882353, 0.9588235294117647, 0.9558823529411765, 0.9264705882352942, 0.95, 0.9794117647058823, 0.9647058823529412, 0.8647058823529412, 0.95]\n",
      "Average Accuracy = 0.9320588235294117\n",
      " \n",
      "            PCA Components 850\n",
      "            pcaRandomForestAccuracy 0.95\n",
      "            pcaRandomForestRunTime 9.067827939987183\n",
      "            kfoldAcc       0.9320588235294117\n",
      "            explained      0.9901851513541108\n",
      "        \n",
      "        \n",
      "0.9925702009076043\n",
      "Accuracy from each fold =  [0.7823529411764706, 0.9382352941176471, 0.9205882352941176, 0.9735294117647059, 0.961764705882353, 0.9588235294117647, 0.9705882352941176, 0.9588235294117647, 0.7911764705882353, 0.8970588235294118]\n",
      "Average Accuracy = 0.9152941176470588\n",
      " \n",
      "            PCA Components 1000\n",
      "            pcaRandomForestAccuracy 0.95\n",
      "            pcaRandomForestRunTime 11.458035945892334\n",
      "            kfoldAcc       0.9152941176470588\n",
      "            explained      0.9925702009076043\n",
      "        \n",
      "        \n",
      "0.9985678560351766\n",
      "Accuracy from each fold =  [0.9735294117647059, 0.8588235294117647, 0.8735294117647059, 0.9529411764705882, 0.9382352941176471, 0.9529411764705882, 0.8676470588235294, 0.888235294117647, 0.9735294117647059, 0.7911764705882353]\n",
      "Average Accuracy = 0.9070588235294117\n",
      " \n",
      "            PCA Components 2000\n",
      "            pcaRandomForestAccuracy 0.955\n",
      "            pcaRandomForestRunTime 56.69893407821655\n",
      "            kfoldAcc       0.9070588235294117\n",
      "            explained      0.9985678560351766\n",
      "        \n",
      "        \n"
     ]
    },
    {
     "data": {
      "image/png": "[encoded data removed]",
      "text/plain": [
       "<Figure size 432x288 with 2 Axes>"
      ]
     },
     "metadata": {
      "needs_background": "light"
     },
     "output_type": "display_data"
    }
   ],
   "source": [
    "pcaValues_SGD_1000=plotPCABpnn(xTrain,Xtest, yTrain, ytest, bpnnWith1000Hidden_sgd)\n"
   ]
  },
  {
   "cell_type": "code",
   "execution_count": 101,
   "metadata": {},
   "outputs": [
    {
     "name": "stdout",
     "output_type": "stream",
     "text": [
      "0.6123770720068848\n"
     ]
    },
    {
     "name": "stderr",
     "output_type": "stream",
     "text": [
      "/Users/matthewlane/opt/anaconda3/envs/testEnv/lib/python3.8/site-packages/sklearn/neural_network/_multilayer_perceptron.py:471: ConvergenceWarning: lbfgs failed to converge (status=1):\n",
      "STOP: TOTAL NO. of ITERATIONS REACHED LIMIT.\n",
      "\n",
      "Increase the number of iterations (max_iter) or scale the data as shown in:\n",
      "    https://scikit-learn.org/stable/modules/preprocessing.html\n",
      "  self.n_iter_ = _check_optimize_result(\"lbfgs\", opt_res, self.max_iter)\n",
      "/Users/matthewlane/opt/anaconda3/envs/testEnv/lib/python3.8/site-packages/sklearn/neural_network/_multilayer_perceptron.py:471: ConvergenceWarning: lbfgs failed to converge (status=1):\n",
      "STOP: TOTAL NO. of ITERATIONS REACHED LIMIT.\n",
      "\n",
      "Increase the number of iterations (max_iter) or scale the data as shown in:\n",
      "    https://scikit-learn.org/stable/modules/preprocessing.html\n",
      "  self.n_iter_ = _check_optimize_result(\"lbfgs\", opt_res, self.max_iter)\n",
      "/Users/matthewlane/opt/anaconda3/envs/testEnv/lib/python3.8/site-packages/sklearn/neural_network/_multilayer_perceptron.py:471: ConvergenceWarning: lbfgs failed to converge (status=2):\n",
      "ABNORMAL_TERMINATION_IN_LNSRCH.\n",
      "\n",
      "Increase the number of iterations (max_iter) or scale the data as shown in:\n",
      "    https://scikit-learn.org/stable/modules/preprocessing.html\n",
      "  self.n_iter_ = _check_optimize_result(\"lbfgs\", opt_res, self.max_iter)\n",
      "/Users/matthewlane/opt/anaconda3/envs/testEnv/lib/python3.8/site-packages/sklearn/neural_network/_multilayer_perceptron.py:471: ConvergenceWarning: lbfgs failed to converge (status=1):\n",
      "STOP: TOTAL NO. of ITERATIONS REACHED LIMIT.\n",
      "\n",
      "Increase the number of iterations (max_iter) or scale the data as shown in:\n",
      "    https://scikit-learn.org/stable/modules/preprocessing.html\n",
      "  self.n_iter_ = _check_optimize_result(\"lbfgs\", opt_res, self.max_iter)\n",
      "/Users/matthewlane/opt/anaconda3/envs/testEnv/lib/python3.8/site-packages/sklearn/neural_network/_multilayer_perceptron.py:471: ConvergenceWarning: lbfgs failed to converge (status=1):\n",
      "STOP: TOTAL NO. of ITERATIONS REACHED LIMIT.\n",
      "\n",
      "Increase the number of iterations (max_iter) or scale the data as shown in:\n",
      "    https://scikit-learn.org/stable/modules/preprocessing.html\n",
      "  self.n_iter_ = _check_optimize_result(\"lbfgs\", opt_res, self.max_iter)\n",
      "/Users/matthewlane/opt/anaconda3/envs/testEnv/lib/python3.8/site-packages/sklearn/neural_network/_multilayer_perceptron.py:471: ConvergenceWarning: lbfgs failed to converge (status=2):\n",
      "ABNORMAL_TERMINATION_IN_LNSRCH.\n",
      "\n",
      "Increase the number of iterations (max_iter) or scale the data as shown in:\n",
      "    https://scikit-learn.org/stable/modules/preprocessing.html\n",
      "  self.n_iter_ = _check_optimize_result(\"lbfgs\", opt_res, self.max_iter)\n",
      "/Users/matthewlane/opt/anaconda3/envs/testEnv/lib/python3.8/site-packages/sklearn/neural_network/_multilayer_perceptron.py:471: ConvergenceWarning: lbfgs failed to converge (status=1):\n",
      "STOP: TOTAL NO. of ITERATIONS REACHED LIMIT.\n",
      "\n",
      "Increase the number of iterations (max_iter) or scale the data as shown in:\n",
      "    https://scikit-learn.org/stable/modules/preprocessing.html\n",
      "  self.n_iter_ = _check_optimize_result(\"lbfgs\", opt_res, self.max_iter)\n",
      "/Users/matthewlane/opt/anaconda3/envs/testEnv/lib/python3.8/site-packages/sklearn/neural_network/_multilayer_perceptron.py:471: ConvergenceWarning: lbfgs failed to converge (status=1):\n",
      "STOP: TOTAL NO. of ITERATIONS REACHED LIMIT.\n",
      "\n",
      "Increase the number of iterations (max_iter) or scale the data as shown in:\n",
      "    https://scikit-learn.org/stable/modules/preprocessing.html\n",
      "  self.n_iter_ = _check_optimize_result(\"lbfgs\", opt_res, self.max_iter)\n",
      "/Users/matthewlane/opt/anaconda3/envs/testEnv/lib/python3.8/site-packages/sklearn/neural_network/_multilayer_perceptron.py:471: ConvergenceWarning: lbfgs failed to converge (status=1):\n",
      "STOP: TOTAL NO. of ITERATIONS REACHED LIMIT.\n",
      "\n",
      "Increase the number of iterations (max_iter) or scale the data as shown in:\n",
      "    https://scikit-learn.org/stable/modules/preprocessing.html\n",
      "  self.n_iter_ = _check_optimize_result(\"lbfgs\", opt_res, self.max_iter)\n",
      "/Users/matthewlane/opt/anaconda3/envs/testEnv/lib/python3.8/site-packages/sklearn/neural_network/_multilayer_perceptron.py:471: ConvergenceWarning: lbfgs failed to converge (status=2):\n",
      "ABNORMAL_TERMINATION_IN_LNSRCH.\n",
      "\n",
      "Increase the number of iterations (max_iter) or scale the data as shown in:\n",
      "    https://scikit-learn.org/stable/modules/preprocessing.html\n",
      "  self.n_iter_ = _check_optimize_result(\"lbfgs\", opt_res, self.max_iter)\n"
     ]
    },
    {
     "name": "stdout",
     "output_type": "stream",
     "text": [
      "Accuracy from each fold =  [0.9029411764705882, 0.8294117647058824, 0.9147058823529411, 0.8647058823529412, 0.8029411764705883, 0.8235294117647058, 0.9, 0.8911764705882353, 0.8558823529411764, 0.8176470588235294]\n",
      "Average Accuracy = 0.8602941176470589\n",
      " \n",
      "            PCA Components 5\n",
      "            pcaRandomForestAccuracy 0.88\n",
      "            pcaRandomForestRunTime 21.750534057617188\n",
      "            kfoldAcc       0.8602941176470589\n",
      "            explained      0.6123770720068848\n",
      "        \n",
      "        \n",
      "0.6962138835385606\n"
     ]
    },
    {
     "name": "stderr",
     "output_type": "stream",
     "text": [
      "/Users/matthewlane/opt/anaconda3/envs/testEnv/lib/python3.8/site-packages/sklearn/neural_network/_multilayer_perceptron.py:471: ConvergenceWarning: lbfgs failed to converge (status=1):\n",
      "STOP: TOTAL NO. of ITERATIONS REACHED LIMIT.\n",
      "\n",
      "Increase the number of iterations (max_iter) or scale the data as shown in:\n",
      "    https://scikit-learn.org/stable/modules/preprocessing.html\n",
      "  self.n_iter_ = _check_optimize_result(\"lbfgs\", opt_res, self.max_iter)\n",
      "/Users/matthewlane/opt/anaconda3/envs/testEnv/lib/python3.8/site-packages/sklearn/neural_network/_multilayer_perceptron.py:471: ConvergenceWarning: lbfgs failed to converge (status=1):\n",
      "STOP: TOTAL NO. of ITERATIONS REACHED LIMIT.\n",
      "\n",
      "Increase the number of iterations (max_iter) or scale the data as shown in:\n",
      "    https://scikit-learn.org/stable/modules/preprocessing.html\n",
      "  self.n_iter_ = _check_optimize_result(\"lbfgs\", opt_res, self.max_iter)\n",
      "/Users/matthewlane/opt/anaconda3/envs/testEnv/lib/python3.8/site-packages/sklearn/neural_network/_multilayer_perceptron.py:471: ConvergenceWarning: lbfgs failed to converge (status=1):\n",
      "STOP: TOTAL NO. of ITERATIONS REACHED LIMIT.\n",
      "\n",
      "Increase the number of iterations (max_iter) or scale the data as shown in:\n",
      "    https://scikit-learn.org/stable/modules/preprocessing.html\n",
      "  self.n_iter_ = _check_optimize_result(\"lbfgs\", opt_res, self.max_iter)\n",
      "/Users/matthewlane/opt/anaconda3/envs/testEnv/lib/python3.8/site-packages/sklearn/neural_network/_multilayer_perceptron.py:471: ConvergenceWarning: lbfgs failed to converge (status=1):\n",
      "STOP: TOTAL NO. of ITERATIONS REACHED LIMIT.\n",
      "\n",
      "Increase the number of iterations (max_iter) or scale the data as shown in:\n",
      "    https://scikit-learn.org/stable/modules/preprocessing.html\n",
      "  self.n_iter_ = _check_optimize_result(\"lbfgs\", opt_res, self.max_iter)\n",
      "/Users/matthewlane/opt/anaconda3/envs/testEnv/lib/python3.8/site-packages/sklearn/neural_network/_multilayer_perceptron.py:471: ConvergenceWarning: lbfgs failed to converge (status=1):\n",
      "STOP: TOTAL NO. of ITERATIONS REACHED LIMIT.\n",
      "\n",
      "Increase the number of iterations (max_iter) or scale the data as shown in:\n",
      "    https://scikit-learn.org/stable/modules/preprocessing.html\n",
      "  self.n_iter_ = _check_optimize_result(\"lbfgs\", opt_res, self.max_iter)\n",
      "/Users/matthewlane/opt/anaconda3/envs/testEnv/lib/python3.8/site-packages/sklearn/neural_network/_multilayer_perceptron.py:471: ConvergenceWarning: lbfgs failed to converge (status=1):\n",
      "STOP: TOTAL NO. of ITERATIONS REACHED LIMIT.\n",
      "\n",
      "Increase the number of iterations (max_iter) or scale the data as shown in:\n",
      "    https://scikit-learn.org/stable/modules/preprocessing.html\n",
      "  self.n_iter_ = _check_optimize_result(\"lbfgs\", opt_res, self.max_iter)\n",
      "/Users/matthewlane/opt/anaconda3/envs/testEnv/lib/python3.8/site-packages/sklearn/neural_network/_multilayer_perceptron.py:471: ConvergenceWarning: lbfgs failed to converge (status=1):\n",
      "STOP: TOTAL NO. of ITERATIONS REACHED LIMIT.\n",
      "\n",
      "Increase the number of iterations (max_iter) or scale the data as shown in:\n",
      "    https://scikit-learn.org/stable/modules/preprocessing.html\n",
      "  self.n_iter_ = _check_optimize_result(\"lbfgs\", opt_res, self.max_iter)\n",
      "/Users/matthewlane/opt/anaconda3/envs/testEnv/lib/python3.8/site-packages/sklearn/neural_network/_multilayer_perceptron.py:471: ConvergenceWarning: lbfgs failed to converge (status=1):\n",
      "STOP: TOTAL NO. of ITERATIONS REACHED LIMIT.\n",
      "\n",
      "Increase the number of iterations (max_iter) or scale the data as shown in:\n",
      "    https://scikit-learn.org/stable/modules/preprocessing.html\n",
      "  self.n_iter_ = _check_optimize_result(\"lbfgs\", opt_res, self.max_iter)\n",
      "/Users/matthewlane/opt/anaconda3/envs/testEnv/lib/python3.8/site-packages/sklearn/neural_network/_multilayer_perceptron.py:471: ConvergenceWarning: lbfgs failed to converge (status=1):\n",
      "STOP: TOTAL NO. of ITERATIONS REACHED LIMIT.\n",
      "\n",
      "Increase the number of iterations (max_iter) or scale the data as shown in:\n",
      "    https://scikit-learn.org/stable/modules/preprocessing.html\n",
      "  self.n_iter_ = _check_optimize_result(\"lbfgs\", opt_res, self.max_iter)\n",
      "/Users/matthewlane/opt/anaconda3/envs/testEnv/lib/python3.8/site-packages/sklearn/neural_network/_multilayer_perceptron.py:471: ConvergenceWarning: lbfgs failed to converge (status=1):\n",
      "STOP: TOTAL NO. of ITERATIONS REACHED LIMIT.\n",
      "\n",
      "Increase the number of iterations (max_iter) or scale the data as shown in:\n",
      "    https://scikit-learn.org/stable/modules/preprocessing.html\n",
      "  self.n_iter_ = _check_optimize_result(\"lbfgs\", opt_res, self.max_iter)\n",
      "/Users/matthewlane/opt/anaconda3/envs/testEnv/lib/python3.8/site-packages/sklearn/neural_network/_multilayer_perceptron.py:471: ConvergenceWarning: lbfgs failed to converge (status=1):\n",
      "STOP: TOTAL NO. of ITERATIONS REACHED LIMIT.\n",
      "\n",
      "Increase the number of iterations (max_iter) or scale the data as shown in:\n",
      "    https://scikit-learn.org/stable/modules/preprocessing.html\n",
      "  self.n_iter_ = _check_optimize_result(\"lbfgs\", opt_res, self.max_iter)\n"
     ]
    },
    {
     "name": "stdout",
     "output_type": "stream",
     "text": [
      "Accuracy from each fold =  [0.9470588235294117, 0.9352941176470588, 0.9647058823529412, 0.9529411764705882, 0.9323529411764706, 0.9441176470588235, 0.9470588235294117, 0.9529411764705882, 0.9470588235294117, 0.9558823529411765]\n",
      "Average Accuracy = 0.9479411764705882\n",
      " \n",
      "            PCA Components 10\n",
      "            pcaRandomForestAccuracy 0.9466666666666667\n",
      "            pcaRandomForestRunTime 25.341421842575073\n",
      "            kfoldAcc       0.9479411764705882\n",
      "            explained      0.6962138835385606\n",
      "        \n",
      "        \n",
      "0.8288671545520405\n",
      "Accuracy from each fold =  [0.9647058823529412, 0.9647058823529412, 0.9676470588235294, 0.961764705882353, 0.9705882352941176, 0.9470588235294117, 0.9558823529411765, 0.9647058823529412, 0.9705882352941176, 0.9588235294117647]\n",
      "Average Accuracy = 0.9626470588235294\n",
      " \n",
      "            PCA Components 40\n",
      "            pcaRandomForestAccuracy 0.9666666666666667\n",
      "            pcaRandomForestRunTime 10.667674779891968\n",
      "            kfoldAcc       0.9626470588235294\n",
      "            explained      0.8288671545520405\n",
      "        \n",
      "        \n",
      "0.8468850431740925\n"
     ]
    },
    {
     "name": "stderr",
     "output_type": "stream",
     "text": [
      "/Users/matthewlane/opt/anaconda3/envs/testEnv/lib/python3.8/site-packages/sklearn/neural_network/_multilayer_perceptron.py:471: ConvergenceWarning: lbfgs failed to converge (status=2):\n",
      "ABNORMAL_TERMINATION_IN_LNSRCH.\n",
      "\n",
      "Increase the number of iterations (max_iter) or scale the data as shown in:\n",
      "    https://scikit-learn.org/stable/modules/preprocessing.html\n",
      "  self.n_iter_ = _check_optimize_result(\"lbfgs\", opt_res, self.max_iter)\n"
     ]
    },
    {
     "name": "stdout",
     "output_type": "stream",
     "text": [
      "Accuracy from each fold =  [0.9647058823529412, 0.9647058823529412, 0.9529411764705882, 0.9764705882352941, 0.9705882352941176, 0.9558823529411765, 0.9558823529411765, 0.9529411764705882, 0.9735294117647059, 0.9705882352941176]\n",
      "Average Accuracy = 0.9638235294117647\n",
      " \n",
      "            PCA Components 50\n",
      "            pcaRandomForestAccuracy 0.9666666666666667\n",
      "            pcaRandomForestRunTime 12.204248189926147\n",
      "            kfoldAcc       0.9638235294117647\n",
      "            explained      0.8468850431740925\n",
      "        \n",
      "        \n",
      "0.8777074082360099\n"
     ]
    },
    {
     "name": "stderr",
     "output_type": "stream",
     "text": [
      "/Users/matthewlane/opt/anaconda3/envs/testEnv/lib/python3.8/site-packages/sklearn/neural_network/_multilayer_perceptron.py:471: ConvergenceWarning: lbfgs failed to converge (status=2):\n",
      "ABNORMAL_TERMINATION_IN_LNSRCH.\n",
      "\n",
      "Increase the number of iterations (max_iter) or scale the data as shown in:\n",
      "    https://scikit-learn.org/stable/modules/preprocessing.html\n",
      "  self.n_iter_ = _check_optimize_result(\"lbfgs\", opt_res, self.max_iter)\n"
     ]
    },
    {
     "name": "stdout",
     "output_type": "stream",
     "text": [
      "Accuracy from each fold =  [0.961764705882353, 0.961764705882353, 0.9529411764705882, 0.9794117647058823, 0.9735294117647059, 0.9558823529411765, 0.9529411764705882, 0.95, 0.9764705882352941, 0.9588235294117647]\n",
      "Average Accuracy = 0.9623529411764705\n",
      " \n",
      "            PCA Components 75\n",
      "            pcaRandomForestAccuracy 0.9666666666666667\n",
      "            pcaRandomForestRunTime 14.601109027862549\n",
      "            kfoldAcc       0.9623529411764705\n",
      "            explained      0.8777074082360099\n",
      "        \n",
      "        \n",
      "0.8973736698055149\n"
     ]
    },
    {
     "name": "stderr",
     "output_type": "stream",
     "text": [
      "/Users/matthewlane/opt/anaconda3/envs/testEnv/lib/python3.8/site-packages/sklearn/neural_network/_multilayer_perceptron.py:471: ConvergenceWarning: lbfgs failed to converge (status=2):\n",
      "ABNORMAL_TERMINATION_IN_LNSRCH.\n",
      "\n",
      "Increase the number of iterations (max_iter) or scale the data as shown in:\n",
      "    https://scikit-learn.org/stable/modules/preprocessing.html\n",
      "  self.n_iter_ = _check_optimize_result(\"lbfgs\", opt_res, self.max_iter)\n"
     ]
    },
    {
     "name": "stdout",
     "output_type": "stream",
     "text": [
      "Accuracy from each fold =  [0.961764705882353, 0.9588235294117647, 0.9647058823529412, 0.9705882352941176, 0.95, 0.9558823529411765, 0.7411764705882353, 0.6970588235294117, 0.9588235294117647, 0.9705882352941176]\n",
      "Average Accuracy = 0.9129411764705881\n",
      " \n",
      "            PCA Components 100\n",
      "            pcaRandomForestAccuracy 0.7833333333333333\n",
      "            pcaRandomForestRunTime 3.1144657135009766\n",
      "            kfoldAcc       0.9129411764705881\n",
      "            explained      0.8973736698055149\n",
      "        \n",
      "        \n",
      "0.9507598012138962\n",
      "Accuracy from each fold =  [0.9676470588235294, 0.9647058823529412, 0.9588235294117647, 0.9705882352941176, 0.9647058823529412, 0.9529411764705882, 0.961764705882353, 0.9470588235294117, 0.9764705882352941, 0.9529411764705882]\n",
      "Average Accuracy = 0.9617647058823529\n",
      " \n",
      "            PCA Components 250\n",
      "            pcaRandomForestAccuracy 0.9533333333333334\n",
      "            pcaRandomForestRunTime 16.92387819290161\n",
      "            kfoldAcc       0.9617647058823529\n",
      "            explained      0.9507598012138962\n",
      "        \n",
      "        \n",
      "0.9782135501568487\n"
     ]
    },
    {
     "name": "stderr",
     "output_type": "stream",
     "text": [
      "/Users/matthewlane/opt/anaconda3/envs/testEnv/lib/python3.8/site-packages/sklearn/neural_network/_multilayer_perceptron.py:471: ConvergenceWarning: lbfgs failed to converge (status=2):\n",
      "ABNORMAL_TERMINATION_IN_LNSRCH.\n",
      "\n",
      "Increase the number of iterations (max_iter) or scale the data as shown in:\n",
      "    https://scikit-learn.org/stable/modules/preprocessing.html\n",
      "  self.n_iter_ = _check_optimize_result(\"lbfgs\", opt_res, self.max_iter)\n"
     ]
    },
    {
     "name": "stdout",
     "output_type": "stream",
     "text": [
      "Accuracy from each fold =  [0.9588235294117647, 0.6852941176470588, 0.9558823529411765, 0.9558823529411765, 0.9588235294117647, 0.9529411764705882, 0.95, 0.9529411764705882, 0.961764705882353, 0.9411764705882353]\n",
      "Average Accuracy = 0.9273529411764706\n",
      " \n",
      "            PCA Components 500\n",
      "            pcaRandomForestAccuracy 0.9616666666666667\n",
      "            pcaRandomForestRunTime 23.507589101791382\n",
      "            kfoldAcc       0.9273529411764706\n",
      "            explained      0.9782135501568487\n",
      "        \n",
      "        \n",
      "0.9901890827844068\n"
     ]
    },
    {
     "name": "stderr",
     "output_type": "stream",
     "text": [
      "/Users/matthewlane/opt/anaconda3/envs/testEnv/lib/python3.8/site-packages/sklearn/neural_network/_multilayer_perceptron.py:471: ConvergenceWarning: lbfgs failed to converge (status=2):\n",
      "ABNORMAL_TERMINATION_IN_LNSRCH.\n",
      "\n",
      "Increase the number of iterations (max_iter) or scale the data as shown in:\n",
      "    https://scikit-learn.org/stable/modules/preprocessing.html\n",
      "  self.n_iter_ = _check_optimize_result(\"lbfgs\", opt_res, self.max_iter)\n"
     ]
    },
    {
     "name": "stdout",
     "output_type": "stream",
     "text": [
      "Accuracy from each fold =  [0.9470588235294117, 0.9705882352941176, 0.9705882352941176, 0.9676470588235294, 0.9705882352941176, 0.9470588235294117, 0.9470588235294117, 0.9411764705882353, 0.9588235294117647, 0.95]\n",
      "Average Accuracy = 0.9570588235294117\n",
      " \n",
      "            PCA Components 850\n",
      "            pcaRandomForestAccuracy 0.9583333333333334\n",
      "            pcaRandomForestRunTime 39.70577096939087\n",
      "            kfoldAcc       0.9570588235294117\n",
      "            explained      0.9901890827844068\n",
      "        \n",
      "        \n",
      "0.992570328686032\n"
     ]
    },
    {
     "name": "stderr",
     "output_type": "stream",
     "text": [
      "/Users/matthewlane/opt/anaconda3/envs/testEnv/lib/python3.8/site-packages/sklearn/neural_network/_multilayer_perceptron.py:471: ConvergenceWarning: lbfgs failed to converge (status=2):\n",
      "ABNORMAL_TERMINATION_IN_LNSRCH.\n",
      "\n",
      "Increase the number of iterations (max_iter) or scale the data as shown in:\n",
      "    https://scikit-learn.org/stable/modules/preprocessing.html\n",
      "  self.n_iter_ = _check_optimize_result(\"lbfgs\", opt_res, self.max_iter)\n"
     ]
    },
    {
     "name": "stdout",
     "output_type": "stream",
     "text": [
      "Accuracy from each fold =  [0.9705882352941176, 0.9764705882352941, 0.9588235294117647, 0.9705882352941176, 0.9529411764705882, 0.9588235294117647, 0.961764705882353, 0.95, 0.9558823529411765, 0.9588235294117647]\n",
      "Average Accuracy = 0.9614705882352942\n",
      " \n",
      "            PCA Components 1000\n",
      "            pcaRandomForestAccuracy 0.955\n",
      "            pcaRandomForestRunTime 32.09671497344971\n",
      "            kfoldAcc       0.9614705882352942\n",
      "            explained      0.992570328686032\n",
      "        \n",
      "        \n",
      "0.9985679827645426\n",
      "Accuracy from each fold =  [0.961764705882353, 0.9705882352941176, 0.9529411764705882, 0.9647058823529412, 0.9676470588235294, 0.9352941176470588, 0.9705882352941176, 0.9647058823529412, 0.9588235294117647, 0.9676470588235294]\n",
      "Average Accuracy = 0.961470588235294\n",
      " \n",
      "            PCA Components 2000\n",
      "            pcaRandomForestAccuracy 0.9583333333333334\n",
      "            pcaRandomForestRunTime 89.56697702407837\n",
      "            kfoldAcc       0.961470588235294\n",
      "            explained      0.9985679827645426\n",
      "        \n",
      "        \n"
     ]
    },
    {
     "data": {
      "image/png": "[encoded data removed]",
      "text/plain": [
       "<Figure size 432x288 with 2 Axes>"
      ]
     },
     "metadata": {
      "needs_background": "light"
     },
     "output_type": "display_data"
    }
   ],
   "source": [
    "pcaValues_LBFGS_1000 = plotPCABpnn(xTrain,Xtest, yTrain, ytest, bpnnWith1000Hidden_lbfgs)\n"
   ]
  },
  {
   "cell_type": "code",
   "execution_count": 145,
   "metadata": {},
   "outputs": [],
   "source": [
    "def plotPCABpnnClasswise(Xtrain, Xtest, ytrain, ytest, model):\n",
    "    numComponentsList = [50, 100, 250, 500 ]\n",
    "\n",
    "    accuracyList = np.zeros(len(numComponentsList))\n",
    "    runTimeList = np.zeros(len(numComponentsList))\n",
    "    explainedList = np.zeros(len(numComponentsList))\n",
    "    kfoldsList = np.zeros(len(numComponentsList))\n",
    "    \n",
    "    for i in np.arange(len(numComponentsList)): \n",
    "        pca = PCA(n_components=numComponentsList[i])\n",
    "        pca.fit(Xtrain)\n",
    "        pca_Xtrain= pca.transform(Xtrain)\n",
    " \n",
    "        pca_Xtest = pca.transform(Xtest)\n",
    "        explained=np.sum(pca.explained_variance_ratio_)\n",
    "        print(explained)\n",
    " \n",
    "        (pcaBPNNAccuracy, pcaBPNNRuntime, pcaPredicted) = runBPNNandTime(model, pca_Xtrain, ytrain, pca_Xtest, ytest)\n",
    "        kfoldAcc = doKFoldCrossValidationBPNN(pca_Xtrain, ytrain, pca_Xtest, ytest, runBPNNandTime, model)\n",
    "\n",
    "\n",
    "        accuracyList[i] = pcaBPNNAccuracy\n",
    "        runTimeList[i] = pcaBPNNRuntime\n",
    "        explainedList[i] = explained\n",
    "        kfoldsList[i] = kfoldAcc\n",
    "        print(f\"\"\" \n",
    "            PCA Components {numComponentsList[i]}\n",
    "            pcaBPNNAccuracy {pcaBPNNAccuracy}\n",
    "            pcaBPNNRunTime {pcaBPNNRuntime}\n",
    "            kfoldAcc       {kfoldAcc}\n",
    "            explained      {explained}\n",
    "            predicted {calculatePredictedVsActual(pcaPredicted, ytest)}\n",
    "\n",
    "        \"\"\")\n",
    "    fig, ax1= plt.subplots()\n",
    "\n",
    "    color = 'tab:red'\n",
    "    ax1.set_xlabel('Principal Components')\n",
    "    ax1.set_ylabel('Accuracy', color=color)\n",
    "    ax1.plot(numComponentsList, accuracyList, color, label='Accuracy')\n",
    "    ax1.plot(numComponentsList, kfoldsList, color='green', label='kFolds Accuracy')\n",
    "    ax1.tick_params(axis='y', labelcolor=color)\n",
    "    \n",
    "    color = 'tab:blue'\n",
    "    ax2 = ax1.twinx()\n",
    "    ax2.set_ylabel('Time', color=color)\n",
    "    ax2.plot(numComponentsList, runTimeList, color=color, label='Run Time')\n",
    "    ax2.tick_params(axis='y', labelcolor=color)\n",
    "    \n",
    "    plt.show()\n",
    "    \n",
    "    \n",
    "    return (accuracyList, runTimeList, explainedList, kfoldsList)"
   ]
  },
  {
   "cell_type": "code",
   "execution_count": 146,
   "metadata": {},
   "outputs": [
    {
     "name": "stdout",
     "output_type": "stream",
     "text": [
      "0.84986555676263\n",
      "Accuracy from each fold =  [0.9071428571428571, 0.8821428571428571, 0.8785714285714286, 0.9142857142857143, 0.9642857142857143, 0.8642857142857143, 0.4607142857142857, 0.8928571428571429, 0.9607142857142857, 0.8035714285714286]\n",
      "Average Accuracy = 0.8528571428571426\n",
      " \n",
      "            PCA Components 50\n",
      "            pcaBPNNAccuracy 0.9283333333333333\n",
      "            pcaBPNNRunTime 2.341148853302002\n",
      "            kfoldAcc       0.8528571428571426\n",
      "            explained      0.84986555676263\n",
      "            predicted (0.9622222222222222, 0.8266666666666667)\n",
      "\n",
      "        \n",
      "0.9003193894432843\n",
      "Accuracy from each fold =  [0.8928571428571429, 0.8964285714285715, 0.9607142857142857, 0.9178571428571428, 0.9392857142857143, 0.9392857142857143, 0.8071428571428572, 0.9607142857142857, 0.9535714285714286, 0.9535714285714286]\n",
      "Average Accuracy = 0.9221428571428572\n",
      " \n",
      "            PCA Components 100\n",
      "            pcaBPNNAccuracy 0.9583333333333334\n",
      "            pcaBPNNRunTime 4.595044136047363\n",
      "            kfoldAcc       0.9221428571428572\n",
      "            explained      0.9003193894432843\n",
      "            predicted (0.96, 0.9533333333333334)\n",
      "\n",
      "        \n",
      "0.9535193963549781\n",
      "Accuracy from each fold =  [0.9642857142857143, 0.9321428571428572, 0.9571428571428572, 0.9607142857142857, 0.9642857142857143, 0.9035714285714286, 0.95, 0.9, 0.95, 0.8571428571428571]\n",
      "Average Accuracy = 0.9339285714285716\n",
      " \n",
      "            PCA Components 250\n",
      "            pcaBPNNAccuracy 0.915\n",
      "            pcaBPNNRunTime 5.414522886276245\n",
      "            kfoldAcc       0.9339285714285716\n",
      "            explained      0.9535193963549781\n",
      "            predicted (0.9444444444444444, 0.8266666666666667)\n",
      "\n",
      "        \n",
      "0.9802484991075561\n",
      "Accuracy from each fold =  [0.975, 0.9571428571428572, 0.925, 0.9321428571428572, 0.8107142857142857, 0.8607142857142858, 0.9392857142857143, 0.6607142857142857, 0.9392857142857143, 0.9607142857142857]\n",
      "Average Accuracy = 0.8960714285714285\n",
      " \n",
      "            PCA Components 500\n",
      "            pcaBPNNAccuracy 0.9233333333333333\n",
      "            pcaBPNNRunTime 6.1769468784332275\n",
      "            kfoldAcc       0.8960714285714285\n",
      "            explained      0.9802484991075561\n",
      "            predicted (0.9311111111111111, 0.9)\n",
      "\n",
      "        \n"
     ]
    },
    {
     "data": {
      "image/png": "[encoded data removed]",
      "text/plain": [
       "<Figure size 432x288 with 2 Axes>"
      ]
     },
     "metadata": {
      "needs_background": "light"
     },
     "output_type": "display_data"
    }
   ],
   "source": [
    "data_sgd = plotPCABpnnClasswise(Xtrain, Xtest, ytrain, ytest, bpnnWith1000Hidden_sgd)"
   ]
  },
  {
   "cell_type": "code",
   "execution_count": 149,
   "metadata": {},
   "outputs": [
    {
     "name": "stdout",
     "output_type": "stream",
     "text": [
      "0.8499057212394883\n"
     ]
    },
    {
     "name": "stderr",
     "output_type": "stream",
     "text": [
      "/Users/matthewlane/opt/anaconda3/envs/testEnv/lib/python3.8/site-packages/sklearn/neural_network/_multilayer_perceptron.py:471: ConvergenceWarning: lbfgs failed to converge (status=2):\n",
      "ABNORMAL_TERMINATION_IN_LNSRCH.\n",
      "\n",
      "Increase the number of iterations (max_iter) or scale the data as shown in:\n",
      "    https://scikit-learn.org/stable/modules/preprocessing.html\n",
      "  self.n_iter_ = _check_optimize_result(\"lbfgs\", opt_res, self.max_iter)\n"
     ]
    },
    {
     "name": "stdout",
     "output_type": "stream",
     "text": [
      "Accuracy from each fold =  [0.9535714285714286, 0.9642857142857143, 0.9714285714285714, 0.9642857142857143, 0.9571428571428572, 0.9642857142857143, 0.9571428571428572, 0.7214285714285714, 0.9571428571428572, 0.9464285714285714]\n",
      "Average Accuracy = 0.9357142857142857\n",
      " \n",
      "            PCA Components 50\n",
      "            pcaBPNNAccuracy 0.96\n",
      "            pcaBPNNRunTime 12.164927959442139\n",
      "            kfoldAcc       0.9357142857142857\n",
      "            explained      0.8499057212394883\n",
      "            predicted (0.9688888888888889, 0.9333333333333333)\n",
      "\n",
      "        \n",
      "0.9003171949389045\n"
     ]
    },
    {
     "name": "stderr",
     "output_type": "stream",
     "text": [
      "/Users/matthewlane/opt/anaconda3/envs/testEnv/lib/python3.8/site-packages/sklearn/neural_network/_multilayer_perceptron.py:471: ConvergenceWarning: lbfgs failed to converge (status=2):\n",
      "ABNORMAL_TERMINATION_IN_LNSRCH.\n",
      "\n",
      "Increase the number of iterations (max_iter) or scale the data as shown in:\n",
      "    https://scikit-learn.org/stable/modules/preprocessing.html\n",
      "  self.n_iter_ = _check_optimize_result(\"lbfgs\", opt_res, self.max_iter)\n",
      "/Users/matthewlane/opt/anaconda3/envs/testEnv/lib/python3.8/site-packages/sklearn/neural_network/_multilayer_perceptron.py:471: ConvergenceWarning: lbfgs failed to converge (status=2):\n",
      "ABNORMAL_TERMINATION_IN_LNSRCH.\n",
      "\n",
      "Increase the number of iterations (max_iter) or scale the data as shown in:\n",
      "    https://scikit-learn.org/stable/modules/preprocessing.html\n",
      "  self.n_iter_ = _check_optimize_result(\"lbfgs\", opt_res, self.max_iter)\n"
     ]
    },
    {
     "name": "stdout",
     "output_type": "stream",
     "text": [
      "Accuracy from each fold =  [0.9607142857142857, 0.9428571428571428, 0.9642857142857143, 0.9571428571428572, 0.9607142857142857, 0.9357142857142857, 0.6892857142857143, 0.9392857142857143, 0.975, 0.95]\n",
      "Average Accuracy = 0.9274999999999999\n",
      " \n",
      "            PCA Components 100\n",
      "            pcaBPNNAccuracy 0.965\n",
      "            pcaBPNNRunTime 10.876703977584839\n",
      "            kfoldAcc       0.9274999999999999\n",
      "            explained      0.9003171949389045\n",
      "            predicted (0.9711111111111111, 0.9466666666666667)\n",
      "\n",
      "        \n",
      "0.9535190555850813\n",
      "Accuracy from each fold =  [0.95, 0.975, 0.9607142857142857, 0.95, 0.9571428571428572, 0.9428571428571428, 0.9571428571428572, 0.9571428571428572, 0.9607142857142857, 0.9571428571428572]\n",
      "Average Accuracy = 0.9567857142857144\n",
      " \n",
      "            PCA Components 250\n",
      "            pcaBPNNAccuracy 0.97\n",
      "            pcaBPNNRunTime 13.811918020248413\n",
      "            kfoldAcc       0.9567857142857144\n",
      "            explained      0.9535190555850813\n",
      "            predicted (0.98, 0.94)\n",
      "\n",
      "        \n",
      "0.9802441316993655\n",
      "Accuracy from each fold =  [0.95, 0.9607142857142857, 0.9535714285714286, 0.9464285714285714, 0.9464285714285714, 0.975, 0.9535714285714286, 0.9321428571428572, 0.9678571428571429, 0.9535714285714286]\n",
      "Average Accuracy = 0.9539285714285715\n",
      " \n",
      "            PCA Components 500\n",
      "            pcaBPNNAccuracy 0.96\n",
      "            pcaBPNNRunTime 23.141958236694336\n",
      "            kfoldAcc       0.9539285714285715\n",
      "            explained      0.9802441316993655\n",
      "            predicted (0.9666666666666667, 0.94)\n",
      "\n",
      "        \n"
     ]
    },
    {
     "data": {
      "image/png": "[encoded data removed]",
      "text/plain": [
       "<Figure size 432x288 with 2 Axes>"
      ]
     },
     "metadata": {
      "needs_background": "light"
     },
     "output_type": "display_data"
    }
   ],
   "source": [
    "data_lgbfs = plotPCABpnnClasswise(Xtrain, Xtest, ytrain, ytest, bpnnWith1000Hidden_lbfgs)"
   ]
  },
  {
   "cell_type": "markdown",
   "metadata": {},
   "source": [
    "### Segmentation Experimentation"
   ]
  },
  {
   "cell_type": "code",
   "execution_count": null,
   "metadata": {},
   "outputs": [],
   "source": [
    "from skimage.segmentation import felzenszwalb\n",
    "from skimage.segmentation import mark_boundaries\n",
    "\n",
    "felzen = felzenszwalb(trainingSet[0][101].transpose(), scale=1000, sigma=1)\n",
    "plt.imshow(mark_boundaries(trainingSet[0][101].transpose(), felzen))\n",
    "np.unique(felzen, return_counts=True)\n",
    "\n",
    "from skimage.segmentation import slic\n",
    "slickBoy = slic((trainingSet[0][101].transpose()), n_segments=100, compactness=10)\n",
    "plt.imshow(mark_boundaries(trainingSet[0][101].transpose(), slickBoy))\n",
    "\n",
    "def segmentFeatures(segmentPixels): \n",
    "    features = []\n",
    "    numberPixels, numBands = segmentPixels.shape\n",
    "    \n",
    "    for b in np.arange(numBands): \n",
    "        stats = scipy.stats.describe(segmentPixels[:,b])\n",
    "    \n",
    "    return features\n",
    "\n",
    "segmentIDs = np.unique(slickBoy)\n",
    "objects = []\n",
    "objectIDs = []\n",
    "for i in segmentIDs: \n",
    "    pixels = trainingSet[0][101].transpose()[slickBoy == i] \n",
    "    print('pixels for id', i, pixels.shape)\n",
    "    objectFeatures = segmentFeatures(pixels)\n",
    "    objects.append(objectFeatures)\n",
    "    objectIDs.append(i)"
   ]
  }
 ],
 "metadata": {
  "kernelspec": {
   "display_name": "Python 3",
   "language": "python",
   "name": "python3"
  },
  "language_info": {
   "codemirror_mode": {
    "name": "ipython",
    "version": 3
   },
   "file_extension": ".py",
   "mimetype": "text/x-python",
   "name": "python",
   "nbconvert_exporter": "python",
   "pygments_lexer": "ipython3",
   "version": "3.8.2"
  }
 },
 "nbformat": 4,
 "nbformat_minor": 4
}
