{
 "cells": [
  {
   "cell_type": "code",
   "execution_count": 1,
   "metadata": {},
   "outputs": [],
   "source": [
    "import mpp_classifiers as mpp\n",
    "import load_ship_data as lsd\n",
    "import numpy as np\n",
    "import time\n",
    "from sklearn.decomposition import PCA\n",
    "from sklearn.model_selection import StratifiedKFold"
   ]
  },
  {
   "cell_type": "markdown",
   "metadata": {},
   "source": [
    "MPP notebook\n",
    "\n",
    "get data via our data loader"
   ]
  },
  {
   "cell_type": "code",
   "execution_count": 2,
   "metadata": {
    "scrolled": true
   },
   "outputs": [
    {
     "name": "stdout",
     "output_type": "stream",
     "text": [
      "Training Set Data Length:  2800   Label Length:  2800\n",
      "TestingSet Set Data Length:  600  Label Length:  600\n",
      "Validation Set Data Length:  600  Label Length:  600\n"
     ]
    }
   ],
   "source": [
    "np.random.seed(522)\n",
    "data_path=\"data/shipsnet.json\"\n",
    "train,test,valid=lsd.load_data_train_test_split(data_path)\n",
    "def conf(pred,y):\n",
    "    T0=sum([1 if x==y and y==0 else 0 for (x,y) in zip(pred,y)])\n",
    "    T1=sum([1 if x==y and y==1 else 0 for (x,y) in zip(pred,y)])\n",
    "    F0=sum([1 if x!=y and y==0 else 0 for (x,y) in zip(pred,y)])\n",
    "    F1=sum([1 if x!=y and y==1 else 0 for (x,y) in zip(pred,y)])\n",
    "    return np.array([[T0,F0],[F1,T1]])"
   ]
  },
  {
   "cell_type": "markdown",
   "metadata": {},
   "source": [
    "Setup data splits and priors\n",
    "\n",
    "Note: we split into train/valid/test as above, then we merge train+valid\n",
    "\n",
    "This arrangement is due to scikit learn handling validation for us, a feature we were unaware of when designing data loader"
   ]
  },
  {
   "cell_type": "code",
   "execution_count": 3,
   "metadata": {},
   "outputs": [
    {
     "name": "stdout",
     "output_type": "stream",
     "text": [
      "[0.7525 0.2475]\n",
      "(2800, 19200)\n",
      "(600, 19200)\n",
      "(600, 19200)\n",
      "(3400, 19200)\n",
      "(3400,)\n"
     ]
    }
   ],
   "source": [
    "ship_prob=np.sum(train[1])*1.0/train[1].shape[0]\n",
    "p=np.array([1-ship_prob,ship_prob])\n",
    "print(p)\n",
    "Xtrain=train[0]\n",
    "ytrain=train[1]\n",
    "Xtest=test[0]\n",
    "ytest=test[1]\n",
    "Xvalid=valid[0]\n",
    "yvalid=valid[1]\n",
    "Xtrain=Xtrain.reshape(Xtrain.shape[0],Xtrain.shape[1]*Xtrain.shape[2]*Xtrain.shape[3])\n",
    "Xtest=Xtest.reshape(Xtest.shape[0],Xtest.shape[1]*Xtest.shape[2]*Xtest.shape[3])\n",
    "Xvalid=Xvalid.reshape(Xvalid.shape[0],Xvalid.shape[1]*Xvalid.shape[2]*Xvalid.shape[3])\n",
    "print(Xtrain.shape)\n",
    "print(Xtest.shape)\n",
    "print(Xvalid.shape)\n",
    "Xtrain=np.concatenate((Xtrain,Xvalid))\n",
    "ytrain=np.concatenate((ytrain,yvalid))\n",
    "print(Xtrain.shape)\n",
    "print(ytrain.shape)"
   ]
  },
  {
   "cell_type": "markdown",
   "metadata": {},
   "source": [
    "Case 1. No PCA, even priors"
   ]
  },
  {
   "cell_type": "code",
   "execution_count": 27,
   "metadata": {},
   "outputs": [
    {
     "name": "stdout",
     "output_type": "stream",
     "text": [
      "Overall accuracy = 0.6766666666666666;\n",
      "Classwise accuracy = [0.68666667 0.64666667];\n",
      "The learning process takes 31.545286417007446 seconds.\n",
      "Confusion Matrix:\n",
      "[[309 141]\n",
      " [ 53  97]]\n"
     ]
    }
   ],
   "source": [
    "\n",
    "p55=np.array([.5,.5])\n",
    "t0 = time.time()           # start time\n",
    "y_model = mpp.mpp(Xtrain, ytrain, Xtest, 1, p55)\n",
    "t1 = time.time()           # ending time\n",
    "acc_classwise, acc_overall = mpp.accuracy_score(ytest, y_model)\n",
    "print(f'Overall accuracy = {acc_overall};')\n",
    "print(f'Classwise accuracy = {acc_classwise};')\n",
    "print(f'The learning process takes {t1 - t0} seconds.')\n",
    "ar=conf(y_model,ytest)\n",
    "print(\"Confusion Matrix:\")\n",
    "print(ar)"
   ]
  },
  {
   "cell_type": "markdown",
   "metadata": {},
   "source": [
    "Case 2. No PCA, prior assumes ships are rare"
   ]
  },
  {
   "cell_type": "code",
   "execution_count": 26,
   "metadata": {},
   "outputs": [
    {
     "name": "stdout",
     "output_type": "stream",
     "text": [
      "Overall accuracy = 0.75;\n",
      "Classwise accuracy = [1. 0.];\n",
      "The learning process takes 33.399874210357666 seconds.\n",
      "Confusion Matrix:\n",
      "[[450   0]\n",
      " [150   0]]\n"
     ]
    }
   ],
   "source": [
    "p91=np.array([.9,.1])\n",
    "t0 = time.time()           # start time\n",
    "y_model = mpp.mpp(Xtrain, ytrain, Xtest, 1, p91)\n",
    "t1 = time.time()           # ending time\n",
    "acc_classwise, acc_overall = mpp.accuracy_score(ytest, y_model)\n",
    "print(f'Overall accuracy = {acc_overall};')\n",
    "print(f'Classwise accuracy = {acc_classwise};')\n",
    "print(f'The learning process takes {t1 - t0} seconds.')\n",
    "ar=conf(y_model,ytest)\n",
    "print(\"Confusion Matrix:\")\n",
    "print(ar)"
   ]
  },
  {
   "cell_type": "markdown",
   "metadata": {},
   "source": [
    "Case 1. No PCA, priors from training data"
   ]
  },
  {
   "cell_type": "code",
   "execution_count": 25,
   "metadata": {},
   "outputs": [
    {
     "name": "stdout",
     "output_type": "stream",
     "text": [
      "Overall accuracy = 0.75;\n",
      "Classwise accuracy = [1. 0.];\n",
      "The learning process takes 32.428704023361206 seconds.\n",
      "Confusion Matrix:\n",
      "[[450   0]\n",
      " [150   0]]\n"
     ]
    }
   ],
   "source": [
    "p=np.array([1-ship_prob,ship_prob])\n",
    "t0 = time.time()           # start time\n",
    "y_model = mpp.mpp(Xtrain, ytrain, Xtest, 1, p)\n",
    "t1 = time.time()           # ending time\n",
    "acc_classwise, acc_overall = mpp.accuracy_score(ytest, y_model)\n",
    "print(f'Overall accuracy = {acc_overall};')\n",
    "print(f'Classwise accuracy = {acc_classwise};')\n",
    "print(f'The learning process takes {t1 - t0} seconds.')\n",
    "ar=conf(y_model,ytest)\n",
    "print(\"Confusion Matrix:\")\n",
    "print(ar)"
   ]
  },
  {
   "cell_type": "markdown",
   "metadata": {},
   "source": [
    "PCA = 850 dimensions kept"
   ]
  },
  {
   "cell_type": "code",
   "execution_count": 7,
   "metadata": {},
   "outputs": [
    {
     "name": "stdout",
     "output_type": "stream",
     "text": [
      "0.9901861232274156\n"
     ]
    }
   ],
   "source": [
    "pca = PCA(n_components=850)\n",
    "pca.fit(Xtrain)\n",
    "pca_Xtrain=pca.transform(Xtrain)\n",
    "pca_Xtest=pca.transform(Xtest)\n",
    "explained=np.sum(pca.explained_variance_ratio_)\n",
    "print(explained)"
   ]
  },
  {
   "cell_type": "markdown",
   "metadata": {},
   "source": [
    "Case 1. PCA=850, training priors used from now on"
   ]
  },
  {
   "cell_type": "code",
   "execution_count": 28,
   "metadata": {},
   "outputs": [
    {
     "name": "stdout",
     "output_type": "stream",
     "text": [
      "Overall accuracy = 0.75;\n",
      "Classwise accuracy = [1. 0.];\n",
      "The learning process takes 0.14661884307861328 seconds.\n",
      "Confusion Matrix:\n",
      "[[450   0]\n",
      " [150   0]]\n"
     ]
    }
   ],
   "source": [
    "p=np.array([1-ship_prob,ship_prob])\n",
    "t0 = time.time()           # start time\n",
    "y_model = mpp.mpp(pca_Xtrain, ytrain, pca_Xtest, 1, p)\n",
    "t1 = time.time()           # ending time\n",
    "acc_classwise, acc_overall = mpp.accuracy_score(ytest, y_model)\n",
    "print(f'Overall accuracy = {acc_overall};')\n",
    "print(f'Classwise accuracy = {acc_classwise};')\n",
    "print(f'The learning process takes {t1 - t0} seconds.')\n",
    "ar=conf(y_model,ytest)\n",
    "print(\"Confusion Matrix:\")\n",
    "print(ar)"
   ]
  },
  {
   "cell_type": "markdown",
   "metadata": {},
   "source": [
    "Case 2. PCA=850"
   ]
  },
  {
   "cell_type": "code",
   "execution_count": 29,
   "metadata": {},
   "outputs": [
    {
     "name": "stdout",
     "output_type": "stream",
     "text": [
      "Overall accuracy = 0.9066666666666666;\n",
      "Classwise accuracy = [0.93333333 0.82666667];\n",
      "The learning process takes 58.8439154624939 seconds.\n",
      "Confusion Matrix:\n",
      "[[420  30]\n",
      " [ 26 124]]\n"
     ]
    }
   ],
   "source": [
    "p=np.array([1-ship_prob,ship_prob])\n",
    "t0 = time.time()           # start time\n",
    "y_model = mpp.mpp(pca_Xtrain, ytrain, pca_Xtest, 2, p)\n",
    "t1 = time.time()           # ending time\n",
    "acc_classwise, acc_overall = mpp.accuracy_score(ytest, y_model)\n",
    "print(f'Overall accuracy = {acc_overall};')\n",
    "print(f'Classwise accuracy = {acc_classwise};')\n",
    "print(f'The learning process takes {t1 - t0} seconds.')\n",
    "ar=conf(y_model,ytest)\n",
    "print(\"Confusion Matrix:\")\n",
    "print(ar)"
   ]
  },
  {
   "cell_type": "markdown",
   "metadata": {},
   "source": [
    "Case 3. PCA=850"
   ]
  },
  {
   "cell_type": "code",
   "execution_count": 30,
   "metadata": {},
   "outputs": [
    {
     "name": "stdout",
     "output_type": "stream",
     "text": [
      "Overall accuracy = 0.75;\n",
      "Classwise accuracy = [1. 0.];\n",
      "The learning process takes 83.75339984893799 seconds.\n",
      "Confusion Matrix:\n",
      "[[450   0]\n",
      " [150   0]]\n"
     ]
    }
   ],
   "source": [
    "p=np.array([1-ship_prob,ship_prob])\n",
    "t0 = time.time()           # start time\n",
    "y_model = mpp.mpp(pca_Xtrain, ytrain, pca_Xtest, 3, p)\n",
    "t1 = time.time()           # ending time\n",
    "acc_classwise, acc_overall = mpp.accuracy_score(ytest, y_model)\n",
    "print(f'Overall accuracy = {acc_overall};')\n",
    "print(f'Classwise accuracy = {acc_classwise};')\n",
    "print(f'The learning process takes {t1 - t0} seconds.')\n",
    "ar=conf(y_model,ytest)\n",
    "print(\"Confusion Matrix:\")\n",
    "print(ar)"
   ]
  },
  {
   "cell_type": "markdown",
   "metadata": {},
   "source": [
    "PCA =245 dimensions kept"
   ]
  },
  {
   "cell_type": "code",
   "execution_count": 4,
   "metadata": {},
   "outputs": [
    {
     "name": "stdout",
     "output_type": "stream",
     "text": [
      "0.9497604252286876\n"
     ]
    }
   ],
   "source": [
    "pca2 = PCA(n_components=245)\n",
    "pca2.fit(Xtrain)\n",
    "pca2_Xtrain=pca2.transform(Xtrain)\n",
    "pca2_Xtest=pca2.transform(Xtest)\n",
    "explained=np.sum(pca2.explained_variance_ratio_)\n",
    "print(explained)"
   ]
  },
  {
   "cell_type": "markdown",
   "metadata": {},
   "source": [
    "Case 1. PCA=245"
   ]
  },
  {
   "cell_type": "code",
   "execution_count": 31,
   "metadata": {},
   "outputs": [
    {
     "name": "stdout",
     "output_type": "stream",
     "text": [
      "Overall accuracy = 0.75;\n",
      "Classwise accuracy = [1. 0.];\n",
      "The learning process takes 0.047041893005371094 seconds.\n",
      "Confusion Matrix:\n",
      "[[450   0]\n",
      " [150   0]]\n"
     ]
    }
   ],
   "source": [
    "p=np.array([1-ship_prob,ship_prob])\n",
    "t0 = time.time()           # start time\n",
    "y_model = mpp.mpp(pca2_Xtrain, ytrain, pca2_Xtest, 1, p)\n",
    "t1 = time.time()           # ending time\n",
    "acc_classwise, acc_overall = mpp.accuracy_score(ytest, y_model)\n",
    "print(f'Overall accuracy = {acc_overall};')\n",
    "print(f'Classwise accuracy = {acc_classwise};')\n",
    "print(f'The learning process takes {t1 - t0} seconds.')\n",
    "ar=conf(y_model,ytest)\n",
    "print(\"Confusion Matrix:\")\n",
    "print(ar)"
   ]
  },
  {
   "cell_type": "markdown",
   "metadata": {},
   "source": [
    "Case 2. PCA=245"
   ]
  },
  {
   "cell_type": "code",
   "execution_count": 7,
   "metadata": {},
   "outputs": [
    {
     "name": "stdout",
     "output_type": "stream",
     "text": [
      "Overall accuracy = 0.9133333333333333;\n",
      "Classwise accuracy = [0.95111111 0.8       ];\n",
      "The learning process takes 0.745518684387207 seconds.\n",
      "Confusion Matrix:\n",
      "[[428  22]\n",
      " [ 30 120]]\n"
     ]
    }
   ],
   "source": [
    "p=np.array([1-ship_prob,ship_prob])\n",
    "t0 = time.time()           # start time\n",
    "y_model = mpp.mpp(pca2_Xtrain, ytrain, pca2_Xtest, 2, p)\n",
    "t1 = time.time()           # ending time\n",
    "acc_classwise, acc_overall = mpp.accuracy_score(ytest, y_model)\n",
    "print(f'Overall accuracy = {acc_overall};')\n",
    "print(f'Classwise accuracy = {acc_classwise};')\n",
    "print(f'The learning process takes {t1 - t0} seconds.')\n",
    "ar=conf(y_model,ytest)\n",
    "print(\"Confusion Matrix:\")\n",
    "print(ar)\n",
    "#np.save(\"mppcase2_test.npy\",y_model)\n",
    "#np.save(\"truth_train.npy\",ytrain)\n",
    "#np.save(\"truth_test.npy\",ytest)\n",
    "#y_model = mpp.mpp(pca2_Xtrain, ytrain, pca2_Xtrain, 2, p)\n",
    "#acc_classwise, acc_overall = mpp.accuracy_score(ytrain, y_model)\n",
    "#print(acc_overall)\n",
    "#np.save(\"mppcase2_train.npy\",y_model)"
   ]
  },
  {
   "cell_type": "markdown",
   "metadata": {},
   "source": [
    "Case 3. PCA=245"
   ]
  },
  {
   "cell_type": "code",
   "execution_count": 33,
   "metadata": {},
   "outputs": [
    {
     "name": "stdout",
     "output_type": "stream",
     "text": [
      "Overall accuracy = 0.785;\n",
      "Classwise accuracy = [0.78 0.8 ];\n",
      "The learning process takes 3.4766292572021484 seconds.\n",
      "Confusion Matrix:\n",
      "[[351  99]\n",
      " [ 30 120]]\n"
     ]
    }
   ],
   "source": [
    "p=np.array([1-ship_prob,ship_prob])\n",
    "t0 = time.time()           # start time\n",
    "y_model = mpp.mpp(pca2_Xtrain, ytrain, pca2_Xtest, 3, p)\n",
    "t1 = time.time()           # ending time\n",
    "acc_classwise, acc_overall = mpp.accuracy_score(ytest, y_model)\n",
    "print(f'Overall accuracy = {acc_overall};')\n",
    "print(f'Classwise accuracy = {acc_classwise};')\n",
    "print(f'The learning process takes {t1 - t0} seconds.')\n",
    "ar=conf(y_model,ytest)\n",
    "print(\"Confusion Matrix:\")\n",
    "print(ar)"
   ]
  },
  {
   "cell_type": "markdown",
   "metadata": {},
   "source": [
    "Setup for Kfold cross-validation"
   ]
  },
  {
   "cell_type": "code",
   "execution_count": 15,
   "metadata": {},
   "outputs": [],
   "source": [
    "p=np.array([1-ship_prob,ship_prob])\n",
    "X=pca2_Xtrain\n",
    "y=ytrain\n",
    "k=5"
   ]
  },
  {
   "cell_type": "markdown",
   "metadata": {},
   "source": [
    "Case 1"
   ]
  },
  {
   "cell_type": "code",
   "execution_count": 42,
   "metadata": {},
   "outputs": [
    {
     "name": "stdout",
     "output_type": "stream",
     "text": [
      "Accuracy from each fold =  [0.7514705882352941, 0.7514705882352941, 0.7514705882352941, 0.7514705882352941, 0.7529411764705882]\n",
      "Average Accuracy = 0.7517647058823529\n",
      "Average Runtime = 0.05354189872741699\n",
      "1.0\n",
      "0.007058823529411765\n"
     ]
    }
   ],
   "source": [
    "kf=StratifiedKFold(n_splits=k,random_state=None)\n",
    "acc_scores=[]\n",
    "conf_mat=[]\n",
    "times=[]\n",
    "for train_index,test_index in kf.split(X,y):\n",
    "    X_train,X_test=X[train_index,:],X[test_index,:]\n",
    "    y_train,y_test=y[train_index],y[test_index]\n",
    "    t0=time.time()\n",
    "    y_model = mpp.mpp(X_train, y_train, X_test, 1, p)\n",
    "    t1=time.time()\n",
    "    acc_classwise, acc_overall = mpp.accuracy_score(y_test, y_model)\n",
    "    t=t1-t0\n",
    "    times.append(t)\n",
    "    acc_scores.append(acc_overall)\n",
    "    conf_mat.append(conf(y_model,y_test))\n",
    "avg_acc=sum(acc_scores)*1.0/k\n",
    "print('Accuracy from each fold =  {}'.format(acc_scores))\n",
    "print('Average Accuracy = {}'.format(avg_acc))\n",
    "print('Average Runtime = {}'.format(np.sum(np.array(times))*1.0/5))\n",
    "class0_acc=np.array([x[0][0]*1.0/(x[0][0]+x[0][1]) for x in conf_mat])\n",
    "class0_acc=np.sum(class0_acc)*1.0/5\n",
    "class1_acc=np.array([x[1][1]*1.0/(x[1][0]+x[1][1]) for x in conf_mat])\n",
    "class1_acc=np.sum(class1_acc)*1.0/5\n",
    "print(class0_acc)\n",
    "print(class1_acc)"
   ]
  },
  {
   "cell_type": "markdown",
   "metadata": {},
   "source": [
    "Case 2"
   ]
  },
  {
   "cell_type": "code",
   "execution_count": 43,
   "metadata": {},
   "outputs": [
    {
     "name": "stdout",
     "output_type": "stream",
     "text": [
      "Accuracy from each fold =  [0.9176470588235294, 0.9191176470588235, 0.9220588235294118, 0.9147058823529411, 0.9352941176470588]\n",
      "Average Accuracy = 0.9217647058823528\n",
      "Average Runtime = 2.2008477210998536\n",
      "0.9572549019607843\n",
      "0.8152941176470587\n"
     ]
    }
   ],
   "source": [
    "acc_scores=[]\n",
    "conf_mat=[]\n",
    "times=[]\n",
    "for train_index,test_index in kf.split(X,y):\n",
    "    X_train,X_test=X[train_index,:],X[test_index,:]\n",
    "    y_train,y_test=y[train_index],y[test_index]\n",
    "    t0=time.time()\n",
    "    y_model = mpp.mpp(X_train, y_train, X_test, 2, p)\n",
    "    t1=time.time()\n",
    "    acc_classwise, acc_overall = mpp.accuracy_score(y_test, y_model)\n",
    "    t=t1-t0\n",
    "    times.append(t)\n",
    "    acc_scores.append(acc_overall)\n",
    "    conf_mat.append(conf(y_model,y_test))\n",
    "avg_acc=sum(acc_scores)*1.0/k\n",
    "print('Accuracy from each fold =  {}'.format(acc_scores))\n",
    "print('Average Accuracy = {}'.format(avg_acc))\n",
    "print('Average Runtime = {}'.format(np.sum(np.array(times))*1.0/5))\n",
    "class0_acc=np.array([x[0][0]*1.0/(x[0][0]+x[0][1]) for x in conf_mat])\n",
    "class0_acc=np.sum(class0_acc)*1.0/5\n",
    "class1_acc=np.array([x[1][1]*1.0/(x[1][0]+x[1][1]) for x in conf_mat])\n",
    "class1_acc=np.sum(class1_acc)*1.0/5\n",
    "print(class0_acc)\n",
    "print(class1_acc)"
   ]
  },
  {
   "cell_type": "markdown",
   "metadata": {},
   "source": [
    "Case 3"
   ]
  },
  {
   "cell_type": "code",
   "execution_count": 44,
   "metadata": {},
   "outputs": [
    {
     "name": "stdout",
     "output_type": "stream",
     "text": [
      "Accuracy from each fold =  [0.8088235294117647, 0.8044117647058824, 0.7661764705882353, 0.7911764705882353, 0.8044117647058824]\n",
      "Average Accuracy = 0.7949999999999999\n",
      "Average Runtime = 3.600688362121582\n",
      "0.8152941176470587\n",
      "0.7341176470588235\n"
     ]
    }
   ],
   "source": [
    "acc_scores=[]\n",
    "conf_mat=[]\n",
    "times=[]\n",
    "for train_index,test_index in kf.split(X,y):\n",
    "    X_train,X_test=X[train_index,:],X[test_index,:]\n",
    "    y_train,y_test=y[train_index],y[test_index]\n",
    "    t0=time.time()\n",
    "    y_model = mpp.mpp(X_train, y_train, X_test, 3, p)\n",
    "    t1=time.time()\n",
    "    acc_classwise, acc_overall = mpp.accuracy_score(y_test, y_model)\n",
    "    t=t1-t0\n",
    "    times.append(t)\n",
    "    acc_scores.append(acc_overall)\n",
    "    conf_mat.append(conf(y_model,y_test))\n",
    "avg_acc=sum(acc_scores)*1.0/k\n",
    "print('Accuracy from each fold =  {}'.format(acc_scores))\n",
    "print('Average Accuracy = {}'.format(avg_acc))\n",
    "print('Average Runtime = {}'.format(np.sum(np.array(times))*1.0/5))\n",
    "class0_acc=np.array([x[0][0]*1.0/(x[0][0]+x[0][1]) for x in conf_mat])\n",
    "class0_acc=np.sum(class0_acc)*1.0/5\n",
    "class1_acc=np.array([x[1][1]*1.0/(x[1][0]+x[1][1]) for x in conf_mat])\n",
    "class1_acc=np.sum(class1_acc)*1.0/5\n",
    "print(class0_acc)\n",
    "print(class1_acc)"
   ]
  },
  {
   "cell_type": "code",
   "execution_count": 40,
   "metadata": {},
   "outputs": [
    {
     "name": "stdout",
     "output_type": "stream",
     "text": [
      "Variance explained:  0.8469294363086588\n",
      "Overall accuracy = 0.8916666666666667;\n",
      "Classwise accuracy = [0.93333333 0.76666667];\n",
      "The learning process takes 0.22038793563842773 seconds.\n",
      "Confusion Matrix:\n",
      "[[420  30]\n",
      " [ 35 115]]\n"
     ]
    }
   ],
   "source": [
    "pca3 = PCA(n_components=50)\n",
    "pca3.fit(Xtrain)\n",
    "pca3_Xtrain=pca3.transform(Xtrain)\n",
    "pca3_Xtest=pca3.transform(Xtest)\n",
    "explained=np.sum(pca3.explained_variance_ratio_)\n",
    "print(\"Variance explained: \", explained)\n",
    "p=np.array([1-ship_prob,ship_prob])\n",
    "t0 = time.time()           # start time\n",
    "y_model = mpp.mpp(pca3_Xtrain, ytrain, pca3_Xtest, 2, p)\n",
    "t1 = time.time()           # ending time\n",
    "acc_classwise, acc_overall = mpp.accuracy_score(ytest, y_model)\n",
    "print(f'Overall accuracy = {acc_overall};')\n",
    "print(f'Classwise accuracy = {acc_classwise};')\n",
    "print(f'The learning process takes {t1 - t0} seconds.')\n",
    "ar=conf(y_model,ytest)\n",
    "print(\"Confusion Matrix:\")\n",
    "print(ar)\n",
    "#np.save(\"ground_truth.npy\",ytrain)\n",
    "#np.save(\"mpp_case2.npy\",y_model)"
   ]
  },
  {
   "cell_type": "code",
   "execution_count": null,
   "metadata": {},
   "outputs": [],
   "source": []
  }
 ],
 "metadata": {
  "kernelspec": {
   "display_name": "Python 3",
   "language": "python",
   "name": "python3"
  },
  "language_info": {
   "codemirror_mode": {
    "name": "ipython",
    "version": 3
   },
   "file_extension": ".py",
   "mimetype": "text/x-python",
   "name": "python",
   "nbconvert_exporter": "python",
   "pygments_lexer": "ipython3",
   "version": "3.7.9"
  }
 },
 "nbformat": 4,
 "nbformat_minor": 4
}
