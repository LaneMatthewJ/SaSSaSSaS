{
 "cells": [
  {
   "cell_type": "code",
   "execution_count": 1,
   "metadata": {},
   "outputs": [],
   "source": [
    "import mpp_classifiers as mpp\n",
    "import load_ship_data as lsd\n",
    "import numpy as np\n",
    "import time\n",
    "from sklearn.decomposition import PCA\n",
    "from sklearn.model_selection import KFold"
   ]
  },
  {
   "cell_type": "markdown",
   "metadata": {},
   "source": [
    "Get data using our own data loader\n",
    "\n",
    "NOTE: Confusion Matrix is incorrect. \n",
    "\n",
    "I corrected it in reported results, but left it this way in code\n",
    "\n",
    "so that results would line up with report.\n",
    "\n",
    "Rerunning with correct matrix would cause our random split to alter the results slightly"
   ]
  },
  {
   "cell_type": "code",
   "execution_count": 2,
   "metadata": {
    "scrolled": true
   },
   "outputs": [
    {
     "name": "stdout",
     "output_type": "stream",
     "text": [
      "Training Set Data Length:  2800   Label Length:  2800\n",
      "TestingSet Set Data Length:  600  Label Length:  600\n",
      "Validation Set Data Length:  600  Label Length:  600\n"
     ]
    }
   ],
   "source": [
    "\n",
    "data_path=\"data/shipsnet.json\"\n",
    "train,test,valid=lsd.load_data_train_test_split(data_path)\n",
    "def conf(pred,y):\n",
    "    T0=sum([1 if x==y and y==0 else 0 for (x,y) in zip(pred,y)])\n",
    "    T1=sum([1 if x==y and y==1 else 0 for (x,y) in zip(pred,y)])\n",
    "    F0=sum([1 if x!=y and y==0 else 0 for (x,y) in zip(pred,y)])\n",
    "    F1=sum([1 if x!=y and y==1 else 0 for (x,y) in zip(pred,y)])\n",
    "    return np.array([[T0,F0],[F1,T1]])"
   ]
  },
  {
   "cell_type": "markdown",
   "metadata": {},
   "source": [
    "Setup data splits and priors"
   ]
  },
  {
   "cell_type": "code",
   "execution_count": 3,
   "metadata": {},
   "outputs": [
    {
     "name": "stdout",
     "output_type": "stream",
     "text": [
      "[0.74892857 0.25107143]\n",
      "(2800, 19200)\n",
      "(600, 19200)\n",
      "(600, 19200)\n"
     ]
    }
   ],
   "source": [
    "ship_prob=np.sum(train[1])*1.0/train[1].shape[0]\n",
    "p=np.array([1-ship_prob,ship_prob])\n",
    "print(p)\n",
    "Xtrain=train[0]\n",
    "ytrain=train[1]\n",
    "Xtest=test[0]\n",
    "ytest=test[1]\n",
    "Xvalid=valid[0]\n",
    "yvalid=valid[1]\n",
    "Xtrain=Xtrain.reshape(Xtrain.shape[0],Xtrain.shape[1]*Xtrain.shape[2]*Xtrain.shape[3])\n",
    "Xtest=Xtest.reshape(Xtest.shape[0],Xtest.shape[1]*Xtest.shape[2]*Xtest.shape[3])\n",
    "Xvalid=Xvalid.reshape(Xvalid.shape[0],Xvalid.shape[1]*Xvalid.shape[2]*Xvalid.shape[3])\n",
    "print(Xtrain.shape)\n",
    "print(Xtest.shape)\n",
    "print(Xvalid.shape)"
   ]
  },
  {
   "cell_type": "markdown",
   "metadata": {},
   "source": [
    "Case 1. No PCA, even priors"
   ]
  },
  {
   "cell_type": "code",
   "execution_count": 4,
   "metadata": {},
   "outputs": [
    {
     "name": "stdout",
     "output_type": "stream",
     "text": [
      "Overall accuracy = 0.6766666666666666;\n",
      "Classwise accuracy = [0.70769231 0.57931034];\n",
      "The learning process takes 14.33341121673584 seconds.\n",
      "[[322 133]\n",
      " [ 61  84]]\n"
     ]
    }
   ],
   "source": [
    "\n",
    "p55=np.array([.5,.5])\n",
    "t0 = time.time()           # start time\n",
    "y_model = mpp.mpp(Xtrain, ytrain, Xtest, 1, p55)\n",
    "t1 = time.time()           # ending time\n",
    "acc_classwise, acc_overall = mpp.accuracy_score(ytest, y_model)\n",
    "print(f'Overall accuracy = {acc_overall};')\n",
    "print(f'Classwise accuracy = {acc_classwise};')\n",
    "print(f'The learning process takes {t1 - t0} seconds.')\n",
    "ar=conf(y_model,ytest)\n",
    "print(ar)"
   ]
  },
  {
   "cell_type": "markdown",
   "metadata": {},
   "source": [
    "Case 2. No PCA, prior assumes ships are rare"
   ]
  },
  {
   "cell_type": "code",
   "execution_count": 5,
   "metadata": {},
   "outputs": [
    {
     "name": "stdout",
     "output_type": "stream",
     "text": [
      "Overall accuracy = 0.7583333333333333;\n",
      "Classwise accuracy = [1. 0.];\n",
      "The learning process takes 14.029608488082886 seconds.\n",
      "[[455   0]\n",
      " [145   0]]\n"
     ]
    }
   ],
   "source": [
    "p91=np.array([.9,.1])\n",
    "t0 = time.time()           # start time\n",
    "y_model = mpp.mpp(Xtrain, ytrain, Xtest, 1, p91)\n",
    "t1 = time.time()           # ending time\n",
    "acc_classwise, acc_overall = mpp.accuracy_score(ytest, y_model)\n",
    "print(f'Overall accuracy = {acc_overall};')\n",
    "print(f'Classwise accuracy = {acc_classwise};')\n",
    "print(f'The learning process takes {t1 - t0} seconds.')\n",
    "ar=conf(y_model,ytest)\n",
    "print(ar)"
   ]
  },
  {
   "cell_type": "markdown",
   "metadata": {},
   "source": [
    "Case 1. No PCA, priors from training data"
   ]
  },
  {
   "cell_type": "code",
   "execution_count": 6,
   "metadata": {},
   "outputs": [
    {
     "name": "stdout",
     "output_type": "stream",
     "text": [
      "Overall accuracy = 0.76;\n",
      "Classwise accuracy = [1.         0.00689655];\n",
      "The learning process takes 14.041727066040039 seconds.\n",
      "[[455   0]\n",
      " [144   1]]\n"
     ]
    }
   ],
   "source": [
    "\n",
    "t0 = time.time()           # start time\n",
    "y_model = mpp.mpp(Xtrain, ytrain, Xtest, 1, p)\n",
    "t1 = time.time()           # ending time\n",
    "acc_classwise, acc_overall = mpp.accuracy_score(ytest, y_model)\n",
    "print(f'Overall accuracy = {acc_overall};')\n",
    "print(f'Classwise accuracy = {acc_classwise};')\n",
    "print(f'The learning process takes {t1 - t0} seconds.')\n",
    "ar=conf(y_model,ytest)\n",
    "print(ar)"
   ]
  },
  {
   "cell_type": "markdown",
   "metadata": {},
   "source": [
    "PCA = 800 dimensions kept"
   ]
  },
  {
   "cell_type": "code",
   "execution_count": 7,
   "metadata": {},
   "outputs": [
    {
     "name": "stdout",
     "output_type": "stream",
     "text": [
      "0.99073861375588\n"
     ]
    }
   ],
   "source": [
    "pca = PCA(n_components=800)\n",
    "pca.fit(Xtrain)\n",
    "pca_Xtrain=pca.transform(Xtrain)\n",
    "pca_Xtest=pca.transform(Xtest)\n",
    "explained=np.sum(pca.explained_variance_ratio_)\n",
    "print(explained)"
   ]
  },
  {
   "cell_type": "markdown",
   "metadata": {},
   "source": [
    "Case 1. PCA=800, training priors used from now on"
   ]
  },
  {
   "cell_type": "code",
   "execution_count": 8,
   "metadata": {},
   "outputs": [
    {
     "name": "stdout",
     "output_type": "stream",
     "text": [
      "Overall accuracy = 0.7616666666666667;\n",
      "Classwise accuracy = [1.        0.0137931];\n",
      "The learning process takes 0.06932425498962402 seconds.\n",
      "[[455   0]\n",
      " [143   2]]\n"
     ]
    }
   ],
   "source": [
    "p=np.array([1-ship_prob,ship_prob])\n",
    "t0 = time.time()           # start time\n",
    "y_model = mpp.mpp(pca_Xtrain, ytrain, pca_Xtest, 1, p)\n",
    "t1 = time.time()           # ending time\n",
    "acc_classwise, acc_overall = mpp.accuracy_score(ytest, y_model)\n",
    "print(f'Overall accuracy = {acc_overall};')\n",
    "print(f'Classwise accuracy = {acc_classwise};')\n",
    "print(f'The learning process takes {t1 - t0} seconds.')\n",
    "ar=conf(y_model,ytest)\n",
    "print(ar)"
   ]
  },
  {
   "cell_type": "markdown",
   "metadata": {},
   "source": [
    "Case 2. PCA=800"
   ]
  },
  {
   "cell_type": "code",
   "execution_count": 9,
   "metadata": {},
   "outputs": [
    {
     "name": "stdout",
     "output_type": "stream",
     "text": [
      "Overall accuracy = 0.9216666666666666;\n",
      "Classwise accuracy = [0.95824176 0.80689655];\n",
      "The learning process takes 24.75102972984314 seconds.\n",
      "[[436  19]\n",
      " [ 28 117]]\n"
     ]
    }
   ],
   "source": [
    "p=np.array([1-ship_prob,ship_prob])\n",
    "t0 = time.time()           # start time\n",
    "y_model = mpp.mpp(pca_Xtrain, ytrain, pca_Xtest, 2, p)\n",
    "t1 = time.time()           # ending time\n",
    "acc_classwise, acc_overall = mpp.accuracy_score(ytest, y_model)\n",
    "print(f'Overall accuracy = {acc_overall};')\n",
    "print(f'Classwise accuracy = {acc_classwise};')\n",
    "print(f'The learning process takes {t1 - t0} seconds.')\n",
    "ar=conf(y_model,ytest)\n",
    "print(ar)"
   ]
  },
  {
   "cell_type": "markdown",
   "metadata": {},
   "source": [
    "Case 3. PCA=800"
   ]
  },
  {
   "cell_type": "code",
   "execution_count": 10,
   "metadata": {},
   "outputs": [
    {
     "name": "stdout",
     "output_type": "stream",
     "text": [
      "Overall accuracy = 0.44166666666666665;\n",
      "Classwise accuracy = [0.38901099 0.60689655];\n",
      "The learning process takes 32.077874422073364 seconds.\n",
      "[[177 278]\n",
      " [ 57  88]]\n"
     ]
    }
   ],
   "source": [
    "p=np.array([1-ship_prob,ship_prob])\n",
    "t0 = time.time()           # start time\n",
    "y_model = mpp.mpp(pca_Xtrain, ytrain, pca_Xtest, 3, p)\n",
    "t1 = time.time()           # ending time\n",
    "acc_classwise, acc_overall = mpp.accuracy_score(ytest, y_model)\n",
    "print(f'Overall accuracy = {acc_overall};')\n",
    "print(f'Classwise accuracy = {acc_classwise};')\n",
    "print(f'The learning process takes {t1 - t0} seconds.')\n",
    "ar=conf(y_model,ytest)\n",
    "print(ar)"
   ]
  },
  {
   "cell_type": "markdown",
   "metadata": {},
   "source": [
    "PCA =200 dimensions kept"
   ]
  },
  {
   "cell_type": "code",
   "execution_count": 11,
   "metadata": {},
   "outputs": [
    {
     "name": "stdout",
     "output_type": "stream",
     "text": [
      "0.9433241744622998\n"
     ]
    }
   ],
   "source": [
    "pca2 = PCA(n_components=200)\n",
    "pca2.fit(Xtrain)\n",
    "pca2_Xtrain=pca2.transform(Xtrain)\n",
    "pca2_Xtest=pca2.transform(Xtest)\n",
    "explained=np.sum(pca2.explained_variance_ratio_)\n",
    "print(explained)"
   ]
  },
  {
   "cell_type": "markdown",
   "metadata": {},
   "source": [
    "Case 1. PCA=200"
   ]
  },
  {
   "cell_type": "code",
   "execution_count": 12,
   "metadata": {},
   "outputs": [
    {
     "name": "stdout",
     "output_type": "stream",
     "text": [
      "Overall accuracy = 0.7633333333333333;\n",
      "Classwise accuracy = [1.         0.02068966];\n",
      "The learning process takes 0.024446725845336914 seconds.\n",
      "[[455   0]\n",
      " [142   3]]\n"
     ]
    }
   ],
   "source": [
    "p=np.array([1-ship_prob,ship_prob])\n",
    "t0 = time.time()           # start time\n",
    "y_model = mpp.mpp(pca2_Xtrain, ytrain, pca2_Xtest, 1, p)\n",
    "t1 = time.time()           # ending time\n",
    "acc_classwise, acc_overall = mpp.accuracy_score(ytest, y_model)\n",
    "print(f'Overall accuracy = {acc_overall};')\n",
    "print(f'Classwise accuracy = {acc_classwise};')\n",
    "print(f'The learning process takes {t1 - t0} seconds.')\n",
    "ar=conf(y_model,ytest)\n",
    "print(ar)"
   ]
  },
  {
   "cell_type": "markdown",
   "metadata": {},
   "source": [
    "Case 2. PCA=200"
   ]
  },
  {
   "cell_type": "code",
   "execution_count": 13,
   "metadata": {},
   "outputs": [
    {
     "name": "stdout",
     "output_type": "stream",
     "text": [
      "Overall accuracy = 0.93;\n",
      "Classwise accuracy = [0.98021978 0.77241379];\n",
      "The learning process takes 0.53659987449646 seconds.\n",
      "[[446   9]\n",
      " [ 33 112]]\n"
     ]
    }
   ],
   "source": [
    "p=np.array([1-ship_prob,ship_prob])\n",
    "t0 = time.time()           # start time\n",
    "y_model = mpp.mpp(pca2_Xtrain, ytrain, pca2_Xtest, 2, p)\n",
    "t1 = time.time()           # ending time\n",
    "acc_classwise, acc_overall = mpp.accuracy_score(ytest, y_model)\n",
    "print(f'Overall accuracy = {acc_overall};')\n",
    "print(f'Classwise accuracy = {acc_classwise};')\n",
    "print(f'The learning process takes {t1 - t0} seconds.')\n",
    "ar=conf(y_model,ytest)\n",
    "print(ar)"
   ]
  },
  {
   "cell_type": "markdown",
   "metadata": {},
   "source": [
    "Case 3. PCA=200"
   ]
  },
  {
   "cell_type": "code",
   "execution_count": 14,
   "metadata": {},
   "outputs": [
    {
     "name": "stdout",
     "output_type": "stream",
     "text": [
      "Overall accuracy = 0.7933333333333333;\n",
      "Classwise accuracy = [0.80879121 0.74482759];\n",
      "The learning process takes 0.8946073055267334 seconds.\n",
      "[[368  87]\n",
      " [ 37 108]]\n"
     ]
    }
   ],
   "source": [
    "p=np.array([1-ship_prob,ship_prob])\n",
    "t0 = time.time()           # start time\n",
    "y_model = mpp.mpp(pca2_Xtrain, ytrain, pca2_Xtest, 3, p)\n",
    "t1 = time.time()           # ending time\n",
    "acc_classwise, acc_overall = mpp.accuracy_score(ytest, y_model)\n",
    "print(f'Overall accuracy = {acc_overall};')\n",
    "print(f'Classwise accuracy = {acc_classwise};')\n",
    "print(f'The learning process takes {t1 - t0} seconds.')\n",
    "ar=conf(y_model,ytest)\n",
    "print(ar)"
   ]
  },
  {
   "cell_type": "code",
   "execution_count": null,
   "metadata": {},
   "outputs": [],
   "source": []
  },
  {
   "cell_type": "markdown",
   "metadata": {},
   "source": [
    "Join training and validation since upcoming cross-validation will do this split for us"
   ]
  },
  {
   "cell_type": "code",
   "execution_count": 15,
   "metadata": {},
   "outputs": [
    {
     "name": "stdout",
     "output_type": "stream",
     "text": [
      "0.9406837947054734\n"
     ]
    }
   ],
   "source": [
    "pca2 = PCA(n_components=200)\n",
    "Xtrain=np.concatenate((Xtrain,Xvalid))\n",
    "ytrain=np.concatenate((ytrain,yvalid))\n",
    "pca2.fit(Xtrain)\n",
    "pca2_Xtrain=pca2.transform(Xtrain)\n",
    "pca2_Xtest=pca2.transform(Xtest)\n",
    "explained=np.sum(pca2.explained_variance_ratio_)\n",
    "print(explained)"
   ]
  },
  {
   "cell_type": "markdown",
   "metadata": {},
   "source": [
    "Setup for Kfold cross-validation"
   ]
  },
  {
   "cell_type": "code",
   "execution_count": 16,
   "metadata": {},
   "outputs": [],
   "source": [
    "p=np.array([1-ship_prob,ship_prob])\n",
    "X=pca2_Xtrain\n",
    "y=ytrain\n",
    "k=10"
   ]
  },
  {
   "cell_type": "markdown",
   "metadata": {},
   "source": [
    "Case 1"
   ]
  },
  {
   "cell_type": "code",
   "execution_count": 17,
   "metadata": {},
   "outputs": [
    {
     "name": "stdout",
     "output_type": "stream",
     "text": [
      "Accuracy from each fold =  [0.7411764705882353, 0.7588235294117647, 0.7794117647058824, 0.7323529411764705, 0.7411764705882353, 0.7382352941176471, 0.7676470588235295, 0.7588235294117647, 0.7382352941176471, 0.7441176470588236]\n",
      "Average Accuracy = 0.75\n",
      "0.7441176470588236\n"
     ]
    }
   ],
   "source": [
    "\n",
    "kf=KFold(n_splits=k,random_state=None)\n",
    "acc_scores=[]\n",
    "for train_index,test_index in kf.split(X):\n",
    "    X_train,X_test=X[train_index,:],X[test_index,:]\n",
    "    y_train,y_test=y[train_index],y[test_index]\n",
    "    y_model = mpp.mpp(X_train, y_train, X_test, 1, p)\n",
    "    acc_classwise, acc_overall = mpp.accuracy_score(y_test, y_model)\n",
    "    acc_scores.append(acc_overall)\n",
    "avg_acc=sum(acc_scores)*1.0/k\n",
    "print('Accuracy from each fold =  {}'.format(acc_scores))\n",
    "print('Average Accuracy = {}'.format(avg_acc))\n",
    "y_model = mpp.mpp(X_train, y_train, X_test, 1, p)\n",
    "acc_classwise, acc_overall = mpp.accuracy_score(y_test, y_model)\n",
    "print(acc_overall)"
   ]
  },
  {
   "cell_type": "markdown",
   "metadata": {},
   "source": [
    "Case 2"
   ]
  },
  {
   "cell_type": "code",
   "execution_count": 18,
   "metadata": {},
   "outputs": [
    {
     "name": "stdout",
     "output_type": "stream",
     "text": [
      "Accuracy from each fold =  [0.9235294117647059, 0.9088235294117647, 0.9294117647058824, 0.9411764705882353, 0.9235294117647059, 0.9235294117647059, 0.9058823529411765, 0.9205882352941176, 0.9264705882352942, 0.9352941176470588]\n",
      "Average Accuracy = 0.9238235294117649\n",
      "0.9352941176470588\n"
     ]
    }
   ],
   "source": [
    "kf=KFold(n_splits=k,random_state=None)\n",
    "acc_scores=[]\n",
    "for train_index,test_index in kf.split(X):\n",
    "    X_train,X_test=X[train_index,:],X[test_index,:]\n",
    "    y_train,y_test=y[train_index],y[test_index]\n",
    "    y_model = mpp.mpp(X_train, y_train, X_test, 2, p)\n",
    "    acc_classwise, acc_overall = mpp.accuracy_score(y_test, y_model)\n",
    "    acc_scores.append(acc_overall)\n",
    "avg_acc=sum(acc_scores)*1.0/k\n",
    "print('Accuracy from each fold =  {}'.format(acc_scores))\n",
    "print('Average Accuracy = {}'.format(avg_acc))\n",
    "y_model = mpp.mpp(X_train, y_train, X_test, 2, p)\n",
    "acc_classwise, acc_overall = mpp.accuracy_score(y_test, y_model)\n",
    "print(acc_overall)\n",
    "\n"
   ]
  },
  {
   "cell_type": "markdown",
   "metadata": {},
   "source": [
    "Case 3"
   ]
  },
  {
   "cell_type": "code",
   "execution_count": 19,
   "metadata": {},
   "outputs": [
    {
     "name": "stdout",
     "output_type": "stream",
     "text": [
      "Accuracy from each fold =  [0.8, 0.8323529411764706, 0.8294117647058824, 0.8088235294117647, 0.8176470588235294, 0.788235294117647, 0.7764705882352941, 0.7823529411764706, 0.788235294117647, 0.7823529411764706]\n",
      "Average Accuracy = 0.8005882352941176\n",
      "0.7823529411764706\n"
     ]
    }
   ],
   "source": [
    "kf=KFold(n_splits=k,random_state=None)\n",
    "acc_scores=[]\n",
    "for train_index,test_index in kf.split(X):\n",
    "    X_train,X_test=X[train_index,:],X[test_index,:]\n",
    "    y_train,y_test=y[train_index],y[test_index]\n",
    "    y_model = mpp.mpp(X_train, y_train, X_test, 3, p)\n",
    "    acc_classwise, acc_overall = mpp.accuracy_score(y_test, y_model)\n",
    "    acc_scores.append(acc_overall)\n",
    "avg_acc=sum(acc_scores)*1.0/k\n",
    "print('Accuracy from each fold =  {}'.format(acc_scores))\n",
    "print('Average Accuracy = {}'.format(avg_acc))\n",
    "y_model = mpp.mpp(X_train, y_train, X_test, 3, p)\n",
    "acc_classwise, acc_overall = mpp.accuracy_score(y_test, y_model)\n",
    "print(acc_overall)\n",
    "\n"
   ]
  },
  {
   "cell_type": "code",
   "execution_count": null,
   "metadata": {},
   "outputs": [],
   "source": []
  },
  {
   "cell_type": "code",
   "execution_count": null,
   "metadata": {},
   "outputs": [],
   "source": []
  },
  {
   "cell_type": "code",
   "execution_count": null,
   "metadata": {},
   "outputs": [],
   "source": []
  }
 ],
 "metadata": {
  "kernelspec": {
   "display_name": "Python 3",
   "language": "python",
   "name": "python3"
  },
  "language_info": {
   "codemirror_mode": {
    "name": "ipython",
    "version": 3
   },
   "file_extension": ".py",
   "mimetype": "text/x-python",
   "name": "python",
   "nbconvert_exporter": "python",
   "pygments_lexer": "ipython3",
   "version": "3.8.5"
  }
 },
 "nbformat": 4,
 "nbformat_minor": 4
}
