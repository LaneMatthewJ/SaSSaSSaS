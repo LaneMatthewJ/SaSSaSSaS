{
 "cells": [
  {
   "cell_type": "code",
   "execution_count": 1,
   "metadata": {},
   "outputs": [],
   "source": [
    "import mpp_classifiers as mpp\n",
    "import load_ship_data as lsd\n",
    "import numpy as np\n",
    "import time\n",
    "from sklearn.decomposition import PCA\n",
    "from sklearn.model_selection import KFold"
   ]
  },
  {
   "cell_type": "markdown",
   "metadata": {},
   "source": [
    "Get data using our own data loader"
   ]
  },
  {
   "cell_type": "code",
   "execution_count": 2,
   "metadata": {
    "scrolled": true
   },
   "outputs": [
    {
     "name": "stdout",
     "output_type": "stream",
     "text": [
      "Training Set Data Length:  2800   Label Length:  2800\n",
      "TestingSet Set Data Length:  600  Label Length:  600\n",
      "Validation Set Data Length:  600  Label Length:  600\n"
     ]
    }
   ],
   "source": [
    "\n",
    "data_path=\"data/shipsnet.json\"\n",
    "train,test,valid=lsd.load_data_train_test_split(data_path)\n"
   ]
  },
  {
   "cell_type": "markdown",
   "metadata": {},
   "source": [
    "Setup data splits and priors"
   ]
  },
  {
   "cell_type": "code",
   "execution_count": 3,
   "metadata": {},
   "outputs": [
    {
     "name": "stdout",
     "output_type": "stream",
     "text": [
      "[0.75321429 0.24678571]\n",
      "(2800, 19200)\n",
      "(600, 19200)\n",
      "(600, 19200)\n"
     ]
    }
   ],
   "source": [
    "ship_prob=np.sum(train[1])*1.0/train[1].shape[0]\n",
    "p=np.array([1-ship_prob,ship_prob])\n",
    "print(p)\n",
    "Xtrain=train[0]\n",
    "ytrain=train[1]\n",
    "Xtest=test[0]\n",
    "ytest=test[1]\n",
    "Xvalid=valid[0]\n",
    "yvalid=valid[1]\n",
    "Xtrain=Xtrain.reshape(Xtrain.shape[0],Xtrain.shape[1]*Xtrain.shape[2]*Xtrain.shape[3])\n",
    "Xtest=Xtest.reshape(Xtest.shape[0],Xtest.shape[1]*Xtest.shape[2]*Xtest.shape[3])\n",
    "Xvalid=Xvalid.reshape(Xvalid.shape[0],Xvalid.shape[1]*Xvalid.shape[2]*Xvalid.shape[3])\n",
    "print(Xtrain.shape)\n",
    "print(Xtest.shape)\n",
    "print(Xvalid.shape)"
   ]
  },
  {
   "cell_type": "markdown",
   "metadata": {},
   "source": [
    "Case 1. No PCA, even priors"
   ]
  },
  {
   "cell_type": "code",
   "execution_count": 4,
   "metadata": {},
   "outputs": [
    {
     "name": "stdout",
     "output_type": "stream",
     "text": [
      "Overall accuracy = 0.6566666666666666;\n",
      "Classwise accuracy = [0.67727273 0.6       ];\n",
      "The learning process takes 12.190431118011475 seconds.\n"
     ]
    }
   ],
   "source": [
    "\n",
    "p55=np.array([.5,.5])\n",
    "t0 = time.time()           # start time\n",
    "y_model = mpp.mpp(Xtrain, ytrain, Xtest, 1, p55)\n",
    "t1 = time.time()           # ending time\n",
    "acc_classwise, acc_overall = mpp.accuracy_score(ytest, y_model)\n",
    "print(f'Overall accuracy = {acc_overall};')\n",
    "print(f'Classwise accuracy = {acc_classwise};')\n",
    "print(f'The learning process takes {t1 - t0} seconds.')\n"
   ]
  },
  {
   "cell_type": "markdown",
   "metadata": {},
   "source": [
    "Case 2. No PCA, prior assumes ships are rare"
   ]
  },
  {
   "cell_type": "code",
   "execution_count": 5,
   "metadata": {},
   "outputs": [
    {
     "name": "stdout",
     "output_type": "stream",
     "text": [
      "Overall accuracy = 0.7333333333333333;\n",
      "Classwise accuracy = [1. 0.];\n",
      "The learning process takes 11.635922908782959 seconds.\n"
     ]
    }
   ],
   "source": [
    "p91=np.array([.9,.1])\n",
    "t0 = time.time()           # start time\n",
    "y_model = mpp.mpp(Xtrain, ytrain, Xtest, 1, p91)\n",
    "t1 = time.time()           # ending time\n",
    "acc_classwise, acc_overall = mpp.accuracy_score(ytest, y_model)\n",
    "print(f'Overall accuracy = {acc_overall};')\n",
    "print(f'Classwise accuracy = {acc_classwise};')\n",
    "print(f'The learning process takes {t1 - t0} seconds.')\n"
   ]
  },
  {
   "cell_type": "markdown",
   "metadata": {},
   "source": [
    "Case 1. No PCA, priors from training data"
   ]
  },
  {
   "cell_type": "code",
   "execution_count": 6,
   "metadata": {},
   "outputs": [
    {
     "name": "stdout",
     "output_type": "stream",
     "text": [
      "Overall accuracy = 0.7333333333333333;\n",
      "Classwise accuracy = [1. 0.];\n",
      "The learning process takes 12.024845838546753 seconds.\n"
     ]
    }
   ],
   "source": [
    "\n",
    "t0 = time.time()           # start time\n",
    "y_model = mpp.mpp(Xtrain, ytrain, Xtest, 1, p)\n",
    "t1 = time.time()           # ending time\n",
    "acc_classwise, acc_overall = mpp.accuracy_score(ytest, y_model)\n",
    "print(f'Overall accuracy = {acc_overall};')\n",
    "print(f'Classwise accuracy = {acc_classwise};')\n",
    "print(f'The learning process takes {t1 - t0} seconds.')\n"
   ]
  },
  {
   "cell_type": "markdown",
   "metadata": {},
   "source": [
    "PCA = 800 dimensions kept"
   ]
  },
  {
   "cell_type": "code",
   "execution_count": 22,
   "metadata": {},
   "outputs": [
    {
     "name": "stdout",
     "output_type": "stream",
     "text": [
      "0.9905807748716495\n"
     ]
    }
   ],
   "source": [
    "pca = PCA(n_components=800)\n",
    "pca.fit(Xtrain)\n",
    "pca_Xtrain=pca.transform(Xtrain)\n",
    "pca_Xtest=pca.transform(Xtest)\n",
    "explained=np.sum(pca.explained_variance_ratio_)\n",
    "print(explained)"
   ]
  },
  {
   "cell_type": "markdown",
   "metadata": {},
   "source": [
    "Case 1. PCA=800, training priors used from now on"
   ]
  },
  {
   "cell_type": "code",
   "execution_count": 23,
   "metadata": {},
   "outputs": [
    {
     "name": "stdout",
     "output_type": "stream",
     "text": [
      "Overall accuracy = 0.7333333333333333;\n",
      "Classwise accuracy = [1. 0.];\n",
      "The learning process takes 0.05781149864196777 seconds.\n"
     ]
    }
   ],
   "source": [
    "p=np.array([1-ship_prob,ship_prob])\n",
    "t0 = time.time()           # start time\n",
    "y_model = mpp.mpp(pca_Xtrain, ytrain, pca_Xtest, 1, p)\n",
    "t1 = time.time()           # ending time\n",
    "acc_classwise, acc_overall = mpp.accuracy_score(ytest, y_model)\n",
    "print(f'Overall accuracy = {acc_overall};')\n",
    "print(f'Classwise accuracy = {acc_classwise};')\n",
    "print(f'The learning process takes {t1 - t0} seconds.')"
   ]
  },
  {
   "cell_type": "markdown",
   "metadata": {},
   "source": [
    "Case 2. PCA=800"
   ]
  },
  {
   "cell_type": "code",
   "execution_count": 24,
   "metadata": {},
   "outputs": [
    {
     "name": "stdout",
     "output_type": "stream",
     "text": [
      "Overall accuracy = 0.915;\n",
      "Classwise accuracy = [0.93181818 0.86875   ];\n",
      "The learning process takes 20.488181114196777 seconds.\n"
     ]
    }
   ],
   "source": [
    "p=np.array([1-ship_prob,ship_prob])\n",
    "t0 = time.time()           # start time\n",
    "y_model = mpp.mpp(pca_Xtrain, ytrain, pca_Xtest, 2, p)\n",
    "t1 = time.time()           # ending time\n",
    "acc_classwise, acc_overall = mpp.accuracy_score(ytest, y_model)\n",
    "print(f'Overall accuracy = {acc_overall};')\n",
    "print(f'Classwise accuracy = {acc_classwise};')\n",
    "print(f'The learning process takes {t1 - t0} seconds.')"
   ]
  },
  {
   "cell_type": "markdown",
   "metadata": {},
   "source": [
    "Case 3. PCA=800"
   ]
  },
  {
   "cell_type": "code",
   "execution_count": 25,
   "metadata": {},
   "outputs": [
    {
     "name": "stdout",
     "output_type": "stream",
     "text": [
      "Overall accuracy = 0.8283333333333334;\n",
      "Classwise accuracy = [0.81818182 0.85625   ];\n",
      "The learning process takes 0.8118290901184082 seconds.\n"
     ]
    }
   ],
   "source": [
    "p=np.array([1-ship_prob,ship_prob])\n",
    "t0 = time.time()           # start time\n",
    "y_model = mpp.mpp(pca2_Xtrain, ytrain, pca2_Xtest, 3, p)\n",
    "t1 = time.time()           # ending time\n",
    "acc_classwise, acc_overall = mpp.accuracy_score(ytest, y_model)\n",
    "print(f'Overall accuracy = {acc_overall};')\n",
    "print(f'Classwise accuracy = {acc_classwise};')\n",
    "print(f'The learning process takes {t1 - t0} seconds.')"
   ]
  },
  {
   "cell_type": "markdown",
   "metadata": {},
   "source": [
    "PCA =200 dimensions kept"
   ]
  },
  {
   "cell_type": "code",
   "execution_count": 26,
   "metadata": {},
   "outputs": [
    {
     "name": "stdout",
     "output_type": "stream",
     "text": [
      "0.9421827530207556\n"
     ]
    }
   ],
   "source": [
    "pca2 = PCA(n_components=200)\n",
    "pca2.fit(Xtrain)\n",
    "pca2_Xtrain=pca2.transform(Xtrain)\n",
    "pca2_Xtest=pca2.transform(Xtest)\n",
    "explained=np.sum(pca2.explained_variance_ratio_)\n",
    "print(explained)"
   ]
  },
  {
   "cell_type": "markdown",
   "metadata": {},
   "source": [
    "Case 1. PCA=200"
   ]
  },
  {
   "cell_type": "code",
   "execution_count": 27,
   "metadata": {},
   "outputs": [
    {
     "name": "stdout",
     "output_type": "stream",
     "text": [
      "Overall accuracy = 0.7366666666666667;\n",
      "Classwise accuracy = [1.     0.0125];\n",
      "The learning process takes 0.01992011070251465 seconds.\n"
     ]
    }
   ],
   "source": [
    "p=np.array([1-ship_prob,ship_prob])\n",
    "t0 = time.time()           # start time\n",
    "y_model = mpp.mpp(pca2_Xtrain, ytrain, pca2_Xtest, 1, p)\n",
    "t1 = time.time()           # ending time\n",
    "acc_classwise, acc_overall = mpp.accuracy_score(ytest, y_model)\n",
    "print(f'Overall accuracy = {acc_overall};')\n",
    "print(f'Classwise accuracy = {acc_classwise};')\n",
    "print(f'The learning process takes {t1 - t0} seconds.')"
   ]
  },
  {
   "cell_type": "markdown",
   "metadata": {},
   "source": [
    "Case 2. PCA=200"
   ]
  },
  {
   "cell_type": "code",
   "execution_count": 28,
   "metadata": {},
   "outputs": [
    {
     "name": "stdout",
     "output_type": "stream",
     "text": [
      "Overall accuracy = 0.91;\n",
      "Classwise accuracy = [0.95681818 0.78125   ];\n",
      "The learning process takes 0.41385936737060547 seconds.\n"
     ]
    }
   ],
   "source": [
    "p=np.array([1-ship_prob,ship_prob])\n",
    "t0 = time.time()           # start time\n",
    "y_model = mpp.mpp(pca2_Xtrain, ytrain, pca2_Xtest, 2, p)\n",
    "t1 = time.time()           # ending time\n",
    "acc_classwise, acc_overall = mpp.accuracy_score(ytest, y_model)\n",
    "print(f'Overall accuracy = {acc_overall};')\n",
    "print(f'Classwise accuracy = {acc_classwise};')\n",
    "print(f'The learning process takes {t1 - t0} seconds.')"
   ]
  },
  {
   "cell_type": "markdown",
   "metadata": {},
   "source": [
    "Case 3. PCA=200"
   ]
  },
  {
   "cell_type": "code",
   "execution_count": 29,
   "metadata": {},
   "outputs": [
    {
     "name": "stdout",
     "output_type": "stream",
     "text": [
      "Overall accuracy = 0.8283333333333334;\n",
      "Classwise accuracy = [0.81818182 0.85625   ];\n",
      "The learning process takes 0.8586685657501221 seconds.\n"
     ]
    }
   ],
   "source": [
    "p=np.array([1-ship_prob,ship_prob])\n",
    "t0 = time.time()           # start time\n",
    "y_model = mpp.mpp(pca2_Xtrain, ytrain, pca2_Xtest, 3, p)\n",
    "t1 = time.time()           # ending time\n",
    "acc_classwise, acc_overall = mpp.accuracy_score(ytest, y_model)\n",
    "print(f'Overall accuracy = {acc_overall};')\n",
    "print(f'Classwise accuracy = {acc_classwise};')\n",
    "print(f'The learning process takes {t1 - t0} seconds.')"
   ]
  },
  {
   "cell_type": "markdown",
   "metadata": {},
   "source": [
    "Join training and validation since upcoming cross-validation will do this split for us"
   ]
  },
  {
   "cell_type": "code",
   "execution_count": 31,
   "metadata": {},
   "outputs": [
    {
     "name": "stdout",
     "output_type": "stream",
     "text": [
      "0.9402989447912148\n"
     ]
    }
   ],
   "source": [
    "pca2 = PCA(n_components=200)\n",
    "Xtrain=np.concatenate((Xtrain,Xvalid))\n",
    "ytrain=np.concatenate((ytrain,yvalid))\n",
    "pca2.fit(Xtrain)\n",
    "pca2_Xtrain=pca2.transform(Xtrain)\n",
    "pca2_Xtest=pca2.transform(Xtest)\n",
    "explained=np.sum(pca2.explained_variance_ratio_)\n",
    "print(explained)"
   ]
  },
  {
   "cell_type": "markdown",
   "metadata": {},
   "source": [
    "Setup for Kfold cross-validation"
   ]
  },
  {
   "cell_type": "code",
   "execution_count": 32,
   "metadata": {},
   "outputs": [],
   "source": [
    "p=np.array([1-ship_prob,ship_prob])\n",
    "X=pca2_Xtrain\n",
    "y=ytrain\n",
    "k=10"
   ]
  },
  {
   "cell_type": "markdown",
   "metadata": {},
   "source": [
    "Case 1"
   ]
  },
  {
   "cell_type": "code",
   "execution_count": 33,
   "metadata": {},
   "outputs": [
    {
     "name": "stdout",
     "output_type": "stream",
     "text": [
      "Accuracy from each fold =  [0.7375, 0.725, 0.785, 0.76, 0.765, 0.785, 0.73, 0.75, 0.77, 0.745]\n",
      "Average Accuracy = 0.75525\n",
      "0.745\n"
     ]
    }
   ],
   "source": [
    "\n",
    "kf=KFold(n_splits=k,random_state=None)\n",
    "acc_scores=[]\n",
    "for train_index,test_index in kf.split(X):\n",
    "    X_train,X_test=X[train_index,:],X[test_index,:]\n",
    "    y_train,y_test=y[train_index],y[test_index]\n",
    "    y_model = mpp.mpp(X_train, y_train, X_test, 1, p)\n",
    "    acc_classwise, acc_overall = mpp.accuracy_score(y_test, y_model)\n",
    "    acc_scores.append(acc_overall)\n",
    "avg_acc=sum(acc_scores)*1.0/k\n",
    "print('Accuracy from each fold =  {}'.format(acc_scores))\n",
    "print('Average Accuracy = {}'.format(avg_acc))\n",
    "y_model = mpp.mpp(X_train, y_train, X_test, 1, p)\n",
    "acc_classwise, acc_overall = mpp.accuracy_score(y_test, y_model)\n",
    "print(acc_overall)"
   ]
  },
  {
   "cell_type": "markdown",
   "metadata": {},
   "source": [
    "Case 2"
   ]
  },
  {
   "cell_type": "code",
   "execution_count": 34,
   "metadata": {},
   "outputs": [
    {
     "name": "stdout",
     "output_type": "stream",
     "text": [
      "Accuracy from each fold =  [0.895, 0.9275, 0.915, 0.94, 0.9125, 0.9625, 0.935, 0.945, 0.93, 0.935]\n",
      "Average Accuracy = 0.9297500000000001\n",
      "0.935\n"
     ]
    }
   ],
   "source": [
    "kf=KFold(n_splits=k,random_state=None)\n",
    "acc_scores=[]\n",
    "for train_index,test_index in kf.split(X):\n",
    "    X_train,X_test=X[train_index,:],X[test_index,:]\n",
    "    y_train,y_test=y[train_index],y[test_index]\n",
    "    y_model = mpp.mpp(X_train, y_train, X_test, 2, p)\n",
    "    acc_classwise, acc_overall = mpp.accuracy_score(y_test, y_model)\n",
    "    acc_scores.append(acc_overall)\n",
    "avg_acc=sum(acc_scores)*1.0/k\n",
    "print('Accuracy from each fold =  {}'.format(acc_scores))\n",
    "print('Average Accuracy = {}'.format(avg_acc))\n",
    "y_model = mpp.mpp(X_train, y_train, X_test, 2, p)\n",
    "acc_classwise, acc_overall = mpp.accuracy_score(y_test, y_model)\n",
    "print(acc_overall)\n",
    "\n"
   ]
  },
  {
   "cell_type": "markdown",
   "metadata": {},
   "source": [
    "Case 3"
   ]
  },
  {
   "cell_type": "code",
   "execution_count": 35,
   "metadata": {},
   "outputs": [
    {
     "name": "stdout",
     "output_type": "stream",
     "text": [
      "Accuracy from each fold =  [0.8225, 0.8, 0.79, 0.8225, 0.7925, 0.7425, 0.7925, 0.84, 0.81, 0.795]\n",
      "Average Accuracy = 0.8007500000000001\n",
      "0.795\n"
     ]
    }
   ],
   "source": [
    "kf=KFold(n_splits=k,random_state=None)\n",
    "acc_scores=[]\n",
    "for train_index,test_index in kf.split(X):\n",
    "    X_train,X_test=X[train_index,:],X[test_index,:]\n",
    "    y_train,y_test=y[train_index],y[test_index]\n",
    "    y_model = mpp.mpp(X_train, y_train, X_test, 3, p)\n",
    "    acc_classwise, acc_overall = mpp.accuracy_score(y_test, y_model)\n",
    "    acc_scores.append(acc_overall)\n",
    "avg_acc=sum(acc_scores)*1.0/k\n",
    "print('Accuracy from each fold =  {}'.format(acc_scores))\n",
    "print('Average Accuracy = {}'.format(avg_acc))\n",
    "y_model = mpp.mpp(X_train, y_train, X_test, 3, p)\n",
    "acc_classwise, acc_overall = mpp.accuracy_score(y_test, y_model)\n",
    "print(acc_overall)\n",
    "\n"
   ]
  },
  {
   "cell_type": "code",
   "execution_count": null,
   "metadata": {},
   "outputs": [],
   "source": []
  }
 ],
 "metadata": {
  "kernelspec": {
   "display_name": "Python 3",
   "language": "python",
   "name": "python3"
  },
  "language_info": {
   "codemirror_mode": {
    "name": "ipython",
    "version": 3
   },
   "file_extension": ".py",
   "mimetype": "text/x-python",
   "name": "python",
   "nbconvert_exporter": "python",
   "pygments_lexer": "ipython3",
   "version": "3.7.9"
  }
 },
 "nbformat": 4,
 "nbformat_minor": 4
}
