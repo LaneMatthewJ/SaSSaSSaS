{
 "cells": [
  {
   "cell_type": "markdown",
   "metadata": {},
   "source": [
    "source: https://www.kaggle.com/tomras/cnn-classifier-using-keras"
   ]
  },
  {
   "cell_type": "code",
   "execution_count": 1,
   "metadata": {},
   "outputs": [
    {
     "name": "stderr",
     "output_type": "stream",
     "text": [
      "Using TensorFlow backend.\n"
     ]
    }
   ],
   "source": [
    "import json\n",
    "import numpy as np\n",
    "from matplotlib import pyplot as plt\n",
    "from keras.utils.np_utils import to_categorical\n",
    "\n",
    "from keras.models import Sequential\n",
    "from keras.layers.core import Flatten, Dense, Dropout, Lambda\n",
    "from keras.layers.convolutional import Conv2D, MaxPooling2D\n",
    "from keras.optimizers import Adam, SGD\n",
    "from sklearn.model_selection import train_test_split\n",
    "\n",
    "from keras.wrappers.scikit_learn import KerasClassifier\n",
    "from sklearn.model_selection import cross_val_score\n",
    "from keras.utils.vis_utils import plot_model\n",
    "import pydot"
   ]
  },
  {
   "cell_type": "markdown",
   "metadata": {},
   "source": [
    "Note: This notebook assumes keras-gpu is installed instead of the regular keras\n",
    "\n",
    "Note: You'll need to downgrade to python 3.7 to install keras-gpu\n",
    "\n",
    "Check for GPUs"
   ]
  },
  {
   "cell_type": "code",
   "execution_count": 2,
   "metadata": {},
   "outputs": [
    {
     "name": "stdout",
     "output_type": "stream",
     "text": [
      "[name: \"/device:CPU:0\"\n",
      "device_type: \"CPU\"\n",
      "memory_limit: 268435456\n",
      "locality {\n",
      "}\n",
      "incarnation: 7119616542357778867\n",
      ", name: \"/device:GPU:0\"\n",
      "device_type: \"GPU\"\n",
      "memory_limit: 6610781471\n",
      "locality {\n",
      "  bus_id: 1\n",
      "  links {\n",
      "  }\n",
      "}\n",
      "incarnation: 10205106067612291229\n",
      "physical_device_desc: \"device: 0, name: GeForce RTX 2070 with Max-Q Design, pci bus id: 0000:01:00.0, compute capability: 7.5\"\n",
      "]\n"
     ]
    }
   ],
   "source": [
    "from tensorflow.python.client import device_lib\n",
    "print(device_lib.list_local_devices())"
   ]
  },
  {
   "cell_type": "markdown",
   "metadata": {},
   "source": [
    "load data"
   ]
  },
  {
   "cell_type": "code",
   "execution_count": 3,
   "metadata": {},
   "outputs": [],
   "source": [
    "f = open(r'./data/shipsnet.json')\n",
    "dataset = json.load(f)\n",
    "f.close()\n",
    "data = np.array(dataset['data']).astype('uint8')\n",
    "labels = np.array(dataset['labels']).astype('uint8')"
   ]
  },
  {
   "cell_type": "markdown",
   "metadata": {},
   "source": [
    "normalize and split data"
   ]
  },
  {
   "cell_type": "code",
   "execution_count": 13,
   "metadata": {},
   "outputs": [
    {
     "name": "stdout",
     "output_type": "stream",
     "text": [
      "(4000, 80, 80, 3)\n",
      "(4000, 2)\n"
     ]
    }
   ],
   "source": [
    "x = data / 255.\n",
    "x = x.reshape([-1, 3, 80, 80]).transpose([0,2,3,1])\n",
    "print(x.shape)\n",
    "trainx=x[:3600]\n",
    "y = to_categorical(labels, num_classes=2)\n",
    "print(y.shape)\n",
    "X_train, X_test, y_train, y_test = train_test_split(x, y, test_size=0.15, random_state=42)"
   ]
  },
  {
   "cell_type": "markdown",
   "metadata": {},
   "source": [
    "define a basic CNN"
   ]
  },
  {
   "cell_type": "code",
   "execution_count": 14,
   "metadata": {},
   "outputs": [],
   "source": [
    "model = Sequential()\n",
    "model.add(Conv2D(32, (3, 3), padding=\"same\", input_shape=(80, 80, 3), activation='relu'))\n",
    "model.add(Conv2D(32, (3, 3), activation='relu'))\n",
    "model.add(MaxPooling2D(pool_size=(2, 2)))\n",
    "model.add(Dropout(0.2))\n",
    "\n",
    "model.add(Conv2D(64, (3, 3), padding=\"same\", activation='relu'))\n",
    "model.add(Conv2D(64, (3, 3), activation='relu'))\n",
    "model.add(MaxPooling2D(pool_size=(2, 2)))\n",
    "\n",
    "model.add(Flatten())\n",
    "model.add(Dense(512, activation='relu'))\n",
    "model.add(Dropout(0.2))\n",
    "model.add(Dense(2, activation='softmax'))\n",
    "    \n",
    "model.compile(loss='categorical_crossentropy', optimizer=SGD(lr=0.01, momentum=0.9, nesterov=True), \n",
    "              metrics=['accuracy'])"
   ]
  },
  {
   "cell_type": "markdown",
   "metadata": {},
   "source": [
    "train the model"
   ]
  },
  {
   "cell_type": "code",
   "execution_count": 15,
   "metadata": {},
   "outputs": [
    {
     "name": "stdout",
     "output_type": "stream",
     "text": [
      "Train on 2720 samples, validate on 680 samples\n",
      "Epoch 1/40\n",
      "2720/2720 [==============================] - 2s 785us/step - loss: 0.3508 - accuracy: 0.8485 - val_loss: 0.1663 - val_accuracy: 0.9324s: 0.4681  - ETA: 0s - loss: 0.3877 - accuracy:  - ETA: 0s - loss: 0.3687 - accuracy: \n",
      "Epoch 2/40\n",
      "2720/2720 [==============================] - 2s 721us/step - loss: 0.1849 - accuracy: 0.9217 - val_loss: 0.1091 - val_accuracy: 0.9529\n",
      "Epoch 3/40\n",
      "2720/2720 [==============================] - 2s 720us/step - loss: 0.1856 - accuracy: 0.9228 - val_loss: 0.1000 - val_accuracy: 0.9618\n",
      "Epoch 4/40\n",
      "2720/2720 [==============================] - 2s 718us/step - loss: 0.0871 - accuracy: 0.9680 - val_loss: 0.1027 - val_accuracy: 0.96031s - loss: 0.0888 - accuracy - ETA: 1s - loss: 0.1068 - accuracy - ETA: 0s - loss: 0.1010 - accuracy: 0. - ETA: 0s - loss: 0.0960 - ac - ETA: 0s - loss: 0.0882 - accuracy\n",
      "Epoch 5/40\n",
      "2720/2720 [==============================] - 2s 715us/step - loss: 0.0652 - accuracy: 0.9746 - val_loss: 0.0562 - val_accuracy: 0.9809 0.0 - ETA: 0s - loss: 0.0673 - ac\n",
      "Epoch 6/40\n",
      "2720/2720 [==============================] - 2s 723us/step - loss: 0.0535 - accuracy: 0.9820 - val_loss: 0.0601 - val_accuracy: 0.9779\n",
      "Epoch 7/40\n",
      "2720/2720 [==============================] - 2s 723us/step - loss: 0.0482 - accuracy: 0.9820 - val_loss: 0.0561 - val_accuracy: 0.9838\n",
      "Epoch 8/40\n",
      "2720/2720 [==============================] - 2s 722us/step - loss: 0.0410 - accuracy: 0.9875 - val_loss: 0.0570 - val_accuracy: 0.9838 - loss: 0.0370 - accu\n",
      "Epoch 9/40\n",
      "2720/2720 [==============================] - 2s 708us/step - loss: 0.0221 - accuracy: 0.9930 - val_loss: 0.0606 - val_accuracy: 0.9838.0215 - ac\n",
      "Epoch 10/40\n",
      "2720/2720 [==============================] - 2s 728us/step - loss: 0.0289 - accuracy: 0.9912 - val_loss: 0.0525 - val_accuracy: 0.98240s - loss: 0.0330 - accu\n",
      "Epoch 11/40\n",
      "2720/2720 [==============================] - 2s 726us/step - loss: 0.0147 - accuracy: 0.9945 - val_loss: 0.0668 - val_accuracy: 0.97651 - accuracy: 0. - ETA: 0s - loss: 0.0119 - accuracy:  - ETA: 0s - loss: 0.0113 - \n",
      "Epoch 12/40\n",
      "2720/2720 [==============================] - 2s 727us/step - loss: 0.0139 - accuracy: 0.9945 - val_loss: 0.0624 - val_accuracy: 0.9838\n",
      "Epoch 13/40\n",
      "2720/2720 [==============================] - 2s 735us/step - loss: 0.0163 - accuracy: 0.9949 - val_loss: 0.0682 - val_accuracy: 0.9853 - loss: 0.0071 - accuracy:  - ETA: 0s - loss: 0.0116 - accuracy: 0.99 - ETA: 0s - loss: 0.0156 \n",
      "Epoch 14/40\n",
      "2720/2720 [==============================] - 2s 732us/step - loss: 0.0056 - accuracy: 0.9978 - val_loss: 0.0992 - val_accuracy: 0.9706racy\n",
      "Epoch 15/40\n",
      "2720/2720 [==============================] - 2s 722us/step - loss: 0.0189 - accuracy: 0.9945 - val_loss: 0.0740 - val_accuracy: 0.9853\n",
      "Epoch 16/40\n",
      "2720/2720 [==============================] - 2s 721us/step - loss: 0.0058 - accuracy: 0.9982 - val_loss: 0.0854 - val_accuracy: 0.98820s - loss: 0.0043 - accura - ETA: 0s - loss: 0.0064 - accuracy: 0.99 - ETA: 0s - loss: 0.0065 - ac - ETA: 0s - loss: 0.0060 - accuracy: 0.\n",
      "Epoch 17/40\n",
      "2720/2720 [==============================] - 2s 721us/step - loss: 0.0040 - accuracy: 0.9989 - val_loss: 0.0844 - val_accuracy: 0.9912 - loss: 0.0058 - accuracy: 0.99 - ETA: 0s - loss: 0.0060 - ac - ETA: 0s - loss: 0.0049 - accuracy: 0. - ETA: 0s - loss: 0.0046 - accuracy\n",
      "Epoch 18/40\n",
      "2720/2720 [==============================] - 2s 719us/step - loss: 0.0078 - accuracy: 0.9978 - val_loss: 0.0854 - val_accuracy: 0.9809\n",
      "Epoch 19/40\n",
      "2720/2720 [==============================] - 2s 714us/step - loss: 0.0054 - accuracy: 0.9982 - val_loss: 0.0820 - val_accuracy: 0.98091s - loss: - ETA: 0s - loss: 0.0057 - accu\n",
      "Epoch 20/40\n",
      "2720/2720 [==============================] - 2s 718us/step - loss: 0.0055 - accuracy: 0.9978 - val_loss: 0.0876 - val_accuracy: 0.9838s: 0.0\n",
      "Epoch 21/40\n",
      "2720/2720 [==============================] - 2s 721us/step - loss: 7.4093e-04 - accuracy: 1.0000 - val_loss: 0.0906 - val_accuracy: 0.9838\n",
      "Epoch 22/40\n",
      "2720/2720 [==============================] - 2s 724us/step - loss: 4.5120e-04 - accuracy: 1.0000 - val_loss: 0.0947 - val_accuracy: 0.98680s - loss: 4.7865e-04 - accuracy: \n",
      "Epoch 23/40\n",
      "2720/2720 [==============================] - 2s 716us/step - loss: 2.2746e-04 - accuracy: 1.0000 - val_loss: 0.0941 - val_accuracy: 0.98824 - accuracy: 1. - ETA: 0s - loss: 2.6917e-04 - accuracy: 1.00 - ETA: 0s - loss: 2.6389e-04 - accuracy: 1. - ETA: 0s - loss: 2.4580e-04 - accuracy: \n",
      "Epoch 24/40\n",
      "2720/2720 [==============================] - 2s 726us/step - loss: 1.5171e-04 - accuracy: 1.0000 - val_loss: 0.0970 - val_accuracy: 0.9882TA: 1s - los - ETA: 0s - loss: 1.6237e-04 - accuracy: 1. - ETA: 0s - loss: 1.5908e-04 - accuracy\n",
      "Epoch 25/40\n",
      "2720/2720 [==============================] - 2s 717us/step - loss: 1.1220e-04 - accuracy: 1.0000 - val_loss: 0.0982 - val_accuracy: 0.9868 1.1246e-04 - accuracy: 1.\n",
      "Epoch 26/40\n",
      "2720/2720 [==============================] - 2s 724us/step - loss: 2.0514e-04 - accuracy: 1.0000 - val_loss: 0.1024 - val_accuracy: 0.9868: 0s - loss: 2.6136e-04 -  - ETA: 0s - loss: 2.1221e-04 - accuracy: 1.00\n",
      "Epoch 27/40\n",
      "2720/2720 [==============================] - 2s 717us/step - loss: 1.3403e-04 - accuracy: 1.0000 - val_loss: 0.1036 - val_accuracy: 0.9868\n",
      "Epoch 28/40\n",
      "2720/2720 [==============================] - 2s 722us/step - loss: 6.7722e-05 - accuracy: 1.0000 - val_loss: 0.1022 - val_accuracy: 0.9868\n",
      "Epoch 29/40\n",
      "2720/2720 [==============================] - 2s 718us/step - loss: 1.4120e-04 - accuracy: 1.0000 - val_loss: 0.1040 - val_accuracy: 0.9868cy\n",
      "Epoch 30/40\n",
      "2720/2720 [==============================] - 2s 724us/step - loss: 1.1534e-04 - accuracy: 1.0000 - val_loss: 0.1073 - val_accuracy: 0.9868\n",
      "Epoch 31/40\n",
      "2720/2720 [==============================] - 2s 716us/step - loss: 9.7477e-05 - accuracy: 1.0000 - val_loss: 0.1071 - val_accuracy: 0.9853\n",
      "Epoch 32/40\n",
      "2720/2720 [==============================] - 2s 718us/step - loss: 9.5324e-05 - accuracy: 1.0000 - val_loss: 0.1063 - val_accuracy: 0.9853 4.4448e-05 - accuracy: 1. - ETA: 0s - loss: 1\n",
      "Epoch 33/40\n",
      "2720/2720 [==============================] - 2s 718us/step - loss: 6.4890e-05 - accuracy: 1.0000 - val_loss: 0.1081 - val_accuracy: 0.9853: 1s - los - ETA: 0s - loss: 6.9119e-05 - accura\n",
      "Epoch 34/40\n",
      "2720/2720 [==============================] - 2s 718us/step - loss: 2.5974e-05 - accuracy: 1.0000 - val_loss: 0.1091 - val_accuracy: 0.9853\n",
      "Epoch 35/40\n",
      "2720/2720 [==============================] - 2s 717us/step - loss: 5.5631e-05 - accuracy: 1.0000 - val_loss: 0.1119 - val_accuracy: 0.9868\n",
      "Epoch 36/40\n",
      "2720/2720 [==============================] - 2s 721us/step - loss: 4.4361e-05 - accuracy: 1.0000 - val_loss: 0.1117 - val_accuracy: 0.9853\n",
      "Epoch 37/40\n",
      "2720/2720 [==============================] - 2s 726us/step - loss: 4.0162e-05 - accuracy: 1.0000 - val_loss: 0.1120 - val_accuracy: 0.9868\n",
      "Epoch 38/40\n",
      "2720/2720 [==============================] - 2s 720us/step - loss: 2.0570e-05 - accuracy: 1.0000 - val_loss: 0.1122 - val_accuracy: 0.9868\n",
      "Epoch 39/40\n",
      "2720/2720 [==============================] - 2s 724us/step - loss: 3.1885e-05 - accuracy: 1.0000 - val_loss: 0.1134 - val_accuracy: 0.9868TA: 0s - loss: 2.9263e-05 \n",
      "Epoch 40/40\n",
      "2720/2720 [==============================] - 2s 726us/step - loss: 4.4402e-05 - accuracy: 1.0000 - val_loss: 0.1155 - val_accuracy: 0.9868\n",
      "600/600 [==============================] - 0s 321us/step\n",
      "Test loss: 0.1047318780635078\n",
      "Test accuracy: 0.9866666793823242\n"
     ]
    }
   ],
   "source": [
    "history = model.fit(X_train, y_train, batch_size=32, epochs=40, validation_split=0.2)\n",
    "score = model.evaluate(X_test, y_test) \n",
    "print('Test loss:', score[0]) \n",
    "print('Test accuracy:', score[1])"
   ]
  },
  {
   "cell_type": "code",
   "execution_count": 7,
   "metadata": {},
   "outputs": [
    {
     "name": "stdout",
     "output_type": "stream",
     "text": [
      "Model: \"sequential_1\"\n",
      "_________________________________________________________________\n",
      "Layer (type)                 Output Shape              Param #   \n",
      "=================================================================\n",
      "conv2d_1 (Conv2D)            (None, 80, 80, 32)        896       \n",
      "_________________________________________________________________\n",
      "conv2d_2 (Conv2D)            (None, 78, 78, 32)        9248      \n",
      "_________________________________________________________________\n",
      "max_pooling2d_1 (MaxPooling2 (None, 39, 39, 32)        0         \n",
      "_________________________________________________________________\n",
      "dropout_1 (Dropout)          (None, 39, 39, 32)        0         \n",
      "_________________________________________________________________\n",
      "conv2d_3 (Conv2D)            (None, 39, 39, 64)        18496     \n",
      "_________________________________________________________________\n",
      "conv2d_4 (Conv2D)            (None, 37, 37, 64)        36928     \n",
      "_________________________________________________________________\n",
      "max_pooling2d_2 (MaxPooling2 (None, 18, 18, 64)        0         \n",
      "_________________________________________________________________\n",
      "flatten_1 (Flatten)          (None, 20736)             0         \n",
      "_________________________________________________________________\n",
      "dense_1 (Dense)              (None, 512)               10617344  \n",
      "_________________________________________________________________\n",
      "dropout_2 (Dropout)          (None, 512)               0         \n",
      "_________________________________________________________________\n",
      "dense_2 (Dense)              (None, 2)                 1026      \n",
      "=================================================================\n",
      "Total params: 10,683,938\n",
      "Trainable params: 10,683,938\n",
      "Non-trainable params: 0\n",
      "_________________________________________________________________\n",
      "None\n"
     ]
    }
   ],
   "source": [
    "print(model.summary())\n"
   ]
  },
  {
   "cell_type": "code",
   "execution_count": 8,
   "metadata": {},
   "outputs": [
    {
     "data": {
      "image/png": "[encoded data removed]",
      "text/plain": [
       "<IPython.core.display.Image object>"
      ]
     },
     "execution_count": 8,
     "metadata": {},
     "output_type": "execute_result"
    }
   ],
   "source": [
    "\n",
    "plot_model(model, to_file='model_plot.png', show_shapes=True, show_layer_names=True)"
   ]
  },
  {
   "cell_type": "markdown",
   "metadata": {},
   "source": [
    "create the model in a way that can be passed to a scikit wrapper for cross-validation"
   ]
  },
  {
   "cell_type": "code",
   "execution_count": 9,
   "metadata": {},
   "outputs": [],
   "source": [
    "def create():\n",
    "    model = Sequential()\n",
    "    model.add(Conv2D(32, (3, 3), padding=\"same\", input_shape=(80, 80, 3), activation='relu'))\n",
    "    model.add(Conv2D(32, (3, 3), activation='relu'))\n",
    "    model.add(MaxPooling2D(pool_size=(2, 2)))\n",
    "    model.add(Dropout(0.2))\n",
    "\n",
    "    model.add(Conv2D(64, (3, 3), padding=\"same\", activation='relu'))\n",
    "    model.add(Conv2D(64, (3, 3), activation='relu'))\n",
    "    model.add(MaxPooling2D(pool_size=(2, 2)))\n",
    "\n",
    "    model.add(Flatten())\n",
    "    model.add(Dense(512, activation='relu'))\n",
    "    model.add(Dropout(0.2))\n",
    "    model.add(Dense(2, activation='softmax'))\n",
    "    \n",
    "    model.compile(loss='categorical_crossentropy', optimizer=SGD(lr=0.01, momentum=0.9, nesterov=True), \n",
    "              metrics=['accuracy'])\n",
    "    return model"
   ]
  },
  {
   "cell_type": "markdown",
   "metadata": {},
   "source": [
    "run cross-validation"
   ]
  },
  {
   "cell_type": "code",
   "execution_count": 10,
   "metadata": {},
   "outputs": [
    {
     "name": "stdout",
     "output_type": "stream",
     "text": [
      "Train on 1812 samples, validate on 454 samples\n",
      "Epoch 1/40\n",
      "1812/1812 [==============================] - 2s 1ms/step - loss: 0.4209 - accuracy: 0.8173 - val_loss: 0.2163 - val_accuracy: 0.9163\n",
      "Epoch 2/40\n",
      "1812/1812 [==============================] - 1s 753us/step - loss: 0.2471 - accuracy: 0.8979 - val_loss: 0.1746 - val_accuracy: 0.9361\n",
      "Epoch 3/40\n",
      "1812/1812 [==============================] - 1s 746us/step - loss: 0.1962 - accuracy: 0.9227 - val_loss: 0.1584 - val_accuracy: 0.9449\n",
      "Epoch 4/40\n",
      "1812/1812 [==============================] - 1s 752us/step - loss: 0.1574 - accuracy: 0.9404 - val_loss: 0.0987 - val_accuracy: 0.9670\n",
      "Epoch 5/40\n",
      "1812/1812 [==============================] - 1s 738us/step - loss: 0.1081 - accuracy: 0.9570 - val_loss: 0.0811 - val_accuracy: 0.9692\n",
      "Epoch 6/40\n",
      "1812/1812 [==============================] - 1s 741us/step - loss: 0.0742 - accuracy: 0.9757 - val_loss: 0.0736 - val_accuracy: 0.9714\n",
      "Epoch 7/40\n",
      "1812/1812 [==============================] - 1s 741us/step - loss: 0.1007 - accuracy: 0.9647 - val_loss: 0.1105 - val_accuracy: 0.9581\n",
      "Epoch 8/40\n",
      "1812/1812 [==============================] - 1s 746us/step - loss: 0.0881 - accuracy: 0.9735 - val_loss: 0.1165 - val_accuracy: 0.9581\n",
      "Epoch 9/40\n",
      "1812/1812 [==============================] - 1s 753us/step - loss: 0.0659 - accuracy: 0.9812 - val_loss: 0.1036 - val_accuracy: 0.9581\n",
      "Epoch 10/40\n",
      "1812/1812 [==============================] - 1s 759us/step - loss: 0.0586 - accuracy: 0.9812 - val_loss: 0.0655 - val_accuracy: 0.9714\n",
      "Epoch 11/40\n",
      "1812/1812 [==============================] - 1s 757us/step - loss: 0.0303 - accuracy: 0.9917 - val_loss: 0.1281 - val_accuracy: 0.9449\n",
      "Epoch 12/40\n",
      "1812/1812 [==============================] - 1s 741us/step - loss: 0.0262 - accuracy: 0.9939 - val_loss: 0.0690 - val_accuracy: 0.9692 0.0301 - accuracy: 0.99 - ETA: 0s - loss: 0.0286 - accura\n",
      "Epoch 13/40\n",
      "1812/1812 [==============================] - 1s 736us/step - loss: 0.0193 - accuracy: 0.9945 - val_loss: 0.0507 - val_accuracy: 0.9780\n",
      "Epoch 14/40\n",
      "1812/1812 [==============================] - 1s 739us/step - loss: 0.0144 - accuracy: 0.9956 - val_loss: 0.1027 - val_accuracy: 0.9648\n",
      "Epoch 15/40\n",
      "1812/1812 [==============================] - 1s 740us/step - loss: 0.0187 - accuracy: 0.9939 - val_loss: 0.0610 - val_accuracy: 0.9824\n",
      "Epoch 16/40\n",
      "1812/1812 [==============================] - 1s 758us/step - loss: 0.0097 - accuracy: 0.9978 - val_loss: 0.1075 - val_accuracy: 0.9670\n",
      "Epoch 17/40\n",
      "1812/1812 [==============================] - 1s 732us/step - loss: 0.0145 - accuracy: 0.9945 - val_loss: 0.1384 - val_accuracy: 0.9604\n",
      "Epoch 18/40\n",
      "1812/1812 [==============================] - 1s 738us/step - loss: 0.0070 - accuracy: 0.9978 - val_loss: 0.0704 - val_accuracy: 0.9824\n",
      "Epoch 19/40\n",
      "1812/1812 [==============================] - 1s 741us/step - loss: 0.0139 - accuracy: 0.9950 - val_loss: 0.0582 - val_accuracy: 0.9846\n",
      "Epoch 20/40\n",
      "1812/1812 [==============================] - 1s 741us/step - loss: 0.0045 - accuracy: 0.9989 - val_loss: 0.0764 - val_accuracy: 0.9780\n",
      "Epoch 21/40\n",
      "1812/1812 [==============================] - 1s 736us/step - loss: 0.0014 - accuracy: 1.0000 - val_loss: 0.0733 - val_accuracy: 0.9824\n",
      "Epoch 22/40\n",
      "1812/1812 [==============================] - 1s 738us/step - loss: 0.0014 - accuracy: 0.9994 - val_loss: 0.0727 - val_accuracy: 0.9868\n",
      "Epoch 23/40\n",
      "1812/1812 [==============================] - 1s 741us/step - loss: 3.3999e-04 - accuracy: 1.0000 - val_loss: 0.0751 - val_accuracy: 0.9846319e-04 - accura\n",
      "Epoch 24/40\n",
      "1812/1812 [==============================] - 1s 742us/step - loss: 3.3413e-04 - accuracy: 1.0000 - val_loss: 0.0754 - val_accuracy: 0.9846\n",
      "Epoch 25/40\n",
      "1812/1812 [==============================] - 1s 740us/step - loss: 2.8614e-04 - accuracy: 1.0000 - val_loss: 0.0760 - val_accuracy: 0.9846\n",
      "Epoch 26/40\n",
      "1812/1812 [==============================] - 1s 744us/step - loss: 1.3257e-04 - accuracy: 1.0000 - val_loss: 0.0814 - val_accuracy: 0.9846\n",
      "Epoch 27/40\n",
      "1812/1812 [==============================] - 1s 742us/step - loss: 1.2775e-04 - accuracy: 1.0000 - val_loss: 0.0800 - val_accuracy: 0.9846\n",
      "Epoch 28/40\n",
      "1812/1812 [==============================] - ETA: 0s - loss: 3.3024e-04 - accuracy: 1.0000 ETA: 0s - loss: 2.9795e-04 - accuracy:  - 1s 743us/step - loss: 3.2347e-04 - accuracy: 1.0000 - val_loss: 0.0854 - val_accuracy: 0.9824\n",
      "Epoch 29/40\n",
      "1812/1812 [==============================] - 1s 738us/step - loss: 3.5616e-04 - accuracy: 1.0000 - val_loss: 0.0941 - val_accuracy: 0.9824\n",
      "Epoch 30/40\n",
      "1812/1812 [==============================] - 1s 743us/step - loss: 3.0532e-04 - accuracy: 1.0000 - val_loss: 0.0872 - val_accuracy: 0.9824\n",
      "Epoch 31/40\n",
      "1812/1812 [==============================] - 1s 740us/step - loss: 1.0573e-04 - accuracy: 1.0000 - val_loss: 0.0858 - val_accuracy: 0.9824\n",
      "Epoch 32/40\n",
      "1812/1812 [==============================] - 1s 741us/step - loss: 9.4802e-05 - accuracy: 1.0000 - val_loss: 0.0843 - val_accuracy: 0.9846\n",
      "Epoch 33/40\n",
      "1812/1812 [==============================] - 1s 743us/step - loss: 7.5346e-05 - accuracy: 1.0000 - val_loss: 0.0836 - val_accuracy: 0.9868oss: 8.0688e-05 - accuracy: 1.\n",
      "Epoch 34/40\n",
      "1812/1812 [==============================] - 1s 742us/step - loss: 4.8313e-05 - accuracy: 1.0000 - val_loss: 0.0842 - val_accuracy: 0.9868\n",
      "Epoch 35/40\n",
      "1812/1812 [==============================] - 1s 742us/step - loss: 6.6104e-05 - accuracy: 1.0000 - val_loss: 0.0858 - val_accuracy: 0.9868\n",
      "Epoch 36/40\n",
      "1812/1812 [==============================] - 1s 737us/step - loss: 8.1536e-05 - accuracy: 1.0000 - val_loss: 0.0850 - val_accuracy: 0.9846\n",
      "Epoch 37/40\n",
      "1812/1812 [==============================] - 1s 732us/step - loss: 3.5591e-05 - accuracy: 1.0000 - val_loss: 0.0848 - val_accuracy: 0.9868\n",
      "Epoch 38/40\n",
      "1812/1812 [==============================] - 1s 734us/step - loss: 4.8147e-04 - accuracy: 1.0000 - val_loss: 0.0949 - val_accuracy: 0.9714: 0s - loss: 5.1040e-05 - accu\n",
      "Epoch 39/40\n",
      "1812/1812 [==============================] - 1s 738us/step - loss: 0.0126 - accuracy: 0.9972 - val_loss: 0.1263 - val_accuracy: 0.9780\n",
      "Epoch 40/40\n",
      "1812/1812 [==============================] - 1s 743us/step - loss: 0.0060 - accuracy: 0.9972 - val_loss: 0.0813 - val_accuracy: 0.9868\n",
      "1134/1134 [==============================] - 0s 432us/step\n",
      "Train on 1813 samples, validate on 454 samples\n",
      "Epoch 1/40\n",
      "1813/1813 [==============================] - 2s 1ms/step - loss: 0.4235 - accuracy: 0.8130 - val_loss: 0.2201 - val_accuracy: 0.9141\n",
      "Epoch 2/40\n",
      "1813/1813 [==============================] - 1s 743us/step - loss: 0.2566 - accuracy: 0.8842 - val_loss: 0.1787 - val_accuracy: 0.9427\n",
      "Epoch 3/40\n",
      "1813/1813 [==============================] - 1s 742us/step - loss: 0.1976 - accuracy: 0.9184 - val_loss: 0.1182 - val_accuracy: 0.9537\n",
      "Epoch 4/40\n",
      "1813/1813 [==============================] - 1s 734us/step - loss: 0.1240 - accuracy: 0.9509 - val_loss: 0.1048 - val_accuracy: 0.9559\n",
      "Epoch 5/40\n",
      "1813/1813 [==============================] - 1s 753us/step - loss: 0.0948 - accuracy: 0.9664 - val_loss: 0.0680 - val_accuracy: 0.9714\n",
      "Epoch 6/40\n",
      "1813/1813 [==============================] - 1s 737us/step - loss: 0.0846 - accuracy: 0.9669 - val_loss: 0.0759 - val_accuracy: 0.9780\n",
      "Epoch 7/40\n",
      "1813/1813 [==============================] - 1s 738us/step - loss: 0.0473 - accuracy: 0.9829 - val_loss: 0.0682 - val_accuracy: 0.9758\n",
      "Epoch 8/40\n",
      "1813/1813 [==============================] - 1s 752us/step - loss: 0.0381 - accuracy: 0.9890 - val_loss: 0.0635 - val_accuracy: 0.9802\n",
      "Epoch 9/40\n",
      "1813/1813 [==============================] - 1s 740us/step - loss: 0.0258 - accuracy: 0.9890 - val_loss: 0.0620 - val_accuracy: 0.9846\n",
      "Epoch 10/40\n",
      "1813/1813 [==============================] - 1s 736us/step - loss: 0.0340 - accuracy: 0.9873 - val_loss: 0.0966 - val_accuracy: 0.9604\n",
      "Epoch 11/40\n",
      "1813/1813 [==============================] - 1s 735us/step - loss: 0.0236 - accuracy: 0.9901 - val_loss: 0.0656 - val_accuracy: 0.9824\n",
      "Epoch 12/40\n",
      "1813/1813 [==============================] - 1s 732us/step - loss: 0.0098 - accuracy: 0.9967 - val_loss: 0.0635 - val_accuracy: 0.9846\n",
      "Epoch 13/40\n",
      "1813/1813 [==============================] - 1s 742us/step - loss: 0.0294 - accuracy: 0.9906 - val_loss: 0.0528 - val_accuracy: 0.9846\n"
     ]
    },
    {
     "name": "stdout",
     "output_type": "stream",
     "text": [
      "Epoch 14/40\n",
      "1813/1813 [==============================] - 1s 744us/step - loss: 0.0056 - accuracy: 0.9994 - val_loss: 0.0603 - val_accuracy: 0.9846\n",
      "Epoch 15/40\n",
      "1813/1813 [==============================] - 1s 736us/step - loss: 0.0020 - accuracy: 1.0000 - val_loss: 0.0612 - val_accuracy: 0.9890\n",
      "Epoch 16/40\n",
      "1813/1813 [==============================] - 1s 742us/step - loss: 9.9794e-04 - accuracy: 1.0000 - val_loss: 0.0609 - val_accuracy: 0.9846oss: 0.0012 - accu\n",
      "Epoch 17/40\n",
      "1813/1813 [==============================] - 1s 741us/step - loss: 5.7885e-04 - accuracy: 1.0000 - val_loss: 0.0570 - val_accuracy: 0.9846\n",
      "Epoch 18/40\n",
      "1813/1813 [==============================] - 1s 767us/step - loss: 4.8905e-04 - accuracy: 1.0000 - val_loss: 0.0596 - val_accuracy: 0.9868\n",
      "Epoch 19/40\n",
      "1813/1813 [==============================] - 1s 749us/step - loss: 2.1240e-04 - accuracy: 1.0000 - val_loss: 0.0655 - val_accuracy: 0.9868\n",
      "Epoch 20/40\n",
      "1813/1813 [==============================] - 1s 765us/step - loss: 0.0037 - accuracy: 0.9989 - val_loss: 0.0591 - val_accuracy: 0.9846\n",
      "Epoch 21/40\n",
      "1813/1813 [==============================] - 1s 739us/step - loss: 0.0260 - accuracy: 0.9934 - val_loss: 0.1087 - val_accuracy: 0.9692\n",
      "Epoch 22/40\n",
      "1813/1813 [==============================] - 1s 742us/step - loss: 0.0128 - accuracy: 0.9972 - val_loss: 0.0505 - val_accuracy: 0.9890\n",
      "Epoch 23/40\n",
      "1813/1813 [==============================] - 1s 740us/step - loss: 0.0057 - accuracy: 0.9983 - val_loss: 0.0618 - val_accuracy: 0.9846\n",
      "Epoch 24/40\n",
      "1813/1813 [==============================] - 1s 748us/step - loss: 0.0026 - accuracy: 0.9989 - val_loss: 0.0623 - val_accuracy: 0.9824\n",
      "Epoch 25/40\n",
      "1813/1813 [==============================] - 1s 741us/step - loss: 0.0070 - accuracy: 0.9978 - val_loss: 0.0680 - val_accuracy: 0.9846\n",
      "Epoch 26/40\n",
      "1813/1813 [==============================] - 1s 735us/step - loss: 0.0082 - accuracy: 0.9967 - val_loss: 0.0600 - val_accuracy: 0.9846\n",
      "Epoch 27/40\n",
      "1813/1813 [==============================] - 1s 733us/step - loss: 0.0026 - accuracy: 0.9994 - val_loss: 0.0697 - val_accuracy: 0.9846\n",
      "Epoch 28/40\n",
      "1813/1813 [==============================] - 1s 738us/step - loss: 7.5916e-04 - accuracy: 1.0000 - val_loss: 0.0902 - val_accuracy: 0.9824\n",
      "Epoch 29/40\n",
      "1813/1813 [==============================] - 1s 731us/step - loss: 5.8673e-04 - accuracy: 1.0000 - val_loss: 0.0777 - val_accuracy: 0.9868\n",
      "Epoch 30/40\n",
      "1813/1813 [==============================] - 1s 740us/step - loss: 1.9908e-04 - accuracy: 1.0000 - val_loss: 0.0770 - val_accuracy: 0.9868\n",
      "Epoch 31/40\n",
      "1813/1813 [==============================] - 1s 737us/step - loss: 1.4202e-04 - accuracy: 1.0000 - val_loss: 0.0745 - val_accuracy: 0.9890\n",
      "Epoch 32/40\n",
      "1813/1813 [==============================] - 1s 740us/step - loss: 1.8538e-04 - accuracy: 1.0000 - val_loss: 0.0784 - val_accuracy: 0.9846\n",
      "Epoch 33/40\n",
      "1813/1813 [==============================] - 1s 737us/step - loss: 1.2343e-04 - accuracy: 1.0000 - val_loss: 0.0772 - val_accuracy: 0.9868\n",
      "Epoch 34/40\n",
      "1813/1813 [==============================] - 1s 735us/step - loss: 2.4727e-04 - accuracy: 1.0000 - val_loss: 0.0796 - val_accuracy: 0.9890\n",
      "Epoch 35/40\n",
      "1813/1813 [==============================] - 1s 742us/step - loss: 1.3201e-04 - accuracy: 1.0000 - val_loss: 0.0766 - val_accuracy: 0.9890 - loss: 1.7212e-04 - accuracy: 1.00 - ETA: 0s - loss: 1.6360e-04 - accura\n",
      "Epoch 36/40\n",
      "1813/1813 [==============================] - 1s 746us/step - loss: 6.6630e-05 - accuracy: 1.0000 - val_loss: 0.0775 - val_accuracy: 0.9890\n",
      "Epoch 37/40\n",
      "1813/1813 [==============================] - 1s 733us/step - loss: 5.1888e-05 - accuracy: 1.0000 - val_loss: 0.0786 - val_accuracy: 0.9890\n",
      "Epoch 38/40\n",
      "1813/1813 [==============================] - 1s 740us/step - loss: 6.2725e-05 - accuracy: 1.0000 - val_loss: 0.0793 - val_accuracy: 0.9890\n",
      "Epoch 39/40\n",
      "1813/1813 [==============================] - 1s 734us/step - loss: 4.2066e-04 - accuracy: 1.0000 - val_loss: 0.0687 - val_accuracy: 0.9868\n",
      "Epoch 40/40\n",
      "1813/1813 [==============================] - 1s 740us/step - loss: 1.5484e-04 - accuracy: 1.0000 - val_loss: 0.0733 - val_accuracy: 0.98900s - loss: 1.1901e-04 - accuracy: 1.\n",
      "1133/1133 [==============================] - 0s 419us/step\n",
      "Train on 1813 samples, validate on 454 samples\n",
      "Epoch 1/40\n",
      "1813/1813 [==============================] - 2s 868us/step - loss: 0.4852 - accuracy: 0.7739 - val_loss: 0.3019 - val_accuracy: 0.8789\n",
      "Epoch 2/40\n",
      "1813/1813 [==============================] - 1s 735us/step - loss: 0.2545 - accuracy: 0.8902 - val_loss: 0.1966 - val_accuracy: 0.9207\n",
      "Epoch 3/40\n",
      "1813/1813 [==============================] - 1s 745us/step - loss: 0.1889 - accuracy: 0.9250 - val_loss: 0.1518 - val_accuracy: 0.9273\n",
      "Epoch 4/40\n",
      "1813/1813 [==============================] - 1s 746us/step - loss: 0.1430 - accuracy: 0.9465 - val_loss: 0.1192 - val_accuracy: 0.9515\n",
      "Epoch 5/40\n",
      "1813/1813 [==============================] - 1s 768us/step - loss: 0.1007 - accuracy: 0.9603 - val_loss: 0.1066 - val_accuracy: 0.9648\n",
      "Epoch 6/40\n",
      "1813/1813 [==============================] - 1s 749us/step - loss: 0.0813 - accuracy: 0.9708 - val_loss: 0.0759 - val_accuracy: 0.9758\n",
      "Epoch 7/40\n",
      "1813/1813 [==============================] - 1s 745us/step - loss: 0.0806 - accuracy: 0.9730 - val_loss: 0.1069 - val_accuracy: 0.9692\n",
      "Epoch 8/40\n",
      "1813/1813 [==============================] - 1s 746us/step - loss: 0.0716 - accuracy: 0.9763 - val_loss: 0.0999 - val_accuracy: 0.9692\n",
      "Epoch 9/40\n",
      "1813/1813 [==============================] - 1s 744us/step - loss: 0.0561 - accuracy: 0.9790 - val_loss: 0.0629 - val_accuracy: 0.9824\n",
      "Epoch 10/40\n",
      "1813/1813 [==============================] - 1s 749us/step - loss: 0.0437 - accuracy: 0.9862 - val_loss: 0.0507 - val_accuracy: 0.9780 - loss: 0.0456 \n",
      "Epoch 11/40\n",
      "1813/1813 [==============================] - 1s 745us/step - loss: 0.0246 - accuracy: 0.9906 - val_loss: 0.0729 - val_accuracy: 0.9824\n",
      "Epoch 12/40\n",
      "1813/1813 [==============================] - 1s 741us/step - loss: 0.0202 - accuracy: 0.9912 - val_loss: 0.0410 - val_accuracy: 0.9846\n",
      "Epoch 13/40\n",
      "1813/1813 [==============================] - 1s 758us/step - loss: 0.0147 - accuracy: 0.9934 - val_loss: 0.1147 - val_accuracy: 0.9692\n",
      "Epoch 14/40\n",
      "1813/1813 [==============================] - 1s 741us/step - loss: 0.0343 - accuracy: 0.9851 - val_loss: 0.1272 - val_accuracy: 0.9559\n",
      "Epoch 15/40\n",
      "1813/1813 [==============================] - 2s 845us/step - loss: 0.0317 - accuracy: 0.9862 - val_loss: 0.0706 - val_accuracy: 0.9780\n",
      "Epoch 16/40\n",
      "1813/1813 [==============================] - 1s 741us/step - loss: 0.0100 - accuracy: 0.9967 - val_loss: 0.0549 - val_accuracy: 0.9846\n",
      "Epoch 17/40\n",
      "1813/1813 [==============================] - 1s 735us/step - loss: 0.0052 - accuracy: 0.9989 - val_loss: 0.0815 - val_accuracy: 0.9714\n",
      "Epoch 18/40\n",
      "1813/1813 [==============================] - 1s 746us/step - loss: 0.0062 - accuracy: 0.9983 - val_loss: 0.0488 - val_accuracy: 0.9868\n",
      "Epoch 19/40\n",
      "1813/1813 [==============================] - 1s 758us/step - loss: 0.0068 - accuracy: 0.9972 - val_loss: 0.0317 - val_accuracy: 0.9912\n",
      "Epoch 20/40\n",
      "1813/1813 [==============================] - 1s 762us/step - loss: 0.0055 - accuracy: 0.9989 - val_loss: 0.0297 - val_accuracy: 0.9868\n",
      "Epoch 21/40\n",
      "1813/1813 [==============================] - 1s 734us/step - loss: 0.0039 - accuracy: 0.9989 - val_loss: 0.0834 - val_accuracy: 0.9780\n",
      "Epoch 22/40\n",
      "1813/1813 [==============================] - 1s 735us/step - loss: 0.0096 - accuracy: 0.9972 - val_loss: 0.0464 - val_accuracy: 0.9912\n",
      "Epoch 23/40\n",
      "1813/1813 [==============================] - 1s 735us/step - loss: 0.0028 - accuracy: 0.9994 - val_loss: 0.0168 - val_accuracy: 0.9934\n",
      "Epoch 24/40\n",
      "1813/1813 [==============================] - 1s 751us/step - loss: 6.0997e-04 - accuracy: 1.0000 - val_loss: 0.0172 - val_accuracy: 0.9956\n",
      "Epoch 25/40\n",
      "1813/1813 [==============================] - 1s 745us/step - loss: 7.6435e-04 - accuracy: 1.0000 - val_loss: 0.0154 - val_accuracy: 0.9956\n",
      "Epoch 26/40\n",
      "1813/1813 [==============================] - 1s 752us/step - loss: 6.0804e-04 - accuracy: 1.0000 - val_loss: 0.0171 - val_accuracy: 0.9956TA: 0s - loss: 3.6766e-04 - accura\n",
      "Epoch 27/40\n",
      "1813/1813 [==============================] - 1s 740us/step - loss: 4.4673e-04 - accuracy: 1.0000 - val_loss: 0.0158 - val_accuracy: 0.9934\n",
      "Epoch 28/40\n",
      "1813/1813 [==============================] - 1s 746us/step - loss: 2.2328e-04 - accuracy: 1.0000 - val_loss: 0.0174 - val_accuracy: 0.9934\n",
      "Epoch 29/40\n",
      "1813/1813 [==============================] - 1s 744us/step - loss: 1.8736e-04 - accuracy: 1.0000 - val_loss: 0.0146 - val_accuracy: 0.9934\n",
      "Epoch 30/40\n",
      "1813/1813 [==============================] - 1s 745us/step - loss: 2.5344e-04 - accuracy: 1.0000 - val_loss: 0.0187 - val_accuracy: 0.9934\n",
      "Epoch 31/40\n",
      "1813/1813 [==============================] - 1s 737us/step - loss: 1.3561e-04 - accuracy: 1.0000 - val_loss: 0.0174 - val_accuracy: 0.9934\n",
      "Epoch 32/40\n",
      "1813/1813 [==============================] - 1s 756us/step - loss: 2.9798e-04 - accuracy: 1.0000 - val_loss: 0.0111 - val_accuracy: 0.9978\n",
      "Epoch 33/40\n",
      "1813/1813 [==============================] - 1s 740us/step - loss: 7.3972e-05 - accuracy: 1.0000 - val_loss: 0.0112 - val_accuracy: 0.9978\n",
      "Epoch 34/40\n",
      "1813/1813 [==============================] - 1s 734us/step - loss: 4.0727e-04 - accuracy: 1.0000 - val_loss: 0.0304 - val_accuracy: 0.9846\n",
      "Epoch 35/40\n",
      "1813/1813 [==============================] - 1s 736us/step - loss: 2.4215e-04 - accuracy: 1.0000 - val_loss: 0.0186 - val_accuracy: 0.9912\n",
      "Epoch 36/40\n",
      "1813/1813 [==============================] - 1s 739us/step - loss: 1.0331e-04 - accuracy: 1.0000 - val_loss: 0.0153 - val_accuracy: 0.9934\n",
      "Epoch 37/40\n",
      "1813/1813 [==============================] - 1s 737us/step - loss: 0.0020 - accuracy: 0.9994 - val_loss: 0.0153 - val_accuracy: 0.9912\n",
      "Epoch 38/40\n",
      "1813/1813 [==============================] - 1s 743us/step - loss: 8.6362e-04 - accuracy: 1.0000 - val_loss: 0.0198 - val_accuracy: 0.9934\n",
      "Epoch 39/40\n",
      "1813/1813 [==============================] - 1s 740us/step - loss: 2.8104e-04 - accuracy: 1.0000 - val_loss: 0.0238 - val_accuracy: 0.9934\n",
      "Epoch 40/40\n",
      "1813/1813 [==============================] - 1s 752us/step - loss: 1.3857e-04 - accuracy: 1.0000 - val_loss: 0.0211 - val_accuracy: 0.9934\n",
      "1133/1133 [==============================] - 0s 326us/step\n",
      "0.983237624168396\n"
     ]
    }
   ],
   "source": [
    "cnn = KerasClassifier(build_fn=create, epochs=40, batch_size=32,validation_split=.2)\n",
    "scores=cross_val_score(cnn, X_train, y_train, cv=3)\n",
    "print(np.mean(scores))"
   ]
  },
  {
   "cell_type": "code",
   "execution_count": null,
   "metadata": {},
   "outputs": [],
   "source": []
  },
  {
   "cell_type": "markdown",
   "metadata": {},
   "source": [
    "try and fail to create a roc curve for this network"
   ]
  },
  {
   "cell_type": "code",
   "execution_count": 11,
   "metadata": {},
   "outputs": [],
   "source": [
    "\n",
    "#from sklearn.metrics import roc_curve\n",
    "#y_pred_keras = keras_model.predict(X_test)\n",
    "#print(y_pred_keras)\n",
    "#y_pred_keras=np.max(y_pred_keras,axis=1)\n",
    "#print(y_test.shape)\n",
    "#print(np.max(y_test,axis=1))\n",
    "#fpr_keras, tpr_keras, thresholds_keras = roc_curve(np.max(y_test,axis=1), y_pred_keras)\n",
    "#from sklearn.metrics import auc\n",
    "#auc_keras = auc(fpr_keras, tpr_keras)"
   ]
  },
  {
   "cell_type": "code",
   "execution_count": 12,
   "metadata": {},
   "outputs": [],
   "source": [
    "\n",
    "#plt.figure(1)\n",
    "#plt.plot([0, 1], [0, 1], 'k--')\n",
    "#plt.plot(fpr_keras, tpr_keras, label='Keras (area = {:.3f})'.format(auc_keras))\n",
    "#plt.xlabel('False positive rate')\n",
    "#plt.ylabel('True positive rate')\n",
    "#plt.title('ROC curve')\n",
    "#plt.legend(loc='best')\n",
    "#plt.show()"
   ]
  },
  {
   "cell_type": "code",
   "execution_count": null,
   "metadata": {},
   "outputs": [],
   "source": []
  }
 ],
 "metadata": {
  "kernelspec": {
   "display_name": "Python 3",
   "language": "python",
   "name": "python3"
  },
  "language_info": {
   "codemirror_mode": {
    "name": "ipython",
    "version": 3
   },
   "file_extension": ".py",
   "mimetype": "text/x-python",
   "name": "python",
   "nbconvert_exporter": "python",
   "pygments_lexer": "ipython3",
   "version": "3.8.5"
  }
 },
 "nbformat": 4,
 "nbformat_minor": 4
}
