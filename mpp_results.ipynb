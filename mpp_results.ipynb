{
 "cells": [
  {
   "cell_type": "code",
   "execution_count": 1,
   "metadata": {},
   "outputs": [],
   "source": [
    "import mpp_classifiers as mpp\n",
    "import load_ship_data as lsd\n",
    "import numpy as np\n",
    "import time\n",
    "from sklearn.decomposition import PCA\n",
    "from sklearn.model_selection import KFold"
   ]
  },
  {
   "cell_type": "markdown",
   "metadata": {},
   "source": [
    "MPP notebook\n",
    "\n",
    "get data via our data loader"
   ]
  },
  {
   "cell_type": "code",
   "execution_count": 2,
   "metadata": {
    "scrolled": true
   },
   "outputs": [
    {
     "name": "stdout",
     "output_type": "stream",
     "text": [
      "Training Set Data Length:  2800   Label Length:  2800\n",
      "TestingSet Set Data Length:  600  Label Length:  600\n",
      "Validation Set Data Length:  600  Label Length:  600\n"
     ]
    }
   ],
   "source": [
    "\n",
    "data_path=\"data/shipsnet.json\"\n",
    "train,test,valid=lsd.load_data_train_test_split(data_path)\n",
    "def conf(pred,y):\n",
    "    T0=sum([1 if x==y and y==0 else 0 for (x,y) in zip(pred,y)])\n",
    "    T1=sum([1 if x==y and y==1 else 0 for (x,y) in zip(pred,y)])\n",
    "    F0=sum([1 if x!=y and y==0 else 0 for (x,y) in zip(pred,y)])\n",
    "    F1=sum([1 if x!=y and y==1 else 0 for (x,y) in zip(pred,y)])\n",
    "    return np.array([[T0,F0],[F1,T1]])"
   ]
  },
  {
   "cell_type": "markdown",
   "metadata": {},
   "source": [
    "Setup data splits and priors\n",
    "\n",
    "Note: we split into train/valid/test as above, then we merge train+valid\n",
    "\n",
    "This arrangement is due to scikit learn handling validation for us, a feature we were unaware of when designing data loader"
   ]
  },
  {
   "cell_type": "code",
   "execution_count": 3,
   "metadata": {},
   "outputs": [
    {
     "name": "stdout",
     "output_type": "stream",
     "text": [
      "[0.7525 0.2475]\n",
      "(2800, 19200)\n",
      "(600, 19200)\n",
      "(600, 19200)\n",
      "(3400, 19200)\n",
      "(3400,)\n"
     ]
    }
   ],
   "source": [
    "ship_prob=np.sum(train[1])*1.0/train[1].shape[0]\n",
    "p=np.array([1-ship_prob,ship_prob])\n",
    "print(p)\n",
    "Xtrain=train[0]\n",
    "ytrain=train[1]\n",
    "Xtest=test[0]\n",
    "ytest=test[1]\n",
    "Xvalid=valid[0]\n",
    "yvalid=valid[1]\n",
    "Xtrain=Xtrain.reshape(Xtrain.shape[0],Xtrain.shape[1]*Xtrain.shape[2]*Xtrain.shape[3])\n",
    "Xtest=Xtest.reshape(Xtest.shape[0],Xtest.shape[1]*Xtest.shape[2]*Xtest.shape[3])\n",
    "Xvalid=Xvalid.reshape(Xvalid.shape[0],Xvalid.shape[1]*Xvalid.shape[2]*Xvalid.shape[3])\n",
    "print(Xtrain.shape)\n",
    "print(Xtest.shape)\n",
    "print(Xvalid.shape)\n",
    "Xtrain=np.concatenate((Xtrain,Xvalid))\n",
    "ytrain=np.concatenate((ytrain,yvalid))\n",
    "print(Xtrain.shape)\n",
    "print(ytrain.shape)"
   ]
  },
  {
   "cell_type": "markdown",
   "metadata": {},
   "source": [
    "Case 1. No PCA, even priors"
   ]
  },
  {
   "cell_type": "code",
   "execution_count": 4,
   "metadata": {},
   "outputs": [
    {
     "name": "stdout",
     "output_type": "stream",
     "text": [
      "Overall accuracy = 0.67;\n",
      "Classwise accuracy = [0.68584071 0.62162162];\n",
      "The learning process takes 16.534067153930664 seconds.\n",
      "[[310 142]\n",
      " [ 56  92]]\n"
     ]
    }
   ],
   "source": [
    "\n",
    "p55=np.array([.5,.5])\n",
    "t0 = time.time()           # start time\n",
    "y_model = mpp.mpp(Xtrain, ytrain, Xtest, 1, p55)\n",
    "t1 = time.time()           # ending time\n",
    "acc_classwise, acc_overall = mpp.accuracy_score(ytest, y_model)\n",
    "print(f'Overall accuracy = {acc_overall};')\n",
    "print(f'Classwise accuracy = {acc_classwise};')\n",
    "print(f'The learning process takes {t1 - t0} seconds.')\n",
    "ar=conf(y_model,ytest)\n",
    "print(ar)"
   ]
  },
  {
   "cell_type": "markdown",
   "metadata": {},
   "source": [
    "Case 2. No PCA, prior assumes ships are rare"
   ]
  },
  {
   "cell_type": "code",
   "execution_count": 5,
   "metadata": {},
   "outputs": [
    {
     "name": "stdout",
     "output_type": "stream",
     "text": [
      "Overall accuracy = 0.7533333333333333;\n",
      "Classwise accuracy = [1. 0.];\n",
      "The learning process takes 17.973310708999634 seconds.\n",
      "[[452   0]\n",
      " [148   0]]\n"
     ]
    }
   ],
   "source": [
    "p91=np.array([.9,.1])\n",
    "t0 = time.time()           # start time\n",
    "y_model = mpp.mpp(Xtrain, ytrain, Xtest, 1, p91)\n",
    "t1 = time.time()           # ending time\n",
    "acc_classwise, acc_overall = mpp.accuracy_score(ytest, y_model)\n",
    "print(f'Overall accuracy = {acc_overall};')\n",
    "print(f'Classwise accuracy = {acc_classwise};')\n",
    "print(f'The learning process takes {t1 - t0} seconds.')\n",
    "ar=conf(y_model,ytest)\n",
    "print(ar)"
   ]
  },
  {
   "cell_type": "markdown",
   "metadata": {},
   "source": [
    "Case 1. No PCA, priors from training data"
   ]
  },
  {
   "cell_type": "code",
   "execution_count": 6,
   "metadata": {},
   "outputs": [
    {
     "name": "stdout",
     "output_type": "stream",
     "text": [
      "Overall accuracy = 0.7533333333333333;\n",
      "Classwise accuracy = [1. 0.];\n",
      "The learning process takes 18.152722120285034 seconds.\n",
      "[[452   0]\n",
      " [148   0]]\n"
     ]
    }
   ],
   "source": [
    "p=np.array([1-ship_prob,ship_prob])\n",
    "t0 = time.time()           # start time\n",
    "y_model = mpp.mpp(Xtrain, ytrain, Xtest, 1, p)\n",
    "t1 = time.time()           # ending time\n",
    "acc_classwise, acc_overall = mpp.accuracy_score(ytest, y_model)\n",
    "print(f'Overall accuracy = {acc_overall};')\n",
    "print(f'Classwise accuracy = {acc_classwise};')\n",
    "print(f'The learning process takes {t1 - t0} seconds.')\n",
    "ar=conf(y_model,ytest)\n",
    "print(ar)"
   ]
  },
  {
   "cell_type": "markdown",
   "metadata": {},
   "source": [
    "PCA = 850 dimensions kept"
   ]
  },
  {
   "cell_type": "code",
   "execution_count": 7,
   "metadata": {},
   "outputs": [
    {
     "name": "stdout",
     "output_type": "stream",
     "text": [
      "0.9902384322929967\n"
     ]
    }
   ],
   "source": [
    "pca = PCA(n_components=850)\n",
    "pca.fit(Xtrain)\n",
    "pca_Xtrain=pca.transform(Xtrain)\n",
    "pca_Xtest=pca.transform(Xtest)\n",
    "explained=np.sum(pca.explained_variance_ratio_)\n",
    "print(explained)"
   ]
  },
  {
   "cell_type": "markdown",
   "metadata": {},
   "source": [
    "Case 1. PCA=850, training priors used from now on"
   ]
  },
  {
   "cell_type": "code",
   "execution_count": 8,
   "metadata": {},
   "outputs": [
    {
     "name": "stdout",
     "output_type": "stream",
     "text": [
      "Overall accuracy = 0.7533333333333333;\n",
      "Classwise accuracy = [1. 0.];\n",
      "The learning process takes 0.09625029563903809 seconds.\n",
      "[[452   0]\n",
      " [148   0]]\n"
     ]
    }
   ],
   "source": [
    "p=np.array([1-ship_prob,ship_prob])\n",
    "t0 = time.time()           # start time\n",
    "y_model = mpp.mpp(pca_Xtrain, ytrain, pca_Xtest, 1, p)\n",
    "t1 = time.time()           # ending time\n",
    "acc_classwise, acc_overall = mpp.accuracy_score(ytest, y_model)\n",
    "print(f'Overall accuracy = {acc_overall};')\n",
    "print(f'Classwise accuracy = {acc_classwise};')\n",
    "print(f'The learning process takes {t1 - t0} seconds.')\n",
    "ar=conf(y_model,ytest)\n",
    "print(ar)"
   ]
  },
  {
   "cell_type": "markdown",
   "metadata": {},
   "source": [
    "Case 2. PCA=850"
   ]
  },
  {
   "cell_type": "code",
   "execution_count": 9,
   "metadata": {},
   "outputs": [
    {
     "name": "stdout",
     "output_type": "stream",
     "text": [
      "Overall accuracy = 0.9166666666666666;\n",
      "Classwise accuracy = [0.94690265 0.82432432];\n",
      "The learning process takes 38.98410153388977 seconds.\n",
      "[[428  24]\n",
      " [ 26 122]]\n"
     ]
    }
   ],
   "source": [
    "p=np.array([1-ship_prob,ship_prob])\n",
    "t0 = time.time()           # start time\n",
    "y_model = mpp.mpp(pca_Xtrain, ytrain, pca_Xtest, 2, p)\n",
    "t1 = time.time()           # ending time\n",
    "acc_classwise, acc_overall = mpp.accuracy_score(ytest, y_model)\n",
    "print(f'Overall accuracy = {acc_overall};')\n",
    "print(f'Classwise accuracy = {acc_classwise};')\n",
    "print(f'The learning process takes {t1 - t0} seconds.')\n",
    "ar=conf(y_model,ytest)\n",
    "print(ar)"
   ]
  },
  {
   "cell_type": "markdown",
   "metadata": {},
   "source": [
    "Case 3. PCA=850"
   ]
  },
  {
   "cell_type": "code",
   "execution_count": 10,
   "metadata": {},
   "outputs": [
    {
     "name": "stdout",
     "output_type": "stream",
     "text": [
      "Overall accuracy = 0.7533333333333333;\n",
      "Classwise accuracy = [1. 0.];\n",
      "The learning process takes 54.95141100883484 seconds.\n",
      "[[452   0]\n",
      " [148   0]]\n"
     ]
    }
   ],
   "source": [
    "p=np.array([1-ship_prob,ship_prob])\n",
    "t0 = time.time()           # start time\n",
    "y_model = mpp.mpp(pca_Xtrain, ytrain, pca_Xtest, 3, p)\n",
    "t1 = time.time()           # ending time\n",
    "acc_classwise, acc_overall = mpp.accuracy_score(ytest, y_model)\n",
    "print(f'Overall accuracy = {acc_overall};')\n",
    "print(f'Classwise accuracy = {acc_classwise};')\n",
    "print(f'The learning process takes {t1 - t0} seconds.')\n",
    "ar=conf(y_model,ytest)\n",
    "print(ar)"
   ]
  },
  {
   "cell_type": "markdown",
   "metadata": {},
   "source": [
    "PCA =245 dimensions kept"
   ]
  },
  {
   "cell_type": "code",
   "execution_count": 11,
   "metadata": {},
   "outputs": [
    {
     "name": "stdout",
     "output_type": "stream",
     "text": [
      "0.9501829567993927\n"
     ]
    }
   ],
   "source": [
    "pca2 = PCA(n_components=245)\n",
    "pca2.fit(Xtrain)\n",
    "pca2_Xtrain=pca2.transform(Xtrain)\n",
    "pca2_Xtest=pca2.transform(Xtest)\n",
    "explained=np.sum(pca2.explained_variance_ratio_)\n",
    "print(explained)"
   ]
  },
  {
   "cell_type": "markdown",
   "metadata": {},
   "source": [
    "Case 1. PCA=245"
   ]
  },
  {
   "cell_type": "code",
   "execution_count": 12,
   "metadata": {},
   "outputs": [
    {
     "name": "stdout",
     "output_type": "stream",
     "text": [
      "Overall accuracy = 0.7533333333333333;\n",
      "Classwise accuracy = [1. 0.];\n",
      "The learning process takes 0.04390287399291992 seconds.\n",
      "[[452   0]\n",
      " [148   0]]\n"
     ]
    }
   ],
   "source": [
    "p=np.array([1-ship_prob,ship_prob])\n",
    "t0 = time.time()           # start time\n",
    "y_model = mpp.mpp(pca2_Xtrain, ytrain, pca2_Xtest, 1, p)\n",
    "t1 = time.time()           # ending time\n",
    "acc_classwise, acc_overall = mpp.accuracy_score(ytest, y_model)\n",
    "print(f'Overall accuracy = {acc_overall};')\n",
    "print(f'Classwise accuracy = {acc_classwise};')\n",
    "print(f'The learning process takes {t1 - t0} seconds.')\n",
    "ar=conf(y_model,ytest)\n",
    "print(ar)"
   ]
  },
  {
   "cell_type": "markdown",
   "metadata": {},
   "source": [
    "Case 2. PCA=245"
   ]
  },
  {
   "cell_type": "code",
   "execution_count": 13,
   "metadata": {},
   "outputs": [
    {
     "name": "stdout",
     "output_type": "stream",
     "text": [
      "Overall accuracy = 0.925;\n",
      "Classwise accuracy = [0.96238938 0.81081081];\n",
      "The learning process takes 1.7007274627685547 seconds.\n",
      "[[435  17]\n",
      " [ 28 120]]\n"
     ]
    }
   ],
   "source": [
    "p=np.array([1-ship_prob,ship_prob])\n",
    "t0 = time.time()           # start time\n",
    "y_model = mpp.mpp(pca2_Xtrain, ytrain, pca2_Xtest, 2, p)\n",
    "t1 = time.time()           # ending time\n",
    "acc_classwise, acc_overall = mpp.accuracy_score(ytest, y_model)\n",
    "print(f'Overall accuracy = {acc_overall};')\n",
    "print(f'Classwise accuracy = {acc_classwise};')\n",
    "print(f'The learning process takes {t1 - t0} seconds.')\n",
    "ar=conf(y_model,ytest)\n",
    "print(ar)"
   ]
  },
  {
   "cell_type": "markdown",
   "metadata": {},
   "source": [
    "Case 3. PCA=245"
   ]
  },
  {
   "cell_type": "code",
   "execution_count": 14,
   "metadata": {},
   "outputs": [
    {
     "name": "stdout",
     "output_type": "stream",
     "text": [
      "Overall accuracy = 0.785;\n",
      "Classwise accuracy = [0.78982301 0.77027027];\n",
      "The learning process takes 3.0437214374542236 seconds.\n",
      "[[357  95]\n",
      " [ 34 114]]\n"
     ]
    }
   ],
   "source": [
    "p=np.array([1-ship_prob,ship_prob])\n",
    "t0 = time.time()           # start time\n",
    "y_model = mpp.mpp(pca2_Xtrain, ytrain, pca2_Xtest, 3, p)\n",
    "t1 = time.time()           # ending time\n",
    "acc_classwise, acc_overall = mpp.accuracy_score(ytest, y_model)\n",
    "print(f'Overall accuracy = {acc_overall};')\n",
    "print(f'Classwise accuracy = {acc_classwise};')\n",
    "print(f'The learning process takes {t1 - t0} seconds.')\n",
    "ar=conf(y_model,ytest)\n",
    "print(ar)"
   ]
  },
  {
   "cell_type": "markdown",
   "metadata": {},
   "source": [
    "Setup for Kfold cross-validation"
   ]
  },
  {
   "cell_type": "code",
   "execution_count": 15,
   "metadata": {},
   "outputs": [],
   "source": [
    "p=np.array([1-ship_prob,ship_prob])\n",
    "X=pca2_Xtrain\n",
    "y=ytrain\n",
    "k=10"
   ]
  },
  {
   "cell_type": "markdown",
   "metadata": {},
   "source": [
    "Case 1"
   ]
  },
  {
   "cell_type": "code",
   "execution_count": 16,
   "metadata": {},
   "outputs": [
    {
     "name": "stdout",
     "output_type": "stream",
     "text": [
      "Accuracy from each fold =  [0.7588235294117647, 0.7588235294117647, 0.788235294117647, 0.7676470588235295, 0.7323529411764705, 0.7823529411764706, 0.7235294117647059, 0.7176470588235294, 0.7852941176470588, 0.7029411764705882]\n",
      "Average Accuracy = 0.7517647058823529\n"
     ]
    }
   ],
   "source": [
    "\n",
    "kf=KFold(n_splits=k,random_state=None)\n",
    "acc_scores=[]\n",
    "for train_index,test_index in kf.split(X):\n",
    "    X_train,X_test=X[train_index,:],X[test_index,:]\n",
    "    y_train,y_test=y[train_index],y[test_index]\n",
    "    y_model = mpp.mpp(X_train, y_train, X_test, 1, p)\n",
    "    acc_classwise, acc_overall = mpp.accuracy_score(y_test, y_model)\n",
    "    acc_scores.append(acc_overall)\n",
    "avg_acc=sum(acc_scores)*1.0/k\n",
    "print('Accuracy from each fold =  {}'.format(acc_scores))\n",
    "print('Average Accuracy = {}'.format(avg_acc))"
   ]
  },
  {
   "cell_type": "markdown",
   "metadata": {},
   "source": [
    "Case 2"
   ]
  },
  {
   "cell_type": "code",
   "execution_count": 17,
   "metadata": {},
   "outputs": [
    {
     "name": "stdout",
     "output_type": "stream",
     "text": [
      "Accuracy from each fold =  [0.9058823529411765, 0.9117647058823529, 0.9352941176470588, 0.9205882352941176, 0.9176470588235294, 0.9323529411764706, 0.9117647058823529, 0.9235294117647059, 0.9235294117647059, 0.9029411764705882]\n",
      "Average Accuracy = 0.9185294117647059\n"
     ]
    }
   ],
   "source": [
    "kf=KFold(n_splits=k,random_state=None)\n",
    "acc_scores=[]\n",
    "for train_index,test_index in kf.split(X):\n",
    "    X_train,X_test=X[train_index,:],X[test_index,:]\n",
    "    y_train,y_test=y[train_index],y[test_index]\n",
    "    y_model = mpp.mpp(X_train, y_train, X_test, 2, p)\n",
    "    acc_classwise, acc_overall = mpp.accuracy_score(y_test, y_model)\n",
    "    acc_scores.append(acc_overall)\n",
    "avg_acc=sum(acc_scores)*1.0/k\n",
    "print('Accuracy from each fold =  {}'.format(acc_scores))\n",
    "print('Average Accuracy = {}'.format(avg_acc))\n"
   ]
  },
  {
   "cell_type": "markdown",
   "metadata": {},
   "source": [
    "Case 3"
   ]
  },
  {
   "cell_type": "code",
   "execution_count": 18,
   "metadata": {},
   "outputs": [
    {
     "name": "stdout",
     "output_type": "stream",
     "text": [
      "Accuracy from each fold =  [0.8205882352941176, 0.7852941176470588, 0.8088235294117647, 0.7970588235294118, 0.7676470588235295, 0.7852941176470588, 0.8058823529411765, 0.7852941176470588, 0.8, 0.7911764705882353]\n",
      "Average Accuracy = 0.7947058823529412\n"
     ]
    }
   ],
   "source": [
    "kf=KFold(n_splits=k,random_state=None)\n",
    "acc_scores=[]\n",
    "for train_index,test_index in kf.split(X):\n",
    "    X_train,X_test=X[train_index,:],X[test_index,:]\n",
    "    y_train,y_test=y[train_index],y[test_index]\n",
    "    y_model = mpp.mpp(X_train, y_train, X_test, 3, p)\n",
    "    acc_classwise, acc_overall = mpp.accuracy_score(y_test, y_model)\n",
    "    acc_scores.append(acc_overall)\n",
    "avg_acc=sum(acc_scores)*1.0/k\n",
    "print('Accuracy from each fold =  {}'.format(acc_scores))\n",
    "print('Average Accuracy = {}'.format(avg_acc))\n"
   ]
  }
 ],
 "metadata": {
  "kernelspec": {
   "display_name": "Python 3",
   "language": "python",
   "name": "python3"
  },
  "language_info": {
   "codemirror_mode": {
    "name": "ipython",
    "version": 3
   },
   "file_extension": ".py",
   "mimetype": "text/x-python",
   "name": "python",
   "nbconvert_exporter": "python",
   "pygments_lexer": "ipython3",
   "version": "3.7.9"
  }
 },
 "nbformat": 4,
 "nbformat_minor": 4
}
