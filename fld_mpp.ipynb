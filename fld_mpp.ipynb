{
 "cells": [
  {
   "cell_type": "code",
   "execution_count": 1,
   "metadata": {},
   "outputs": [],
   "source": [
    "import mpp_classifiers as mpp\n",
    "import load_ship_data as lsd\n",
    "import numpy as np\n",
    "import time\n",
    "from sklearn.decomposition import PCA\n",
    "from sklearn.model_selection import KFold\n",
    "import load_ship_data as lsd"
   ]
  },
  {
   "cell_type": "code",
   "execution_count": 2,
   "metadata": {},
   "outputs": [
    {
     "name": "stdout",
     "output_type": "stream",
     "text": [
      "Training Set Data Length:  2800   Label Length:  2800\n",
      "TestingSet Set Data Length:  600  Label Length:  600\n",
      "Validation Set Data Length:  600  Label Length:  600\n",
      "[0.7525 0.2475]\n",
      "(2800, 19200)\n",
      "(600, 19200)\n",
      "2\n",
      "(3400, 19200)\n",
      "(3400,)\n"
     ]
    }
   ],
   "source": [
    "np.random.seed(522)\n",
    "data_path=\"data/shipsnet.json\"\n",
    "train,test,valid=lsd.load_data_train_test_split(data_path)    \n",
    "ship_prob=np.sum(train[1])*1.0/train[1].shape[0]\n",
    "p=np.array([1-ship_prob,ship_prob])\n",
    "print(p)\n",
    "Xtrain=train[0]\n",
    "ytrain=train[1]\n",
    "Xtest=test[0]\n",
    "ytest=test[1]\n",
    "Xvalid=valid[0]\n",
    "yvalid=valid[1]\n",
    "Xtrain=Xtrain.reshape(Xtrain.shape[0],Xtrain.shape[1]*Xtrain.shape[2]*Xtrain.shape[3])\n",
    "Xtest=Xtest.reshape(Xtest.shape[0],Xtest.shape[1]*Xtest.shape[2]*Xtest.shape[3])\n",
    "Xvalid=Xvalid.reshape(Xvalid.shape[0],Xvalid.shape[1]*Xvalid.shape[2]*Xvalid.shape[3])\n",
    "print(Xtrain.shape)\n",
    "print(Xtest.shape)\n",
    "print(len(Xvalid.shape))\n",
    "Xtrain=np.concatenate((Xtrain,Xvalid))\n",
    "ytrain=np.concatenate((ytrain,yvalid))\n",
    "print(Xtrain.shape)\n",
    "print(ytrain.shape)"
   ]
  },
  {
   "cell_type": "code",
   "execution_count": 9,
   "metadata": {},
   "outputs": [],
   "source": [
    "class Fld:\n",
    "    def __init__(self):\n",
    "        self.class_means={}\n",
    "        self.class_scatter={}\n",
    "        \n",
    "    def fit(self,Xtrain,ytrain):\n",
    "        data = np.column_stack((Xtrain, ytrain))\n",
    "        class0=data[np.where(data[:,-1]==0)]\n",
    "        class1=data[np.where(data[:,-1]==1)]\n",
    "        \n",
    "        self.class_means[0]=np.mean(class0[:,:-1],axis=0)\n",
    "        self.class_means[1]=np.mean(class1[:,:-1],axis=0)\n",
    "        self.class_scatter[0]=np.dot((class0[:,:-1]-self.class_means[0]).T,(class0[:,:-1]-self.class_means[0]))\n",
    "        self.class_scatter[1]=np.dot((class1[:,:-1]-self.class_means[1]).T,(class1[:,:-1]-self.class_means[1]))\n",
    "        self.scatter=np.linalg.inv(self.class_scatter[0]+self.class_scatter[1])\n",
    "        \n",
    "        temp=self.class_means[0]-self.class_means[1]\n",
    "        self.w=np.dot(self.scatter,temp)\n",
    "       # print(self.w)\n",
    "        projected=np.dot(self.w,Xtrain.T)\n",
    "       # print(projected.shape)\n",
    "        data=np.c_[projected,ytrain]\n",
    "   #     print(data)\n",
    "        class0=data[np.where(data[:,-1]==0)]\n",
    "        class1=data[np.where(data[:,-1]==1)]\n",
    "        self.mean0=np.mean(class0[:,0],axis=0)\n",
    "        self.mean1=np.mean(class1[:,0],axis=0)\n",
    "        self.var0=np.var(class0[:,0],axis=0)\n",
    "        self.var1=np.var(class1[:,0],axis=0)\n",
    "    #    print(self.var0,self.mean0)\n",
    "     #   print(projected.shape)\n",
    "        return projected\n",
    "    \n",
    "    def _pdf(self,x,mean,var):\n",
    "        return 1.0/sqrt(2*pi*var)*exp(((x-mean)**2)/(-2*var))\n",
    "        \n",
    "        \n",
    "    def transform(self,Xtest,prior0,prior1):\n",
    "        proj=np.dot(self.w, Xtest.T).T\n",
    "        return proj"
   ]
  },
  {
   "cell_type": "code",
   "execution_count": 10,
   "metadata": {},
   "outputs": [],
   "source": [
    "F=Fld()\n",
    "fld_train=F.fit(Xtrain,ytrain)\n",
    "fld_test=F.transform(Xtest,p[0],p[1])"
   ]
  },
  {
   "cell_type": "code",
   "execution_count": 11,
   "metadata": {},
   "outputs": [],
   "source": [
    "\n",
    "#old code for euclidean distance\n",
    "def Euclid(rain_data,est_data,prior1,prior2):\n",
    "\n",
    "    class1 = rain_data[np.where(rain_data[:,-1] == 0)]\n",
    "    class2 = rain_data[np.where(rain_data[:,-1] == 1)]\n",
    "\n",
    "    mean1=np.mean(class1[:,:-1],axis=0)\n",
    "    mean2=np.mean(class2[:,:-1],axis=0)\n",
    "    std1=np.std(class1[:,:-1],axis=0)\n",
    "    std2=np.std(class2[:,:-1],axis=0)\n",
    "    data_wc=est_data[:,:-1]\n",
    "\n",
    "    std1=std1.T\n",
    "    std2=std2.T\n",
    "    std_ave=(std1+std2)/2\n",
    "    std_ave=np.sum(std_ave)/std_ave.shape[0]\n",
    "#    print(\"stdev: \",std_ave)\n",
    "\n",
    "    mean1=mean1.T\n",
    "#    print(\"mean1: \",mean1)\n",
    "    mean2=mean2.T\n",
    " #   print(\"mean2: \",mean2)\n",
    "    norm_class1=-(np.linalg.norm(est_data[:,0:-1]-mean1, axis=1))**2/std_ave**2+np.log(prior1)\n",
    "    norm_class2=-(np.linalg.norm(est_data[:,0:-1]-mean2,axis=1))**2/std_ave**2+np.log(prior2)\n",
    "    ans=[0 if x > y else 1 for (x,y) in zip(norm_class1, norm_class2)]\n",
    "    \n",
    "    count=[1 if x==y else 0 for (x,y) in zip(est_data[:,-1],ans)]\n",
    "    count=np.sum(count)\n",
    "    total=est_data.shape[0]\n",
    "    acc=count/total\n",
    "    count_class1=np.sum([1 if (x==0 and x==y) else 0 for (x,y) in zip(est_data[:,-1],ans)])\n",
    "    total_class1=np.sum([1 if x==0 else 0 for x in est_data[:,-1:]])\n",
    "    acc_class1=count_class1/total_class1\n",
    "    count_class2=np.sum([1 if (x==1 and x==y) else 0 for (x,y) in zip(est_data[:,-1],ans)])\n",
    "    total_class2=np.sum([1 if x==1 else 0 for x in est_data[:,-1:]])\n",
    "    acc_class2=count_class2/total_class2\n",
    "    return(acc,acc_class1,acc_class2,ans)\n",
    "\n",
    "#old code for mahalanobis\n",
    "def Mahalanobis(rain_data,est_data,prior1,prior2):\n",
    "    class1 = rain_data[np.where(rain_data[:,-1] == 0)]\n",
    "    class2 = rain_data[np.where(rain_data[:,-1] == 1)]\n",
    "\n",
    "    mean1=np.mean(class1[:,:-1],axis=0)\n",
    "    mean2=np.mean(class2[:,:-1],axis=0)\n",
    "  #  print(mean1)\n",
    "   # print(mean2)\n",
    "    \n",
    "    cov1=np.cov(class1[:,:-1].T)\n",
    "    cov2=np.cov(class2[:,:-1].T)\n",
    "    cov_ave=(cov1+cov2)/2\n",
    "   # print(\"MLS: \", cov_ave)\n",
    "    mean1=mean1.T\n",
    "    mean2=mean2.T\n",
    "  #  print(mean1)\n",
    "  #  print(mean2)\n",
    "    n=est_data.shape[0]\n",
    "  #  print(n)\n",
    "    a1=est_data[:,0:-1]-mean1\n",
    "    b1=(1.0/cov_ave)\n",
    "   # print(\"inv: \", b1)\n",
    "   # print(\"inv_trans: \", b1.T)\n",
    "    c1=est_data[:,0:-1]-mean1\n",
    "    dist1=np.dot(a1,np.dot(b1,c1.T))\n",
    "   # print(dist1.shape)\n",
    "    dist1=-.5*np.sum(dist1,axis=1)+np.log(prior1)\n",
    "   # print(dist1.shape)\n",
    "    a2=est_data[:,0:-1]-mean2\n",
    "    b2=(1.0/cov_ave)\n",
    "    c2=est_data[:,0:-1]-mean2\n",
    "    dist2=np.dot(a2,np.dot(b2,c2.T))\n",
    "    dist2=-.5*np.sum(dist2,axis=1)+np.log(prior2)\n",
    "    \n",
    "    ans=[0 if x > y else 1 for (x,y) in zip(dist1, dist2)]\n",
    "    count=[1 if x==y else 0 for (x,y) in zip(est_data[:,-1],ans)]\n",
    "    count=np.sum(count)\n",
    "    total=est_data.shape[0]\n",
    "    acc=count/total\n",
    "    count_class1=np.sum([1 if (x==0 and x==y) else 0 for (x,y) in zip(est_data[:,-1],ans)])\n",
    "    total_class1=np.sum([1 if x==0 else 0 for x in est_data[:,-1:]])\n",
    "    acc_class1=count_class1/total_class1\n",
    "    count_class2=np.sum([1 if (x==1 and x==y) else 0 for (x,y) in zip(est_data[:,-1],ans)])\n",
    "    total_class2=np.sum([1 if x==1 else 0 for x in est_data[:,-1:]])\n",
    "    acc_class2=count_class2/total_class2\n",
    "    return (acc,acc_class1,acc_class2,ans)\n",
    "    \n",
    "#old code for quadratic distance\n",
    "def Quadratic(rain_data,est_data,prior1,prior2):\n",
    "    class1 = rain_data[np.where(rain_data[:,-1] == 0)]\n",
    "    class2 = rain_data[np.where(rain_data[:,-1] == 1)]\n",
    "\n",
    "    mean1=np.mean(class1[:,:-1],axis=0)\n",
    "    mean2=np.mean(class2[:,:-1],axis=0)\n",
    "    cov1=np.cov(class1[:,:-1].T)\n",
    "    cov2=np.cov(class2[:,:-1].T)\n",
    "    mean1=mean1.T\n",
    "    mean2=mean2.T\n",
    "   # print(\"mean1: \", mean1)\n",
    "   # print(\"mean2: \", mean2)\n",
    "    n=est_data.shape[0]\n",
    "    a1=est_data[:,0:-1]-mean1\n",
    "    b1=1.0/(cov1)\n",
    "    #print(\"inverse sigma 1: \", b1)\n",
    "    c1=est_data[:,0:-1]-mean1\n",
    "    dist1=np.dot(a1,np.dot(b1,c1.T))\n",
    "    dist1=-.5*np.sum(dist1,axis=1)/(n-1)-.5*np.log((cov1))+np.log(prior1)\n",
    "    \n",
    "    a2=est_data[:,0:-1]-mean2\n",
    "    b2=1.0/(cov2)\n",
    "    #print(\"inverse sigma 2: \", b2)\n",
    "    \n",
    "    c2=est_data[:,0:-1]-mean2\n",
    "    dist2=np.dot(a2,np.dot(b2,c2.T))\n",
    "    dist2=-.5*np.sum(dist2,axis=1)/(n-1)-.5*np.log((cov2))+np.log(prior2)\n",
    "    #print(\"det1: \", -.5*np.log(np.linalg.det(cov1)))\n",
    "   # print(\"det2: \", .5*np.log(np.linalg.det(cov2)))\n",
    "    ans=[0 if x > y else 1 for (x,y) in zip(dist1, dist2)]\n",
    "    count=[1 if x==y else 0 for (x,y) in zip(est_data[:,-1],ans)]\n",
    "    count=np.sum(count)\n",
    "    total=est_data.shape[0]\n",
    "    acc=count/total\n",
    "    count_class1=np.sum([1 if (x==0 and x==y) else 0 for (x,y) in zip(est_data[:,-1],ans)])\n",
    "    total_class1=np.sum([1 if x==0 else 0 for x in est_data[:,-1:]])\n",
    "    acc_class1=count_class1/total_class1\n",
    "    count_class2=np.sum([1 if (x==1 and x==y) else 0 for (x,y) in zip(est_data[:,-1],ans)])\n",
    "    total_class2=np.sum([1 if x==1 else 0 for x in est_data[:,-1:]])\n",
    "    acc_class2=count_class2/total_class2\n",
    "    return (acc,acc_class1,acc_class2,ans)"
   ]
  },
  {
   "cell_type": "code",
   "execution_count": 12,
   "metadata": {},
   "outputs": [
    {
     "name": "stdout",
     "output_type": "stream",
     "text": [
      "0.475 0.5088888888888888 0.37333333333333335 0.005984306335449219\n"
     ]
    }
   ],
   "source": [
    "t0 = time.time()           # start time\n",
    "acc,ac0,ac1,ans = Mahalanobis(np.c_[fld_train, ytrain], np.c_[fld_test,ytest], p[0],p[1])\n",
    "t1 = time.time()           # ending time\n",
    "print(acc, ac0, ac1, t1-t0)"
   ]
  },
  {
   "cell_type": "code",
   "execution_count": 13,
   "metadata": {},
   "outputs": [
    {
     "name": "stdout",
     "output_type": "stream",
     "text": [
      "0.47333333333333333 0.5044444444444445 0.38 0.005013942718505859\n"
     ]
    }
   ],
   "source": [
    "t0 = time.time()           # start time\n",
    "acc,ac0,ac1,ans = Euclid(np.c_[fld_train, ytrain], np.c_[fld_test,ytest], p[0],p[1])\n",
    "t1 = time.time()           # ending time\n",
    "print(acc, ac0, ac1, t1-t0)"
   ]
  },
  {
   "cell_type": "code",
   "execution_count": 14,
   "metadata": {},
   "outputs": [
    {
     "name": "stdout",
     "output_type": "stream",
     "text": [
      "0.475 0.5088888888888888 0.37333333333333335 0.006979703903198242\n"
     ]
    }
   ],
   "source": [
    "t0 = time.time()           # start time\n",
    "acc,ac0,ac1,ans = Quadratic(np.c_[fld_train, ytrain], np.c_[fld_test,ytest], p[0],p[1])\n",
    "t1 = time.time()           # ending time\n",
    "print(acc, ac0, ac1, t1-t0)"
   ]
  },
  {
   "cell_type": "code",
   "execution_count": null,
   "metadata": {},
   "outputs": [],
   "source": []
  },
  {
   "cell_type": "code",
   "execution_count": null,
   "metadata": {},
   "outputs": [],
   "source": []
  }
 ],
 "metadata": {
  "kernelspec": {
   "display_name": "Python 3",
   "language": "python",
   "name": "python3"
  },
  "language_info": {
   "codemirror_mode": {
    "name": "ipython",
    "version": 3
   },
   "file_extension": ".py",
   "mimetype": "text/x-python",
   "name": "python",
   "nbconvert_exporter": "python",
   "pygments_lexer": "ipython3",
   "version": "3.8.5"
  }
 },
 "nbformat": 4,
 "nbformat_minor": 4
}
