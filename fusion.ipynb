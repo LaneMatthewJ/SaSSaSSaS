{
 "cells": [
  {
   "cell_type": "code",
   "execution_count": 15,
   "metadata": {},
   "outputs": [],
   "source": [
    "import numpy as np\n",
    "from sklearn.metrics import confusion_matrix\n",
    "import itertools"
   ]
  },
  {
   "cell_type": "code",
   "execution_count": 41,
   "metadata": {},
   "outputs": [],
   "source": [
    "mpp_path = './data/mppcase2_test.npy'\n",
    "bpnn_path = './data/bpnnPredicted.npy'\n",
    "svm_path = './data/svm_rbf_pca_c_10.npy'\n",
    "kmeans_path = './data/kmeans_test_results.npy'\n",
    "\n",
    "labels = './data/truth_test.npy'\n",
    "\n",
    "mpp = np.load(mpp_path)\n",
    "svm = np.load(svm_path)\n",
    "bpnn = np.load(bpnn_path)\n",
    "kmeans = np.load(kmeans_path)\n",
    "\n",
    "labels = np.load(labels)"
   ]
  },
  {
   "cell_type": "code",
   "execution_count": 42,
   "metadata": {},
   "outputs": [],
   "source": [
    "def naive_bayes(all_results, labels):\n",
    "    norm_conf_mats = []\n",
    "    for i, results in enumerate(all_results):\n",
    "        conf_mat = confusion_matrix(labels, results)\n",
    "        norm_conf_mat = np.zeros(conf_mat.shape)\n",
    "        for row in range(conf_mat.shape[0]):\n",
    "            norm_conf_mat[row, :] = conf_mat[row, :] / np.sum(conf_mat[row, :])\n",
    "        norm_conf_mats.append(norm_conf_mat)\n",
    "    #print(np.array(norm_conf_mats)[:3, :])\n",
    "    num_labels = len(np.unique(labels))\n",
    "    num_clf = len(all_results)\n",
    "    fused_labels = np.zeros(num_labels ** num_clf)\n",
    "    clf_idxs = np.transpose([np.repeat([0, 1], 4), np.tile([0, 0, 1, 1], 2), np.tile([0, 1], 4)])\n",
    "    for n in range(num_labels ** num_clf):\n",
    "        probs = np.zeros(num_labels)\n",
    "        for m in range(num_labels):\n",
    "            probs[m] = norm_conf_mats[0][m, clf_idxs[n, 0]]\n",
    "            for i in range(num_clf - 1):\n",
    "                probs[m] *= norm_conf_mats[i + 1][m, clf_idxs[n, i + 1]]\n",
    "        #print(probs)\n",
    "        fused_labels[n] = np.argmax(probs)\n",
    "    return fused_labels.astype(int)"
   ]
  },
  {
   "cell_type": "code",
   "execution_count": 43,
   "metadata": {},
   "outputs": [
    {
     "name": "stdout",
     "output_type": "stream",
     "text": [
      "mpp + svm + bpnn:\n",
      "overall acc: 0.9733\n",
      "no ship acc: 0.9865\n",
      "ship acc: 0.9351\n",
      "\n",
      "mpp + svm + kmeans:\n",
      "overall acc: 0.9617\n",
      "no ship acc: 0.9863\n",
      "ship acc: 0.8944\n",
      "\n",
      "mpp + bpnn + kmeans:\n",
      "overall acc: 0.9283\n",
      "no ship acc: 0.97\n",
      "ship acc: 0.8204\n",
      "\n",
      "svm + bpnn + kmeans:\n",
      "overall acc: 0.96\n",
      "no ship acc: 0.9863\n",
      "ship acc: 0.8889\n",
      "\n"
     ]
    }
   ],
   "source": [
    "all_clfs = np.array([mpp, svm, bpnn, kmeans])\n",
    "all_clf_names = np.array(['mpp', 'svm', 'bpnn', 'kmeans'])\n",
    "comb_idxs = [list(x) for x in itertools.combinations([0, 1, 2, 3], 3)]\n",
    "\n",
    "for comb_idx in comb_idxs:\n",
    "    clfs = all_clfs[comb_idx]\n",
    "    clf_names = all_clf_names[comb_idx]\n",
    "    fused_labels = naive_bayes(clfs, labels)\n",
    "    fused_results = np.zeros(len(labels))\n",
    "    mapping = np.transpose([np.repeat([0, 1], 4), np.tile([0, 0, 1, 1], 2), np.tile([0, 1], 4)])\n",
    "    for n in range(len(labels)):\n",
    "        label_set = np.array([clfs[0][n], clfs[1][n], clfs[2][n]])\n",
    "        idx = np.where((mapping == label_set).all(axis=1))[0][0]\n",
    "        fused_results[n] = fused_labels[idx]\n",
    "    idx0 = fused_results == 0\n",
    "    idx1 = fused_results == 1\n",
    "    print(f'{clf_names[0]} + {clf_names[1]} + {clf_names[2]}:')\n",
    "    print(f'overall acc: {round(np.mean(fused_results == labels), 4)}')\n",
    "    print(f'no ship acc: {round(np.mean(fused_results[idx0] == labels[idx0]), 4)}')\n",
    "    print(f'ship acc: {round(np.mean(fused_results[idx1] == labels[idx1]), 4)}\\n')"
   ]
  }
 ],
 "metadata": {
  "kernelspec": {
   "display_name": "Python 3",
   "language": "python",
   "name": "python3"
  },
  "language_info": {
   "codemirror_mode": {
    "name": "ipython",
    "version": 3
   },
   "file_extension": ".py",
   "mimetype": "text/x-python",
   "name": "python",
   "nbconvert_exporter": "python",
   "pygments_lexer": "ipython3",
   "version": "3.7.8"
  }
 },
 "nbformat": 4,
 "nbformat_minor": 4
}
