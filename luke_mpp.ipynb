{
 "cells": [
  {
   "cell_type": "code",
   "execution_count": 1,
   "metadata": {},
   "outputs": [],
   "source": [
    "import mpp_classifiers as mpp\n",
    "import load_ship_data as lsd\n",
    "import numpy as np\n",
    "import time"
   ]
  },
  {
   "cell_type": "code",
   "execution_count": 2,
   "metadata": {},
   "outputs": [
    {
     "name": "stdout",
     "output_type": "stream",
     "text": [
      "Training Set Data Length:  2800   Label Length:  2800\n",
      "TestingSet Set Data Length:  600  Label Length:  600\n",
      "Validation Set Data Length:  600  Label Length:  600\n"
     ]
    }
   ],
   "source": [
    "data_path=\"/home/luke/sassassas_data/archive/shipsnet.json\"\n",
    "train,test,valid=lsd.load_data_train_test_split(data_path)"
   ]
  },
  {
   "cell_type": "code",
   "execution_count": 3,
   "metadata": {},
   "outputs": [
    {
     "name": "stdout",
     "output_type": "stream",
     "text": [
      "(2800, 19200)\n",
      "(600, 19200)\n"
     ]
    }
   ],
   "source": [
    "ship_prob=np.sum(train[1])*1.0/train[1].shape[0]\n",
    "p=np.array([1-ship_prob,ship_prob])\n",
    "Xtrain=train[0]\n",
    "ytrain=train[1]\n",
    "Xtest=test[0]\n",
    "ytest=test[1]\n",
    "Xtrain=Xtrain.reshape(Xtrain.shape[0],Xtrain.shape[1]*Xtrain.shape[2]*Xtrain.shape[3])\n",
    "Xtest=Xtest.reshape(Xtest.shape[0],Xtest.shape[1]*Xtest.shape[2]*Xtest.shape[3])\n",
    "print(Xtrain.shape)\n",
    "print(Xtest.shape)"
   ]
  },
  {
   "cell_type": "code",
   "execution_count": null,
   "metadata": {},
   "outputs": [],
   "source": [
    "t0 = time.time()           # start time\n",
    "y_model = mpp.mpp(Xtrain, ytrain, Xtest, 1, p)\n",
    "t1 = time.time()           # ending time\n",
    "acc_classwise, acc_overall = mpp.accuracy_score(ytest, y_model)\n",
    "print(f'Overall accuracy = {acc_overall};')\n",
    "print(f'Classwise accuracy = {acc_classwise};')\n",
    "print(f'The learning process takes {t1 - t0} seconds.')"
   ]
  },
  {
   "cell_type": "code",
   "execution_count": null,
   "metadata": {},
   "outputs": [],
   "source": []
  }
 ],
 "metadata": {
  "kernelspec": {
   "display_name": "Python 3",
   "language": "python",
   "name": "python3"
  },
  "language_info": {
   "codemirror_mode": {
    "name": "ipython",
    "version": 3
   },
   "file_extension": ".py",
   "mimetype": "text/x-python",
   "name": "python",
   "nbconvert_exporter": "python",
   "pygments_lexer": "ipython3",
   "version": "3.8.5"
  }
 },
 "nbformat": 4,
 "nbformat_minor": 4
}
