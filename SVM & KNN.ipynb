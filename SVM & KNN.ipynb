{
 "cells": [
  {
   "cell_type": "markdown",
   "metadata": {},
   "source": [
    "## ML Final Group Project - kNN & SVM"
   ]
  },
  {
   "cell_type": "code",
   "execution_count": 22,
   "metadata": {},
   "outputs": [
    {
     "name": "stdout",
     "output_type": "stream",
     "text": [
      "Training Set Data Length:  2800   Label Length:  2800\n",
      "TestingSet Set Data Length:  600  Label Length:  600\n",
      "Validation Set Data Length:  600  Label Length:  600\n"
     ]
    }
   ],
   "source": [
    "import json, random, sys\n",
    "import numpy as np\n",
    "import getopt\n",
    "import pandas as pd\n",
    "import math\n",
    "import time\n",
    "from sklearn import metrics\n",
    "import sklearn\n",
    "import plotly\n",
    "from plotly.subplots import make_subplots\n",
    "import itertools\n",
    "import plotly.graph_objects as go\n",
    "import math\n",
    "from sklearn.decomposition import PCA\n",
    "from statistics import mean\n",
    "from sklearn import svm\n",
    "from random import shuffle\n",
    "from sklearn.model_selection import train_test_split\n",
    "from sklearn.model_selection import StratifiedKFold\n",
    "import load_ship_data\n",
    "import knn\n",
    "\n",
    "np.random.seed(522)\n",
    "Training_data, Testing_data, Validation_data = load_ship_data.load_data_train_test_split(fileName = \"./data/shipsnet.json\")\n",
    "\n",
    "Xtrain = Training_data[0]\n",
    "ytrain = Training_data[1]\n",
    "Xtest = Testing_data[0]\n",
    "ytest = Testing_data[1]\n",
    "Xval = Validation_data[0]\n",
    "yval = Validation_data[1]\n",
    "Xtrain = Xtrain.reshape(Xtrain.shape[0],Xtrain.shape[1]*Xtrain.shape[2]*Xtrain.shape[3])\n",
    "Xval = Xval.reshape(Xval.shape[0],Xval.shape[1]*Xval.shape[2]*Xval.shape[3])\n",
    "Xtest = Xtest.reshape(Xtest.shape[0],Xtest.shape[1]*Xtest.shape[2]*Xtest.shape[3])\n",
    "Training_data = pd.DataFrame(Xtrain)\n",
    "Training_data[\"Y\"] = ytrain\n",
    "Validation_data = pd.DataFrame(Xval)\n",
    "Validation_data[\"Y\"] = yval\n",
    "Testing_data = pd.DataFrame(Xtest)\n",
    "Testing_data[\"Y\"] = ytest\n",
    "Training_data = pd.concat([Training_data,Validation_data])\n",
    "ytrain = np.concatenate([ytrain,yval])"
   ]
  },
  {
   "cell_type": "code",
   "execution_count": 6,
   "metadata": {},
   "outputs": [
    {
     "name": "stdout",
     "output_type": "stream",
     "text": [
      "Running KNN with k = 5\n",
      "Running KNN with k = 10\n",
      "Running KNN with k = 25\n",
      "Running KNN with k = 50\n",
      "Running KNN with k = 75\n",
      "Running KNN with k = 100\n"
     ]
    },
    {
     "data": {
      "application/vnd.plotly.v1+json": {
       "config": {
        "plotlyServerURL": "https://plot.ly"
       },
       "data": [
        {
         "showlegend": false,
         "type": "bar",
         "x": [
          "k: 5",
          "k: 10",
          "k: 25",
          "k: 50",
          "k: 75",
          "k: 100",
          "k: 500",
          "k: 1000",
          "k: 2500"
         ],
         "xaxis": "x",
         "y": [
          56.76303219795227,
          58.97304682731628,
          58.37967872619629,
          59.849953746795656,
          61.65283861160278,
          60.94955596923828
         ],
         "yaxis": "y"
        },
        {
         "name": "overall accuracy",
         "showlegend": true,
         "type": "scatter",
         "x": [
          5,
          10,
          25,
          50,
          75,
          100
         ],
         "xaxis": "x2",
         "y": [
          0.8097058823529413,
          0.7841176470588235,
          0.7711764705882352,
          0.7520588235294118,
          0.7488235294117647,
          0.7470588235294118
         ],
         "yaxis": "y2"
        },
        {
         "name": "class zero accuracy",
         "showlegend": true,
         "type": "scatter",
         "x": [
          5,
          10,
          25,
          50,
          75,
          100
         ],
         "xaxis": "x2",
         "y": [
          0.8267162458566759,
          0.7927241038133291,
          0.7793885895105805,
          0.7570124097492453,
          0.7525355339664543,
          0.7495568672485414
         ],
         "yaxis": "y2"
        },
        {
         "name": "class one accuracy",
         "showlegend": true,
         "type": "scatter",
         "x": [
          5,
          10,
          25,
          50,
          75,
          100
         ],
         "xaxis": "x2",
         "y": [
          0.7114100177165472,
          0.6950061562581948,
          0.6527573922065967,
          0.5374037726978904,
          0.42833333333333334,
          0.13333333333333333
         ],
         "yaxis": "y2"
        }
       ],
       "layout": {
        "legend": {
         "orientation": "h",
         "x": 1,
         "xanchor": "right",
         "y": 1.02,
         "yanchor": "bottom"
        },
        "template": {
         "data": {
          "bar": [
           {
            "error_x": {
             "color": "#2a3f5f"
            },
            "error_y": {
             "color": "#2a3f5f"
            },
            "marker": {
             "line": {
              "color": "#E5ECF6",
              "width": 0.5
             }
            },
            "type": "bar"
           }
          ],
          "barpolar": [
           {
            "marker": {
             "line": {
              "color": "#E5ECF6",
              "width": 0.5
             }
            },
            "type": "barpolar"
           }
          ],
          "carpet": [
           {
            "aaxis": {
             "endlinecolor": "#2a3f5f",
             "gridcolor": "white",
             "linecolor": "white",
             "minorgridcolor": "white",
             "startlinecolor": "#2a3f5f"
            },
            "baxis": {
             "endlinecolor": "#2a3f5f",
             "gridcolor": "white",
             "linecolor": "white",
             "minorgridcolor": "white",
             "startlinecolor": "#2a3f5f"
            },
            "type": "carpet"
           }
          ],
          "choropleth": [
           {
            "colorbar": {
             "outlinewidth": 0,
             "ticks": ""
            },
            "type": "choropleth"
           }
          ],
          "contour": [
           {
            "colorbar": {
             "outlinewidth": 0,
             "ticks": ""
            },
            "colorscale": [
             [
              0,
              "#0d0887"
             ],
             [
              0.1111111111111111,
              "#46039f"
             ],
             [
              0.2222222222222222,
              "#7201a8"
             ],
             [
              0.3333333333333333,
              "#9c179e"
             ],
             [
              0.4444444444444444,
              "#bd3786"
             ],
             [
              0.5555555555555556,
              "#d8576b"
             ],
             [
              0.6666666666666666,
              "#ed7953"
             ],
             [
              0.7777777777777778,
              "#fb9f3a"
             ],
             [
              0.8888888888888888,
              "#fdca26"
             ],
             [
              1,
              "#f0f921"
             ]
            ],
            "type": "contour"
           }
          ],
          "contourcarpet": [
           {
            "colorbar": {
             "outlinewidth": 0,
             "ticks": ""
            },
            "type": "contourcarpet"
           }
          ],
          "heatmap": [
           {
            "colorbar": {
             "outlinewidth": 0,
             "ticks": ""
            },
            "colorscale": [
             [
              0,
              "#0d0887"
             ],
             [
              0.1111111111111111,
              "#46039f"
             ],
             [
              0.2222222222222222,
              "#7201a8"
             ],
             [
              0.3333333333333333,
              "#9c179e"
             ],
             [
              0.4444444444444444,
              "#bd3786"
             ],
             [
              0.5555555555555556,
              "#d8576b"
             ],
             [
              0.6666666666666666,
              "#ed7953"
             ],
             [
              0.7777777777777778,
              "#fb9f3a"
             ],
             [
              0.8888888888888888,
              "#fdca26"
             ],
             [
              1,
              "#f0f921"
             ]
            ],
            "type": "heatmap"
           }
          ],
          "heatmapgl": [
           {
            "colorbar": {
             "outlinewidth": 0,
             "ticks": ""
            },
            "colorscale": [
             [
              0,
              "#0d0887"
             ],
             [
              0.1111111111111111,
              "#46039f"
             ],
             [
              0.2222222222222222,
              "#7201a8"
             ],
             [
              0.3333333333333333,
              "#9c179e"
             ],
             [
              0.4444444444444444,
              "#bd3786"
             ],
             [
              0.5555555555555556,
              "#d8576b"
             ],
             [
              0.6666666666666666,
              "#ed7953"
             ],
             [
              0.7777777777777778,
              "#fb9f3a"
             ],
             [
              0.8888888888888888,
              "#fdca26"
             ],
             [
              1,
              "#f0f921"
             ]
            ],
            "type": "heatmapgl"
           }
          ],
          "histogram": [
           {
            "marker": {
             "colorbar": {
              "outlinewidth": 0,
              "ticks": ""
             }
            },
            "type": "histogram"
           }
          ],
          "histogram2d": [
           {
            "colorbar": {
             "outlinewidth": 0,
             "ticks": ""
            },
            "colorscale": [
             [
              0,
              "#0d0887"
             ],
             [
              0.1111111111111111,
              "#46039f"
             ],
             [
              0.2222222222222222,
              "#7201a8"
             ],
             [
              0.3333333333333333,
              "#9c179e"
             ],
             [
              0.4444444444444444,
              "#bd3786"
             ],
             [
              0.5555555555555556,
              "#d8576b"
             ],
             [
              0.6666666666666666,
              "#ed7953"
             ],
             [
              0.7777777777777778,
              "#fb9f3a"
             ],
             [
              0.8888888888888888,
              "#fdca26"
             ],
             [
              1,
              "#f0f921"
             ]
            ],
            "type": "histogram2d"
           }
          ],
          "histogram2dcontour": [
           {
            "colorbar": {
             "outlinewidth": 0,
             "ticks": ""
            },
            "colorscale": [
             [
              0,
              "#0d0887"
             ],
             [
              0.1111111111111111,
              "#46039f"
             ],
             [
              0.2222222222222222,
              "#7201a8"
             ],
             [
              0.3333333333333333,
              "#9c179e"
             ],
             [
              0.4444444444444444,
              "#bd3786"
             ],
             [
              0.5555555555555556,
              "#d8576b"
             ],
             [
              0.6666666666666666,
              "#ed7953"
             ],
             [
              0.7777777777777778,
              "#fb9f3a"
             ],
             [
              0.8888888888888888,
              "#fdca26"
             ],
             [
              1,
              "#f0f921"
             ]
            ],
            "type": "histogram2dcontour"
           }
          ],
          "mesh3d": [
           {
            "colorbar": {
             "outlinewidth": 0,
             "ticks": ""
            },
            "type": "mesh3d"
           }
          ],
          "parcoords": [
           {
            "line": {
             "colorbar": {
              "outlinewidth": 0,
              "ticks": ""
             }
            },
            "type": "parcoords"
           }
          ],
          "pie": [
           {
            "automargin": true,
            "type": "pie"
           }
          ],
          "scatter": [
           {
            "marker": {
             "colorbar": {
              "outlinewidth": 0,
              "ticks": ""
             }
            },
            "type": "scatter"
           }
          ],
          "scatter3d": [
           {
            "line": {
             "colorbar": {
              "outlinewidth": 0,
              "ticks": ""
             }
            },
            "marker": {
             "colorbar": {
              "outlinewidth": 0,
              "ticks": ""
             }
            },
            "type": "scatter3d"
           }
          ],
          "scattercarpet": [
           {
            "marker": {
             "colorbar": {
              "outlinewidth": 0,
              "ticks": ""
             }
            },
            "type": "scattercarpet"
           }
          ],
          "scattergeo": [
           {
            "marker": {
             "colorbar": {
              "outlinewidth": 0,
              "ticks": ""
             }
            },
            "type": "scattergeo"
           }
          ],
          "scattergl": [
           {
            "marker": {
             "colorbar": {
              "outlinewidth": 0,
              "ticks": ""
             }
            },
            "type": "scattergl"
           }
          ],
          "scattermapbox": [
           {
            "marker": {
             "colorbar": {
              "outlinewidth": 0,
              "ticks": ""
             }
            },
            "type": "scattermapbox"
           }
          ],
          "scatterpolar": [
           {
            "marker": {
             "colorbar": {
              "outlinewidth": 0,
              "ticks": ""
             }
            },
            "type": "scatterpolar"
           }
          ],
          "scatterpolargl": [
           {
            "marker": {
             "colorbar": {
              "outlinewidth": 0,
              "ticks": ""
             }
            },
            "type": "scatterpolargl"
           }
          ],
          "scatterternary": [
           {
            "marker": {
             "colorbar": {
              "outlinewidth": 0,
              "ticks": ""
             }
            },
            "type": "scatterternary"
           }
          ],
          "surface": [
           {
            "colorbar": {
             "outlinewidth": 0,
             "ticks": ""
            },
            "colorscale": [
             [
              0,
              "#0d0887"
             ],
             [
              0.1111111111111111,
              "#46039f"
             ],
             [
              0.2222222222222222,
              "#7201a8"
             ],
             [
              0.3333333333333333,
              "#9c179e"
             ],
             [
              0.4444444444444444,
              "#bd3786"
             ],
             [
              0.5555555555555556,
              "#d8576b"
             ],
             [
              0.6666666666666666,
              "#ed7953"
             ],
             [
              0.7777777777777778,
              "#fb9f3a"
             ],
             [
              0.8888888888888888,
              "#fdca26"
             ],
             [
              1,
              "#f0f921"
             ]
            ],
            "type": "surface"
           }
          ],
          "table": [
           {
            "cells": {
             "fill": {
              "color": "#EBF0F8"
             },
             "line": {
              "color": "white"
             }
            },
            "header": {
             "fill": {
              "color": "#C8D4E3"
             },
             "line": {
              "color": "white"
             }
            },
            "type": "table"
           }
          ]
         },
         "layout": {
          "annotationdefaults": {
           "arrowcolor": "#2a3f5f",
           "arrowhead": 0,
           "arrowwidth": 1
          },
          "coloraxis": {
           "colorbar": {
            "outlinewidth": 0,
            "ticks": ""
           }
          },
          "colorscale": {
           "diverging": [
            [
             0,
             "#8e0152"
            ],
            [
             0.1,
             "#c51b7d"
            ],
            [
             0.2,
             "#de77ae"
            ],
            [
             0.3,
             "#f1b6da"
            ],
            [
             0.4,
             "#fde0ef"
            ],
            [
             0.5,
             "#f7f7f7"
            ],
            [
             0.6,
             "#e6f5d0"
            ],
            [
             0.7,
             "#b8e186"
            ],
            [
             0.8,
             "#7fbc41"
            ],
            [
             0.9,
             "#4d9221"
            ],
            [
             1,
             "#276419"
            ]
           ],
           "sequential": [
            [
             0,
             "#0d0887"
            ],
            [
             0.1111111111111111,
             "#46039f"
            ],
            [
             0.2222222222222222,
             "#7201a8"
            ],
            [
             0.3333333333333333,
             "#9c179e"
            ],
            [
             0.4444444444444444,
             "#bd3786"
            ],
            [
             0.5555555555555556,
             "#d8576b"
            ],
            [
             0.6666666666666666,
             "#ed7953"
            ],
            [
             0.7777777777777778,
             "#fb9f3a"
            ],
            [
             0.8888888888888888,
             "#fdca26"
            ],
            [
             1,
             "#f0f921"
            ]
           ],
           "sequentialminus": [
            [
             0,
             "#0d0887"
            ],
            [
             0.1111111111111111,
             "#46039f"
            ],
            [
             0.2222222222222222,
             "#7201a8"
            ],
            [
             0.3333333333333333,
             "#9c179e"
            ],
            [
             0.4444444444444444,
             "#bd3786"
            ],
            [
             0.5555555555555556,
             "#d8576b"
            ],
            [
             0.6666666666666666,
             "#ed7953"
            ],
            [
             0.7777777777777778,
             "#fb9f3a"
            ],
            [
             0.8888888888888888,
             "#fdca26"
            ],
            [
             1,
             "#f0f921"
            ]
           ]
          },
          "colorway": [
           "#636efa",
           "#EF553B",
           "#00cc96",
           "#ab63fa",
           "#FFA15A",
           "#19d3f3",
           "#FF6692",
           "#B6E880",
           "#FF97FF",
           "#FECB52"
          ],
          "font": {
           "color": "#2a3f5f"
          },
          "geo": {
           "bgcolor": "white",
           "lakecolor": "white",
           "landcolor": "#E5ECF6",
           "showlakes": true,
           "showland": true,
           "subunitcolor": "white"
          },
          "hoverlabel": {
           "align": "left"
          },
          "hovermode": "closest",
          "mapbox": {
           "style": "light"
          },
          "paper_bgcolor": "white",
          "plot_bgcolor": "#E5ECF6",
          "polar": {
           "angularaxis": {
            "gridcolor": "white",
            "linecolor": "white",
            "ticks": ""
           },
           "bgcolor": "#E5ECF6",
           "radialaxis": {
            "gridcolor": "white",
            "linecolor": "white",
            "ticks": ""
           }
          },
          "scene": {
           "xaxis": {
            "backgroundcolor": "#E5ECF6",
            "gridcolor": "white",
            "gridwidth": 2,
            "linecolor": "white",
            "showbackground": true,
            "ticks": "",
            "zerolinecolor": "white"
           },
           "yaxis": {
            "backgroundcolor": "#E5ECF6",
            "gridcolor": "white",
            "gridwidth": 2,
            "linecolor": "white",
            "showbackground": true,
            "ticks": "",
            "zerolinecolor": "white"
           },
           "zaxis": {
            "backgroundcolor": "#E5ECF6",
            "gridcolor": "white",
            "gridwidth": 2,
            "linecolor": "white",
            "showbackground": true,
            "ticks": "",
            "zerolinecolor": "white"
           }
          },
          "shapedefaults": {
           "line": {
            "color": "#2a3f5f"
           }
          },
          "ternary": {
           "aaxis": {
            "gridcolor": "white",
            "linecolor": "white",
            "ticks": ""
           },
           "baxis": {
            "gridcolor": "white",
            "linecolor": "white",
            "ticks": ""
           },
           "bgcolor": "#E5ECF6",
           "caxis": {
            "gridcolor": "white",
            "linecolor": "white",
            "ticks": ""
           }
          },
          "title": {
           "x": 0.05
          },
          "xaxis": {
           "automargin": true,
           "gridcolor": "white",
           "linecolor": "white",
           "ticks": "",
           "title": {
            "standoff": 15
           },
           "zerolinecolor": "white",
           "zerolinewidth": 2
          },
          "yaxis": {
           "automargin": true,
           "gridcolor": "white",
           "linecolor": "white",
           "ticks": "",
           "title": {
            "standoff": 15
           },
           "zerolinecolor": "white",
           "zerolinewidth": 2
          }
         }
        },
        "xaxis": {
         "anchor": "y",
         "domain": [
          0,
          0.09000000000000001
         ],
         "tickfont": {
          "size": 11
         },
         "title": {
          "font": {
           "size": 12
          },
          "text": ""
         }
        },
        "xaxis2": {
         "anchor": "y2",
         "domain": [
          0.19,
          1
         ],
         "title": {
          "text": "K"
         }
        },
        "yaxis": {
         "anchor": "x",
         "domain": [
          0,
          1
         ],
         "tickfont": {
          "size": 10
         },
         "title": {
          "font": {
           "size": 12
          },
          "text": "Time (seconds)"
         }
        },
        "yaxis2": {
         "anchor": "x2",
         "domain": [
          0,
          1
         ],
         "title": {
          "text": "Accuracy"
         }
        }
       }
      },
      "text/html": [
       "<div>\n",
       "        \n",
       "        \n",
       "            <div id=\"a529e8d7-736b-4649-8c60-ba7cf3e95150\" class=\"plotly-graph-div\" style=\"height:525px; width:100%;\"></div>\n",
       "            <script type=\"text/javascript\">\n",
       "                require([\"plotly\"], function(Plotly) {\n",
       "                    window.PLOTLYENV=window.PLOTLYENV || {};\n",
       "                    \n",
       "                if (document.getElementById(\"a529e8d7-736b-4649-8c60-ba7cf3e95150\")) {\n",
       "                    Plotly.newPlot(\n",
       "                        'a529e8d7-736b-4649-8c60-ba7cf3e95150',\n",
       "                        [{\"showlegend\": false, \"type\": \"bar\", \"x\": [\"k: 5\", \"k: 10\", \"k: 25\", \"k: 50\", \"k: 75\", \"k: 100\", \"k: 500\", \"k: 1000\", \"k: 2500\"], \"xaxis\": \"x\", \"y\": [56.76303219795227, 58.97304682731628, 58.37967872619629, 59.849953746795656, 61.65283861160278, 60.94955596923828], \"yaxis\": \"y\"}, {\"name\": \"overall accuracy\", \"showlegend\": true, \"type\": \"scatter\", \"x\": [5, 10, 25, 50, 75, 100], \"xaxis\": \"x2\", \"y\": [0.8097058823529413, 0.7841176470588235, 0.7711764705882352, 0.7520588235294118, 0.7488235294117647, 0.7470588235294118], \"yaxis\": \"y2\"}, {\"name\": \"class zero accuracy\", \"showlegend\": true, \"type\": \"scatter\", \"x\": [5, 10, 25, 50, 75, 100], \"xaxis\": \"x2\", \"y\": [0.8267162458566759, 0.7927241038133291, 0.7793885895105805, 0.7570124097492453, 0.7525355339664543, 0.7495568672485414], \"yaxis\": \"y2\"}, {\"name\": \"class one accuracy\", \"showlegend\": true, \"type\": \"scatter\", \"x\": [5, 10, 25, 50, 75, 100], \"xaxis\": \"x2\", \"y\": [0.7114100177165472, 0.6950061562581948, 0.6527573922065967, 0.5374037726978904, 0.42833333333333334, 0.13333333333333333], \"yaxis\": \"y2\"}],\n",
       "                        {\"legend\": {\"orientation\": \"h\", \"x\": 1, \"xanchor\": \"right\", \"y\": 1.02, \"yanchor\": \"bottom\"}, \"template\": {\"data\": {\"bar\": [{\"error_x\": {\"color\": \"#2a3f5f\"}, \"error_y\": {\"color\": \"#2a3f5f\"}, \"marker\": {\"line\": {\"color\": \"#E5ECF6\", \"width\": 0.5}}, \"type\": \"bar\"}], \"barpolar\": [{\"marker\": {\"line\": {\"color\": \"#E5ECF6\", \"width\": 0.5}}, \"type\": \"barpolar\"}], \"carpet\": [{\"aaxis\": {\"endlinecolor\": \"#2a3f5f\", \"gridcolor\": \"white\", \"linecolor\": \"white\", \"minorgridcolor\": \"white\", \"startlinecolor\": \"#2a3f5f\"}, \"baxis\": {\"endlinecolor\": \"#2a3f5f\", \"gridcolor\": \"white\", \"linecolor\": \"white\", \"minorgridcolor\": \"white\", \"startlinecolor\": \"#2a3f5f\"}, \"type\": \"carpet\"}], \"choropleth\": [{\"colorbar\": {\"outlinewidth\": 0, \"ticks\": \"\"}, \"type\": \"choropleth\"}], \"contour\": [{\"colorbar\": {\"outlinewidth\": 0, \"ticks\": \"\"}, \"colorscale\": [[0.0, \"#0d0887\"], [0.1111111111111111, \"#46039f\"], [0.2222222222222222, \"#7201a8\"], [0.3333333333333333, \"#9c179e\"], [0.4444444444444444, \"#bd3786\"], [0.5555555555555556, \"#d8576b\"], [0.6666666666666666, \"#ed7953\"], [0.7777777777777778, \"#fb9f3a\"], [0.8888888888888888, \"#fdca26\"], [1.0, \"#f0f921\"]], \"type\": \"contour\"}], \"contourcarpet\": [{\"colorbar\": {\"outlinewidth\": 0, \"ticks\": \"\"}, \"type\": \"contourcarpet\"}], \"heatmap\": [{\"colorbar\": {\"outlinewidth\": 0, \"ticks\": \"\"}, \"colorscale\": [[0.0, \"#0d0887\"], [0.1111111111111111, \"#46039f\"], [0.2222222222222222, \"#7201a8\"], [0.3333333333333333, \"#9c179e\"], [0.4444444444444444, \"#bd3786\"], [0.5555555555555556, \"#d8576b\"], [0.6666666666666666, \"#ed7953\"], [0.7777777777777778, \"#fb9f3a\"], [0.8888888888888888, \"#fdca26\"], [1.0, \"#f0f921\"]], \"type\": \"heatmap\"}], \"heatmapgl\": [{\"colorbar\": {\"outlinewidth\": 0, \"ticks\": \"\"}, \"colorscale\": [[0.0, \"#0d0887\"], [0.1111111111111111, \"#46039f\"], [0.2222222222222222, \"#7201a8\"], [0.3333333333333333, \"#9c179e\"], [0.4444444444444444, \"#bd3786\"], [0.5555555555555556, \"#d8576b\"], [0.6666666666666666, \"#ed7953\"], [0.7777777777777778, \"#fb9f3a\"], [0.8888888888888888, \"#fdca26\"], [1.0, \"#f0f921\"]], \"type\": \"heatmapgl\"}], \"histogram\": [{\"marker\": {\"colorbar\": {\"outlinewidth\": 0, \"ticks\": \"\"}}, \"type\": \"histogram\"}], \"histogram2d\": [{\"colorbar\": {\"outlinewidth\": 0, \"ticks\": \"\"}, \"colorscale\": [[0.0, \"#0d0887\"], [0.1111111111111111, \"#46039f\"], [0.2222222222222222, \"#7201a8\"], [0.3333333333333333, \"#9c179e\"], [0.4444444444444444, \"#bd3786\"], [0.5555555555555556, \"#d8576b\"], [0.6666666666666666, \"#ed7953\"], [0.7777777777777778, \"#fb9f3a\"], [0.8888888888888888, \"#fdca26\"], [1.0, \"#f0f921\"]], \"type\": \"histogram2d\"}], \"histogram2dcontour\": [{\"colorbar\": {\"outlinewidth\": 0, \"ticks\": \"\"}, \"colorscale\": [[0.0, \"#0d0887\"], [0.1111111111111111, \"#46039f\"], [0.2222222222222222, \"#7201a8\"], [0.3333333333333333, \"#9c179e\"], [0.4444444444444444, \"#bd3786\"], [0.5555555555555556, \"#d8576b\"], [0.6666666666666666, \"#ed7953\"], [0.7777777777777778, \"#fb9f3a\"], [0.8888888888888888, \"#fdca26\"], [1.0, \"#f0f921\"]], \"type\": \"histogram2dcontour\"}], \"mesh3d\": [{\"colorbar\": {\"outlinewidth\": 0, \"ticks\": \"\"}, \"type\": \"mesh3d\"}], \"parcoords\": [{\"line\": {\"colorbar\": {\"outlinewidth\": 0, \"ticks\": \"\"}}, \"type\": \"parcoords\"}], \"pie\": [{\"automargin\": true, \"type\": \"pie\"}], \"scatter\": [{\"marker\": {\"colorbar\": {\"outlinewidth\": 0, \"ticks\": \"\"}}, \"type\": \"scatter\"}], \"scatter3d\": [{\"line\": {\"colorbar\": {\"outlinewidth\": 0, \"ticks\": \"\"}}, \"marker\": {\"colorbar\": {\"outlinewidth\": 0, \"ticks\": \"\"}}, \"type\": \"scatter3d\"}], \"scattercarpet\": [{\"marker\": {\"colorbar\": {\"outlinewidth\": 0, \"ticks\": \"\"}}, \"type\": \"scattercarpet\"}], \"scattergeo\": [{\"marker\": {\"colorbar\": {\"outlinewidth\": 0, \"ticks\": \"\"}}, \"type\": \"scattergeo\"}], \"scattergl\": [{\"marker\": {\"colorbar\": {\"outlinewidth\": 0, \"ticks\": \"\"}}, \"type\": \"scattergl\"}], \"scattermapbox\": [{\"marker\": {\"colorbar\": {\"outlinewidth\": 0, \"ticks\": \"\"}}, \"type\": \"scattermapbox\"}], \"scatterpolar\": [{\"marker\": {\"colorbar\": {\"outlinewidth\": 0, \"ticks\": \"\"}}, \"type\": \"scatterpolar\"}], \"scatterpolargl\": [{\"marker\": {\"colorbar\": {\"outlinewidth\": 0, \"ticks\": \"\"}}, \"type\": \"scatterpolargl\"}], \"scatterternary\": [{\"marker\": {\"colorbar\": {\"outlinewidth\": 0, \"ticks\": \"\"}}, \"type\": \"scatterternary\"}], \"surface\": [{\"colorbar\": {\"outlinewidth\": 0, \"ticks\": \"\"}, \"colorscale\": [[0.0, \"#0d0887\"], [0.1111111111111111, \"#46039f\"], [0.2222222222222222, \"#7201a8\"], [0.3333333333333333, \"#9c179e\"], [0.4444444444444444, \"#bd3786\"], [0.5555555555555556, \"#d8576b\"], [0.6666666666666666, \"#ed7953\"], [0.7777777777777778, \"#fb9f3a\"], [0.8888888888888888, \"#fdca26\"], [1.0, \"#f0f921\"]], \"type\": \"surface\"}], \"table\": [{\"cells\": {\"fill\": {\"color\": \"#EBF0F8\"}, \"line\": {\"color\": \"white\"}}, \"header\": {\"fill\": {\"color\": \"#C8D4E3\"}, \"line\": {\"color\": \"white\"}}, \"type\": \"table\"}]}, \"layout\": {\"annotationdefaults\": {\"arrowcolor\": \"#2a3f5f\", \"arrowhead\": 0, \"arrowwidth\": 1}, \"coloraxis\": {\"colorbar\": {\"outlinewidth\": 0, \"ticks\": \"\"}}, \"colorscale\": {\"diverging\": [[0, \"#8e0152\"], [0.1, \"#c51b7d\"], [0.2, \"#de77ae\"], [0.3, \"#f1b6da\"], [0.4, \"#fde0ef\"], [0.5, \"#f7f7f7\"], [0.6, \"#e6f5d0\"], [0.7, \"#b8e186\"], [0.8, \"#7fbc41\"], [0.9, \"#4d9221\"], [1, \"#276419\"]], \"sequential\": [[0.0, \"#0d0887\"], [0.1111111111111111, \"#46039f\"], [0.2222222222222222, \"#7201a8\"], [0.3333333333333333, \"#9c179e\"], [0.4444444444444444, \"#bd3786\"], [0.5555555555555556, \"#d8576b\"], [0.6666666666666666, \"#ed7953\"], [0.7777777777777778, \"#fb9f3a\"], [0.8888888888888888, \"#fdca26\"], [1.0, \"#f0f921\"]], \"sequentialminus\": [[0.0, \"#0d0887\"], [0.1111111111111111, \"#46039f\"], [0.2222222222222222, \"#7201a8\"], [0.3333333333333333, \"#9c179e\"], [0.4444444444444444, \"#bd3786\"], [0.5555555555555556, \"#d8576b\"], [0.6666666666666666, \"#ed7953\"], [0.7777777777777778, \"#fb9f3a\"], [0.8888888888888888, \"#fdca26\"], [1.0, \"#f0f921\"]]}, \"colorway\": [\"#636efa\", \"#EF553B\", \"#00cc96\", \"#ab63fa\", \"#FFA15A\", \"#19d3f3\", \"#FF6692\", \"#B6E880\", \"#FF97FF\", \"#FECB52\"], \"font\": {\"color\": \"#2a3f5f\"}, \"geo\": {\"bgcolor\": \"white\", \"lakecolor\": \"white\", \"landcolor\": \"#E5ECF6\", \"showlakes\": true, \"showland\": true, \"subunitcolor\": \"white\"}, \"hoverlabel\": {\"align\": \"left\"}, \"hovermode\": \"closest\", \"mapbox\": {\"style\": \"light\"}, \"paper_bgcolor\": \"white\", \"plot_bgcolor\": \"#E5ECF6\", \"polar\": {\"angularaxis\": {\"gridcolor\": \"white\", \"linecolor\": \"white\", \"ticks\": \"\"}, \"bgcolor\": \"#E5ECF6\", \"radialaxis\": {\"gridcolor\": \"white\", \"linecolor\": \"white\", \"ticks\": \"\"}}, \"scene\": {\"xaxis\": {\"backgroundcolor\": \"#E5ECF6\", \"gridcolor\": \"white\", \"gridwidth\": 2, \"linecolor\": \"white\", \"showbackground\": true, \"ticks\": \"\", \"zerolinecolor\": \"white\"}, \"yaxis\": {\"backgroundcolor\": \"#E5ECF6\", \"gridcolor\": \"white\", \"gridwidth\": 2, \"linecolor\": \"white\", \"showbackground\": true, \"ticks\": \"\", \"zerolinecolor\": \"white\"}, \"zaxis\": {\"backgroundcolor\": \"#E5ECF6\", \"gridcolor\": \"white\", \"gridwidth\": 2, \"linecolor\": \"white\", \"showbackground\": true, \"ticks\": \"\", \"zerolinecolor\": \"white\"}}, \"shapedefaults\": {\"line\": {\"color\": \"#2a3f5f\"}}, \"ternary\": {\"aaxis\": {\"gridcolor\": \"white\", \"linecolor\": \"white\", \"ticks\": \"\"}, \"baxis\": {\"gridcolor\": \"white\", \"linecolor\": \"white\", \"ticks\": \"\"}, \"bgcolor\": \"#E5ECF6\", \"caxis\": {\"gridcolor\": \"white\", \"linecolor\": \"white\", \"ticks\": \"\"}}, \"title\": {\"x\": 0.05}, \"xaxis\": {\"automargin\": true, \"gridcolor\": \"white\", \"linecolor\": \"white\", \"ticks\": \"\", \"title\": {\"standoff\": 15}, \"zerolinecolor\": \"white\", \"zerolinewidth\": 2}, \"yaxis\": {\"automargin\": true, \"gridcolor\": \"white\", \"linecolor\": \"white\", \"ticks\": \"\", \"title\": {\"standoff\": 15}, \"zerolinecolor\": \"white\", \"zerolinewidth\": 2}}}, \"xaxis\": {\"anchor\": \"y\", \"domain\": [0.0, 0.09000000000000001], \"tickfont\": {\"size\": 11}, \"title\": {\"font\": {\"size\": 12}, \"text\": \"\"}}, \"xaxis2\": {\"anchor\": \"y2\", \"domain\": [0.19, 1.0], \"title\": {\"text\": \"K\"}}, \"yaxis\": {\"anchor\": \"x\", \"domain\": [0.0, 1.0], \"tickfont\": {\"size\": 10}, \"title\": {\"font\": {\"size\": 12}, \"text\": \"Time (seconds)\"}}, \"yaxis2\": {\"anchor\": \"x2\", \"domain\": [0.0, 1.0], \"title\": {\"text\": \"Accuracy\"}}},\n",
       "                        {\"responsive\": true}\n",
       "                    ).then(function(){\n",
       "                            \n",
       "var gd = document.getElementById('a529e8d7-736b-4649-8c60-ba7cf3e95150');\n",
       "var x = new MutationObserver(function (mutations, observer) {{\n",
       "        var display = window.getComputedStyle(gd).display;\n",
       "        if (!display || display === 'none') {{\n",
       "            console.log([gd, 'removed!']);\n",
       "            Plotly.purge(gd);\n",
       "            observer.disconnect();\n",
       "        }}\n",
       "}});\n",
       "\n",
       "// Listen for the removal of the full notebook cells\n",
       "var notebookContainer = gd.closest('#notebook-container');\n",
       "if (notebookContainer) {{\n",
       "    x.observe(notebookContainer, {childList: true});\n",
       "}}\n",
       "\n",
       "// Listen for the clearing of the current output cell\n",
       "var outputEl = gd.closest('.output');\n",
       "if (outputEl) {{\n",
       "    x.observe(outputEl, {childList: true});\n",
       "}}\n",
       "\n",
       "                        })\n",
       "                };\n",
       "                });\n",
       "            </script>\n",
       "        </div>"
      ]
     },
     "metadata": {},
     "output_type": "display_data"
    }
   ],
   "source": [
    "# kNN (without PCA): cross validation\n",
    "k = [5,10,25,50,75,100]\n",
    "KNN_models = []\n",
    "for i in range(len(k)):\n",
    "    print(\"Running KNN with k = \" + str(k[i]))\n",
    "    fold = []\n",
    "    skf = StratifiedKFold(n_splits=5, shuffle=True, random_state=1)\n",
    "    for train_index, test_index in skf.split(Training_data.drop(['Y'],axis = 1),Training_data['Y']):\n",
    "        Training_data_ = Training_data.iloc[train_index, :]\n",
    "        Testing_data_ = Training_data.iloc[test_index, :]\n",
    "        Results = knn.KNN(\n",
    "            Training_data = Training_data_,\n",
    "            Testing_data = Testing_data_,\n",
    "            class_var = \"Y\",\n",
    "            num_neighb = int(k[i])\n",
    "        )\n",
    "        Metrics = sklearn.metrics.classification_report(Testing_data_['Y'],Results[1],output_dict = True)\n",
    "        Metrics = [Results[0],Metrics['accuracy'],Metrics['0']['precision'],Metrics['0']['recall'],Metrics['1']['precision'],Metrics['1']['recall']]\n",
    "        fold.append(Metrics)\n",
    "    KNN_models.append(fold)\n",
    "    \n",
    "plot_data = pd.DataFrame()\n",
    "for d in range(len(k)):\n",
    "    Data_results = pd.DataFrame(KNN_models[d])\n",
    "    Data_results[\"K\"] = k[d]\n",
    "    Data_results[\"Fold\"] = list(range(5))\n",
    "    plot_data = pd.concat([plot_data,Data_results])\n",
    "    \n",
    "plot_data = plot_data.groupby(['K']).mean()\n",
    "K = [\"k: 5\",\"k: 10\",\"k: 25\",\"k: 50\",\"k: 75\",\"k: 100\",\"k: 500\",\"k: 1000\",\"k: 2500\"]\n",
    "\n",
    "fig = make_subplots(rows = 1,cols = 2,column_widths = [0.1, 0.9])\n",
    "fig.add_trace(go.Bar(x = K,y = plot_data[0],showlegend = False),\n",
    "    row = 1,col = 1)\n",
    "fig.add_trace(go.Scatter(x = k,y = plot_data[1],showlegend = True,name = \"overall accuracy\"),\n",
    "    row = 1,col = 2)\n",
    "fig.add_trace(go.Scatter(x = k,y = plot_data[2],showlegend = True,name = \"class zero accuracy\"),\n",
    "    row = 1,col = 2)\n",
    "fig.add_trace(go.Scatter(x = k,y = plot_data[4],showlegend = True,name = \"class one accuracy\"),\n",
    "    row = 1,col = 2)\n",
    "fig.update_xaxes(title_text = 'K',row = 1,col = 2)\n",
    "fig.update_yaxes(title_text = 'Accuracy',row = 1,col = 2)\n",
    "fig.update_xaxes(title_text = '',row = 1,col = 1,titlefont = dict(size = 12),tickfont=dict(size=11))\n",
    "fig.update_yaxes(title_text = 'Time (seconds)',row = 1,col = 1,tickfont=dict(size=10),titlefont = dict(size = 12))\n",
    "fig.update_layout(legend = dict(orientation=\"h\",yanchor=\"bottom\",y=1.02,xanchor=\"right\",x=1))\n",
    "fig.show()"
   ]
  },
  {
   "cell_type": "code",
   "execution_count": 7,
   "metadata": {},
   "outputs": [
    {
     "name": "stdout",
     "output_type": "stream",
     "text": [
      "              precision    recall  f1-score   support\n",
      "\n",
      "           0       0.82      0.96      0.89       450\n",
      "           1       0.75      0.39      0.51       150\n",
      "\n",
      "    accuracy                           0.81       600\n",
      "   macro avg       0.79      0.67      0.70       600\n",
      "weighted avg       0.81      0.81      0.79       600\n",
      "\n"
     ]
    }
   ],
   "source": [
    "# kNN (without PCA): final model\n",
    "Final_model = knn.KNN(\n",
    "    Training_data = Training_data,\n",
    "    Testing_data = Testing_data,\n",
    "    class_var = \"Y\",\n",
    "    num_neighb = 5\n",
    ")\n",
    "print(sklearn.metrics.classification_report(Testing_data[\"Y\"],Final_model[1]))"
   ]
  },
  {
   "cell_type": "code",
   "execution_count": 9,
   "metadata": {},
   "outputs": [
    {
     "name": "stdout",
     "output_type": "stream",
     "text": [
      "Running KNN with k = 5\n",
      "Running KNN with k = 10\n",
      "Running KNN with k = 25\n",
      "Running KNN with k = 50\n",
      "Running KNN with k = 75\n",
      "Running KNN with k = 100\n",
      "Running KNN with k = 200\n",
      "Running KNN with k = 500\n"
     ]
    },
    {
     "data": {
      "application/vnd.plotly.v1+json": {
       "config": {
        "plotlyServerURL": "https://plot.ly"
       },
       "data": [
        {
         "showlegend": false,
         "type": "bar",
         "x": [
          "k: 5",
          "k: 10",
          "k: 25",
          "k: 50",
          "k: 75",
          "k: 100",
          "k: 200",
          "k: 500"
         ],
         "xaxis": "x",
         "y": [
          6.764194774627685,
          6.755483770370484,
          7.600074529647827,
          8.286942958831787,
          8.399974346160889,
          7.4506415843963625,
          8.560384511947632,
          8.190461206436158
         ],
         "yaxis": "y"
        },
        {
         "name": "overall accuracy",
         "showlegend": true,
         "type": "scatter",
         "x": [
          5,
          10,
          25,
          50,
          75,
          100,
          200,
          500
         ],
         "xaxis": "x2",
         "y": [
          0.9294117647058823,
          0.9161764705882354,
          0.8902941176470588,
          0.8635294117647059,
          0.8547058823529412,
          0.8467647058823529,
          0.8238235294117647,
          0.7844117647058824
         ],
         "yaxis": "y2"
        },
        {
         "name": "class zero accuracy",
         "showlegend": true,
         "type": "scatter",
         "x": [
          5,
          10,
          25,
          50,
          75,
          100,
          200,
          500
         ],
         "xaxis": "x2",
         "y": [
          0.9609263245865846,
          0.935139890913225,
          0.906281689865982,
          0.8713051293150198,
          0.8590391631450661,
          0.8471538916253787,
          0.8202130544630981,
          0.7780864402690529
         ],
         "yaxis": "y2"
        },
        {
         "name": "class one accuracy",
         "showlegend": true,
         "type": "scatter",
         "x": [
          5,
          10,
          25,
          50,
          75,
          100,
          200,
          500
         ],
         "xaxis": "x2",
         "y": [
          0.8417284558128039,
          0.8556500010492023,
          0.8324189723851172,
          0.8288589515180931,
          0.8329454536469143,
          0.8449376071498834,
          0.8532828282828284,
          0.9404761904761905
         ],
         "yaxis": "y2"
        }
       ],
       "layout": {
        "legend": {
         "orientation": "h",
         "x": 1,
         "xanchor": "right",
         "y": 1.02,
         "yanchor": "bottom"
        },
        "template": {
         "data": {
          "bar": [
           {
            "error_x": {
             "color": "#2a3f5f"
            },
            "error_y": {
             "color": "#2a3f5f"
            },
            "marker": {
             "line": {
              "color": "#E5ECF6",
              "width": 0.5
             }
            },
            "type": "bar"
           }
          ],
          "barpolar": [
           {
            "marker": {
             "line": {
              "color": "#E5ECF6",
              "width": 0.5
             }
            },
            "type": "barpolar"
           }
          ],
          "carpet": [
           {
            "aaxis": {
             "endlinecolor": "#2a3f5f",
             "gridcolor": "white",
             "linecolor": "white",
             "minorgridcolor": "white",
             "startlinecolor": "#2a3f5f"
            },
            "baxis": {
             "endlinecolor": "#2a3f5f",
             "gridcolor": "white",
             "linecolor": "white",
             "minorgridcolor": "white",
             "startlinecolor": "#2a3f5f"
            },
            "type": "carpet"
           }
          ],
          "choropleth": [
           {
            "colorbar": {
             "outlinewidth": 0,
             "ticks": ""
            },
            "type": "choropleth"
           }
          ],
          "contour": [
           {
            "colorbar": {
             "outlinewidth": 0,
             "ticks": ""
            },
            "colorscale": [
             [
              0,
              "#0d0887"
             ],
             [
              0.1111111111111111,
              "#46039f"
             ],
             [
              0.2222222222222222,
              "#7201a8"
             ],
             [
              0.3333333333333333,
              "#9c179e"
             ],
             [
              0.4444444444444444,
              "#bd3786"
             ],
             [
              0.5555555555555556,
              "#d8576b"
             ],
             [
              0.6666666666666666,
              "#ed7953"
             ],
             [
              0.7777777777777778,
              "#fb9f3a"
             ],
             [
              0.8888888888888888,
              "#fdca26"
             ],
             [
              1,
              "#f0f921"
             ]
            ],
            "type": "contour"
           }
          ],
          "contourcarpet": [
           {
            "colorbar": {
             "outlinewidth": 0,
             "ticks": ""
            },
            "type": "contourcarpet"
           }
          ],
          "heatmap": [
           {
            "colorbar": {
             "outlinewidth": 0,
             "ticks": ""
            },
            "colorscale": [
             [
              0,
              "#0d0887"
             ],
             [
              0.1111111111111111,
              "#46039f"
             ],
             [
              0.2222222222222222,
              "#7201a8"
             ],
             [
              0.3333333333333333,
              "#9c179e"
             ],
             [
              0.4444444444444444,
              "#bd3786"
             ],
             [
              0.5555555555555556,
              "#d8576b"
             ],
             [
              0.6666666666666666,
              "#ed7953"
             ],
             [
              0.7777777777777778,
              "#fb9f3a"
             ],
             [
              0.8888888888888888,
              "#fdca26"
             ],
             [
              1,
              "#f0f921"
             ]
            ],
            "type": "heatmap"
           }
          ],
          "heatmapgl": [
           {
            "colorbar": {
             "outlinewidth": 0,
             "ticks": ""
            },
            "colorscale": [
             [
              0,
              "#0d0887"
             ],
             [
              0.1111111111111111,
              "#46039f"
             ],
             [
              0.2222222222222222,
              "#7201a8"
             ],
             [
              0.3333333333333333,
              "#9c179e"
             ],
             [
              0.4444444444444444,
              "#bd3786"
             ],
             [
              0.5555555555555556,
              "#d8576b"
             ],
             [
              0.6666666666666666,
              "#ed7953"
             ],
             [
              0.7777777777777778,
              "#fb9f3a"
             ],
             [
              0.8888888888888888,
              "#fdca26"
             ],
             [
              1,
              "#f0f921"
             ]
            ],
            "type": "heatmapgl"
           }
          ],
          "histogram": [
           {
            "marker": {
             "colorbar": {
              "outlinewidth": 0,
              "ticks": ""
             }
            },
            "type": "histogram"
           }
          ],
          "histogram2d": [
           {
            "colorbar": {
             "outlinewidth": 0,
             "ticks": ""
            },
            "colorscale": [
             [
              0,
              "#0d0887"
             ],
             [
              0.1111111111111111,
              "#46039f"
             ],
             [
              0.2222222222222222,
              "#7201a8"
             ],
             [
              0.3333333333333333,
              "#9c179e"
             ],
             [
              0.4444444444444444,
              "#bd3786"
             ],
             [
              0.5555555555555556,
              "#d8576b"
             ],
             [
              0.6666666666666666,
              "#ed7953"
             ],
             [
              0.7777777777777778,
              "#fb9f3a"
             ],
             [
              0.8888888888888888,
              "#fdca26"
             ],
             [
              1,
              "#f0f921"
             ]
            ],
            "type": "histogram2d"
           }
          ],
          "histogram2dcontour": [
           {
            "colorbar": {
             "outlinewidth": 0,
             "ticks": ""
            },
            "colorscale": [
             [
              0,
              "#0d0887"
             ],
             [
              0.1111111111111111,
              "#46039f"
             ],
             [
              0.2222222222222222,
              "#7201a8"
             ],
             [
              0.3333333333333333,
              "#9c179e"
             ],
             [
              0.4444444444444444,
              "#bd3786"
             ],
             [
              0.5555555555555556,
              "#d8576b"
             ],
             [
              0.6666666666666666,
              "#ed7953"
             ],
             [
              0.7777777777777778,
              "#fb9f3a"
             ],
             [
              0.8888888888888888,
              "#fdca26"
             ],
             [
              1,
              "#f0f921"
             ]
            ],
            "type": "histogram2dcontour"
           }
          ],
          "mesh3d": [
           {
            "colorbar": {
             "outlinewidth": 0,
             "ticks": ""
            },
            "type": "mesh3d"
           }
          ],
          "parcoords": [
           {
            "line": {
             "colorbar": {
              "outlinewidth": 0,
              "ticks": ""
             }
            },
            "type": "parcoords"
           }
          ],
          "pie": [
           {
            "automargin": true,
            "type": "pie"
           }
          ],
          "scatter": [
           {
            "marker": {
             "colorbar": {
              "outlinewidth": 0,
              "ticks": ""
             }
            },
            "type": "scatter"
           }
          ],
          "scatter3d": [
           {
            "line": {
             "colorbar": {
              "outlinewidth": 0,
              "ticks": ""
             }
            },
            "marker": {
             "colorbar": {
              "outlinewidth": 0,
              "ticks": ""
             }
            },
            "type": "scatter3d"
           }
          ],
          "scattercarpet": [
           {
            "marker": {
             "colorbar": {
              "outlinewidth": 0,
              "ticks": ""
             }
            },
            "type": "scattercarpet"
           }
          ],
          "scattergeo": [
           {
            "marker": {
             "colorbar": {
              "outlinewidth": 0,
              "ticks": ""
             }
            },
            "type": "scattergeo"
           }
          ],
          "scattergl": [
           {
            "marker": {
             "colorbar": {
              "outlinewidth": 0,
              "ticks": ""
             }
            },
            "type": "scattergl"
           }
          ],
          "scattermapbox": [
           {
            "marker": {
             "colorbar": {
              "outlinewidth": 0,
              "ticks": ""
             }
            },
            "type": "scattermapbox"
           }
          ],
          "scatterpolar": [
           {
            "marker": {
             "colorbar": {
              "outlinewidth": 0,
              "ticks": ""
             }
            },
            "type": "scatterpolar"
           }
          ],
          "scatterpolargl": [
           {
            "marker": {
             "colorbar": {
              "outlinewidth": 0,
              "ticks": ""
             }
            },
            "type": "scatterpolargl"
           }
          ],
          "scatterternary": [
           {
            "marker": {
             "colorbar": {
              "outlinewidth": 0,
              "ticks": ""
             }
            },
            "type": "scatterternary"
           }
          ],
          "surface": [
           {
            "colorbar": {
             "outlinewidth": 0,
             "ticks": ""
            },
            "colorscale": [
             [
              0,
              "#0d0887"
             ],
             [
              0.1111111111111111,
              "#46039f"
             ],
             [
              0.2222222222222222,
              "#7201a8"
             ],
             [
              0.3333333333333333,
              "#9c179e"
             ],
             [
              0.4444444444444444,
              "#bd3786"
             ],
             [
              0.5555555555555556,
              "#d8576b"
             ],
             [
              0.6666666666666666,
              "#ed7953"
             ],
             [
              0.7777777777777778,
              "#fb9f3a"
             ],
             [
              0.8888888888888888,
              "#fdca26"
             ],
             [
              1,
              "#f0f921"
             ]
            ],
            "type": "surface"
           }
          ],
          "table": [
           {
            "cells": {
             "fill": {
              "color": "#EBF0F8"
             },
             "line": {
              "color": "white"
             }
            },
            "header": {
             "fill": {
              "color": "#C8D4E3"
             },
             "line": {
              "color": "white"
             }
            },
            "type": "table"
           }
          ]
         },
         "layout": {
          "annotationdefaults": {
           "arrowcolor": "#2a3f5f",
           "arrowhead": 0,
           "arrowwidth": 1
          },
          "coloraxis": {
           "colorbar": {
            "outlinewidth": 0,
            "ticks": ""
           }
          },
          "colorscale": {
           "diverging": [
            [
             0,
             "#8e0152"
            ],
            [
             0.1,
             "#c51b7d"
            ],
            [
             0.2,
             "#de77ae"
            ],
            [
             0.3,
             "#f1b6da"
            ],
            [
             0.4,
             "#fde0ef"
            ],
            [
             0.5,
             "#f7f7f7"
            ],
            [
             0.6,
             "#e6f5d0"
            ],
            [
             0.7,
             "#b8e186"
            ],
            [
             0.8,
             "#7fbc41"
            ],
            [
             0.9,
             "#4d9221"
            ],
            [
             1,
             "#276419"
            ]
           ],
           "sequential": [
            [
             0,
             "#0d0887"
            ],
            [
             0.1111111111111111,
             "#46039f"
            ],
            [
             0.2222222222222222,
             "#7201a8"
            ],
            [
             0.3333333333333333,
             "#9c179e"
            ],
            [
             0.4444444444444444,
             "#bd3786"
            ],
            [
             0.5555555555555556,
             "#d8576b"
            ],
            [
             0.6666666666666666,
             "#ed7953"
            ],
            [
             0.7777777777777778,
             "#fb9f3a"
            ],
            [
             0.8888888888888888,
             "#fdca26"
            ],
            [
             1,
             "#f0f921"
            ]
           ],
           "sequentialminus": [
            [
             0,
             "#0d0887"
            ],
            [
             0.1111111111111111,
             "#46039f"
            ],
            [
             0.2222222222222222,
             "#7201a8"
            ],
            [
             0.3333333333333333,
             "#9c179e"
            ],
            [
             0.4444444444444444,
             "#bd3786"
            ],
            [
             0.5555555555555556,
             "#d8576b"
            ],
            [
             0.6666666666666666,
             "#ed7953"
            ],
            [
             0.7777777777777778,
             "#fb9f3a"
            ],
            [
             0.8888888888888888,
             "#fdca26"
            ],
            [
             1,
             "#f0f921"
            ]
           ]
          },
          "colorway": [
           "#636efa",
           "#EF553B",
           "#00cc96",
           "#ab63fa",
           "#FFA15A",
           "#19d3f3",
           "#FF6692",
           "#B6E880",
           "#FF97FF",
           "#FECB52"
          ],
          "font": {
           "color": "#2a3f5f"
          },
          "geo": {
           "bgcolor": "white",
           "lakecolor": "white",
           "landcolor": "#E5ECF6",
           "showlakes": true,
           "showland": true,
           "subunitcolor": "white"
          },
          "hoverlabel": {
           "align": "left"
          },
          "hovermode": "closest",
          "mapbox": {
           "style": "light"
          },
          "paper_bgcolor": "white",
          "plot_bgcolor": "#E5ECF6",
          "polar": {
           "angularaxis": {
            "gridcolor": "white",
            "linecolor": "white",
            "ticks": ""
           },
           "bgcolor": "#E5ECF6",
           "radialaxis": {
            "gridcolor": "white",
            "linecolor": "white",
            "ticks": ""
           }
          },
          "scene": {
           "xaxis": {
            "backgroundcolor": "#E5ECF6",
            "gridcolor": "white",
            "gridwidth": 2,
            "linecolor": "white",
            "showbackground": true,
            "ticks": "",
            "zerolinecolor": "white"
           },
           "yaxis": {
            "backgroundcolor": "#E5ECF6",
            "gridcolor": "white",
            "gridwidth": 2,
            "linecolor": "white",
            "showbackground": true,
            "ticks": "",
            "zerolinecolor": "white"
           },
           "zaxis": {
            "backgroundcolor": "#E5ECF6",
            "gridcolor": "white",
            "gridwidth": 2,
            "linecolor": "white",
            "showbackground": true,
            "ticks": "",
            "zerolinecolor": "white"
           }
          },
          "shapedefaults": {
           "line": {
            "color": "#2a3f5f"
           }
          },
          "ternary": {
           "aaxis": {
            "gridcolor": "white",
            "linecolor": "white",
            "ticks": ""
           },
           "baxis": {
            "gridcolor": "white",
            "linecolor": "white",
            "ticks": ""
           },
           "bgcolor": "#E5ECF6",
           "caxis": {
            "gridcolor": "white",
            "linecolor": "white",
            "ticks": ""
           }
          },
          "title": {
           "x": 0.05
          },
          "xaxis": {
           "automargin": true,
           "gridcolor": "white",
           "linecolor": "white",
           "ticks": "",
           "title": {
            "standoff": 15
           },
           "zerolinecolor": "white",
           "zerolinewidth": 2
          },
          "yaxis": {
           "automargin": true,
           "gridcolor": "white",
           "linecolor": "white",
           "ticks": "",
           "title": {
            "standoff": 15
           },
           "zerolinecolor": "white",
           "zerolinewidth": 2
          }
         }
        },
        "xaxis": {
         "anchor": "y",
         "domain": [
          0,
          0.09000000000000001
         ],
         "tickfont": {
          "size": 11
         },
         "title": {
          "font": {
           "size": 12
          },
          "text": ""
         }
        },
        "xaxis2": {
         "anchor": "y2",
         "domain": [
          0.19,
          1
         ],
         "title": {
          "text": "K"
         }
        },
        "yaxis": {
         "anchor": "x",
         "domain": [
          0,
          1
         ],
         "tickfont": {
          "size": 10
         },
         "title": {
          "font": {
           "size": 12
          },
          "text": "Time (seconds)"
         }
        },
        "yaxis2": {
         "anchor": "x2",
         "domain": [
          0,
          1
         ],
         "title": {
          "text": "Accuracy"
         }
        }
       }
      },
      "text/html": [
       "<div>\n",
       "        \n",
       "        \n",
       "            <div id=\"c93d931c-b50b-4495-818b-55c2a17fd385\" class=\"plotly-graph-div\" style=\"height:525px; width:100%;\"></div>\n",
       "            <script type=\"text/javascript\">\n",
       "                require([\"plotly\"], function(Plotly) {\n",
       "                    window.PLOTLYENV=window.PLOTLYENV || {};\n",
       "                    \n",
       "                if (document.getElementById(\"c93d931c-b50b-4495-818b-55c2a17fd385\")) {\n",
       "                    Plotly.newPlot(\n",
       "                        'c93d931c-b50b-4495-818b-55c2a17fd385',\n",
       "                        [{\"showlegend\": false, \"type\": \"bar\", \"x\": [\"k: 5\", \"k: 10\", \"k: 25\", \"k: 50\", \"k: 75\", \"k: 100\", \"k: 200\", \"k: 500\"], \"xaxis\": \"x\", \"y\": [6.764194774627685, 6.755483770370484, 7.600074529647827, 8.286942958831787, 8.399974346160889, 7.4506415843963625, 8.560384511947632, 8.190461206436158], \"yaxis\": \"y\"}, {\"name\": \"overall accuracy\", \"showlegend\": true, \"type\": \"scatter\", \"x\": [5, 10, 25, 50, 75, 100, 200, 500], \"xaxis\": \"x2\", \"y\": [0.9294117647058823, 0.9161764705882354, 0.8902941176470588, 0.8635294117647059, 0.8547058823529412, 0.8467647058823529, 0.8238235294117647, 0.7844117647058824], \"yaxis\": \"y2\"}, {\"name\": \"class zero accuracy\", \"showlegend\": true, \"type\": \"scatter\", \"x\": [5, 10, 25, 50, 75, 100, 200, 500], \"xaxis\": \"x2\", \"y\": [0.9609263245865846, 0.935139890913225, 0.906281689865982, 0.8713051293150198, 0.8590391631450661, 0.8471538916253787, 0.8202130544630981, 0.7780864402690529], \"yaxis\": \"y2\"}, {\"name\": \"class one accuracy\", \"showlegend\": true, \"type\": \"scatter\", \"x\": [5, 10, 25, 50, 75, 100, 200, 500], \"xaxis\": \"x2\", \"y\": [0.8417284558128039, 0.8556500010492023, 0.8324189723851172, 0.8288589515180931, 0.8329454536469143, 0.8449376071498834, 0.8532828282828284, 0.9404761904761905], \"yaxis\": \"y2\"}],\n",
       "                        {\"legend\": {\"orientation\": \"h\", \"x\": 1, \"xanchor\": \"right\", \"y\": 1.02, \"yanchor\": \"bottom\"}, \"template\": {\"data\": {\"bar\": [{\"error_x\": {\"color\": \"#2a3f5f\"}, \"error_y\": {\"color\": \"#2a3f5f\"}, \"marker\": {\"line\": {\"color\": \"#E5ECF6\", \"width\": 0.5}}, \"type\": \"bar\"}], \"barpolar\": [{\"marker\": {\"line\": {\"color\": \"#E5ECF6\", \"width\": 0.5}}, \"type\": \"barpolar\"}], \"carpet\": [{\"aaxis\": {\"endlinecolor\": \"#2a3f5f\", \"gridcolor\": \"white\", \"linecolor\": \"white\", \"minorgridcolor\": \"white\", \"startlinecolor\": \"#2a3f5f\"}, \"baxis\": {\"endlinecolor\": \"#2a3f5f\", \"gridcolor\": \"white\", \"linecolor\": \"white\", \"minorgridcolor\": \"white\", \"startlinecolor\": \"#2a3f5f\"}, \"type\": \"carpet\"}], \"choropleth\": [{\"colorbar\": {\"outlinewidth\": 0, \"ticks\": \"\"}, \"type\": \"choropleth\"}], \"contour\": [{\"colorbar\": {\"outlinewidth\": 0, \"ticks\": \"\"}, \"colorscale\": [[0.0, \"#0d0887\"], [0.1111111111111111, \"#46039f\"], [0.2222222222222222, \"#7201a8\"], [0.3333333333333333, \"#9c179e\"], [0.4444444444444444, \"#bd3786\"], [0.5555555555555556, \"#d8576b\"], [0.6666666666666666, \"#ed7953\"], [0.7777777777777778, \"#fb9f3a\"], [0.8888888888888888, \"#fdca26\"], [1.0, \"#f0f921\"]], \"type\": \"contour\"}], \"contourcarpet\": [{\"colorbar\": {\"outlinewidth\": 0, \"ticks\": \"\"}, \"type\": \"contourcarpet\"}], \"heatmap\": [{\"colorbar\": {\"outlinewidth\": 0, \"ticks\": \"\"}, \"colorscale\": [[0.0, \"#0d0887\"], [0.1111111111111111, \"#46039f\"], [0.2222222222222222, \"#7201a8\"], [0.3333333333333333, \"#9c179e\"], [0.4444444444444444, \"#bd3786\"], [0.5555555555555556, \"#d8576b\"], [0.6666666666666666, \"#ed7953\"], [0.7777777777777778, \"#fb9f3a\"], [0.8888888888888888, \"#fdca26\"], [1.0, \"#f0f921\"]], \"type\": \"heatmap\"}], \"heatmapgl\": [{\"colorbar\": {\"outlinewidth\": 0, \"ticks\": \"\"}, \"colorscale\": [[0.0, \"#0d0887\"], [0.1111111111111111, \"#46039f\"], [0.2222222222222222, \"#7201a8\"], [0.3333333333333333, \"#9c179e\"], [0.4444444444444444, \"#bd3786\"], [0.5555555555555556, \"#d8576b\"], [0.6666666666666666, \"#ed7953\"], [0.7777777777777778, \"#fb9f3a\"], [0.8888888888888888, \"#fdca26\"], [1.0, \"#f0f921\"]], \"type\": \"heatmapgl\"}], \"histogram\": [{\"marker\": {\"colorbar\": {\"outlinewidth\": 0, \"ticks\": \"\"}}, \"type\": \"histogram\"}], \"histogram2d\": [{\"colorbar\": {\"outlinewidth\": 0, \"ticks\": \"\"}, \"colorscale\": [[0.0, \"#0d0887\"], [0.1111111111111111, \"#46039f\"], [0.2222222222222222, \"#7201a8\"], [0.3333333333333333, \"#9c179e\"], [0.4444444444444444, \"#bd3786\"], [0.5555555555555556, \"#d8576b\"], [0.6666666666666666, \"#ed7953\"], [0.7777777777777778, \"#fb9f3a\"], [0.8888888888888888, \"#fdca26\"], [1.0, \"#f0f921\"]], \"type\": \"histogram2d\"}], \"histogram2dcontour\": [{\"colorbar\": {\"outlinewidth\": 0, \"ticks\": \"\"}, \"colorscale\": [[0.0, \"#0d0887\"], [0.1111111111111111, \"#46039f\"], [0.2222222222222222, \"#7201a8\"], [0.3333333333333333, \"#9c179e\"], [0.4444444444444444, \"#bd3786\"], [0.5555555555555556, \"#d8576b\"], [0.6666666666666666, \"#ed7953\"], [0.7777777777777778, \"#fb9f3a\"], [0.8888888888888888, \"#fdca26\"], [1.0, \"#f0f921\"]], \"type\": \"histogram2dcontour\"}], \"mesh3d\": [{\"colorbar\": {\"outlinewidth\": 0, \"ticks\": \"\"}, \"type\": \"mesh3d\"}], \"parcoords\": [{\"line\": {\"colorbar\": {\"outlinewidth\": 0, \"ticks\": \"\"}}, \"type\": \"parcoords\"}], \"pie\": [{\"automargin\": true, \"type\": \"pie\"}], \"scatter\": [{\"marker\": {\"colorbar\": {\"outlinewidth\": 0, \"ticks\": \"\"}}, \"type\": \"scatter\"}], \"scatter3d\": [{\"line\": {\"colorbar\": {\"outlinewidth\": 0, \"ticks\": \"\"}}, \"marker\": {\"colorbar\": {\"outlinewidth\": 0, \"ticks\": \"\"}}, \"type\": \"scatter3d\"}], \"scattercarpet\": [{\"marker\": {\"colorbar\": {\"outlinewidth\": 0, \"ticks\": \"\"}}, \"type\": \"scattercarpet\"}], \"scattergeo\": [{\"marker\": {\"colorbar\": {\"outlinewidth\": 0, \"ticks\": \"\"}}, \"type\": \"scattergeo\"}], \"scattergl\": [{\"marker\": {\"colorbar\": {\"outlinewidth\": 0, \"ticks\": \"\"}}, \"type\": \"scattergl\"}], \"scattermapbox\": [{\"marker\": {\"colorbar\": {\"outlinewidth\": 0, \"ticks\": \"\"}}, \"type\": \"scattermapbox\"}], \"scatterpolar\": [{\"marker\": {\"colorbar\": {\"outlinewidth\": 0, \"ticks\": \"\"}}, \"type\": \"scatterpolar\"}], \"scatterpolargl\": [{\"marker\": {\"colorbar\": {\"outlinewidth\": 0, \"ticks\": \"\"}}, \"type\": \"scatterpolargl\"}], \"scatterternary\": [{\"marker\": {\"colorbar\": {\"outlinewidth\": 0, \"ticks\": \"\"}}, \"type\": \"scatterternary\"}], \"surface\": [{\"colorbar\": {\"outlinewidth\": 0, \"ticks\": \"\"}, \"colorscale\": [[0.0, \"#0d0887\"], [0.1111111111111111, \"#46039f\"], [0.2222222222222222, \"#7201a8\"], [0.3333333333333333, \"#9c179e\"], [0.4444444444444444, \"#bd3786\"], [0.5555555555555556, \"#d8576b\"], [0.6666666666666666, \"#ed7953\"], [0.7777777777777778, \"#fb9f3a\"], [0.8888888888888888, \"#fdca26\"], [1.0, \"#f0f921\"]], \"type\": \"surface\"}], \"table\": [{\"cells\": {\"fill\": {\"color\": \"#EBF0F8\"}, \"line\": {\"color\": \"white\"}}, \"header\": {\"fill\": {\"color\": \"#C8D4E3\"}, \"line\": {\"color\": \"white\"}}, \"type\": \"table\"}]}, \"layout\": {\"annotationdefaults\": {\"arrowcolor\": \"#2a3f5f\", \"arrowhead\": 0, \"arrowwidth\": 1}, \"coloraxis\": {\"colorbar\": {\"outlinewidth\": 0, \"ticks\": \"\"}}, \"colorscale\": {\"diverging\": [[0, \"#8e0152\"], [0.1, \"#c51b7d\"], [0.2, \"#de77ae\"], [0.3, \"#f1b6da\"], [0.4, \"#fde0ef\"], [0.5, \"#f7f7f7\"], [0.6, \"#e6f5d0\"], [0.7, \"#b8e186\"], [0.8, \"#7fbc41\"], [0.9, \"#4d9221\"], [1, \"#276419\"]], \"sequential\": [[0.0, \"#0d0887\"], [0.1111111111111111, \"#46039f\"], [0.2222222222222222, \"#7201a8\"], [0.3333333333333333, \"#9c179e\"], [0.4444444444444444, \"#bd3786\"], [0.5555555555555556, \"#d8576b\"], [0.6666666666666666, \"#ed7953\"], [0.7777777777777778, \"#fb9f3a\"], [0.8888888888888888, \"#fdca26\"], [1.0, \"#f0f921\"]], \"sequentialminus\": [[0.0, \"#0d0887\"], [0.1111111111111111, \"#46039f\"], [0.2222222222222222, \"#7201a8\"], [0.3333333333333333, \"#9c179e\"], [0.4444444444444444, \"#bd3786\"], [0.5555555555555556, \"#d8576b\"], [0.6666666666666666, \"#ed7953\"], [0.7777777777777778, \"#fb9f3a\"], [0.8888888888888888, \"#fdca26\"], [1.0, \"#f0f921\"]]}, \"colorway\": [\"#636efa\", \"#EF553B\", \"#00cc96\", \"#ab63fa\", \"#FFA15A\", \"#19d3f3\", \"#FF6692\", \"#B6E880\", \"#FF97FF\", \"#FECB52\"], \"font\": {\"color\": \"#2a3f5f\"}, \"geo\": {\"bgcolor\": \"white\", \"lakecolor\": \"white\", \"landcolor\": \"#E5ECF6\", \"showlakes\": true, \"showland\": true, \"subunitcolor\": \"white\"}, \"hoverlabel\": {\"align\": \"left\"}, \"hovermode\": \"closest\", \"mapbox\": {\"style\": \"light\"}, \"paper_bgcolor\": \"white\", \"plot_bgcolor\": \"#E5ECF6\", \"polar\": {\"angularaxis\": {\"gridcolor\": \"white\", \"linecolor\": \"white\", \"ticks\": \"\"}, \"bgcolor\": \"#E5ECF6\", \"radialaxis\": {\"gridcolor\": \"white\", \"linecolor\": \"white\", \"ticks\": \"\"}}, \"scene\": {\"xaxis\": {\"backgroundcolor\": \"#E5ECF6\", \"gridcolor\": \"white\", \"gridwidth\": 2, \"linecolor\": \"white\", \"showbackground\": true, \"ticks\": \"\", \"zerolinecolor\": \"white\"}, \"yaxis\": {\"backgroundcolor\": \"#E5ECF6\", \"gridcolor\": \"white\", \"gridwidth\": 2, \"linecolor\": \"white\", \"showbackground\": true, \"ticks\": \"\", \"zerolinecolor\": \"white\"}, \"zaxis\": {\"backgroundcolor\": \"#E5ECF6\", \"gridcolor\": \"white\", \"gridwidth\": 2, \"linecolor\": \"white\", \"showbackground\": true, \"ticks\": \"\", \"zerolinecolor\": \"white\"}}, \"shapedefaults\": {\"line\": {\"color\": \"#2a3f5f\"}}, \"ternary\": {\"aaxis\": {\"gridcolor\": \"white\", \"linecolor\": \"white\", \"ticks\": \"\"}, \"baxis\": {\"gridcolor\": \"white\", \"linecolor\": \"white\", \"ticks\": \"\"}, \"bgcolor\": \"#E5ECF6\", \"caxis\": {\"gridcolor\": \"white\", \"linecolor\": \"white\", \"ticks\": \"\"}}, \"title\": {\"x\": 0.05}, \"xaxis\": {\"automargin\": true, \"gridcolor\": \"white\", \"linecolor\": \"white\", \"ticks\": \"\", \"title\": {\"standoff\": 15}, \"zerolinecolor\": \"white\", \"zerolinewidth\": 2}, \"yaxis\": {\"automargin\": true, \"gridcolor\": \"white\", \"linecolor\": \"white\", \"ticks\": \"\", \"title\": {\"standoff\": 15}, \"zerolinecolor\": \"white\", \"zerolinewidth\": 2}}}, \"xaxis\": {\"anchor\": \"y\", \"domain\": [0.0, 0.09000000000000001], \"tickfont\": {\"size\": 11}, \"title\": {\"font\": {\"size\": 12}, \"text\": \"\"}}, \"xaxis2\": {\"anchor\": \"y2\", \"domain\": [0.19, 1.0], \"title\": {\"text\": \"K\"}}, \"yaxis\": {\"anchor\": \"x\", \"domain\": [0.0, 1.0], \"tickfont\": {\"size\": 10}, \"title\": {\"font\": {\"size\": 12}, \"text\": \"Time (seconds)\"}}, \"yaxis2\": {\"anchor\": \"x2\", \"domain\": [0.0, 1.0], \"title\": {\"text\": \"Accuracy\"}}},\n",
       "                        {\"responsive\": true}\n",
       "                    ).then(function(){\n",
       "                            \n",
       "var gd = document.getElementById('c93d931c-b50b-4495-818b-55c2a17fd385');\n",
       "var x = new MutationObserver(function (mutations, observer) {{\n",
       "        var display = window.getComputedStyle(gd).display;\n",
       "        if (!display || display === 'none') {{\n",
       "            console.log([gd, 'removed!']);\n",
       "            Plotly.purge(gd);\n",
       "            observer.disconnect();\n",
       "        }}\n",
       "}});\n",
       "\n",
       "// Listen for the removal of the full notebook cells\n",
       "var notebookContainer = gd.closest('#notebook-container');\n",
       "if (notebookContainer) {{\n",
       "    x.observe(notebookContainer, {childList: true});\n",
       "}}\n",
       "\n",
       "// Listen for the clearing of the current output cell\n",
       "var outputEl = gd.closest('.output');\n",
       "if (outputEl) {{\n",
       "    x.observe(outputEl, {childList: true});\n",
       "}}\n",
       "\n",
       "                        })\n",
       "                };\n",
       "                });\n",
       "            </script>\n",
       "        </div>"
      ]
     },
     "metadata": {},
     "output_type": "display_data"
    }
   ],
   "source": [
    "# kNN (with PCA): cross validation\n",
    "pca = PCA(n_components = 0.99,svd_solver = 'full')\n",
    "Training_data_PCA = pd.DataFrame(pca.fit_transform(Training_data.drop(['Y'],1)))\n",
    "Testing_data_PCA = pd.DataFrame(pca.transform(Testing_data.drop(['Y'],1)))\n",
    "Training_data_PCA[\"Y\"] = ytrain\n",
    "Testing_data_PCA[\"Y\"] = ytest\n",
    "\n",
    "k = [5,10,25,50,75,100,200,500]\n",
    "KNN_models_PCA = []\n",
    "for i in range(len(k)):\n",
    "    print(\"Running KNN with k = \" + str(k[i]))\n",
    "    fold = []\n",
    "    skf = StratifiedKFold(n_splits=5, shuffle=True, random_state=2)\n",
    "    for train_index, test_index in skf.split(Training_data_PCA.drop(['Y'],axis = 1),Training_data_PCA['Y']):\n",
    "        Training_data_PCA_ = Training_data_PCA.iloc[train_index, :]\n",
    "        Testing_data_PCA_ = Training_data_PCA.iloc[test_index, :]\n",
    "        Results = knn.KNN(\n",
    "            Training_data = Training_data_PCA_,\n",
    "            Testing_data = Testing_data_PCA_,\n",
    "            class_var = \"Y\",\n",
    "            num_neighb = int(k[i])\n",
    "        )\n",
    "        Metrics = sklearn.metrics.classification_report(Testing_data_PCA_['Y'],Results[1],output_dict = True)\n",
    "        Metrics = [Results[0],Metrics['accuracy'],Metrics['0']['precision'],Metrics['0']['recall'],Metrics['1']['precision'],Metrics['1']['recall']]\n",
    "        fold.append(Metrics)\n",
    "    KNN_models_PCA.append(fold)\n",
    "    \n",
    "plot_data = pd.DataFrame()\n",
    "for d in range(8):\n",
    "    Data_results = pd.DataFrame(KNN_models_PCA[d])\n",
    "    Data_results[\"K\"] = k[d]\n",
    "    Data_results[\"Fold\"] = list(range(5))\n",
    "    plot_data = pd.concat([plot_data,Data_results])\n",
    "    \n",
    "plot_data = plot_data.groupby(['K']).mean()\n",
    "K = [\"k: 5\",\"k: 10\",\"k: 25\",\"k: 50\",\"k: 75\",\"k: 100\",\"k: 200\",\"k: 500\"]\n",
    "\n",
    "fig = make_subplots(rows = 1,cols = 2,column_widths = [0.1, 0.9])\n",
    "fig.add_trace(go.Bar(x = K,y = plot_data[0],showlegend = False),\n",
    "    row = 1,col = 1)\n",
    "fig.add_trace(go.Scatter(x = k,y = plot_data[1],showlegend = True,name = \"overall accuracy\"),\n",
    "    row = 1,col = 2)\n",
    "fig.add_trace(go.Scatter(x = k,y = plot_data[2],showlegend = True,name = \"class zero accuracy\"),\n",
    "    row = 1,col = 2)\n",
    "fig.add_trace(go.Scatter(x = k,y = plot_data[4],showlegend = True,name = \"class one accuracy\"),\n",
    "    row = 1,col = 2)\n",
    "fig.update_xaxes(title_text = 'K',row = 1,col = 2)\n",
    "fig.update_yaxes(title_text = 'Accuracy',row = 1,col = 2)\n",
    "fig.update_xaxes(title_text = '',row = 1,col = 1,titlefont = dict(size = 12),tickfont=dict(size=11))\n",
    "fig.update_yaxes(title_text = 'Time (seconds)',row = 1,col = 1,tickfont=dict(size=10),titlefont = dict(size = 12))\n",
    "fig.update_layout(legend = dict(orientation=\"h\",yanchor=\"bottom\",y=1.02,xanchor=\"right\",x=1))\n",
    "fig.show()"
   ]
  },
  {
   "cell_type": "code",
   "execution_count": 10,
   "metadata": {},
   "outputs": [
    {
     "name": "stdout",
     "output_type": "stream",
     "text": [
      "              precision    recall  f1-score   support\n",
      "\n",
      "           0       0.95      0.94      0.94       450\n",
      "           1       0.83      0.84      0.83       150\n",
      "\n",
      "    accuracy                           0.92       600\n",
      "   macro avg       0.89      0.89      0.89       600\n",
      "weighted avg       0.92      0.92      0.92       600\n",
      "\n"
     ]
    }
   ],
   "source": [
    "# kNN (without PCA): final model\n",
    "Final_model = knn.KNN(\n",
    "    Training_data = Training_data_PCA,\n",
    "    Testing_data = Testing_data_PCA,\n",
    "    class_var = \"Y\",\n",
    "    num_neighb = 10\n",
    ")\n",
    "print(sklearn.metrics.classification_report(Testing_data_PCA[\"Y\"],Final_model[1]))"
   ]
  },
  {
   "cell_type": "code",
   "execution_count": 11,
   "metadata": {
    "scrolled": true
   },
   "outputs": [
    {
     "name": "stdout",
     "output_type": "stream",
     "text": [
      "Running linear SVM with C = 0.001\n",
      "Running linear SVM with C = 0.01\n",
      "Running linear SVM with C = 0.1\n",
      "Running linear SVM with C = 1\n",
      "Running linear SVM with C = 10\n",
      "Running linear SVM with C = 100\n",
      "Running linear SVM with C = 1000\n",
      "            Runtime  Accuracy  Precision0   Recall0  Precision1   Recall1  \\\n",
      "C                                                                           \n",
      "0.001     49.392094  0.909412    0.956596  0.921176    0.787698  0.874118   \n",
      "0.010     47.075429  0.909412    0.956596  0.921176    0.787698  0.874118   \n",
      "0.100     47.255470  0.909412    0.956596  0.921176    0.787698  0.874118   \n",
      "1.000     47.066771  0.909412    0.956596  0.921176    0.787698  0.874118   \n",
      "10.000    47.080490  0.909412    0.956596  0.921176    0.787698  0.874118   \n",
      "100.000   47.180123  0.909412    0.956596  0.921176    0.787698  0.874118   \n",
      "1000.000  47.011880  0.909412    0.956596  0.921176    0.787698  0.874118   \n",
      "\n",
      "          Fold  \n",
      "C               \n",
      "0.001        2  \n",
      "0.010        2  \n",
      "0.100        2  \n",
      "1.000        2  \n",
      "10.000       2  \n",
      "100.000      2  \n",
      "1000.000     2  \n",
      "Running linear SVM with C = 0.001\n"
     ]
    },
    {
     "name": "stderr",
     "output_type": "stream",
     "text": [
      "/Users/A11y/anaconda3/lib/python3.8/site-packages/sklearn/metrics/_classification.py:1221: UndefinedMetricWarning:\n",
      "\n",
      "Precision and F-score are ill-defined and being set to 0.0 in labels with no predicted samples. Use `zero_division` parameter to control this behavior.\n",
      "\n",
      "/Users/A11y/anaconda3/lib/python3.8/site-packages/sklearn/metrics/_classification.py:1221: UndefinedMetricWarning:\n",
      "\n",
      "Precision and F-score are ill-defined and being set to 0.0 in labels with no predicted samples. Use `zero_division` parameter to control this behavior.\n",
      "\n",
      "/Users/A11y/anaconda3/lib/python3.8/site-packages/sklearn/metrics/_classification.py:1221: UndefinedMetricWarning:\n",
      "\n",
      "Precision and F-score are ill-defined and being set to 0.0 in labels with no predicted samples. Use `zero_division` parameter to control this behavior.\n",
      "\n",
      "/Users/A11y/anaconda3/lib/python3.8/site-packages/sklearn/metrics/_classification.py:1221: UndefinedMetricWarning:\n",
      "\n",
      "Precision and F-score are ill-defined and being set to 0.0 in labels with no predicted samples. Use `zero_division` parameter to control this behavior.\n",
      "\n",
      "/Users/A11y/anaconda3/lib/python3.8/site-packages/sklearn/metrics/_classification.py:1221: UndefinedMetricWarning:\n",
      "\n",
      "Precision and F-score are ill-defined and being set to 0.0 in labels with no predicted samples. Use `zero_division` parameter to control this behavior.\n",
      "\n"
     ]
    },
    {
     "name": "stdout",
     "output_type": "stream",
     "text": [
      "Running linear SVM with C = 0.01\n"
     ]
    },
    {
     "name": "stderr",
     "output_type": "stream",
     "text": [
      "/Users/A11y/anaconda3/lib/python3.8/site-packages/sklearn/metrics/_classification.py:1221: UndefinedMetricWarning:\n",
      "\n",
      "Precision and F-score are ill-defined and being set to 0.0 in labels with no predicted samples. Use `zero_division` parameter to control this behavior.\n",
      "\n",
      "/Users/A11y/anaconda3/lib/python3.8/site-packages/sklearn/metrics/_classification.py:1221: UndefinedMetricWarning:\n",
      "\n",
      "Precision and F-score are ill-defined and being set to 0.0 in labels with no predicted samples. Use `zero_division` parameter to control this behavior.\n",
      "\n",
      "/Users/A11y/anaconda3/lib/python3.8/site-packages/sklearn/metrics/_classification.py:1221: UndefinedMetricWarning:\n",
      "\n",
      "Precision and F-score are ill-defined and being set to 0.0 in labels with no predicted samples. Use `zero_division` parameter to control this behavior.\n",
      "\n",
      "/Users/A11y/anaconda3/lib/python3.8/site-packages/sklearn/metrics/_classification.py:1221: UndefinedMetricWarning:\n",
      "\n",
      "Precision and F-score are ill-defined and being set to 0.0 in labels with no predicted samples. Use `zero_division` parameter to control this behavior.\n",
      "\n",
      "/Users/A11y/anaconda3/lib/python3.8/site-packages/sklearn/metrics/_classification.py:1221: UndefinedMetricWarning:\n",
      "\n",
      "Precision and F-score are ill-defined and being set to 0.0 in labels with no predicted samples. Use `zero_division` parameter to control this behavior.\n",
      "\n"
     ]
    },
    {
     "name": "stdout",
     "output_type": "stream",
     "text": [
      "Running linear SVM with C = 0.1\n",
      "Running linear SVM with C = 1\n",
      "Running linear SVM with C = 10\n",
      "Running linear SVM with C = 100\n",
      "Running linear SVM with C = 1000\n",
      "            Runtime  Accuracy  Precision0   Recall0  Precision1   Recall1  \\\n",
      "C                                                                           \n",
      "0.001     81.007202  0.750000    0.750000  1.000000    0.000000  0.000000   \n",
      "0.010     80.881238  0.750000    0.750000  1.000000    0.000000  0.000000   \n",
      "0.100     67.546969  0.895588    0.886236  0.987843    0.945268  0.618824   \n",
      "1.000     46.095645  0.963824    0.968748  0.983529    0.948678  0.904706   \n",
      "10.000    38.884915  0.976765    0.983615  0.985490    0.956461  0.950588   \n",
      "100.000   37.948177  0.976471    0.983609  0.985098    0.955243  0.950588   \n",
      "1000.000  39.311203  0.976471    0.983609  0.985098    0.955243  0.950588   \n",
      "\n",
      "          Fold  \n",
      "C               \n",
      "0.001        2  \n",
      "0.010        2  \n",
      "0.100        2  \n",
      "1.000        2  \n",
      "10.000       2  \n",
      "100.000      2  \n",
      "1000.000     2  \n",
      "Running linear SVM with C = 0.001\n",
      "Running linear SVM with C = 0.01\n",
      "Running linear SVM with C = 0.1\n",
      "Running linear SVM with C = 1\n",
      "Running linear SVM with C = 10\n",
      "Running linear SVM with C = 100\n",
      "Running linear SVM with C = 1000\n",
      "            Runtime  Accuracy  Precision0   Recall0  Precision1   Recall1  \\\n",
      "C                                                                           \n",
      "0.001     72.429352  0.855000    0.847194  0.984314    0.908715  0.467059   \n",
      "0.010     54.445210  0.927059    0.936158  0.969020    0.896334  0.801176   \n",
      "0.100     43.775498  0.945000    0.965816  0.960784    0.885195  0.897647   \n",
      "1.000     39.679089  0.944706    0.975538  0.950196    0.862382  0.928235   \n",
      "10.000    37.871518  0.941765    0.976608  0.945098    0.850463  0.931765   \n",
      "100.000   37.133330  0.941765    0.976608  0.945098    0.850463  0.931765   \n",
      "1000.000  37.206662  0.941765    0.976608  0.945098    0.850463  0.931765   \n",
      "\n",
      "          Fold  \n",
      "C               \n",
      "0.001        2  \n",
      "0.010        2  \n",
      "0.100        2  \n",
      "1.000        2  \n",
      "10.000       2  \n",
      "100.000      2  \n",
      "1000.000     2  \n",
      "              precision    recall  f1-score   support\n",
      "\n",
      "           0       0.98      0.99      0.99       450\n",
      "           1       0.97      0.95      0.96       150\n",
      "\n",
      "    accuracy                           0.98       600\n",
      "   macro avg       0.98      0.97      0.97       600\n",
      "weighted avg       0.98      0.98      0.98       600\n",
      "\n"
     ]
    }
   ],
   "source": [
    "# SVM (without PCA): cross validation linear, rbf, and polynomial kernel\n",
    "C = [0.001,0.01,0.1,1,10,100,1000]\n",
    "SVM_models = []\n",
    "for i in range(len(C)):\n",
    "    print(\"Running linear SVM with C = \" + str(C[i]))\n",
    "    fold = []\n",
    "    skf = StratifiedKFold(n_splits=5, shuffle=True, random_state=3)\n",
    "    for train_index, test_index in skf.split(Training_data.drop(['Y'],axis = 1),Training_data['Y']):\n",
    "        Training_data_ = Training_data.iloc[train_index, :]\n",
    "        Testing_data_ = Training_data.iloc[test_index, :]\n",
    "        start = time.time()\n",
    "        clf = svm.SVC(kernel = \"linear\",C = C[i])\n",
    "        clf.fit(Training_data_.drop('Y',1).values,Training_data_['Y'])\n",
    "        Time = time.time() - start\n",
    "        predictions = clf.predict(Testing_data_.drop('Y',1).values)\n",
    "        Metrics = sklearn.metrics.classification_report(Testing_data_['Y'],predictions,output_dict = True)\n",
    "        Metrics = [Time,Metrics['accuracy'],Metrics['0']['precision'],Metrics['0']['recall'],Metrics['1']['precision'],Metrics['1']['recall']]\n",
    "        fold.append(Metrics)\n",
    "    SVM_models.append(fold)\n",
    "    \n",
    "Data_results_all = pd.DataFrame()\n",
    "for d in range(len(C)):\n",
    "    Data_results = pd.DataFrame(SVM_models[d])\n",
    "    Data_results[\"C\"] = C[d]\n",
    "    Data_results[\"Fold\"] = list(range(5))\n",
    "    Data_results_all = pd.concat([Data_results_all,Data_results])\n",
    "    \n",
    "Results = Data_results_all.groupby('C').mean()\n",
    "Results.columns = [\"Runtime\",\"Accuracy\",\"Precision0\",\"Recall0\",\"Precision1\",\"Recall1\",\"Fold\"]\n",
    "print(Results)\n",
    "\n",
    "C = [0.001,0.01,0.1,1,10,100,1000]\n",
    "SVM_models_rbf = []\n",
    "for i in range(len(C)):\n",
    "    print(\"Running rbf SVM with C = \" + str(C[i]))\n",
    "    fold = []\n",
    "    skf = StratifiedKFold(n_splits=5, shuffle=True, random_state=3)\n",
    "    for train_index, test_index in skf.split(Training_data.drop(['Y'],axis = 1),Training_data['Y']):\n",
    "        Training_data_ = Training_data.iloc[train_index, :]\n",
    "        Testing_data_ = Training_data.iloc[test_index, :]\n",
    "        start = time.time()\n",
    "        clf = svm.SVC(kernel = \"rbf\",C = C[i])\n",
    "        clf.fit(Training_data_.drop('Y',1).values,Training_data_['Y'])\n",
    "        Time = time.time() - start\n",
    "        predictions = clf.predict(Testing_data_.drop('Y',1).values)\n",
    "        Metrics = sklearn.metrics.classification_report(Testing_data_['Y'],predictions,output_dict = True)\n",
    "        Metrics = [Time,Metrics['accuracy'],Metrics['0']['precision'],Metrics['0']['recall'],Metrics['1']['precision'],Metrics['1']['recall']]\n",
    "        fold.append(Metrics)\n",
    "    SVM_models_rbf.append(fold)\n",
    "    \n",
    "Data_results_all = pd.DataFrame()\n",
    "for d in range(len(C)):\n",
    "    Data_results = pd.DataFrame(SVM_models_rbf[d])\n",
    "    Data_results[\"C\"] = C[d]\n",
    "    Data_results[\"Fold\"] = list(range(5))\n",
    "    Data_results_all = pd.concat([Data_results_all,Data_results])\n",
    "    \n",
    "Results = Data_results_all.groupby('C').mean()\n",
    "Results.columns = [\"Runtime\",\"Accuracy\",\"Precision0\",\"Recall0\",\"Precision1\",\"Recall1\",\"Fold\"]\n",
    "print(Results)\n",
    "\n",
    "C = [0.001,0.01,0.1,1,10,100,1000]\n",
    "SVM_models_poly = []\n",
    "for i in range(len(C)):\n",
    "    print(\"Running poly SVM with C = \" + str(C[i]))\n",
    "    fold = []\n",
    "    skf = StratifiedKFold(n_splits=5, shuffle=True, random_state=3)\n",
    "    for train_index, test_index in skf.split(Training_data.drop(['Y'],axis = 1),Training_data['Y']):\n",
    "        Training_data_ = Training_data.iloc[train_index, :]\n",
    "        Testing_data_ = Training_data.iloc[test_index, :]\n",
    "        start = time.time()\n",
    "        clf = svm.SVC(kernel = \"poly\",C = C[i])\n",
    "        clf.fit(Training_data_.drop('Y',1).values,Training_data_['Y'])\n",
    "        Time = time.time() - start\n",
    "        predictions = clf.predict(Testing_data_.drop('Y',1).values)\n",
    "        Metrics = sklearn.metrics.classification_report(Testing_data_['Y'],predictions,output_dict = True)\n",
    "        Metrics = [Time,Metrics['accuracy'],Metrics['0']['precision'],Metrics['0']['recall'],Metrics['1']['precision'],Metrics['1']['recall']]\n",
    "        fold.append(Metrics)\n",
    "    SVM_models_poly.append(fold)\n",
    "    \n",
    "Data_results_all = pd.DataFrame()\n",
    "for d in range(len(C)):\n",
    "    Data_results = pd.DataFrame(SVM_models_poly[d])\n",
    "    Data_results[\"C\"] = C[d]\n",
    "    Data_results[\"Fold\"] = list(range(5))\n",
    "    Data_results_all = pd.concat([Data_results_all,Data_results])\n",
    "    \n",
    "Results = Data_results_all.groupby('C').mean()\n",
    "Results.columns = [\"Runtime\",\"Accuracy\",\"Precision0\",\"Recall0\",\"Precision1\",\"Recall1\",\"Fold\"]\n",
    "print(Results)\n",
    "\n",
    "# SVM (without PCA): final model with rbf kernel\n",
    "clf = svm.SVC(kernel = \"rbf\",C = 10)\n",
    "clf.fit(Training_data.drop('Y',1).values,Training_data['Y'])\n",
    "predictions = clf.predict(Testing_data.drop('Y',1).values)\n",
    "print(sklearn.metrics.classification_report(Testing_data['Y'],predictions))"
   ]
  },
  {
   "cell_type": "code",
   "execution_count": 12,
   "metadata": {},
   "outputs": [
    {
     "name": "stdout",
     "output_type": "stream",
     "text": [
      "Running linear SVM with C = 0.001\n",
      "Running linear SVM with C = 0.01\n",
      "Running linear SVM with C = 0.1\n",
      "Running linear SVM with C = 1\n",
      "Running linear SVM with C = 10\n",
      "Running linear SVM with C = 100\n",
      "Running linear SVM with C = 1000\n",
      "           Runtime  Accuracy  Precision0  Recall0  Precision1   Recall1  Fold\n",
      "C                                                                            \n",
      "0.001     2.650558     0.885    0.949341  0.89451    0.730828  0.856471     2\n",
      "0.010     2.592325     0.885    0.949341  0.89451    0.730828  0.856471     2\n",
      "0.100     2.598834     0.885    0.949341  0.89451    0.730828  0.856471     2\n",
      "1.000     2.592151     0.885    0.949341  0.89451    0.730828  0.856471     2\n",
      "10.000    2.596436     0.885    0.949341  0.89451    0.730828  0.856471     2\n",
      "100.000   2.588866     0.885    0.949341  0.89451    0.730828  0.856471     2\n",
      "1000.000  2.601414     0.885    0.949341  0.89451    0.730828  0.856471     2\n",
      "Running linear SVM with C = 0.001\n"
     ]
    },
    {
     "name": "stderr",
     "output_type": "stream",
     "text": [
      "/Users/A11y/anaconda3/lib/python3.8/site-packages/sklearn/metrics/_classification.py:1221: UndefinedMetricWarning:\n",
      "\n",
      "Precision and F-score are ill-defined and being set to 0.0 in labels with no predicted samples. Use `zero_division` parameter to control this behavior.\n",
      "\n",
      "/Users/A11y/anaconda3/lib/python3.8/site-packages/sklearn/metrics/_classification.py:1221: UndefinedMetricWarning:\n",
      "\n",
      "Precision and F-score are ill-defined and being set to 0.0 in labels with no predicted samples. Use `zero_division` parameter to control this behavior.\n",
      "\n",
      "/Users/A11y/anaconda3/lib/python3.8/site-packages/sklearn/metrics/_classification.py:1221: UndefinedMetricWarning:\n",
      "\n",
      "Precision and F-score are ill-defined and being set to 0.0 in labels with no predicted samples. Use `zero_division` parameter to control this behavior.\n",
      "\n",
      "/Users/A11y/anaconda3/lib/python3.8/site-packages/sklearn/metrics/_classification.py:1221: UndefinedMetricWarning:\n",
      "\n",
      "Precision and F-score are ill-defined and being set to 0.0 in labels with no predicted samples. Use `zero_division` parameter to control this behavior.\n",
      "\n",
      "/Users/A11y/anaconda3/lib/python3.8/site-packages/sklearn/metrics/_classification.py:1221: UndefinedMetricWarning:\n",
      "\n",
      "Precision and F-score are ill-defined and being set to 0.0 in labels with no predicted samples. Use `zero_division` parameter to control this behavior.\n",
      "\n"
     ]
    },
    {
     "name": "stdout",
     "output_type": "stream",
     "text": [
      "Running linear SVM with C = 0.01\n"
     ]
    },
    {
     "name": "stderr",
     "output_type": "stream",
     "text": [
      "/Users/A11y/anaconda3/lib/python3.8/site-packages/sklearn/metrics/_classification.py:1221: UndefinedMetricWarning:\n",
      "\n",
      "Precision and F-score are ill-defined and being set to 0.0 in labels with no predicted samples. Use `zero_division` parameter to control this behavior.\n",
      "\n",
      "/Users/A11y/anaconda3/lib/python3.8/site-packages/sklearn/metrics/_classification.py:1221: UndefinedMetricWarning:\n",
      "\n",
      "Precision and F-score are ill-defined and being set to 0.0 in labels with no predicted samples. Use `zero_division` parameter to control this behavior.\n",
      "\n",
      "/Users/A11y/anaconda3/lib/python3.8/site-packages/sklearn/metrics/_classification.py:1221: UndefinedMetricWarning:\n",
      "\n",
      "Precision and F-score are ill-defined and being set to 0.0 in labels with no predicted samples. Use `zero_division` parameter to control this behavior.\n",
      "\n",
      "/Users/A11y/anaconda3/lib/python3.8/site-packages/sklearn/metrics/_classification.py:1221: UndefinedMetricWarning:\n",
      "\n",
      "Precision and F-score are ill-defined and being set to 0.0 in labels with no predicted samples. Use `zero_division` parameter to control this behavior.\n",
      "\n",
      "/Users/A11y/anaconda3/lib/python3.8/site-packages/sklearn/metrics/_classification.py:1221: UndefinedMetricWarning:\n",
      "\n",
      "Precision and F-score are ill-defined and being set to 0.0 in labels with no predicted samples. Use `zero_division` parameter to control this behavior.\n",
      "\n"
     ]
    },
    {
     "name": "stdout",
     "output_type": "stream",
     "text": [
      "Running linear SVM with C = 0.1\n",
      "Running linear SVM with C = 1\n",
      "Running linear SVM with C = 10\n",
      "Running linear SVM with C = 100\n",
      "Running linear SVM with C = 1000\n",
      "           Runtime  Accuracy  Precision0   Recall0  Precision1   Recall1  Fold\n",
      "C                                                                             \n",
      "0.001     3.875667  0.750000    0.750000  1.000000    0.000000  0.000000     2\n",
      "0.010     3.934773  0.750000    0.750000  1.000000    0.000000  0.000000     2\n",
      "0.100     3.051226  0.897353    0.887838  0.988235    0.947453  0.624706     2\n",
      "1.000     2.084652  0.965882    0.970989  0.983922    0.950127  0.911765     2\n",
      "10.000    1.662820  0.976471    0.983604  0.985098    0.955443  0.950588     2\n",
      "100.000   1.630877  0.974118    0.980921  0.984706    0.953778  0.942353     2\n",
      "1000.000  1.625736  0.974118    0.980921  0.984706    0.953778  0.942353     2\n",
      "Running linear SVM with C = 0.001\n"
     ]
    },
    {
     "name": "stderr",
     "output_type": "stream",
     "text": [
      "/Users/A11y/anaconda3/lib/python3.8/site-packages/sklearn/metrics/_classification.py:1221: UndefinedMetricWarning:\n",
      "\n",
      "Precision and F-score are ill-defined and being set to 0.0 in labels with no predicted samples. Use `zero_division` parameter to control this behavior.\n",
      "\n",
      "/Users/A11y/anaconda3/lib/python3.8/site-packages/sklearn/metrics/_classification.py:1221: UndefinedMetricWarning:\n",
      "\n",
      "Precision and F-score are ill-defined and being set to 0.0 in labels with no predicted samples. Use `zero_division` parameter to control this behavior.\n",
      "\n",
      "/Users/A11y/anaconda3/lib/python3.8/site-packages/sklearn/metrics/_classification.py:1221: UndefinedMetricWarning:\n",
      "\n",
      "Precision and F-score are ill-defined and being set to 0.0 in labels with no predicted samples. Use `zero_division` parameter to control this behavior.\n",
      "\n",
      "/Users/A11y/anaconda3/lib/python3.8/site-packages/sklearn/metrics/_classification.py:1221: UndefinedMetricWarning:\n",
      "\n",
      "Precision and F-score are ill-defined and being set to 0.0 in labels with no predicted samples. Use `zero_division` parameter to control this behavior.\n",
      "\n",
      "/Users/A11y/anaconda3/lib/python3.8/site-packages/sklearn/metrics/_classification.py:1221: UndefinedMetricWarning:\n",
      "\n",
      "Precision and F-score are ill-defined and being set to 0.0 in labels with no predicted samples. Use `zero_division` parameter to control this behavior.\n",
      "\n"
     ]
    },
    {
     "name": "stdout",
     "output_type": "stream",
     "text": [
      "Running linear SVM with C = 0.01\n",
      "Running linear SVM with C = 0.1\n",
      "Running linear SVM with C = 1\n",
      "Running linear SVM with C = 10\n",
      "Running linear SVM with C = 100\n",
      "Running linear SVM with C = 1000\n",
      "           Runtime  Accuracy  Precision0   Recall0  Precision1   Recall1  Fold\n",
      "C                                                                             \n",
      "0.001     3.780846  0.750000    0.750000  1.000000    0.000000  0.000000     2\n",
      "0.010     3.804873  0.768824    0.764398  1.000000    1.000000  0.075294     2\n",
      "0.100     3.655758  0.813529    0.803972  0.993725    0.935419  0.272941     2\n",
      "1.000     3.484926  0.873529    0.867110  0.981961    0.910727  0.548235     2\n",
      "10.000    3.365449  0.911471    0.922611  0.962745    0.871630  0.757647     2\n",
      "100.000   3.239816  0.928235    0.958328  0.945490    0.843382  0.876471     2\n",
      "1000.000  3.124904  0.917941    0.962259  0.927059    0.803402  0.890588     2\n",
      "              precision    recall  f1-score   support\n",
      "\n",
      "           0       0.98      0.98      0.98       450\n",
      "           1       0.95      0.95      0.95       150\n",
      "\n",
      "    accuracy                           0.98       600\n",
      "   macro avg       0.97      0.97      0.97       600\n",
      "weighted avg       0.98      0.98      0.98       600\n",
      "\n"
     ]
    }
   ],
   "source": [
    "# SVM (with PCA): cross validation linear, rbf, and polynomial kernel\n",
    "C = [0.001,0.01,0.1,1,10,100,1000]\n",
    "SVM_PCA_models = []\n",
    "for i in range(len(C)):\n",
    "    print(\"Running linear SVM with C = \" + str(C[i]))\n",
    "    fold = []\n",
    "    skf = StratifiedKFold(n_splits=5, shuffle=True, random_state=3)\n",
    "    for train_index, test_index in skf.split(Training_data_PCA.drop(['Y'],axis = 1),Training_data_PCA['Y']):\n",
    "        Training_data_PCA_ = Training_data_PCA.iloc[train_index, :]\n",
    "        Testing_data_PCA_ = Training_data_PCA.iloc[test_index, :]\n",
    "        start = time.time()\n",
    "        clf = svm.SVC(kernel = \"linear\",C = C[i])\n",
    "        clf.fit(Training_data_PCA_.drop('Y',1).values,Training_data_PCA_['Y'])\n",
    "        Time = time.time() - start\n",
    "        predictions = clf.predict(Testing_data_PCA_.drop('Y',1).values)\n",
    "        Metrics = sklearn.metrics.classification_report(Testing_data_PCA_['Y'],predictions,output_dict = True)\n",
    "        Metrics = [Time,Metrics['accuracy'],Metrics['0']['precision'],Metrics['0']['recall'],Metrics['1']['precision'],Metrics['1']['recall']]\n",
    "        fold.append(Metrics)\n",
    "    SVM_PCA_models.append(fold)\n",
    "    \n",
    "Data_results_all = pd.DataFrame()\n",
    "for d in range(7):\n",
    "    Data_results = pd.DataFrame(SVM_PCA_models[d])\n",
    "    Data_results[\"C\"] = C[d]\n",
    "    Data_results[\"Fold\"] = list(range(5))\n",
    "    Data_results_all = pd.concat([Data_results_all,Data_results])\n",
    "\n",
    "Results = Data_results_all.groupby('C').mean()\n",
    "Results.columns = [\"Runtime\",\"Accuracy\",\"Precision0\",\"Recall0\",\"Precision1\",\"Recall1\",\"Fold\"]\n",
    "print(Results)\n",
    "\n",
    "C = [0.001,0.01,0.1,1,10,100,1000]\n",
    "SVM_PCA_rbf_models = []\n",
    "for i in range(len(C)):\n",
    "    print(\"Running linear SVM with C = \" + str(C[i]))\n",
    "    fold = []\n",
    "    skf = StratifiedKFold(n_splits=5, shuffle=True, random_state=3)\n",
    "    for train_index, test_index in skf.split(Training_data_PCA.drop(['Y'],axis = 1),Training_data_PCA['Y']):\n",
    "        Training_data_PCA_ = Training_data_PCA.iloc[train_index, :]\n",
    "        Testing_data_PCA_ = Training_data_PCA.iloc[test_index, :]\n",
    "        start = time.time()\n",
    "        clf = svm.SVC(kernel = \"rbf\",C = C[i])\n",
    "        clf.fit(Training_data_PCA_.drop('Y',1).values,Training_data_PCA_['Y'])\n",
    "        Time = time.time() - start\n",
    "        predictions = clf.predict(Testing_data_PCA_.drop('Y',1).values)\n",
    "        Metrics = sklearn.metrics.classification_report(Testing_data_PCA_['Y'],predictions,output_dict = True)\n",
    "        Metrics = [Time,Metrics['accuracy'],Metrics['0']['precision'],Metrics['0']['recall'],Metrics['1']['precision'],Metrics['1']['recall']]\n",
    "        fold.append(Metrics)\n",
    "    SVM_PCA_rbf_models.append(fold)\n",
    "    \n",
    "Data_results_all = pd.DataFrame()\n",
    "for d in range(7):\n",
    "    Data_results = pd.DataFrame(SVM_PCA_rbf_models[d])\n",
    "    Data_results[\"C\"] = C[d]\n",
    "    Data_results[\"Fold\"] = list(range(5))\n",
    "    Data_results_all = pd.concat([Data_results_all,Data_results])\n",
    "\n",
    "Results = Data_results_all.groupby('C').mean()\n",
    "Results.columns = [\"Runtime\",\"Accuracy\",\"Precision0\",\"Recall0\",\"Precision1\",\"Recall1\",\"Fold\"]\n",
    "print(Results)\n",
    "\n",
    "C = [0.001,0.01,0.1,1,10,100,1000]\n",
    "SVM_PCA_poly_models = []\n",
    "for i in range(len(C)):\n",
    "    print(\"Running linear SVM with C = \" + str(C[i]))\n",
    "    fold = []\n",
    "    skf = StratifiedKFold(n_splits=5, shuffle=True, random_state=3)\n",
    "    for train_index, test_index in skf.split(Training_data_PCA.drop(['Y'],axis = 1),Training_data_PCA['Y']):\n",
    "        Training_data_PCA_ = Training_data_PCA.iloc[train_index, :]\n",
    "        Testing_data_PCA_ = Training_data_PCA.iloc[test_index, :]\n",
    "        start = time.time()\n",
    "        clf = svm.SVC(kernel = \"poly\",C = C[i])\n",
    "        clf.fit(Training_data_PCA_.drop('Y',1).values,Training_data_PCA_['Y'])\n",
    "        Time = time.time() - start\n",
    "        predictions = clf.predict(Testing_data_PCA_.drop('Y',1).values)\n",
    "        Metrics = sklearn.metrics.classification_report(Testing_data_PCA_['Y'],predictions,output_dict = True)\n",
    "        Metrics = [Time,Metrics['accuracy'],Metrics['0']['precision'],Metrics['0']['recall'],Metrics['1']['precision'],Metrics['1']['recall']]\n",
    "        fold.append(Metrics)\n",
    "    SVM_PCA_poly_models.append(fold)\n",
    "    \n",
    "Data_results_all = pd.DataFrame()\n",
    "for d in range(7):\n",
    "    Data_results = pd.DataFrame(SVM_PCA_poly_models[d])\n",
    "    Data_results[\"C\"] = C[d]\n",
    "    Data_results[\"Fold\"] = list(range(5))\n",
    "    Data_results_all = pd.concat([Data_results_all,Data_results])\n",
    "\n",
    "Results = Data_results_all.groupby('C').mean()\n",
    "Results.columns = [\"Runtime\",\"Accuracy\",\"Precision0\",\"Recall0\",\"Precision1\",\"Recall1\",\"Fold\"]\n",
    "print(Results)\n",
    "\n",
    "# SVM (with PCA): final model with rbf kernel\n",
    "clf = svm.SVC(kernel = \"rbf\",C = 10)\n",
    "clf.fit(Training_data_PCA.drop('Y',1).values,Training_data_PCA['Y'])\n",
    "predictions = clf.predict(Testing_data_PCA.drop('Y',1).values)\n",
    "print(sklearn.metrics.classification_report(Testing_data_PCA['Y'],predictions))"
   ]
  },
  {
   "cell_type": "markdown",
   "metadata": {},
   "source": [
    "K-fold cross validation was used to train the k-nearest neighbors algorithm. The number of neighbors, k, was varied from five to one hundred. The optimal choice for the number of neighbors was ten in which the class one accuracy was maximized at 0.72 on the cross validation set and the overall accuracy was 0.79. Applying this model on the testing dataset gave an overall accuracy of 0.79, however, the class one accuracy decreased to 0.68. Principal component analysis was utilized before re-training the k-nearest neighbor algorithm to try and reduce noise within the dataset whil preserving 99% of the original variability. This resulted in selecting 833 prinicipal components. The optimal number of neighbors was again equal to ten. After reducing the dimensionality of the dataset, the cross validation overall accuracy increased to 0.93 and the class one accuracy increased to 0.85. When applying the model to the testing dataset, the overall accuracies and class one accuracies remained at 0.93 and 0.85, respectively. \n",
    "\n",
    "The support vector machine (SVM) with a linear, radial basis function, and third degree polynomial kernel were trained both without and with PCA. The best classifier, without dimensionality reduction, was the SVM with a radial basis function kernel. The regularization parameter, C, was tuned using cross validation which dictates the width of the margin. For the radial basis function kernel the optimal value of C was ten which resulted in an overall accuracy of 0.976 on the cross validation dataset and 0.98 for the overall accuracy on the test dataset. When applied to the testing datset this model retained 0.98 overall accuracy. The best classifier, with dimensionality reduction, was the SVM again with a radial basis function kernel. The optimal value for C was one hundred which obtained 0.97 on the overall accuracy for the cross validation set and 0.98 for the overall accuracy on the test dataset. "
   ]
  }
 ],
 "metadata": {
  "kernelspec": {
   "display_name": "Python 3",
   "language": "python",
   "name": "python3"
  },
  "language_info": {
   "codemirror_mode": {
    "name": "ipython",
    "version": 3
   },
   "file_extension": ".py",
   "mimetype": "text/x-python",
   "name": "python",
   "nbconvert_exporter": "python",
   "pygments_lexer": "ipython3",
   "version": "3.8.3"
  }
 },
 "nbformat": 4,
 "nbformat_minor": 4
}
